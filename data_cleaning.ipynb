{
 "cells": [
  {
   "cell_type": "code",
   "execution_count": 1,
   "metadata": {
    "collapsed": true
   },
   "outputs": [],
   "source": [
    "import pandas as pd\n",
    "from datetime import datetime\n",
    "import os\n",
    "import numpy as np\n",
    "import matplotlib.pyplot as plt\n",
    "from sklearn.model_selection import train_test_split"
   ]
  },
  {
   "cell_type": "markdown",
   "metadata": {},
   "source": [
    "### Load the data"
   ]
  },
  {
   "cell_type": "code",
   "execution_count": 2,
   "metadata": {
    "collapsed": true
   },
   "outputs": [],
   "source": [
    "csvs = os.listdir('accepted/')"
   ]
  },
  {
   "cell_type": "code",
   "execution_count": 3,
   "metadata": {
    "collapsed": true
   },
   "outputs": [],
   "source": [
    "# make sure all csv files have the same headers\n",
    "with open(\"accepted/\"+csvs[0], 'r') as f:\n",
    "    columns = f.readlines()[0]\n",
    "for c in csvs[1:]:\n",
    "    with open(\"accepted/\" + c, 'r') as f:\n",
    "        if f.readlines()[0] != columns:\n",
    "            print(c)"
   ]
  },
  {
   "cell_type": "code",
   "execution_count": 4,
   "metadata": {
    "collapsed": true
   },
   "outputs": [],
   "source": [
    "dtype = {'id':str,'member_id':str,'loan_amnt':float,'funded_amnt':float,'funded_amnt_inv':float,\n",
    "         'term':str,'int_rate':str,\n",
    "         'installment':float,'grade':str,'sub_grade':str,'emp_title':str,'emp_length':str,'home_ownership':str,\n",
    "         'annual_inc':float,'verification_status':str,'issue_d':str,'loan_status':str,'pymnt_plan':str,'url':str,\n",
    "         'desc':str,'purpose':str,'title':str,'zip_code':str,'addr_state':str,'dti':float,'delinq_2yrs':float,\n",
    "         'earliest_cr_line':str,'inq_last_6mths':float,'mths_since_last_delinq':float,\n",
    "         'mths_since_last_record':float,\n",
    "         'open_acc':float,'pub_rec':float,'revol_bal':float,'total_acc':float,'initial_list_status':str,\n",
    "         'out_prncp':float,\n",
    "         'out_prncp_inv':float,'total_pymnt':float,'total_pymnt_inv':float,'total_rec_prncp':float,\n",
    "         'total_rec_int':float,\n",
    "         'total_rec_late_fee':float,'recoveries':float,'collection_recovery_fee':float,'last_pymnt_d':str,\n",
    "         'last_pymnt_amnt':float,'next_pymnt_d':str,'last_credit_pull_d':str,'collections_12_mths_ex_med':float,\n",
    "         'mths_since_last_major_derog':float,'policy_code':str,'application_type':str,'annual_inc_joint':float,\n",
    "         'dti_joint':float,'verification_status_joint':str,'acc_now_delinq':float,'tot_coll_amt':float,\n",
    "         'tot_cur_bal':float,\n",
    "         'open_acc_6m':float,'open_act_il':float,'open_il_12m':float,'open_il_24m':float,\n",
    "         'mths_since_rcnt_il':float,'total_bal_il':float,\n",
    "         'il_util':str,'open_rv_12m':float,'open_rv_24m':float,'max_bal_bc':float,'all_util':float,\n",
    "         'total_rev_hi_lim':float,\n",
    "         'inq_fi':float,'total_cu_tl':float,'inq_last_12m':float,'acc_open_past_24mths':float,'avg_cur_bal':float,\n",
    "         'bc_open_to_buy':str,'bc_util':str,'chargeoff_within_12_mths':float,'delinq_amnt':float,\n",
    "         'mo_sin_old_il_acct':str,\n",
    "         'mo_sin_old_rev_tl_op':str,'mo_sin_rcnt_rev_tl_op':str,'mo_sin_rcnt_tl':str,'mort_acc':float,\n",
    "         'mths_since_recent_bc':float,'mths_since_recent_bc_dlq':float,'mths_since_recent_inq':float,\n",
    "         'mths_since_recent_revol_delinq':float,\n",
    "         'num_accts_ever_120_pd':float,'num_actv_bc_tl':float,'num_actv_rev_tl':float,'num_bc_sats':float,\n",
    "         'num_bc_tl':float,\n",
    "         'num_il_tl':float,'num_op_rev_tl':float,'num_rev_accts':float,'num_rev_tl_bal_gt_0':float,'num_sats':float,\n",
    "         'num_tl_120dpd_2m':float,'num_tl_30dpd':float,'num_tl_90g_dpd_24m':float,'num_tl_op_past_12m':float,\n",
    "         'pct_tl_nvr_dlq':float,'percent_bc_gt_75':float,'pub_rec_bankruptcies':float,'tax_liens':float,\n",
    "         'tot_hi_cred_lim':float,\n",
    "         'total_bal_ex_mort':float,'total_bc_limit':float,'total_il_high_credit_limit':float,'revol_bal_joint':float,\n",
    "         'sec_app_earliest_cr_line':str,'sec_app_inq_last_6mths':float,'sec_app_mort_acc':str,'sec_app_open_acc':str,\n",
    "         'sec_app_revol_util':str,'sec_app_open_act_il':str,'sec_app_num_rev_accts':float,\n",
    "         'sec_app_chargeoff_within_12_mths':float,\n",
    "         'sec_app_collections_12_mths_ex_med':float,'sec_app_mths_since_last_major_derog':float,'hardship_flag':str,\n",
    "         'hardship_type':str,'hardship_reason':str,'hardship_status':str,'deferral_term':str,'hardship_amount':float,\n",
    "         'hardship_start_date':str,'hardship_end_date':str,'payment_plan_start_date':str,'hardship_length':str,\n",
    "         'hardship_dpd':float,'hardship_loan_status':str,'orig_projected_additional_accrued_interest':float,\n",
    "         'hardship_payoff_balance_amount':float,'hardship_last_payment_amount':float,'disbursement_method':str,\n",
    "         'debt_settlement_flag':str,'debt_settlement_flag_date':str,'settlement_status':str,'settlement_date':str,\n",
    "         'settlement_amount':float,'settlement_percentage':float,'settlement_term':str}"
   ]
  },
  {
   "cell_type": "code",
   "execution_count": 5,
   "metadata": {
    "collapsed": true
   },
   "outputs": [],
   "source": [
    "df = pd.DataFrame(columns=dtype.keys())\n",
    "for i,c in enumerate(csvs):\n",
    "    df = df.append(pd.read_csv(\"accepted/\" + c, dtype=dtype))"
   ]
  },
  {
   "cell_type": "code",
   "execution_count": 6,
   "metadata": {},
   "outputs": [
    {
     "name": "stdout",
     "output_type": "stream",
     "text": [
      "number of data points: 1765451\n"
     ]
    }
   ],
   "source": [
    "print(\"number of data points: {}\".format(len(df)))"
   ]
  },
  {
   "cell_type": "markdown",
   "metadata": {},
   "source": [
    "### Drop current and unlabeled borrowers"
   ]
  },
  {
   "cell_type": "code",
   "execution_count": 7,
   "metadata": {},
   "outputs": [
    {
     "name": "stdout",
     "output_type": "stream",
     "text": [
      "Current                                                0.523060\n",
      "Fully Paid                                             0.357402\n",
      "Charged Off                                            0.091091\n",
      "Late (31-120 days)                                     0.014585\n",
      "In Grace Period                                        0.009283\n",
      "Late (16-30 days)                                      0.002981\n",
      "Does not meet the credit policy. Status:Fully Paid     0.001126\n",
      "Does not meet the credit policy. Status:Charged Off    0.000431\n",
      "Default                                                0.000041\n",
      "Name: loan_status, dtype: float64\n"
     ]
    }
   ],
   "source": [
    "print(df.loan_status.value_counts(normalize=True))"
   ]
  },
  {
   "cell_type": "markdown",
   "metadata": {},
   "source": [
    "We drop current borrowers, as we are primarily interested in those who have already paid off or charged off on their loans. We save the current borrowers to predict how they will behave for future projects. Note that \"Charged Off\" means no further payment is expected. This typically occurs when a payment is 150+ days past due. \"Default\" typically means the borrower has not made a payment for 121+ days, but the account has not been closed or sent to collections yet (see https://help.lendingclub.com/hc/en-us/articles/216127747-What-is-the-difference-between-a-loan-that-is-in-default-and-a-loan-that-has-been-charged-off-).\n",
    "\n",
    "The labels that include \"Does not meet the credit policy\" means those applicants would not be awarded a loan under Lending Club's current policy. We omit them from this analysis, as we are concerned with the current policy of Lending Club."
   ]
  },
  {
   "cell_type": "code",
   "execution_count": 8,
   "metadata": {
    "collapsed": true
   },
   "outputs": [],
   "source": [
    "# save current borrowers for separate analysis\n",
    "current_df = df[(df.loan_status != 'Fully Paid') & (df.loan_status != 'Charged Off') \n",
    "                & (df.loan_status != 'Does not meet the credit policy. Status:Fully Paid')\n",
    "                & (df.loan_status != 'Does not meet the credit policy. Status:Charged Off')]"
   ]
  },
  {
   "cell_type": "code",
   "execution_count": 9,
   "metadata": {
    "collapsed": true
   },
   "outputs": [],
   "source": [
    "current_df.to_csv(\"data/current_borrowers.csv\", index=False)"
   ]
  },
  {
   "cell_type": "markdown",
   "metadata": {},
   "source": [
    "We drop the unlabeled data points, as the proportion of unlabeled points (about .003%) is marginal."
   ]
  },
  {
   "cell_type": "code",
   "execution_count": 10,
   "metadata": {},
   "outputs": [
    {
     "name": "stdout",
     "output_type": "stream",
     "text": [
      "number of unlabeled points: 25\n"
     ]
    }
   ],
   "source": [
    "print(\"number of unlabeled points: {}\".format(len(df) - df.loan_status.value_counts().sum()))"
   ]
  },
  {
   "cell_type": "code",
   "execution_count": 11,
   "metadata": {},
   "outputs": [
    {
     "data": {
      "text/plain": [
       "1765426"
      ]
     },
     "execution_count": 11,
     "metadata": {},
     "output_type": "execute_result"
    }
   ],
   "source": [
    "# drop unlabeled data points (nan)\n",
    "df = df.dropna(subset=['loan_status'])\n",
    "len(df)"
   ]
  },
  {
   "cell_type": "code",
   "execution_count": 12,
   "metadata": {},
   "outputs": [
    {
     "data": {
      "text/plain": [
       "2749"
      ]
     },
     "execution_count": 12,
     "metadata": {},
     "output_type": "execute_result"
    }
   ],
   "source": [
    "unqualified_df = df[df.loan_status.str.contains(\"Does not meet the credit policy\")]\n",
    "len(unqualified_df)"
   ]
  },
  {
   "cell_type": "code",
   "execution_count": 13,
   "metadata": {
    "scrolled": true
   },
   "outputs": [
    {
     "data": {
      "text/plain": [
       "1762677"
      ]
     },
     "execution_count": 13,
     "metadata": {},
     "output_type": "execute_result"
    }
   ],
   "source": [
    "# save those who don't meet the policy today in a separate csv\n",
    "unqualified_df.to_csv(\"data/unqualified_df.csv\", index=False)\n",
    "df = df[(df.loan_status != 'Does not meet the credit policy. Status:Fully Paid') & \n",
    "        (df.loan_status != 'Does not meet the credit policy. Status:Charged Off')]\n",
    "len(df)"
   ]
  },
  {
   "cell_type": "code",
   "execution_count": 14,
   "metadata": {
    "collapsed": true
   },
   "outputs": [],
   "source": [
    "# drop current borrowers\n",
    "df = df[df.loan_status!='Current']\n",
    "df = df[df.loan_status!='In Grace Period']\n",
    "df = df[df.loan_status!='Late (31-120 days)']\n",
    "df = df[df.loan_status!='Late (16-30 days)']\n",
    "df = df[df.loan_status!='Default']"
   ]
  },
  {
   "cell_type": "code",
   "execution_count": 15,
   "metadata": {},
   "outputs": [
    {
     "name": "stdout",
     "output_type": "stream",
     "text": [
      "['Fully Paid' 'Charged Off']\n"
     ]
    }
   ],
   "source": [
    "print(df.loan_status.unique())"
   ]
  },
  {
   "cell_type": "code",
   "execution_count": 16,
   "metadata": {
    "scrolled": true
   },
   "outputs": [
    {
     "data": {
      "text/plain": [
       "Fully Paid     0.796896\n",
       "Charged Off    0.203104\n",
       "Name: loan_status, dtype: float64"
      ]
     },
     "execution_count": 16,
     "metadata": {},
     "output_type": "execute_result"
    }
   ],
   "source": [
    "df.loan_status.value_counts(normalize=True)"
   ]
  },
  {
   "cell_type": "markdown",
   "metadata": {},
   "source": [
    "Observations labeled with \"Does not meet the credit policy\" are people that borrowed from Lending Club in the past, but would not currently qualify for a loan under Lending Club's current policy. We save them as a separate dataframe for further analysis; perhaps we can identify the change in Lending Club's policy that would cause those borrowers to not qualify for a loan today."
   ]
  },
  {
   "cell_type": "markdown",
   "metadata": {},
   "source": [
    "### Label the data"
   ]
  },
  {
   "cell_type": "code",
   "execution_count": 17,
   "metadata": {
    "collapsed": true
   },
   "outputs": [],
   "source": [
    "df.loan_status = df.loan_status.map({'Fully Paid':1, 'Charged Off':0})\n",
    "df.to_csv('data/labeled.csv', index=False)"
   ]
  },
  {
   "cell_type": "code",
   "execution_count": 18,
   "metadata": {},
   "outputs": [
    {
     "data": {
      "text/plain": [
       "145"
      ]
     },
     "execution_count": 18,
     "metadata": {},
     "output_type": "execute_result"
    }
   ],
   "source": [
    "# change loan_status to int, due to encoded labels\n",
    "dtype['loan_status'] = int\n",
    "df = pd.read_csv('data/labeled.csv', dtype=dtype)\n",
    "len(df.columns)"
   ]
  },
  {
   "cell_type": "markdown",
   "metadata": {},
   "source": [
    "### Remove features that are not available for new applicants"
   ]
  },
  {
   "cell_type": "markdown",
   "metadata": {},
   "source": [
    "Since we want to this analysis to be useful for new applicants, we drop the columns that are available for only those whose applications have been accepted and have already received the loan for which they applied. Many of these features have to do with payment schedules, recovery fees, and hardship plans."
   ]
  },
  {
   "cell_type": "code",
   "execution_count": 19,
   "metadata": {
    "collapsed": true
   },
   "outputs": [],
   "source": [
    "feats = ['collection_recovery_fee', 'funded_amnt', 'funded_amnt_inv', 'issue_d', 'last_credit_pull_d',\n",
    "         'last_pymnt_amnt', 'last_pymnt_d', 'next_pymnt_d', 'out_prncp', 'out_prncp_inv', 'pymnt_plan',\n",
    "         'recoveries', 'term', 'total_pymnt', 'total_pymnt_inv', 'total_rec_int', 'total_rec_late_fee',\n",
    "         'total_rec_prncp', 'hardship_flag', 'hardship_type', 'hardship_reason', 'hardship_status',\n",
    "         'deferral_term', 'hardship_amount', 'hardship_start_date', 'hardship_end_date', 'payment_plan_start_date',\n",
    "         'hardship_length', 'hardship_dpd', 'hardship_loan_status', 'orig_projected_additional_accrued_interest',\n",
    "         'hardship_payoff_balance_amount', 'hardship_last_payment_amount', 'disbursement_method', \n",
    "         'debt_settlement_flag', 'debt_settlement_flag_date', 'settlement_status', 'settlement_date',\n",
    "         'settlement_amount', 'settlement_percentage', 'settlement_term']\n",
    "df.drop(feats, axis=1, inplace=True)"
   ]
  },
  {
   "cell_type": "markdown",
   "metadata": {},
   "source": [
    "### Remove uniform columns"
   ]
  },
  {
   "cell_type": "code",
   "execution_count": 20,
   "metadata": {
    "scrolled": true
   },
   "outputs": [
    {
     "name": "stdout",
     "output_type": "stream",
     "text": [
      "id 1\n",
      "member_id 1\n",
      "policy_code 1\n",
      "url 1\n"
     ]
    }
   ],
   "source": [
    "# find features with uniform values\n",
    "for col in df.columns:\n",
    "    if len(df[col].unique()) == 1:\n",
    "        print(col, len(df[col].unique()))\n",
    "        df.drop(col, axis=1, inplace=True)"
   ]
  },
  {
   "cell_type": "code",
   "execution_count": 21,
   "metadata": {},
   "outputs": [
    {
     "data": {
      "text/plain": [
       "(791781, 100)"
      ]
     },
     "execution_count": 21,
     "metadata": {},
     "output_type": "execute_result"
    }
   ],
   "source": [
    "df.shape"
   ]
  },
  {
   "cell_type": "markdown",
   "metadata": {},
   "source": [
    "### Remove nearly uniform columns (99% or more one value)"
   ]
  },
  {
   "cell_type": "code",
   "execution_count": 22,
   "metadata": {},
   "outputs": [
    {
     "data": {
      "text/plain": [
       "Individual    0.995332\n",
       "Joint App     0.004668\n",
       "Name: application_type, dtype: float64"
      ]
     },
     "execution_count": 22,
     "metadata": {},
     "output_type": "execute_result"
    }
   ],
   "source": [
    "df.application_type.value_counts(normalize=True)"
   ]
  },
  {
   "cell_type": "code",
   "execution_count": 23,
   "metadata": {},
   "outputs": [
    {
     "data": {
      "text/plain": [
       "Individual    788085\n",
       "Joint App       3696\n",
       "Name: application_type, dtype: int64"
      ]
     },
     "execution_count": 23,
     "metadata": {},
     "output_type": "execute_result"
    }
   ],
   "source": [
    "df.application_type.value_counts()"
   ]
  },
  {
   "cell_type": "code",
   "execution_count": 24,
   "metadata": {
    "collapsed": true
   },
   "outputs": [],
   "source": [
    "df.drop('application_type', axis=1, inplace=True)"
   ]
  },
  {
   "cell_type": "code",
   "execution_count": 25,
   "metadata": {},
   "outputs": [
    {
     "data": {
      "text/plain": [
       "0.0    0.999187\n",
       "1.0    0.000779\n",
       "2.0    0.000029\n",
       "3.0    0.000004\n",
       "6.0    0.000001\n",
       "Name: num_tl_120dpd_2m, dtype: float64"
      ]
     },
     "execution_count": 25,
     "metadata": {},
     "output_type": "execute_result"
    }
   ],
   "source": [
    "df.num_tl_120dpd_2m.value_counts(normalize=True)"
   ]
  },
  {
   "cell_type": "code",
   "execution_count": 26,
   "metadata": {
    "collapsed": true
   },
   "outputs": [],
   "source": [
    "df.drop('num_tl_120dpd_2m', axis=1, inplace=True)"
   ]
  },
  {
   "cell_type": "code",
   "execution_count": 27,
   "metadata": {},
   "outputs": [
    {
     "data": {
      "text/plain": [
       "0.0    0.996822\n",
       "1.0    0.003021\n",
       "2.0    0.000130\n",
       "3.0    0.000021\n",
       "4.0    0.000007\n",
       "Name: num_tl_30dpd, dtype: float64"
      ]
     },
     "execution_count": 27,
     "metadata": {},
     "output_type": "execute_result"
    }
   ],
   "source": [
    "df.num_tl_30dpd.value_counts(normalize=True)"
   ]
  },
  {
   "cell_type": "code",
   "execution_count": 28,
   "metadata": {
    "collapsed": true
   },
   "outputs": [],
   "source": [
    "df.drop('num_tl_30dpd', axis=1, inplace=True)"
   ]
  },
  {
   "cell_type": "code",
   "execution_count": 29,
   "metadata": {},
   "outputs": [
    {
     "data": {
      "text/plain": [
       "0.0    0.943032\n",
       "1.0    0.042586\n",
       "2.0    0.008732\n",
       "3.0    0.002325\n",
       "4.0    0.001283\n",
       "5.0    0.000639\n",
       "6.0    0.000453\n",
       "7.0    0.000279\n",
       "8.0    0.000186\n",
       "9.0    0.000135\n",
       "Name: num_tl_90g_dpd_24m, dtype: float64"
      ]
     },
     "execution_count": 29,
     "metadata": {},
     "output_type": "execute_result"
    }
   ],
   "source": [
    "df.num_tl_90g_dpd_24m.value_counts(normalize=True).iloc[:10]"
   ]
  },
  {
   "cell_type": "code",
   "execution_count": 30,
   "metadata": {
    "collapsed": true
   },
   "outputs": [],
   "source": [
    "df.drop('num_tl_90g_dpd_24m', axis=1, inplace=True)"
   ]
  },
  {
   "cell_type": "code",
   "execution_count": 31,
   "metadata": {},
   "outputs": [
    {
     "data": {
      "text/plain": [
       "0.0     0.992371\n",
       "1.0     0.006899\n",
       "2.0     0.000595\n",
       "3.0     0.000091\n",
       "4.0     0.000025\n",
       "5.0     0.000009\n",
       "7.0     0.000004\n",
       "6.0     0.000004\n",
       "8.0     0.000001\n",
       "10.0    0.000001\n",
       "Name: chargeoff_within_12_mths, dtype: float64"
      ]
     },
     "execution_count": 31,
     "metadata": {},
     "output_type": "execute_result"
    }
   ],
   "source": [
    "df.chargeoff_within_12_mths.value_counts(normalize=True).iloc[:10]"
   ]
  },
  {
   "cell_type": "code",
   "execution_count": 32,
   "metadata": {
    "collapsed": true
   },
   "outputs": [],
   "source": [
    "df.drop('chargeoff_within_12_mths', axis=1, inplace=True)"
   ]
  },
  {
   "cell_type": "code",
   "execution_count": 33,
   "metadata": {},
   "outputs": [
    {
     "data": {
      "text/plain": [
       "0.0     0.986950\n",
       "1.0     0.012137\n",
       "2.0     0.000782\n",
       "3.0     0.000082\n",
       "4.0     0.000028\n",
       "6.0     0.000008\n",
       "5.0     0.000006\n",
       "12.0    0.000003\n",
       "7.0     0.000001\n",
       "20.0    0.000001\n",
       "Name: collections_12_mths_ex_med, dtype: float64"
      ]
     },
     "execution_count": 33,
     "metadata": {},
     "output_type": "execute_result"
    }
   ],
   "source": [
    "df.collections_12_mths_ex_med.value_counts(normalize=True).iloc[:10]"
   ]
  },
  {
   "cell_type": "code",
   "execution_count": 34,
   "metadata": {
    "collapsed": true
   },
   "outputs": [],
   "source": [
    "df.drop('collections_12_mths_ex_med', axis=1, inplace=True)"
   ]
  },
  {
   "cell_type": "code",
   "execution_count": 35,
   "metadata": {},
   "outputs": [
    {
     "data": {
      "text/plain": [
       "0.0    0.971738\n",
       "1.0    0.019566\n",
       "2.0    0.005166\n",
       "3.0    0.001782\n",
       "4.0    0.000802\n",
       "5.0    0.000416\n",
       "6.0    0.000227\n",
       "7.0    0.000111\n",
       "8.0    0.000054\n",
       "9.0    0.000043\n",
       "Name: tax_liens, dtype: float64"
      ]
     },
     "execution_count": 35,
     "metadata": {},
     "output_type": "execute_result"
    }
   ],
   "source": [
    "df.tax_liens.value_counts(normalize=True).iloc[:10]"
   ]
  },
  {
   "cell_type": "code",
   "execution_count": 36,
   "metadata": {
    "collapsed": true
   },
   "outputs": [],
   "source": [
    "df.drop('tax_liens', axis=1, inplace=True)"
   ]
  },
  {
   "cell_type": "code",
   "execution_count": 37,
   "metadata": {},
   "outputs": [
    {
     "data": {
      "text/plain": [
       "0.0    0.995499\n",
       "1.0    0.004247\n",
       "2.0    0.000215\n",
       "3.0    0.000027\n",
       "4.0    0.000009\n",
       "5.0    0.000003\n",
       "6.0    0.000001\n",
       "Name: acc_now_delinq, dtype: float64"
      ]
     },
     "execution_count": 37,
     "metadata": {},
     "output_type": "execute_result"
    }
   ],
   "source": [
    "df.acc_now_delinq.value_counts(normalize=True)"
   ]
  },
  {
   "cell_type": "code",
   "execution_count": 38,
   "metadata": {
    "collapsed": true
   },
   "outputs": [],
   "source": [
    "df.drop('acc_now_delinq', axis=1, inplace=True)"
   ]
  },
  {
   "cell_type": "markdown",
   "metadata": {},
   "source": [
    "### Remove columns with a majority (70% or more) of missing values"
   ]
  },
  {
   "cell_type": "code",
   "execution_count": 39,
   "metadata": {},
   "outputs": [
    {
     "name": "stdout",
     "output_type": "stream",
     "text": [
      "all_util                           \t0.7903877461065623\n",
      "annual_inc_joint                   \t0.995332042572378\n",
      "desc                               \t0.8491161066001837\n",
      "dti_joint                          \t0.995332042572378\n",
      "il_util                            \t0.8168483456915485\n",
      "inq_fi                             \t0.790373853376123\n",
      "inq_last_12m                       \t0.7903751163516174\n",
      "max_bal_bc                         \t0.790373853376123\n",
      "mo_sin_old_il_acct                 \t0.11224442112149698\n",
      "mths_since_last_delinq             \t0.5131620991157908\n",
      "mths_since_last_major_derog        \t0.7493372536092682\n",
      "mths_since_last_record             \t0.8365583412585046\n",
      "mths_since_rcnt_il                 \t0.7950165512938553\n",
      "mths_since_recent_bc_dlq           \t0.7683803981151354\n",
      "mths_since_recent_inq              \t0.1458370433238484\n",
      "mths_since_recent_revol_delinq     \t0.6752927892940094\n",
      "open_acc_6m                        \t0.7903751163516174\n",
      "open_act_il                        \t0.790373853376123\n",
      "open_il_12m                        \t0.790373853376123\n",
      "open_il_24m                        \t0.790373853376123\n",
      "open_rv_12m                        \t0.790373853376123\n",
      "open_rv_24m                        \t0.790373853376123\n",
      "revol_bal_joint                    \t0.9986183048090318\n",
      "sec_app_chargeoff_within_12_mths   \t0.9986183048090318\n",
      "sec_app_collections_12_mths_ex_med \t0.9986183048090318\n",
      "sec_app_earliest_cr_line           \t0.9986183048090318\n",
      "sec_app_inq_last_6mths             \t0.9986183048090318\n",
      "sec_app_mort_acc                   \t0.9986183048090318\n",
      "sec_app_mths_since_last_major_derog\t0.9995188063366006\n",
      "sec_app_num_rev_accts              \t0.9986183048090318\n",
      "sec_app_open_acc                   \t0.9986183048090318\n",
      "sec_app_open_act_il                \t0.9986183048090318\n",
      "sec_app_revol_util                 \t0.9986435643189215\n",
      "total_bal_il                       \t0.790373853376123\n",
      "total_cu_tl                        \t0.7903751163516174\n",
      "verification_status_joint          \t0.995332042572378\n"
     ]
    }
   ],
   "source": [
    "null_counts = dict(df.isnull().sum())\n",
    "null_cols = []\n",
    "for key,val in null_counts.items():\n",
    "    if val/df.shape[0] >= .1:\n",
    "        print(\"{:<35}\\t{}\".format((key), val/df.shape[0]))\n",
    "    if val/df.shape[0] >= 0.7:\n",
    "        null_cols.append(key)"
   ]
  },
  {
   "cell_type": "code",
   "execution_count": 40,
   "metadata": {},
   "outputs": [
    {
     "name": "stdout",
     "output_type": "stream",
     "text": [
      "32\n",
      "60\n"
     ]
    }
   ],
   "source": [
    "print(len(null_cols))\n",
    "df.drop(null_cols, axis=1, inplace=True)\n",
    "print(len(df.columns))"
   ]
  },
  {
   "cell_type": "markdown",
   "metadata": {},
   "source": [
    "### Drop columns that aren't helpful or are strongly correlated with other features"
   ]
  },
  {
   "cell_type": "code",
   "execution_count": 41,
   "metadata": {},
   "outputs": [
    {
     "data": {
      "text/plain": [
       "0    775xx\n",
       "1    985xx\n",
       "2    333xx\n",
       "3    770xx\n",
       "4    760xx\n",
       "Name: zip_code, dtype: object"
      ]
     },
     "execution_count": 41,
     "metadata": {},
     "output_type": "execute_result"
    }
   ],
   "source": [
    "df['zip_code'].head()"
   ]
  },
  {
   "cell_type": "code",
   "execution_count": 42,
   "metadata": {
    "collapsed": true
   },
   "outputs": [],
   "source": [
    "# drop the zip_code feature, since we can't work with 3-digit zip codes, and addr_state gives the state\n",
    "df.drop(\"zip_code\", axis=1, inplace=True)"
   ]
  },
  {
   "cell_type": "code",
   "execution_count": 43,
   "metadata": {
    "collapsed": true
   },
   "outputs": [],
   "source": [
    "df.drop('addr_state', axis=1, inplace=True)"
   ]
  },
  {
   "cell_type": "code",
   "execution_count": 44,
   "metadata": {},
   "outputs": [
    {
     "data": {
      "text/plain": [
       "0         Debt consolidation\n",
       "1         Debt consolidation\n",
       "2           Home improvement\n",
       "3         Debt consolidation\n",
       "4         Debt consolidation\n",
       "5             Major purchase\n",
       "6    Credit card refinancing\n",
       "7      Moving and relocation\n",
       "8         Debt consolidation\n",
       "9                      Other\n",
       "Name: title, dtype: object"
      ]
     },
     "execution_count": 44,
     "metadata": {},
     "output_type": "execute_result"
    }
   ],
   "source": [
    "df['title'].head(10)"
   ]
  },
  {
   "cell_type": "code",
   "execution_count": 45,
   "metadata": {},
   "outputs": [
    {
     "name": "stdout",
     "output_type": "stream",
     "text": [
      "50798\n",
      "7387\n"
     ]
    }
   ],
   "source": [
    "# make lower case\n",
    "df['title'] = df['title'].str.lower()\n",
    "# got rid of about 10000 categories\n",
    "print(len(df['title'].unique()))\n",
    "print(df['title'].isnull().sum())"
   ]
  },
  {
   "cell_type": "code",
   "execution_count": 46,
   "metadata": {},
   "outputs": [
    {
     "name": "stdout",
     "output_type": "stream",
     "text": [
      "50798\n"
     ]
    },
    {
     "data": {
      "text/plain": [
       "debt consolidation           0.482650\n",
       "credit card refinancing      0.163981\n",
       "home improvement             0.051340\n",
       "other                        0.041199\n",
       "major purchase               0.015564\n",
       "consolidation                0.009329\n",
       "medical expenses             0.008617\n",
       "business                     0.008354\n",
       "car financing                0.007036\n",
       "debt consolidation loan      0.005771\n",
       "vacation                     0.005375\n",
       "moving and relocation        0.005240\n",
       "credit card consolidation    0.004281\n",
       "personal loan                0.004013\n",
       "home buying                  0.003573\n",
       "Name: title, dtype: float64"
      ]
     },
     "execution_count": 46,
     "metadata": {},
     "output_type": "execute_result"
    }
   ],
   "source": [
    "# keep top x categories\n",
    "# use substring matching to combine categories (other ways to combine categories)\n",
    "# make new categories for leftovers\n",
    "print(len(df['title'].unique()))\n",
    "df['title'].value_counts(normalize=True).iloc[:15]"
   ]
  },
  {
   "cell_type": "code",
   "execution_count": 47,
   "metadata": {},
   "outputs": [
    {
     "data": {
      "text/plain": [
       "debt_consolidation    0.590490\n",
       "credit_card           0.214485\n",
       "home_improvement      0.062402\n",
       "other                 0.054115\n",
       "major_purchase        0.021540\n",
       "small_business        0.012631\n",
       "car                   0.011061\n",
       "medical               0.010753\n",
       "moving                0.007041\n",
       "vacation              0.006292\n",
       "house                 0.005166\n",
       "wedding               0.002868\n",
       "renewable_energy      0.000744\n",
       "educational           0.000412\n",
       "Name: purpose, dtype: float64"
      ]
     },
     "execution_count": 47,
     "metadata": {},
     "output_type": "execute_result"
    }
   ],
   "source": [
    "df['purpose'].value_counts(normalize=True)"
   ]
  },
  {
   "cell_type": "code",
   "execution_count": 48,
   "metadata": {
    "collapsed": true
   },
   "outputs": [],
   "source": [
    "# drop title (for now), as purpose is a more uniform, consistent way to measure a similar thing (high correlation)\n",
    "df.drop('title', axis=1, inplace=True)"
   ]
  },
  {
   "cell_type": "code",
   "execution_count": 49,
   "metadata": {},
   "outputs": [
    {
     "data": {
      "text/plain": [
       "0             Buyer\n",
       "1               USA\n",
       "2               NaN\n",
       "3               NaN\n",
       "4    member service\n",
       "Name: emp_title, dtype: object"
      ]
     },
     "execution_count": 49,
     "metadata": {},
     "output_type": "execute_result"
    }
   ],
   "source": [
    "df.emp_title.head()"
   ]
  },
  {
   "cell_type": "code",
   "execution_count": 50,
   "metadata": {},
   "outputs": [
    {
     "data": {
      "text/plain": [
       "275475"
      ]
     },
     "execution_count": 50,
     "metadata": {},
     "output_type": "execute_result"
    }
   ],
   "source": [
    "len(df.emp_title.unique())"
   ]
  },
  {
   "cell_type": "code",
   "execution_count": 51,
   "metadata": {
    "collapsed": true
   },
   "outputs": [],
   "source": [
    "# for similar reasoning, drop emp_title (user input, very messy)\n",
    "df.drop('emp_title', axis=1, inplace=True)"
   ]
  },
  {
   "cell_type": "code",
   "execution_count": 52,
   "metadata": {},
   "outputs": [
    {
     "data": {
      "text/plain": [
       "B    0.288935\n",
       "C    0.276340\n",
       "A    0.163899\n",
       "D    0.156993\n",
       "E    0.078034\n",
       "F    0.028402\n",
       "G    0.007397\n",
       "Name: grade, dtype: float64"
      ]
     },
     "execution_count": 52,
     "metadata": {},
     "output_type": "execute_result"
    }
   ],
   "source": [
    "df.grade.value_counts(normalize=True)"
   ]
  },
  {
   "cell_type": "code",
   "execution_count": 53,
   "metadata": {
    "scrolled": true
   },
   "outputs": [
    {
     "data": {
      "text/plain": [
       "B3    0.063241\n",
       "B4    0.062870\n",
       "C1    0.061520\n",
       "C2    0.058502\n",
       "B5    0.058317\n",
       "B2    0.054934\n",
       "C3    0.054861\n",
       "C4    0.053442\n",
       "B1    0.049573\n",
       "C5    0.048016\n",
       "A5    0.046678\n",
       "D1    0.040097\n",
       "A4    0.038796\n",
       "D2    0.034604\n",
       "D3    0.030087\n",
       "D4    0.028502\n",
       "A1    0.026889\n",
       "A3    0.026525\n",
       "A2    0.025011\n",
       "D5    0.023704\n",
       "E1    0.020006\n",
       "E2    0.018178\n",
       "E3    0.015271\n",
       "E4    0.013143\n",
       "E5    0.011438\n",
       "F1    0.008730\n",
       "F2    0.006488\n",
       "F3    0.005491\n",
       "F4    0.004294\n",
       "F5    0.003399\n",
       "G1    0.002464\n",
       "G2    0.001841\n",
       "G3    0.001321\n",
       "G4    0.000976\n",
       "G5    0.000794\n",
       "Name: sub_grade, dtype: float64"
      ]
     },
     "execution_count": 53,
     "metadata": {},
     "output_type": "execute_result"
    }
   ],
   "source": [
    "df.sub_grade.value_counts(normalize=True)"
   ]
  },
  {
   "cell_type": "code",
   "execution_count": 54,
   "metadata": {
    "collapsed": true
   },
   "outputs": [],
   "source": [
    "df.grade = df.sub_grade.apply(lambda x: x[0] if x[0]=='E' or x[0]=='F' or x[0]=='G' else x)"
   ]
  },
  {
   "cell_type": "code",
   "execution_count": 55,
   "metadata": {},
   "outputs": [
    {
     "data": {
      "text/plain": [
       "E     0.078034\n",
       "B3    0.063241\n",
       "B4    0.062870\n",
       "C1    0.061520\n",
       "C2    0.058502\n",
       "B5    0.058317\n",
       "B2    0.054934\n",
       "C3    0.054861\n",
       "C4    0.053442\n",
       "B1    0.049573\n",
       "C5    0.048016\n",
       "A5    0.046678\n",
       "D1    0.040097\n",
       "A4    0.038796\n",
       "D2    0.034604\n",
       "D3    0.030087\n",
       "D4    0.028502\n",
       "F     0.028402\n",
       "A1    0.026889\n",
       "A3    0.026525\n",
       "A2    0.025011\n",
       "D5    0.023704\n",
       "G     0.007397\n",
       "Name: grade, dtype: float64"
      ]
     },
     "execution_count": 55,
     "metadata": {},
     "output_type": "execute_result"
    }
   ],
   "source": [
    "df.grade.value_counts(normalize=True)"
   ]
  },
  {
   "cell_type": "code",
   "execution_count": 56,
   "metadata": {
    "collapsed": true
   },
   "outputs": [],
   "source": [
    "# drop sub_grade, as that information can be captured in our engineered grade\n",
    "df.drop('sub_grade', axis=1, inplace=True)"
   ]
  },
  {
   "cell_type": "markdown",
   "metadata": {},
   "source": [
    "### Clean features and change to floats/ints"
   ]
  },
  {
   "cell_type": "code",
   "execution_count": 57,
   "metadata": {},
   "outputs": [
    {
     "data": {
      "text/plain": [
       "0    50.9%\n",
       "1    45.6%\n",
       "2    11.9%\n",
       "3       5%\n",
       "4    92.6%\n",
       "Name: revol_util, dtype: object"
      ]
     },
     "execution_count": 57,
     "metadata": {},
     "output_type": "execute_result"
    }
   ],
   "source": [
    "df['revol_util'].head()"
   ]
  },
  {
   "cell_type": "code",
   "execution_count": 58,
   "metadata": {},
   "outputs": [
    {
     "data": {
      "text/plain": [
       "0    0.509\n",
       "1    0.456\n",
       "2    0.119\n",
       "3    0.050\n",
       "4    0.926\n",
       "Name: revol_util, dtype: float64"
      ]
     },
     "execution_count": 58,
     "metadata": {},
     "output_type": "execute_result"
    }
   ],
   "source": [
    "# change revol_util to floats\n",
    "df.revol_util = df.revol_util.str[:-1].astype('float')/100\n",
    "df.revol_util.head()"
   ]
  },
  {
   "cell_type": "code",
   "execution_count": 59,
   "metadata": {
    "collapsed": true
   },
   "outputs": [],
   "source": [
    "df['earliest_cr_line'] = pd.to_datetime(df['earliest_cr_line']).dt.year"
   ]
  },
  {
   "cell_type": "markdown",
   "metadata": {},
   "source": [
    "We keep interest rate, as it is calculated based off the grade which Lending Club gives an applicant. The method of grade assignment is explained in this link: https://www.lendingclub.com/foliofn/rateDetail.action."
   ]
  },
  {
   "cell_type": "code",
   "execution_count": 60,
   "metadata": {
    "scrolled": true
   },
   "outputs": [
    {
     "data": {
      "text/plain": [
       "0     13.99%\n",
       "1     14.49%\n",
       "2      5.32%\n",
       "3     12.79%\n",
       "4     13.99%\n",
       "Name: int_rate, dtype: object"
      ]
     },
     "execution_count": 60,
     "metadata": {},
     "output_type": "execute_result"
    }
   ],
   "source": [
    "df['int_rate'].head()"
   ]
  },
  {
   "cell_type": "code",
   "execution_count": 61,
   "metadata": {},
   "outputs": [
    {
     "data": {
      "text/plain": [
       "0    0.1399\n",
       "1    0.1449\n",
       "2    0.0532\n",
       "3    0.1279\n",
       "4    0.1399\n",
       "Name: int_rate, dtype: float64"
      ]
     },
     "execution_count": 61,
     "metadata": {},
     "output_type": "execute_result"
    }
   ],
   "source": [
    "df.int_rate = df.int_rate.str[:-1].astype('float')/100\n",
    "df.int_rate.head()"
   ]
  },
  {
   "cell_type": "code",
   "execution_count": 62,
   "metadata": {
    "collapsed": true
   },
   "outputs": [],
   "source": [
    "df.bc_util = df.bc_util.astype('float')"
   ]
  },
  {
   "cell_type": "code",
   "execution_count": 63,
   "metadata": {},
   "outputs": [
    {
     "data": {
      "text/plain": [
       "791771    76.3\n",
       "791772    44.4\n",
       "791773    22.2\n",
       "791774    70.0\n",
       "791775    78.7\n",
       "791776    55.6\n",
       "791777    24.6\n",
       "791778     NaN\n",
       "791779    18.2\n",
       "791780    13.1\n",
       "Name: bc_util, dtype: float64"
      ]
     },
     "execution_count": 63,
     "metadata": {},
     "output_type": "execute_result"
    }
   ],
   "source": [
    "df.bc_util.tail(10)"
   ]
  },
  {
   "cell_type": "code",
   "execution_count": 64,
   "metadata": {
    "collapsed": true
   },
   "outputs": [],
   "source": [
    "df.bc_open_to_buy = df.bc_open_to_buy.astype('float')"
   ]
  },
  {
   "cell_type": "code",
   "execution_count": 65,
   "metadata": {},
   "outputs": [
    {
     "data": {
      "text/plain": [
       "array([dtype('float64'), dtype('int64'), dtype('O')], dtype=object)"
      ]
     },
     "execution_count": 65,
     "metadata": {},
     "output_type": "execute_result"
    }
   ],
   "source": [
    "df.dtypes.unique()"
   ]
  },
  {
   "cell_type": "code",
   "execution_count": 66,
   "metadata": {},
   "outputs": [
    {
     "data": {
      "text/plain": [
       "Index(['emp_length', 'grade', 'home_ownership', 'initial_list_status',\n",
       "       'mo_sin_old_il_acct', 'mo_sin_old_rev_tl_op', 'mo_sin_rcnt_rev_tl_op',\n",
       "       'mo_sin_rcnt_tl', 'purpose', 'verification_status'],\n",
       "      dtype='object')"
      ]
     },
     "execution_count": 66,
     "metadata": {},
     "output_type": "execute_result"
    }
   ],
   "source": [
    "df.select_dtypes(include=['O']).columns"
   ]
  },
  {
   "cell_type": "code",
   "execution_count": 67,
   "metadata": {},
   "outputs": [
    {
     "data": {
      "text/plain": [
       "0      4 years\n",
       "1    10+ years\n",
       "2          n/a\n",
       "3          n/a\n",
       "4    10+ years\n",
       "Name: emp_length, dtype: object"
      ]
     },
     "execution_count": 67,
     "metadata": {},
     "output_type": "execute_result"
    }
   ],
   "source": [
    "df['emp_length'].head()"
   ]
  },
  {
   "cell_type": "code",
   "execution_count": 68,
   "metadata": {
    "collapsed": true
   },
   "outputs": [],
   "source": [
    "df['emp_length'] = df['emp_length'].apply(lambda x: -1 if x=='n/a' else 0 if x[0]=='<' else int(x[0]))"
   ]
  },
  {
   "cell_type": "code",
   "execution_count": 69,
   "metadata": {},
   "outputs": [
    {
     "data": {
      "text/plain": [
       "20    0.078034\n",
       "7     0.063241\n",
       "8     0.062870\n",
       "10    0.061520\n",
       "11    0.058502\n",
       "9     0.058317\n",
       "6     0.054934\n",
       "12    0.054861\n",
       "13    0.053442\n",
       "5     0.049573\n",
       "14    0.048016\n",
       "4     0.046678\n",
       "15    0.040097\n",
       "3     0.038796\n",
       "16    0.034604\n",
       "17    0.030087\n",
       "18    0.028502\n",
       "21    0.028402\n",
       "0     0.026889\n",
       "2     0.026525\n",
       "1     0.025011\n",
       "19    0.023704\n",
       "22    0.007397\n",
       "dtype: float64"
      ]
     },
     "execution_count": 69,
     "metadata": {},
     "output_type": "execute_result"
    }
   ],
   "source": [
    "df['grade'].astype('category').cat.codes.value_counts(normalize=True)"
   ]
  },
  {
   "cell_type": "code",
   "execution_count": 70,
   "metadata": {
    "collapsed": true
   },
   "outputs": [],
   "source": [
    "df['grade'] = df['grade'].astype('category').cat.codes"
   ]
  },
  {
   "cell_type": "code",
   "execution_count": 71,
   "metadata": {},
   "outputs": [
    {
     "data": {
      "text/plain": [
       "MORTGAGE    0.499499\n",
       "RENT        0.398807\n",
       "OWN         0.101346\n",
       "OTHER       0.000182\n",
       "ANY         0.000111\n",
       "NONE        0.000054\n",
       "Name: home_ownership, dtype: float64"
      ]
     },
     "execution_count": 71,
     "metadata": {},
     "output_type": "execute_result"
    }
   ],
   "source": [
    "df['home_ownership'].value_counts(normalize=True)"
   ]
  },
  {
   "cell_type": "code",
   "execution_count": 72,
   "metadata": {
    "collapsed": true
   },
   "outputs": [],
   "source": [
    "ownership_dict = {'MORTGAGE':0, 'RENT': 1, 'OWN': 2, 'OTHER': 3, 'ANY': 4, 'NONE': 5}\n",
    "df.home_ownership = df.home_ownership.map(ownership_dict)"
   ]
  },
  {
   "cell_type": "code",
   "execution_count": 73,
   "metadata": {},
   "outputs": [
    {
     "data": {
      "text/plain": [
       "f    0.511563\n",
       "w    0.488437\n",
       "Name: initial_list_status, dtype: float64"
      ]
     },
     "execution_count": 73,
     "metadata": {},
     "output_type": "execute_result"
    }
   ],
   "source": [
    "df['initial_list_status'].value_counts(normalize=True)"
   ]
  },
  {
   "cell_type": "code",
   "execution_count": 74,
   "metadata": {
    "collapsed": true
   },
   "outputs": [],
   "source": [
    "df['initial_list_status'] = df['initial_list_status'].astype('category').cat.codes"
   ]
  },
  {
   "cell_type": "code",
   "execution_count": 75,
   "metadata": {
    "collapsed": true
   },
   "outputs": [],
   "source": [
    "df['mo_sin_old_il_acct'] = df['mo_sin_old_il_acct'].astype(float)\n",
    "df['mo_sin_old_rev_tol_op'] = df['mo_sin_old_rev_tl_op'].astype(float)\n",
    "df['mo_sin_rcnt_rev_tl_op'] = df['mo_sin_rcnt_rev_tl_op'].astype(float)\n",
    "df['mo_sin_rcnt_tl'] = df['mo_sin_rcnt_tl'].astype(float)\n",
    "df['mo_sin_old_rev_tl_op'] = df['mo_sin_old_rev_tl_op'].astype(float)"
   ]
  },
  {
   "cell_type": "code",
   "execution_count": 76,
   "metadata": {},
   "outputs": [
    {
     "data": {
      "text/plain": [
       "debt_consolidation    0.590490\n",
       "credit_card           0.214485\n",
       "home_improvement      0.062402\n",
       "other                 0.054115\n",
       "major_purchase        0.021540\n",
       "small_business        0.012631\n",
       "car                   0.011061\n",
       "medical               0.010753\n",
       "moving                0.007041\n",
       "vacation              0.006292\n",
       "house                 0.005166\n",
       "wedding               0.002868\n",
       "renewable_energy      0.000744\n",
       "educational           0.000412\n",
       "Name: purpose, dtype: float64"
      ]
     },
     "execution_count": 76,
     "metadata": {},
     "output_type": "execute_result"
    }
   ],
   "source": [
    "df['purpose'].value_counts(normalize=True)"
   ]
  },
  {
   "cell_type": "code",
   "execution_count": 77,
   "metadata": {},
   "outputs": [
    {
     "data": {
      "text/plain": [
       "2     0.590490\n",
       "1     0.214485\n",
       "4     0.062402\n",
       "9     0.054115\n",
       "6     0.021540\n",
       "11    0.012631\n",
       "0     0.011061\n",
       "7     0.010753\n",
       "8     0.007041\n",
       "12    0.006292\n",
       "5     0.005166\n",
       "13    0.002868\n",
       "10    0.000744\n",
       "3     0.000412\n",
       "dtype: float64"
      ]
     },
     "execution_count": 77,
     "metadata": {},
     "output_type": "execute_result"
    }
   ],
   "source": [
    "df['purpose'].astype('category').cat.codes.value_counts(normalize=True)"
   ]
  },
  {
   "cell_type": "code",
   "execution_count": 78,
   "metadata": {
    "collapsed": true
   },
   "outputs": [],
   "source": [
    "df['purpose'] = df['purpose'].astype('category').cat.codes"
   ]
  },
  {
   "cell_type": "code",
   "execution_count": 79,
   "metadata": {},
   "outputs": [
    {
     "data": {
      "text/plain": [
       "Source Verified    0.359320\n",
       "Verified           0.331655\n",
       "Not Verified       0.309025\n",
       "Name: verification_status, dtype: float64"
      ]
     },
     "execution_count": 79,
     "metadata": {},
     "output_type": "execute_result"
    }
   ],
   "source": [
    "df['verification_status'].value_counts(normalize=True)"
   ]
  },
  {
   "cell_type": "code",
   "execution_count": 80,
   "metadata": {
    "collapsed": true
   },
   "outputs": [],
   "source": [
    "df['verification_status'] = df['verification_status'].astype('category').cat.codes"
   ]
  },
  {
   "cell_type": "code",
   "execution_count": 81,
   "metadata": {},
   "outputs": [
    {
     "data": {
      "text/plain": [
       "array([dtype('float64'), dtype('int64'), dtype('int8')], dtype=object)"
      ]
     },
     "execution_count": 81,
     "metadata": {},
     "output_type": "execute_result"
    }
   ],
   "source": [
    "df.dtypes.unique()"
   ]
  },
  {
   "cell_type": "code",
   "execution_count": 82,
   "metadata": {},
   "outputs": [
    {
     "name": "stdout",
     "output_type": "stream",
     "text": [
      "Index(['acc_open_past_24mths', 'avg_cur_bal', 'bc_open_to_buy', 'bc_util',\n",
      "       'dti', 'inq_last_6mths', 'mo_sin_old_il_acct', 'mo_sin_old_rev_tl_op',\n",
      "       'mo_sin_rcnt_rev_tl_op', 'mo_sin_rcnt_tl', 'mort_acc',\n",
      "       'mths_since_last_delinq', 'mths_since_recent_bc',\n",
      "       'mths_since_recent_inq', 'mths_since_recent_revol_delinq',\n",
      "       'num_accts_ever_120_pd', 'num_actv_bc_tl', 'num_actv_rev_tl',\n",
      "       'num_bc_sats', 'num_bc_tl', 'num_il_tl', 'num_op_rev_tl',\n",
      "       'num_rev_accts', 'num_rev_tl_bal_gt_0', 'num_sats',\n",
      "       'num_tl_op_past_12m', 'pct_tl_nvr_dlq', 'percent_bc_gt_75',\n",
      "       'pub_rec_bankruptcies', 'revol_util', 'tot_coll_amt', 'tot_cur_bal',\n",
      "       'tot_hi_cred_lim', 'total_bal_ex_mort', 'total_bc_limit',\n",
      "       'total_il_high_credit_limit', 'total_rev_hi_lim',\n",
      "       'mo_sin_old_rev_tol_op'],\n",
      "      dtype='object') 38\n"
     ]
    }
   ],
   "source": [
    "print(df.columns[df.isnull().any()], len(df.columns[df.isnull().any()]))"
   ]
  },
  {
   "cell_type": "code",
   "execution_count": 83,
   "metadata": {
    "collapsed": true
   },
   "outputs": [],
   "source": [
    "# save the work we've done thus far\n",
    "df.to_csv(\"data/cleaned_features.csv\", index=False)"
   ]
  },
  {
   "cell_type": "markdown",
   "metadata": {},
   "source": [
    "### Create train/test split and fill missing values"
   ]
  },
  {
   "cell_type": "code",
   "execution_count": 84,
   "metadata": {
    "collapsed": true
   },
   "outputs": [],
   "source": [
    "X_train, X_test, y_train, y_test = train_test_split(df.drop('loan_status', axis=1), df['loan_status'], test_size=.25)"
   ]
  },
  {
   "cell_type": "code",
   "execution_count": 85,
   "metadata": {
    "collapsed": true
   },
   "outputs": [],
   "source": [
    "def describe_missing(var):\n",
    "    print(X_train[var].isnull().sum()/X_train.shape[0])\n",
    "    print(X_train[var].describe())\n",
    "    print(y_train[X_train[var].isnull()].value_counts(normalize=True))\n",
    "    X_train[var].hist(bins=15, normed=True)\n",
    "    plt.show()"
   ]
  },
  {
   "cell_type": "markdown",
   "metadata": {},
   "source": [
    "#### `mths_since_recent_revol_delinq`"
   ]
  },
  {
   "cell_type": "code",
   "execution_count": 86,
   "metadata": {},
   "outputs": [
    {
     "data": {
      "text/plain": [
       "'mths_since_recent_revol_delinq'"
      ]
     },
     "execution_count": 86,
     "metadata": {},
     "output_type": "execute_result"
    }
   ],
   "source": [
    "# find column with most missing values\n",
    "X_train.count().idxmin()"
   ]
  },
  {
   "cell_type": "code",
   "execution_count": 87,
   "metadata": {},
   "outputs": [
    {
     "name": "stdout",
     "output_type": "stream",
     "text": [
      "0.67585777194\n",
      "count    192487.000000\n",
      "mean         36.196860\n",
      "std          22.460117\n",
      "min           0.000000\n",
      "25%          17.000000\n",
      "50%          33.000000\n",
      "75%          53.000000\n",
      "max         180.000000\n",
      "Name: mths_since_recent_revol_delinq, dtype: float64\n",
      "1    0.80107\n",
      "0    0.19893\n",
      "Name: loan_status, dtype: float64\n"
     ]
    },
    {
     "data": {
      "image/png": "[encoded data removed]",
      "text/plain": [
       "<matplotlib.figure.Figure at 0x11e198f60>"
      ]
     },
     "metadata": {},
     "output_type": "display_data"
    }
   ],
   "source": [
    "describe_missing('mths_since_recent_revol_delinq')"
   ]
  },
  {
   "cell_type": "markdown",
   "metadata": {},
   "source": [
    "We fill missing values in `mth_since_recent_revol_delinq` with the rounded mean, as all the values are integers."
   ]
  },
  {
   "cell_type": "code",
   "execution_count": 88,
   "metadata": {
    "collapsed": true
   },
   "outputs": [],
   "source": [
    "X_test['mths_since_recent_revol_delinq'] = X_test['mths_since_recent_revol_delinq'].fillna(np.round(X_train['mths_since_recent_revol_delinq'].mean()))\n",
    "X_train['mths_since_recent_revol_delinq'] = X_train['mths_since_recent_revol_delinq'].fillna(np.round(X_train['mths_since_recent_revol_delinq'].mean()))"
   ]
  },
  {
   "cell_type": "markdown",
   "metadata": {},
   "source": [
    "#### `mths_since_last_delinq`"
   ]
  },
  {
   "cell_type": "code",
   "execution_count": 89,
   "metadata": {},
   "outputs": [
    {
     "data": {
      "text/plain": [
       "'mths_since_last_delinq'"
      ]
     },
     "execution_count": 89,
     "metadata": {},
     "output_type": "execute_result"
    }
   ],
   "source": [
    "# find column with most missing values\n",
    "X_train.count().idxmin()"
   ]
  },
  {
   "cell_type": "code",
   "execution_count": 90,
   "metadata": {},
   "outputs": [
    {
     "name": "stdout",
     "output_type": "stream",
     "text": [
      "0.513667938064\n",
      "count    288801.000000\n",
      "mean         34.530424\n",
      "std          21.955277\n",
      "min           0.000000\n",
      "25%          16.000000\n",
      "50%          31.000000\n",
      "75%          51.000000\n",
      "max         192.000000\n",
      "Name: mths_since_last_delinq, dtype: float64\n",
      "1    0.803612\n",
      "0    0.196388\n",
      "Name: loan_status, dtype: float64\n"
     ]
    },
    {
     "data": {
      "image/png": "[encoded data removed]",
      "text/plain": [
       "<matplotlib.figure.Figure at 0x11e1a3518>"
      ]
     },
     "metadata": {},
     "output_type": "display_data"
    }
   ],
   "source": [
    "describe_missing('mths_since_last_delinq')"
   ]
  },
  {
   "cell_type": "markdown",
   "metadata": {},
   "source": [
    "Similarly, we fill missing values in `mth_since_last_delinq` with the rounded mean, as all the values are integers."
   ]
  },
  {
   "cell_type": "code",
   "execution_count": 91,
   "metadata": {
    "collapsed": true
   },
   "outputs": [],
   "source": [
    "X_test['mths_since_last_delinq'] = X_test['mths_since_last_delinq'].fillna(np.round(X_train['mths_since_last_delinq'].mean()))\n",
    "X_train['mths_since_last_delinq'] = X_train['mths_since_last_delinq'].fillna(np.round(X_train['mths_since_last_delinq'].mean()))"
   ]
  },
  {
   "cell_type": "markdown",
   "metadata": {},
   "source": [
    "#### `mths_since_recent_inq`"
   ]
  },
  {
   "cell_type": "code",
   "execution_count": 92,
   "metadata": {},
   "outputs": [
    {
     "data": {
      "text/plain": [
       "'mths_since_recent_inq'"
      ]
     },
     "execution_count": 92,
     "metadata": {},
     "output_type": "execute_result"
    }
   ],
   "source": [
    "# find column with most missing values\n",
    "X_train.count().idxmin()"
   ]
  },
  {
   "cell_type": "code",
   "execution_count": 93,
   "metadata": {},
   "outputs": [
    {
     "name": "stdout",
     "output_type": "stream",
     "text": [
      "0.14589911339\n",
      "count    507195.000000\n",
      "mean          6.606721\n",
      "std           5.804067\n",
      "min           0.000000\n",
      "25%           2.000000\n",
      "50%           5.000000\n",
      "75%          10.000000\n",
      "max          25.000000\n",
      "Name: mths_since_recent_inq, dtype: float64\n",
      "1    0.848119\n",
      "0    0.151881\n",
      "Name: loan_status, dtype: float64\n"
     ]
    },
    {
     "data": {
      "image/png": "[encoded data removed]",
      "text/plain": [
       "<matplotlib.figure.Figure at 0x114b82160>"
      ]
     },
     "metadata": {},
     "output_type": "display_data"
    }
   ],
   "source": [
    "describe_missing('mths_since_recent_inq')"
   ]
  },
  {
   "cell_type": "markdown",
   "metadata": {},
   "source": [
    "Similarly, we fill missing values in `mth_since_recent_inq` with the rounded mean, as all the values are integers."
   ]
  },
  {
   "cell_type": "code",
   "execution_count": 94,
   "metadata": {
    "collapsed": true
   },
   "outputs": [],
   "source": [
    "X_test['mths_since_recent_inq'] = X_test['mths_since_recent_inq'].fillna(np.round(X_train['mths_since_recent_inq'].mean()))\n",
    "X_train['mths_since_recent_inq'] = X_train['mths_since_recent_inq'].fillna(np.round(X_train['mths_since_recent_inq'].mean()))"
   ]
  },
  {
   "cell_type": "markdown",
   "metadata": {},
   "source": [
    "#### `mo_sin_old_il_acct`"
   ]
  },
  {
   "cell_type": "code",
   "execution_count": 95,
   "metadata": {},
   "outputs": [
    {
     "data": {
      "text/plain": [
       "'mo_sin_old_il_acct'"
      ]
     },
     "execution_count": 95,
     "metadata": {},
     "output_type": "execute_result"
    }
   ],
   "source": [
    "# find column with most missing values\n",
    "X_train.count().idxmin()"
   ]
  },
  {
   "cell_type": "code",
   "execution_count": 96,
   "metadata": {
    "scrolled": false
   },
   "outputs": [
    {
     "name": "stdout",
     "output_type": "stream",
     "text": [
      "0.112302238837\n",
      "count    527146.000000\n",
      "mean        125.855499\n",
      "std          51.533323\n",
      "min           0.000000\n",
      "25%          98.000000\n",
      "50%         129.000000\n",
      "75%         152.000000\n",
      "max         724.000000\n",
      "Name: mo_sin_old_il_acct, dtype: float64\n",
      "1    0.832491\n",
      "0    0.167509\n",
      "Name: loan_status, dtype: float64\n"
     ]
    },
    {
     "data": {
      "image/png": "[encoded data removed]",
      "text/plain": [
       "<matplotlib.figure.Figure at 0x12ce0f780>"
      ]
     },
     "metadata": {},
     "output_type": "display_data"
    }
   ],
   "source": [
    "describe_missing('mo_sin_old_il_acct')"
   ]
  },
  {
   "cell_type": "markdown",
   "metadata": {},
   "source": [
    "We fill missing values in `pct_tl_nvr_dlq` with the rounded mean to one decimal place to match the format of the other values."
   ]
  },
  {
   "cell_type": "code",
   "execution_count": 97,
   "metadata": {
    "collapsed": true
   },
   "outputs": [],
   "source": [
    "X_test['mo_sin_old_il_acct'] = X_test['mo_sin_old_il_acct'].fillna(np.round(X_train['mo_sin_old_il_acct'].mean(), 1))\n",
    "X_train['mo_sin_old_il_acct'] = X_train['mo_sin_old_il_acct'].fillna(np.round(X_train['mo_sin_old_il_acct'].mean(), 1))"
   ]
  },
  {
   "cell_type": "markdown",
   "metadata": {},
   "source": [
    "#### `pct_tl_nvr_dlq`"
   ]
  },
  {
   "cell_type": "code",
   "execution_count": 98,
   "metadata": {},
   "outputs": [
    {
     "data": {
      "text/plain": [
       "'pct_tl_nvr_dlq'"
      ]
     },
     "execution_count": 98,
     "metadata": {},
     "output_type": "execute_result"
    }
   ],
   "source": [
    "# find column with most missing values\n",
    "X_train.count().idxmin()"
   ]
  },
  {
   "cell_type": "code",
   "execution_count": 99,
   "metadata": {
    "scrolled": false
   },
   "outputs": [
    {
     "name": "stdout",
     "output_type": "stream",
     "text": [
      "0.0854092466763\n",
      "count    543116.000000\n",
      "mean         94.413219\n",
      "std           8.372117\n",
      "min           0.000000\n",
      "25%          91.700000\n",
      "50%          98.100000\n",
      "75%         100.000000\n",
      "max         100.000000\n",
      "Name: pct_tl_nvr_dlq, dtype: float64\n",
      "1    0.848952\n",
      "0    0.151048\n",
      "Name: loan_status, dtype: float64\n"
     ]
    },
    {
     "data": {
      "image/png": "[encoded data removed]",
      "text/plain": [
       "<matplotlib.figure.Figure at 0x126cee5c0>"
      ]
     },
     "metadata": {},
     "output_type": "display_data"
    }
   ],
   "source": [
    "describe_missing('pct_tl_nvr_dlq')"
   ]
  },
  {
   "cell_type": "markdown",
   "metadata": {},
   "source": [
    "We fill missing values in `pct_tl_nvr_dlq` with the median due to the skew of the data."
   ]
  },
  {
   "cell_type": "code",
   "execution_count": 100,
   "metadata": {
    "collapsed": true
   },
   "outputs": [],
   "source": [
    "X_test['pct_tl_nvr_dlq'] = X_test['pct_tl_nvr_dlq'].fillna(X_train['pct_tl_nvr_dlq'].median())\n",
    "X_train['pct_tl_nvr_dlq'] = X_train['pct_tl_nvr_dlq'].fillna(X_train['pct_tl_nvr_dlq'].median())"
   ]
  },
  {
   "cell_type": "markdown",
   "metadata": {},
   "source": [
    "#### `avg_cur_bal`"
   ]
  },
  {
   "cell_type": "code",
   "execution_count": 101,
   "metadata": {},
   "outputs": [
    {
     "data": {
      "text/plain": [
       "'avg_cur_bal'"
      ]
     },
     "execution_count": 101,
     "metadata": {},
     "output_type": "execute_result"
    }
   ],
   "source": [
    "# find column with most missing values\n",
    "X_train.count().idxmin()"
   ]
  },
  {
   "cell_type": "code",
   "execution_count": 102,
   "metadata": {},
   "outputs": [
    {
     "name": "stdout",
     "output_type": "stream",
     "text": [
      "0.0852543214866\n",
      "count    543208.000000\n",
      "mean      13557.965619\n",
      "std       16257.619864\n",
      "min           0.000000\n",
      "25%        3124.000000\n",
      "50%        7531.000000\n",
      "75%       18872.000000\n",
      "max      800008.000000\n",
      "Name: avg_cur_bal, dtype: float64\n",
      "1    0.848915\n",
      "0    0.151085\n",
      "Name: loan_status, dtype: float64\n"
     ]
    },
    {
     "data": {
      "image/png": "[encoded data removed]",
      "text/plain": [
       "<matplotlib.figure.Figure at 0x133f8bf28>"
      ]
     },
     "metadata": {},
     "output_type": "display_data"
    }
   ],
   "source": [
    "describe_missing('avg_cur_bal')"
   ]
  },
  {
   "cell_type": "markdown",
   "metadata": {},
   "source": [
    "We fill missing values in `avg_cur_bal` with the median, since the data are highly skewed."
   ]
  },
  {
   "cell_type": "code",
   "execution_count": 103,
   "metadata": {
    "collapsed": true
   },
   "outputs": [],
   "source": [
    "X_test['avg_cur_bal'] = X_test['avg_cur_bal'].fillna(X_train['avg_cur_bal'].median())\n",
    "X_train['avg_cur_bal'] = X_train['avg_cur_bal'].fillna(X_train['avg_cur_bal'].median())"
   ]
  },
  {
   "cell_type": "markdown",
   "metadata": {},
   "source": [
    "#### `mo_sin_old_rev_tl_op`"
   ]
  },
  {
   "cell_type": "code",
   "execution_count": 104,
   "metadata": {},
   "outputs": [
    {
     "data": {
      "text/plain": [
       "'mo_sin_old_rev_tl_op'"
      ]
     },
     "execution_count": 104,
     "metadata": {},
     "output_type": "execute_result"
    }
   ],
   "source": [
    "# find column with most missing values\n",
    "X_train.count().idxmin()"
   ]
  },
  {
   "cell_type": "code",
   "execution_count": 105,
   "metadata": {},
   "outputs": [
    {
     "name": "stdout",
     "output_type": "stream",
     "text": [
      "0.085240849731\n",
      "count    543216.000000\n",
      "mean        180.809032\n",
      "std          92.145231\n",
      "min           3.000000\n",
      "25%         117.000000\n",
      "50%         164.000000\n",
      "75%         228.000000\n",
      "max         842.000000\n",
      "Name: mo_sin_old_rev_tl_op, dtype: float64\n",
      "1    0.84893\n",
      "0    0.15107\n",
      "Name: loan_status, dtype: float64\n"
     ]
    },
    {
     "data": {
      "image/png": "[encoded data removed]",
      "text/plain": [
       "<matplotlib.figure.Figure at 0x1340c0be0>"
      ]
     },
     "metadata": {},
     "output_type": "display_data"
    }
   ],
   "source": [
    "describe_missing('mo_sin_old_rev_tl_op')"
   ]
  },
  {
   "cell_type": "markdown",
   "metadata": {},
   "source": [
    "We fill missing values in `mo_sin_old_rev_tl_op` with the median since the data are slightly skewed."
   ]
  },
  {
   "cell_type": "code",
   "execution_count": 106,
   "metadata": {
    "collapsed": true
   },
   "outputs": [],
   "source": [
    "X_test['mo_sin_old_rev_tl_op'] = X_test['mo_sin_old_rev_tl_op'].fillna(X_train['mo_sin_old_rev_tl_op'].median())\n",
    "X_train['mo_sin_old_rev_tl_op'] = X_train['mo_sin_old_rev_tl_op'].fillna(X_train['mo_sin_old_rev_tl_op'].median())"
   ]
  },
  {
   "cell_type": "markdown",
   "metadata": {},
   "source": [
    "#### `mo_sin_rcnt_rev_tl_op`"
   ]
  },
  {
   "cell_type": "code",
   "execution_count": 107,
   "metadata": {},
   "outputs": [
    {
     "data": {
      "text/plain": [
       "'mo_sin_rcnt_rev_tl_op'"
      ]
     },
     "execution_count": 107,
     "metadata": {},
     "output_type": "execute_result"
    }
   ],
   "source": [
    "# find column with most missing values\n",
    "X_train.count().idxmin()"
   ]
  },
  {
   "cell_type": "code",
   "execution_count": 108,
   "metadata": {},
   "outputs": [
    {
     "name": "stdout",
     "output_type": "stream",
     "text": [
      "0.085240849731\n",
      "count    543216.000000\n",
      "mean         12.698415\n",
      "std          15.625190\n",
      "min           0.000000\n",
      "25%           4.000000\n",
      "50%           8.000000\n",
      "75%          15.000000\n",
      "max         372.000000\n",
      "Name: mo_sin_rcnt_rev_tl_op, dtype: float64\n",
      "1    0.84893\n",
      "0    0.15107\n",
      "Name: loan_status, dtype: float64\n"
     ]
    },
    {
     "data": {
      "image/png": "[encoded data removed]",
      "text/plain": [
       "<matplotlib.figure.Figure at 0x134016f28>"
      ]
     },
     "metadata": {},
     "output_type": "display_data"
    }
   ],
   "source": [
    "describe_missing('mo_sin_rcnt_rev_tl_op')"
   ]
  },
  {
   "cell_type": "markdown",
   "metadata": {},
   "source": [
    "We fill missing values in `mo_sin_rcnt_rev_tl_op` with the median."
   ]
  },
  {
   "cell_type": "code",
   "execution_count": 109,
   "metadata": {
    "collapsed": true
   },
   "outputs": [],
   "source": [
    "X_test['mo_sin_rcnt_rev_tl_op'] = X_test['mo_sin_rcnt_rev_tl_op'].fillna(X_train['mo_sin_rcnt_rev_tl_op'].median())\n",
    "X_train['mo_sin_rcnt_rev_tl_op'] = X_train['mo_sin_rcnt_rev_tl_op'].fillna(X_train['mo_sin_rcnt_rev_tl_op'].median())"
   ]
  },
  {
   "cell_type": "markdown",
   "metadata": {},
   "source": [
    "#### `num_rev_accts`"
   ]
  },
  {
   "cell_type": "code",
   "execution_count": 110,
   "metadata": {},
   "outputs": [
    {
     "data": {
      "text/plain": [
       "'num_rev_accts'"
      ]
     },
     "execution_count": 110,
     "metadata": {},
     "output_type": "execute_result"
    }
   ],
   "source": [
    "# find column with most missing values\n",
    "X_train.count().idxmin()"
   ]
  },
  {
   "cell_type": "code",
   "execution_count": 111,
   "metadata": {},
   "outputs": [
    {
     "name": "stdout",
     "output_type": "stream",
     "text": [
      "0.085240849731\n",
      "count    543216.000000\n",
      "mean         15.038657\n",
      "std           8.115071\n",
      "min           0.000000\n",
      "25%           9.000000\n",
      "50%          14.000000\n",
      "75%          19.000000\n",
      "max         128.000000\n",
      "Name: num_rev_accts, dtype: float64\n",
      "1    0.84895\n",
      "0    0.15105\n",
      "Name: loan_status, dtype: float64\n"
     ]
    },
    {
     "data": {
      "image/png": "[encoded data removed]",
      "text/plain": [
       "<matplotlib.figure.Figure at 0x12cc2f550>"
      ]
     },
     "metadata": {},
     "output_type": "display_data"
    }
   ],
   "source": [
    "describe_missing('num_rev_accts')"
   ]
  },
  {
   "cell_type": "markdown",
   "metadata": {},
   "source": [
    "We fill missing values in `num_rev_accts` with the median."
   ]
  },
  {
   "cell_type": "code",
   "execution_count": 112,
   "metadata": {
    "collapsed": true
   },
   "outputs": [],
   "source": [
    "X_test['num_rev_accts'] = X_test['num_rev_accts'].fillna(X_train['num_rev_accts'].median())\n",
    "X_train['num_rev_accts'] = X_train['num_rev_accts'].fillna(X_train['num_rev_accts'].median())"
   ]
  },
  {
   "cell_type": "markdown",
   "metadata": {},
   "source": [
    "#### `mo_sin_old_rev_tol_op`"
   ]
  },
  {
   "cell_type": "code",
   "execution_count": 113,
   "metadata": {},
   "outputs": [
    {
     "data": {
      "text/plain": [
       "'mo_sin_old_rev_tol_op'"
      ]
     },
     "execution_count": 113,
     "metadata": {},
     "output_type": "execute_result"
    }
   ],
   "source": [
    "# find column with most missing values\n",
    "X_train.count().idxmin()"
   ]
  },
  {
   "cell_type": "code",
   "execution_count": 114,
   "metadata": {},
   "outputs": [
    {
     "name": "stdout",
     "output_type": "stream",
     "text": [
      "0.085240849731\n",
      "count    543216.000000\n",
      "mean        180.809032\n",
      "std          92.145231\n",
      "min           3.000000\n",
      "25%         117.000000\n",
      "50%         164.000000\n",
      "75%         228.000000\n",
      "max         842.000000\n",
      "Name: mo_sin_old_rev_tol_op, dtype: float64\n",
      "1    0.84893\n",
      "0    0.15107\n",
      "Name: loan_status, dtype: float64\n"
     ]
    },
    {
     "data": {
      "image/png": "[encoded data removed]",
      "text/plain": [
       "<matplotlib.figure.Figure at 0x126cdc940>"
      ]
     },
     "metadata": {},
     "output_type": "display_data"
    }
   ],
   "source": [
    "describe_missing('mo_sin_old_rev_tol_op')"
   ]
  },
  {
   "cell_type": "markdown",
   "metadata": {},
   "source": [
    "We fill missing values in `mo_sin_old_rev_tol_op` with the median, due to the skew."
   ]
  },
  {
   "cell_type": "code",
   "execution_count": 115,
   "metadata": {
    "collapsed": true
   },
   "outputs": [],
   "source": [
    "X_test['mo_sin_old_rev_tol_op'] = X_test['mo_sin_old_rev_tol_op'].fillna(X_train['mo_sin_old_rev_tol_op'].median())\n",
    "X_train['mo_sin_old_rev_tol_op'] = X_train['mo_sin_old_rev_tol_op'].fillna(X_train['mo_sin_old_rev_tol_op'].median())"
   ]
  },
  {
   "cell_type": "markdown",
   "metadata": {},
   "source": [
    "#### `mo_sin_rcnt_tl`"
   ]
  },
  {
   "cell_type": "code",
   "execution_count": 116,
   "metadata": {},
   "outputs": [
    {
     "data": {
      "text/plain": [
       "'mo_sin_rcnt_tl'"
      ]
     },
     "execution_count": 116,
     "metadata": {},
     "output_type": "execute_result"
    }
   ],
   "source": [
    "# find column with most missing values\n",
    "X_train.count().idxmin()"
   ]
  },
  {
   "cell_type": "code",
   "execution_count": 117,
   "metadata": {},
   "outputs": [
    {
     "name": "stdout",
     "output_type": "stream",
     "text": [
      "0.0852391657615\n",
      "count    543217.000000\n",
      "mean          7.688793\n",
      "std           8.480983\n",
      "min           0.000000\n",
      "25%           3.000000\n",
      "50%           5.000000\n",
      "75%          10.000000\n",
      "max         314.000000\n",
      "Name: mo_sin_rcnt_tl, dtype: float64\n",
      "1    0.848947\n",
      "0    0.151053\n",
      "Name: loan_status, dtype: float64\n"
     ]
    },
    {
     "data": {
      "image/png": "[encoded data removed]",
      "text/plain": [
       "<matplotlib.figure.Figure at 0x1265c0128>"
      ]
     },
     "metadata": {},
     "output_type": "display_data"
    }
   ],
   "source": [
    "describe_missing('mo_sin_rcnt_tl')"
   ]
  },
  {
   "cell_type": "markdown",
   "metadata": {},
   "source": [
    "We fill missing values in `mo_sin_rcnt_tl` with the median due to the skew."
   ]
  },
  {
   "cell_type": "code",
   "execution_count": 118,
   "metadata": {
    "collapsed": true
   },
   "outputs": [],
   "source": [
    "X_test['mo_sin_rcnt_tl'] = X_test['mo_sin_rcnt_tl'].fillna(X_train['mo_sin_rcnt_tl'].median())\n",
    "X_train['mo_sin_rcnt_tl'] = X_train['mo_sin_rcnt_tl'].fillna(X_train['mo_sin_rcnt_tl'].median())"
   ]
  },
  {
   "cell_type": "markdown",
   "metadata": {},
   "source": [
    "#### `num_accts_ever_120_pd`"
   ]
  },
  {
   "cell_type": "code",
   "execution_count": 119,
   "metadata": {},
   "outputs": [
    {
     "data": {
      "text/plain": [
       "'num_accts_ever_120_pd'"
      ]
     },
     "execution_count": 119,
     "metadata": {},
     "output_type": "execute_result"
    }
   ],
   "source": [
    "# find column with most missing values\n",
    "X_train.count().idxmin()"
   ]
  },
  {
   "cell_type": "code",
   "execution_count": 120,
   "metadata": {},
   "outputs": [
    {
     "name": "stdout",
     "output_type": "stream",
     "text": [
      "0.0852391657615\n",
      "count    543217.000000\n",
      "mean          0.493806\n",
      "std           1.280557\n",
      "min           0.000000\n",
      "25%           0.000000\n",
      "50%           0.000000\n",
      "75%           0.000000\n",
      "max          39.000000\n",
      "Name: num_accts_ever_120_pd, dtype: float64\n",
      "1    0.848947\n",
      "0    0.151053\n",
      "Name: loan_status, dtype: float64\n"
     ]
    },
    {
     "data": {
      "image/png": "[encoded data removed]",
      "text/plain": [
       "<matplotlib.figure.Figure at 0x1126cd828>"
      ]
     },
     "metadata": {},
     "output_type": "display_data"
    }
   ],
   "source": [
    "describe_missing('num_accts_ever_120_pd')"
   ]
  },
  {
   "cell_type": "markdown",
   "metadata": {},
   "source": [
    "We fill missing values in `num_accts_ever_120_pd` with the median due to the skew."
   ]
  },
  {
   "cell_type": "code",
   "execution_count": 121,
   "metadata": {
    "collapsed": true
   },
   "outputs": [],
   "source": [
    "X_test['num_accts_ever_120_pd'] = X_test['num_accts_ever_120_pd'].fillna(X_train['num_accts_ever_120_pd'].median())\n",
    "X_train['num_accts_ever_120_pd'] = X_train['num_accts_ever_120_pd'].fillna(X_train['num_accts_ever_120_pd'].median())"
   ]
  },
  {
   "cell_type": "markdown",
   "metadata": {},
   "source": [
    "#### `num_actv_bc_tl`"
   ]
  },
  {
   "cell_type": "code",
   "execution_count": 122,
   "metadata": {},
   "outputs": [
    {
     "data": {
      "text/plain": [
       "'num_actv_bc_tl'"
      ]
     },
     "execution_count": 122,
     "metadata": {},
     "output_type": "execute_result"
    }
   ],
   "source": [
    "# find column with most missing values\n",
    "X_train.count().idxmin()"
   ]
  },
  {
   "cell_type": "code",
   "execution_count": 123,
   "metadata": {},
   "outputs": [
    {
     "name": "stdout",
     "output_type": "stream",
     "text": [
      "0.0852391657615\n",
      "count    543217.000000\n",
      "mean          3.632064\n",
      "std           2.185530\n",
      "min           0.000000\n",
      "25%           2.000000\n",
      "50%           3.000000\n",
      "75%           5.000000\n",
      "max          33.000000\n",
      "Name: num_actv_bc_tl, dtype: float64\n",
      "1    0.848947\n",
      "0    0.151053\n",
      "Name: loan_status, dtype: float64\n"
     ]
    },
    {
     "data": {
      "image/png": "[encoded data removed]",
      "text/plain": [
       "<matplotlib.figure.Figure at 0x133fef0f0>"
      ]
     },
     "metadata": {},
     "output_type": "display_data"
    }
   ],
   "source": [
    "describe_missing('num_actv_bc_tl')"
   ]
  },
  {
   "cell_type": "markdown",
   "metadata": {},
   "source": [
    "We fill missing values in `num_actv_bc_tl` with the median due to the slight skew and because these values are integers, not floats."
   ]
  },
  {
   "cell_type": "code",
   "execution_count": 124,
   "metadata": {
    "collapsed": true
   },
   "outputs": [],
   "source": [
    "X_test['num_actv_bc_tl'] = X_test['num_actv_bc_tl'].fillna(X_train['num_actv_bc_tl'].median())\n",
    "X_train['num_actv_bc_tl'] = X_train['num_actv_bc_tl'].fillna(X_train['num_actv_bc_tl'].median())"
   ]
  },
  {
   "cell_type": "markdown",
   "metadata": {},
   "source": [
    "#### `num_actv_rev_tl`"
   ]
  },
  {
   "cell_type": "code",
   "execution_count": 125,
   "metadata": {},
   "outputs": [
    {
     "data": {
      "text/plain": [
       "'num_actv_rev_tl'"
      ]
     },
     "execution_count": 125,
     "metadata": {},
     "output_type": "execute_result"
    }
   ],
   "source": [
    "# find column with most missing values\n",
    "X_train.count().idxmin()"
   ]
  },
  {
   "cell_type": "code",
   "execution_count": 126,
   "metadata": {},
   "outputs": [
    {
     "name": "stdout",
     "output_type": "stream",
     "text": [
      "0.0852391657615\n",
      "count    543217.000000\n",
      "mean          5.647907\n",
      "std           3.204591\n",
      "min           0.000000\n",
      "25%           3.000000\n",
      "50%           5.000000\n",
      "75%           7.000000\n",
      "max          57.000000\n",
      "Name: num_actv_rev_tl, dtype: float64\n",
      "1    0.848947\n",
      "0    0.151053\n",
      "Name: loan_status, dtype: float64\n"
     ]
    },
    {
     "data": {
      "image/png": "[encoded data removed]",
      "text/plain": [
       "<matplotlib.figure.Figure at 0x137a6ac18>"
      ]
     },
     "metadata": {},
     "output_type": "display_data"
    }
   ],
   "source": [
    "describe_missing('num_actv_rev_tl')"
   ]
  },
  {
   "cell_type": "markdown",
   "metadata": {},
   "source": [
    "We fill missing values in `num_actv_rev_tl` with the median due to the slight skew and because these are integers, not floats."
   ]
  },
  {
   "cell_type": "code",
   "execution_count": 127,
   "metadata": {
    "collapsed": true
   },
   "outputs": [],
   "source": [
    "X_test['num_actv_rev_tl'] = X_test['num_actv_rev_tl'].fillna(X_train['num_actv_rev_tl'].median())\n",
    "X_train['num_actv_rev_tl'] = X_train['num_actv_rev_tl'].fillna(X_train['num_actv_rev_tl'].median())"
   ]
  },
  {
   "cell_type": "markdown",
   "metadata": {},
   "source": [
    "#### `num_bc_tl`"
   ]
  },
  {
   "cell_type": "code",
   "execution_count": 128,
   "metadata": {},
   "outputs": [
    {
     "data": {
      "text/plain": [
       "'num_bc_tl'"
      ]
     },
     "execution_count": 128,
     "metadata": {},
     "output_type": "execute_result"
    }
   ],
   "source": [
    "# find column with most missing values\n",
    "X_train.count().idxmin()"
   ]
  },
  {
   "cell_type": "code",
   "execution_count": 129,
   "metadata": {},
   "outputs": [
    {
     "name": "stdout",
     "output_type": "stream",
     "text": [
      "0.0852391657615\n",
      "count    543217.000000\n",
      "mean          8.433304\n",
      "std           4.872924\n",
      "min           0.000000\n",
      "25%           5.000000\n",
      "50%           8.000000\n",
      "75%          11.000000\n",
      "max          70.000000\n",
      "Name: num_bc_tl, dtype: float64\n",
      "1    0.848947\n",
      "0    0.151053\n",
      "Name: loan_status, dtype: float64\n"
     ]
    },
    {
     "data": {
      "image/png": "[encoded data removed]",
      "text/plain": [
       "<matplotlib.figure.Figure at 0x1380ad048>"
      ]
     },
     "metadata": {},
     "output_type": "display_data"
    }
   ],
   "source": [
    "describe_missing('num_bc_tl')"
   ]
  },
  {
   "cell_type": "markdown",
   "metadata": {},
   "source": [
    "We fill missing values in `num_bc_tl` with the median due to the skew."
   ]
  },
  {
   "cell_type": "code",
   "execution_count": 130,
   "metadata": {
    "collapsed": true
   },
   "outputs": [],
   "source": [
    "X_test['num_bc_tl'] = X_test['num_bc_tl'].fillna(X_train['num_bc_tl'].median())\n",
    "X_train['num_bc_tl'] = X_train['num_bc_tl'].fillna(X_train['num_bc_tl'].median())"
   ]
  },
  {
   "cell_type": "markdown",
   "metadata": {},
   "source": [
    "#### `num_il_tl`"
   ]
  },
  {
   "cell_type": "code",
   "execution_count": 131,
   "metadata": {},
   "outputs": [
    {
     "data": {
      "text/plain": [
       "'num_il_tl'"
      ]
     },
     "execution_count": 131,
     "metadata": {},
     "output_type": "execute_result"
    }
   ],
   "source": [
    "# find column with most missing values\n",
    "X_train.count().idxmin()"
   ]
  },
  {
   "cell_type": "code",
   "execution_count": 132,
   "metadata": {},
   "outputs": [
    {
     "name": "stdout",
     "output_type": "stream",
     "text": [
      "0.0852391657615\n",
      "count    543217.000000\n",
      "mean          8.613893\n",
      "std           7.352538\n",
      "min           0.000000\n",
      "25%           4.000000\n",
      "50%           7.000000\n",
      "75%          11.000000\n",
      "max         128.000000\n",
      "Name: num_il_tl, dtype: float64\n",
      "1    0.848947\n",
      "0    0.151053\n",
      "Name: loan_status, dtype: float64\n"
     ]
    },
    {
     "data": {
      "image/png": "[encoded data removed]",
      "text/plain": [
       "<matplotlib.figure.Figure at 0x117385e48>"
      ]
     },
     "metadata": {},
     "output_type": "display_data"
    }
   ],
   "source": [
    "describe_missing('num_il_tl')"
   ]
  },
  {
   "cell_type": "markdown",
   "metadata": {},
   "source": [
    "We fill missing values in `num_il_tl` with the median due to the slight skew."
   ]
  },
  {
   "cell_type": "code",
   "execution_count": 133,
   "metadata": {
    "collapsed": true
   },
   "outputs": [],
   "source": [
    "X_test['num_il_tl'] = X_test['num_il_tl'].fillna(X_train['num_il_tl'].median())\n",
    "X_train['num_il_tl'] = X_train['num_il_tl'].fillna(X_train['num_il_tl'].median())"
   ]
  },
  {
   "cell_type": "markdown",
   "metadata": {},
   "source": [
    "#### `num_op_rev_tl`"
   ]
  },
  {
   "cell_type": "code",
   "execution_count": 134,
   "metadata": {},
   "outputs": [
    {
     "data": {
      "text/plain": [
       "'num_op_rev_tl'"
      ]
     },
     "execution_count": 134,
     "metadata": {},
     "output_type": "execute_result"
    }
   ],
   "source": [
    "# find column with most missing values\n",
    "X_train.count().idxmin()"
   ]
  },
  {
   "cell_type": "code",
   "execution_count": 135,
   "metadata": {},
   "outputs": [
    {
     "name": "stdout",
     "output_type": "stream",
     "text": [
      "0.0852391657615\n",
      "count    543217.000000\n",
      "mean          8.288041\n",
      "std           4.433150\n",
      "min           0.000000\n",
      "25%           5.000000\n",
      "50%           7.000000\n",
      "75%          10.000000\n",
      "max          83.000000\n",
      "Name: num_op_rev_tl, dtype: float64\n",
      "1    0.848947\n",
      "0    0.151053\n",
      "Name: loan_status, dtype: float64\n"
     ]
    },
    {
     "data": {
      "image/png": "[encoded data removed]",
      "text/plain": [
       "<matplotlib.figure.Figure at 0x1364a3d68>"
      ]
     },
     "metadata": {},
     "output_type": "display_data"
    }
   ],
   "source": [
    "describe_missing('num_op_rev_tl')"
   ]
  },
  {
   "cell_type": "markdown",
   "metadata": {},
   "source": [
    "We fill missing values in `num_op_rev_tl` with the median due to the skew and due to each value being an integer, not a float."
   ]
  },
  {
   "cell_type": "code",
   "execution_count": 136,
   "metadata": {
    "collapsed": true
   },
   "outputs": [],
   "source": [
    "X_test['num_op_rev_tl'] = X_test['num_op_rev_tl'].fillna(X_train['num_op_rev_tl'].median())\n",
    "X_train['num_op_rev_tl'] = X_train['num_op_rev_tl'].fillna(X_train['num_op_rev_tl'].median())"
   ]
  },
  {
   "cell_type": "markdown",
   "metadata": {},
   "source": [
    "#### `num_rev_tl_bal_gt_0`"
   ]
  },
  {
   "cell_type": "code",
   "execution_count": 137,
   "metadata": {},
   "outputs": [
    {
     "data": {
      "text/plain": [
       "'num_rev_tl_bal_gt_0'"
      ]
     },
     "execution_count": 137,
     "metadata": {},
     "output_type": "execute_result"
    }
   ],
   "source": [
    "# find column with most missing values\n",
    "X_train.count().idxmin()"
   ]
  },
  {
   "cell_type": "code",
   "execution_count": 138,
   "metadata": {
    "scrolled": false
   },
   "outputs": [
    {
     "name": "stdout",
     "output_type": "stream",
     "text": [
      "0.0852391657615\n",
      "count    543217.000000\n",
      "mean          5.605092\n",
      "std           3.136380\n",
      "min           0.000000\n",
      "25%           3.000000\n",
      "50%           5.000000\n",
      "75%           7.000000\n",
      "max          45.000000\n",
      "Name: num_rev_tl_bal_gt_0, dtype: float64\n",
      "1    0.848947\n",
      "0    0.151053\n",
      "Name: loan_status, dtype: float64\n"
     ]
    },
    {
     "data": {
      "image/png": "[encoded data removed]",
      "text/plain": [
       "<matplotlib.figure.Figure at 0x13416aac8>"
      ]
     },
     "metadata": {},
     "output_type": "display_data"
    }
   ],
   "source": [
    "describe_missing('num_rev_tl_bal_gt_0')"
   ]
  },
  {
   "cell_type": "markdown",
   "metadata": {},
   "source": [
    "We fill missing values in `num_rev_tl_bal_gt_0` with the median (each value is an integer)."
   ]
  },
  {
   "cell_type": "code",
   "execution_count": 139,
   "metadata": {
    "collapsed": true
   },
   "outputs": [],
   "source": [
    "X_test['num_rev_tl_bal_gt_0'] = X_test['num_rev_tl_bal_gt_0'].fillna(np.round(X_train['num_rev_tl_bal_gt_0'].mean(), 1))\n",
    "X_train['num_rev_tl_bal_gt_0'] = X_train['num_rev_tl_bal_gt_0'].fillna(np.round(X_train['num_rev_tl_bal_gt_0'].mean(), 1))"
   ]
  },
  {
   "cell_type": "markdown",
   "metadata": {},
   "source": [
    "#### `num_tl_op_past_12m`"
   ]
  },
  {
   "cell_type": "code",
   "execution_count": 140,
   "metadata": {},
   "outputs": [
    {
     "data": {
      "text/plain": [
       "'num_tl_op_past_12m'"
      ]
     },
     "execution_count": 140,
     "metadata": {},
     "output_type": "execute_result"
    }
   ],
   "source": [
    "# find column with most missing values\n",
    "X_train.count().idxmin()"
   ]
  },
  {
   "cell_type": "code",
   "execution_count": 141,
   "metadata": {
    "scrolled": false
   },
   "outputs": [
    {
     "name": "stdout",
     "output_type": "stream",
     "text": [
      "0.0852391657615\n",
      "count    543217.000000\n",
      "mean          2.201825\n",
      "std           1.825769\n",
      "min           0.000000\n",
      "25%           1.000000\n",
      "50%           2.000000\n",
      "75%           3.000000\n",
      "max          30.000000\n",
      "Name: num_tl_op_past_12m, dtype: float64\n",
      "1    0.848947\n",
      "0    0.151053\n",
      "Name: loan_status, dtype: float64\n"
     ]
    },
    {
     "data": {
      "image/png": "[encoded data removed]",
      "text/plain": [
       "<matplotlib.figure.Figure at 0x13415e2e8>"
      ]
     },
     "metadata": {},
     "output_type": "display_data"
    }
   ],
   "source": [
    "describe_missing('num_tl_op_past_12m')"
   ]
  },
  {
   "cell_type": "markdown",
   "metadata": {},
   "source": [
    "We fill missing values in `num_tl_op_past_12m` with the median (each value is an integer)."
   ]
  },
  {
   "cell_type": "code",
   "execution_count": 142,
   "metadata": {
    "collapsed": true
   },
   "outputs": [],
   "source": [
    "X_test['num_tl_op_past_12m'] = X_test['num_tl_op_past_12m'].fillna(X_train['num_tl_op_past_12m'].median())\n",
    "X_train['num_tl_op_past_12m'] = X_train['num_tl_op_past_12m'].fillna(X_train['num_tl_op_past_12m'].median())"
   ]
  },
  {
   "cell_type": "markdown",
   "metadata": {},
   "source": [
    "#### `tot_coll_amt`"
   ]
  },
  {
   "cell_type": "code",
   "execution_count": 143,
   "metadata": {},
   "outputs": [
    {
     "data": {
      "text/plain": [
       "'tot_coll_amt'"
      ]
     },
     "execution_count": 143,
     "metadata": {},
     "output_type": "execute_result"
    }
   ],
   "source": [
    "# find column with most missing values\n",
    "X_train.count().idxmin()"
   ]
  },
  {
   "cell_type": "code",
   "execution_count": 144,
   "metadata": {
    "scrolled": false
   },
   "outputs": [
    {
     "name": "stdout",
     "output_type": "stream",
     "text": [
      "0.0852391657615\n",
      "count    5.432170e+05\n",
      "mean     2.370970e+02\n",
      "std      1.257158e+04\n",
      "min      0.000000e+00\n",
      "25%      0.000000e+00\n",
      "50%      0.000000e+00\n",
      "75%      0.000000e+00\n",
      "max      9.152545e+06\n",
      "Name: tot_coll_amt, dtype: float64\n",
      "1    0.848947\n",
      "0    0.151053\n",
      "Name: loan_status, dtype: float64\n"
     ]
    },
    {
     "data": {
      "image/png": "[encoded data removed]",
      "text/plain": [
       "<matplotlib.figure.Figure at 0x1340b7ac8>"
      ]
     },
     "metadata": {},
     "output_type": "display_data"
    }
   ],
   "source": [
    "describe_missing('tot_coll_amt')"
   ]
  },
  {
   "cell_type": "code",
   "execution_count": 145,
   "metadata": {
    "scrolled": true
   },
   "outputs": [
    {
     "data": {
      "text/plain": [
       "0.0      0.855660\n",
       "50.0     0.002055\n",
       "100.0    0.001676\n",
       "75.0     0.001279\n",
       "200.0    0.000900\n",
       "150.0    0.000886\n",
       "60.0     0.000853\n",
       "80.0     0.000721\n",
       "70.0     0.000693\n",
       "65.0     0.000632\n",
       "Name: tot_coll_amt, dtype: float64"
      ]
     },
     "execution_count": 145,
     "metadata": {},
     "output_type": "execute_result"
    }
   ],
   "source": [
    "df['tot_coll_amt'].value_counts(normalize=True).iloc[:10]"
   ]
  },
  {
   "cell_type": "markdown",
   "metadata": {},
   "source": [
    "We fill missing values in `tot_coll_amt` with 0."
   ]
  },
  {
   "cell_type": "code",
   "execution_count": 146,
   "metadata": {
    "collapsed": true
   },
   "outputs": [],
   "source": [
    "X_test['tot_coll_amt'] = X_test['tot_coll_amt'].fillna(0)\n",
    "X_train['tot_coll_amt'] = X_train['tot_coll_amt'].fillna(0)"
   ]
  },
  {
   "cell_type": "markdown",
   "metadata": {},
   "source": [
    "#### `tot_cur_bal`"
   ]
  },
  {
   "cell_type": "code",
   "execution_count": 147,
   "metadata": {
    "scrolled": true
   },
   "outputs": [
    {
     "data": {
      "text/plain": [
       "'tot_cur_bal'"
      ]
     },
     "execution_count": 147,
     "metadata": {},
     "output_type": "execute_result"
    }
   ],
   "source": [
    "# find column with most missing values\n",
    "X_train.count().idxmin()"
   ]
  },
  {
   "cell_type": "code",
   "execution_count": 148,
   "metadata": {
    "scrolled": false
   },
   "outputs": [
    {
     "name": "stdout",
     "output_type": "stream",
     "text": [
      "0.0852391657615\n",
      "count    5.432170e+05\n",
      "mean     1.409687e+05\n",
      "std      1.558383e+05\n",
      "min      0.000000e+00\n",
      "25%      2.969500e+04\n",
      "50%      8.193200e+04\n",
      "75%      2.104670e+05\n",
      "max      8.000078e+06\n",
      "Name: tot_cur_bal, dtype: float64\n",
      "1    0.848947\n",
      "0    0.151053\n",
      "Name: loan_status, dtype: float64\n"
     ]
    },
    {
     "data": {
      "image/png": "[encoded data removed]",
      "text/plain": [
       "<matplotlib.figure.Figure at 0x133f96cf8>"
      ]
     },
     "metadata": {},
     "output_type": "display_data"
    }
   ],
   "source": [
    "describe_missing('tot_cur_bal')"
   ]
  },
  {
   "cell_type": "markdown",
   "metadata": {},
   "source": [
    "We fill missing values in `tot_cur_bal` with the median due to the skew."
   ]
  },
  {
   "cell_type": "code",
   "execution_count": 149,
   "metadata": {
    "collapsed": true
   },
   "outputs": [],
   "source": [
    "X_test['tot_cur_bal'] = X_test['tot_cur_bal'].fillna(X_train['tot_cur_bal'].median())\n",
    "X_train['tot_cur_bal'] = X_train['tot_cur_bal'].fillna(X_train['tot_cur_bal'].median())"
   ]
  },
  {
   "cell_type": "markdown",
   "metadata": {},
   "source": [
    "#### `tot_hi_cred_lim`"
   ]
  },
  {
   "cell_type": "code",
   "execution_count": 150,
   "metadata": {},
   "outputs": [
    {
     "data": {
      "text/plain": [
       "'tot_hi_cred_lim'"
      ]
     },
     "execution_count": 150,
     "metadata": {},
     "output_type": "execute_result"
    }
   ],
   "source": [
    "# find column with most missing values\n",
    "X_train.count().idxmin()"
   ]
  },
  {
   "cell_type": "code",
   "execution_count": 151,
   "metadata": {
    "scrolled": false
   },
   "outputs": [
    {
     "name": "stdout",
     "output_type": "stream",
     "text": [
      "0.0852391657615\n",
      "count    5.432170e+05\n",
      "mean     1.726606e+05\n",
      "std      1.748731e+05\n",
      "min      0.000000e+00\n",
      "25%      4.897200e+04\n",
      "50%      1.126470e+05\n",
      "75%      2.500590e+05\n",
      "max      9.999999e+06\n",
      "Name: tot_hi_cred_lim, dtype: float64\n",
      "1    0.848947\n",
      "0    0.151053\n",
      "Name: loan_status, dtype: float64\n"
     ]
    },
    {
     "data": {
      "image/png": "[encoded data removed]",
      "text/plain": [
       "<matplotlib.figure.Figure at 0x12ce1fac8>"
      ]
     },
     "metadata": {},
     "output_type": "display_data"
    }
   ],
   "source": [
    "describe_missing('tot_hi_cred_lim')"
   ]
  },
  {
   "cell_type": "markdown",
   "metadata": {},
   "source": [
    "We fill missing values in `tot_hi_cred_lim` with the median due to the skew."
   ]
  },
  {
   "cell_type": "code",
   "execution_count": 152,
   "metadata": {
    "collapsed": true
   },
   "outputs": [],
   "source": [
    "X_test['tot_hi_cred_lim'] = X_test['tot_hi_cred_lim'].fillna(X_train['tot_hi_cred_lim'].median())\n",
    "X_train['tot_hi_cred_lim'] = X_train['tot_hi_cred_lim'].fillna(X_train['tot_hi_cred_lim'].median())"
   ]
  },
  {
   "cell_type": "markdown",
   "metadata": {},
   "source": [
    "#### `total_il_high_credit_limit`"
   ]
  },
  {
   "cell_type": "code",
   "execution_count": 153,
   "metadata": {},
   "outputs": [
    {
     "data": {
      "text/plain": [
       "'total_il_high_credit_limit'"
      ]
     },
     "execution_count": 153,
     "metadata": {},
     "output_type": "execute_result"
    }
   ],
   "source": [
    "# find column with most missing values\n",
    "X_train.count().idxmin()"
   ]
  },
  {
   "cell_type": "code",
   "execution_count": 154,
   "metadata": {
    "scrolled": false
   },
   "outputs": [
    {
     "name": "stdout",
     "output_type": "stream",
     "text": [
      "0.0852391657615\n",
      "count    5.432170e+05\n",
      "mean     4.088356e+04\n",
      "std      4.213017e+04\n",
      "min      0.000000e+00\n",
      "25%      1.421700e+04\n",
      "50%      3.079900e+04\n",
      "75%      5.500900e+04\n",
      "max      2.101913e+06\n",
      "Name: total_il_high_credit_limit, dtype: float64\n",
      "1    0.848947\n",
      "0    0.151053\n",
      "Name: loan_status, dtype: float64\n"
     ]
    },
    {
     "data": {
      "image/png": "[encoded data removed]",
      "text/plain": [
       "<matplotlib.figure.Figure at 0x11e4aba58>"
      ]
     },
     "metadata": {},
     "output_type": "display_data"
    }
   ],
   "source": [
    "describe_missing('total_il_high_credit_limit')"
   ]
  },
  {
   "cell_type": "markdown",
   "metadata": {},
   "source": [
    "We fill missing values in `total_il_high_credit_limit` with the median due to the skew."
   ]
  },
  {
   "cell_type": "code",
   "execution_count": 155,
   "metadata": {
    "collapsed": true
   },
   "outputs": [],
   "source": [
    "X_test['total_il_high_credit_limit'] = X_test['total_il_high_credit_limit'].fillna(X_train['total_il_high_credit_limit'].median())\n",
    "X_train['total_il_high_credit_limit'] = X_train['total_il_high_credit_limit'].fillna(X_train['total_il_high_credit_limit'].median())"
   ]
  },
  {
   "cell_type": "markdown",
   "metadata": {},
   "source": [
    "#### `total_rev_hi_lim`"
   ]
  },
  {
   "cell_type": "code",
   "execution_count": 156,
   "metadata": {},
   "outputs": [
    {
     "data": {
      "text/plain": [
       "'total_rev_hi_lim'"
      ]
     },
     "execution_count": 156,
     "metadata": {},
     "output_type": "execute_result"
    }
   ],
   "source": [
    "# find column with most missing values\n",
    "X_train.count().idxmin()"
   ]
  },
  {
   "cell_type": "code",
   "execution_count": 157,
   "metadata": {
    "scrolled": false
   },
   "outputs": [
    {
     "name": "stdout",
     "output_type": "stream",
     "text": [
      "0.0852391657615\n",
      "count    5.432170e+05\n",
      "mean     3.175641e+04\n",
      "std      3.736992e+04\n",
      "min      0.000000e+00\n",
      "25%      1.380000e+04\n",
      "50%      2.340000e+04\n",
      "75%      3.930000e+04\n",
      "max      9.999999e+06\n",
      "Name: total_rev_hi_lim, dtype: float64\n",
      "1    0.848947\n",
      "0    0.151053\n",
      "Name: loan_status, dtype: float64\n"
     ]
    },
    {
     "data": {
      "image/png": "[encoded data removed]",
      "text/plain": [
       "<matplotlib.figure.Figure at 0x126ce4da0>"
      ]
     },
     "metadata": {},
     "output_type": "display_data"
    }
   ],
   "source": [
    "describe_missing('total_rev_hi_lim')"
   ]
  },
  {
   "cell_type": "markdown",
   "metadata": {},
   "source": [
    "We fill missing values in `total_rev_hi_lim` with the median due to the skew"
   ]
  },
  {
   "cell_type": "code",
   "execution_count": 158,
   "metadata": {
    "collapsed": true
   },
   "outputs": [],
   "source": [
    "X_test['total_rev_hi_lim'] = X_test['total_rev_hi_lim'].fillna(X_train['total_rev_hi_lim'].median())\n",
    "X_train['total_rev_hi_lim'] = X_train['total_rev_hi_lim'].fillna(X_train['total_rev_hi_lim'].median())"
   ]
  },
  {
   "cell_type": "markdown",
   "metadata": {},
   "source": [
    "#### `num_bc_sats`"
   ]
  },
  {
   "cell_type": "code",
   "execution_count": 159,
   "metadata": {},
   "outputs": [
    {
     "data": {
      "text/plain": [
       "'num_bc_sats'"
      ]
     },
     "execution_count": 159,
     "metadata": {},
     "output_type": "execute_result"
    }
   ],
   "source": [
    "# find column with most missing values\n",
    "X_train.count().idxmin()"
   ]
  },
  {
   "cell_type": "code",
   "execution_count": 160,
   "metadata": {
    "scrolled": false
   },
   "outputs": [
    {
     "name": "stdout",
     "output_type": "stream",
     "text": [
      "0.0705330605303\n",
      "count    551950.00000\n",
      "mean          4.70768\n",
      "std           2.85520\n",
      "min           0.00000\n",
      "25%           3.00000\n",
      "50%           4.00000\n",
      "75%           6.00000\n",
      "max          63.00000\n",
      "Name: num_bc_sats, dtype: float64\n",
      "1    0.853384\n",
      "0    0.146616\n",
      "Name: loan_status, dtype: float64\n"
     ]
    },
    {
     "data": {
      "image/png": "[encoded data removed]",
      "text/plain": [
       "<matplotlib.figure.Figure at 0x11e4a8668>"
      ]
     },
     "metadata": {},
     "output_type": "display_data"
    }
   ],
   "source": [
    "describe_missing('num_bc_sats')"
   ]
  },
  {
   "cell_type": "markdown",
   "metadata": {},
   "source": [
    "We fill missing values in `num_bc_sats` with the median (each value is an integer)."
   ]
  },
  {
   "cell_type": "code",
   "execution_count": 161,
   "metadata": {
    "collapsed": true
   },
   "outputs": [],
   "source": [
    "X_test['num_bc_sats'] = X_test['num_bc_sats'].fillna(X_train['num_bc_sats'].median())\n",
    "X_train['num_bc_sats'] = X_train['num_bc_sats'].fillna(X_train['num_bc_sats'].median())"
   ]
  },
  {
   "cell_type": "markdown",
   "metadata": {},
   "source": [
    "#### `num_sats`"
   ]
  },
  {
   "cell_type": "code",
   "execution_count": 162,
   "metadata": {},
   "outputs": [
    {
     "data": {
      "text/plain": [
       "'num_sats'"
      ]
     },
     "execution_count": 162,
     "metadata": {},
     "output_type": "execute_result"
    }
   ],
   "source": [
    "# find column with most missing values\n",
    "X_train.count().idxmin()"
   ]
  },
  {
   "cell_type": "code",
   "execution_count": 163,
   "metadata": {
    "scrolled": false
   },
   "outputs": [
    {
     "name": "stdout",
     "output_type": "stream",
     "text": [
      "0.0705330605303\n",
      "count    551950.000000\n",
      "mean         11.611246\n",
      "std           5.331294\n",
      "min           0.000000\n",
      "25%           8.000000\n",
      "50%          11.000000\n",
      "75%          14.000000\n",
      "max          90.000000\n",
      "Name: num_sats, dtype: float64\n",
      "1    0.853384\n",
      "0    0.146616\n",
      "Name: loan_status, dtype: float64\n"
     ]
    },
    {
     "data": {
      "image/png": "[encoded data removed]",
      "text/plain": [
       "<matplotlib.figure.Figure at 0x11e4a4588>"
      ]
     },
     "metadata": {},
     "output_type": "display_data"
    }
   ],
   "source": [
    "describe_missing('num_sats')"
   ]
  },
  {
   "cell_type": "markdown",
   "metadata": {},
   "source": [
    "We fill missing values in `num_sats` with the median (each value is an integer)."
   ]
  },
  {
   "cell_type": "code",
   "execution_count": 164,
   "metadata": {
    "collapsed": true
   },
   "outputs": [],
   "source": [
    "X_test['num_sats'] = X_test['num_sats'].fillna(X_train['num_sats'].median())\n",
    "X_train['num_sats'] = X_train['num_sats'].fillna(X_train['num_sats'].median())"
   ]
  },
  {
   "cell_type": "markdown",
   "metadata": {},
   "source": [
    "#### `bc_util`"
   ]
  },
  {
   "cell_type": "code",
   "execution_count": 165,
   "metadata": {},
   "outputs": [
    {
     "data": {
      "text/plain": [
       "'bc_util'"
      ]
     },
     "execution_count": 165,
     "metadata": {},
     "output_type": "execute_result"
    }
   ],
   "source": [
    "# find column with most missing values\n",
    "X_train.count().idxmin()"
   ]
  },
  {
   "cell_type": "code",
   "execution_count": 166,
   "metadata": {
    "scrolled": false
   },
   "outputs": [
    {
     "name": "stdout",
     "output_type": "stream",
     "text": [
      "0.070059865114\n",
      "count    552231.000000\n",
      "mean         61.529148\n",
      "std          27.917269\n",
      "min           0.000000\n",
      "25%          40.700000\n",
      "50%          65.300000\n",
      "75%          86.000000\n",
      "max         339.600000\n",
      "Name: bc_util, dtype: float64\n",
      "1    0.844558\n",
      "0    0.155442\n",
      "Name: loan_status, dtype: float64\n"
     ]
    },
    {
     "data": {
      "image/png": "[encoded data removed]",
      "text/plain": [
       "<matplotlib.figure.Figure at 0x133f78c50>"
      ]
     },
     "metadata": {},
     "output_type": "display_data"
    }
   ],
   "source": [
    "describe_missing('bc_util')"
   ]
  },
  {
   "cell_type": "markdown",
   "metadata": {},
   "source": [
    "We fill missing values in `bc_util` with the mean (rounded to one decimal)."
   ]
  },
  {
   "cell_type": "code",
   "execution_count": 167,
   "metadata": {
    "collapsed": true
   },
   "outputs": [],
   "source": [
    "X_test['bc_util'] = X_test['bc_util'].fillna(np.round(X_train['bc_util'].mean(), 1))\n",
    "X_train['bc_util'] = X_train['bc_util'].fillna(np.round(X_train['bc_util'].mean(), 1))"
   ]
  },
  {
   "cell_type": "markdown",
   "metadata": {},
   "source": [
    "#### `percent_bc_gt_75`"
   ]
  },
  {
   "cell_type": "code",
   "execution_count": 168,
   "metadata": {
    "scrolled": true
   },
   "outputs": [
    {
     "data": {
      "text/plain": [
       "'percent_bc_gt_75'"
      ]
     },
     "execution_count": 168,
     "metadata": {},
     "output_type": "execute_result"
    }
   ],
   "source": [
    "# find column with most missing values\n",
    "X_train.count().idxmin()"
   ]
  },
  {
   "cell_type": "code",
   "execution_count": 169,
   "metadata": {
    "scrolled": false
   },
   "outputs": [
    {
     "name": "stdout",
     "output_type": "stream",
     "text": [
      "0.0698123216045\n",
      "count    552378.000000\n",
      "mean         47.206952\n",
      "std          35.655627\n",
      "min           0.000000\n",
      "25%          16.700000\n",
      "50%          50.000000\n",
      "75%          75.000000\n",
      "max         100.000000\n",
      "Name: percent_bc_gt_75, dtype: float64\n",
      "1    0.8449\n",
      "0    0.1551\n",
      "Name: loan_status, dtype: float64\n"
     ]
    },
    {
     "data": {
      "image/png": "[encoded data removed]",
      "text/plain": [
       "<matplotlib.figure.Figure at 0x1340355f8>"
      ]
     },
     "metadata": {},
     "output_type": "display_data"
    }
   ],
   "source": [
    "describe_missing('percent_bc_gt_75')"
   ]
  },
  {
   "cell_type": "markdown",
   "metadata": {},
   "source": [
    "We fill missing values in `percent_bc_gt_75` with the median (the data is evenly spread)."
   ]
  },
  {
   "cell_type": "code",
   "execution_count": 170,
   "metadata": {
    "collapsed": true
   },
   "outputs": [],
   "source": [
    "X_test['percent_bc_gt_75'] = X_test['percent_bc_gt_75'].fillna(X_train['percent_bc_gt_75'].median())\n",
    "X_train['percent_bc_gt_75'] = X_train['percent_bc_gt_75'].fillna(X_train['percent_bc_gt_75'].median())"
   ]
  },
  {
   "cell_type": "markdown",
   "metadata": {},
   "source": [
    "#### `bc_open_to_buy`"
   ]
  },
  {
   "cell_type": "code",
   "execution_count": 171,
   "metadata": {},
   "outputs": [
    {
     "data": {
      "text/plain": [
       "'bc_open_to_buy'"
      ]
     },
     "execution_count": 171,
     "metadata": {},
     "output_type": "execute_result"
    }
   ],
   "source": [
    "# find column with most missing values\n",
    "X_train.count().idxmin()"
   ]
  },
  {
   "cell_type": "code",
   "execution_count": 172,
   "metadata": {
    "scrolled": false
   },
   "outputs": [
    {
     "name": "stdout",
     "output_type": "stream",
     "text": [
      "0.0694671078667\n",
      "count    552583.000000\n",
      "mean       9476.264737\n",
      "std       14581.067446\n",
      "min           0.000000\n",
      "25%        1313.000000\n",
      "50%        4268.000000\n",
      "75%       11367.000000\n",
      "max      559912.000000\n",
      "Name: bc_open_to_buy, dtype: float64\n",
      "1    0.845317\n",
      "0    0.154683\n",
      "Name: loan_status, dtype: float64\n"
     ]
    },
    {
     "data": {
      "image/png": "[encoded data removed]",
      "text/plain": [
       "<matplotlib.figure.Figure at 0x133f6c588>"
      ]
     },
     "metadata": {},
     "output_type": "display_data"
    }
   ],
   "source": [
    "describe_missing('bc_open_to_buy')"
   ]
  },
  {
   "cell_type": "markdown",
   "metadata": {},
   "source": [
    "We fill missing values in `bc_open_to_buy` with the median due to the skew."
   ]
  },
  {
   "cell_type": "code",
   "execution_count": 173,
   "metadata": {
    "collapsed": true
   },
   "outputs": [],
   "source": [
    "X_test['bc_open_to_buy'] = X_test['bc_open_to_buy'].fillna(X_train['bc_open_to_buy'].median())\n",
    "X_train['bc_open_to_buy'] = X_train['bc_open_to_buy'].fillna(X_train['bc_open_to_buy'].median())"
   ]
  },
  {
   "cell_type": "markdown",
   "metadata": {},
   "source": [
    "#### `mths_since_recent_bc`"
   ]
  },
  {
   "cell_type": "code",
   "execution_count": 174,
   "metadata": {},
   "outputs": [
    {
     "data": {
      "text/plain": [
       "'mths_since_recent_bc'"
      ]
     },
     "execution_count": 174,
     "metadata": {},
     "output_type": "execute_result"
    }
   ],
   "source": [
    "# find column with most missing values\n",
    "X_train.count().idxmin()"
   ]
  },
  {
   "cell_type": "code",
   "execution_count": 175,
   "metadata": {
    "scrolled": false
   },
   "outputs": [
    {
     "name": "stdout",
     "output_type": "stream",
     "text": [
      "0.0687345811547\n",
      "count    553018.000000\n",
      "mean         23.377565\n",
      "std          29.604082\n",
      "min           0.000000\n",
      "25%           6.000000\n",
      "50%          13.000000\n",
      "75%          28.000000\n",
      "max         616.000000\n",
      "Name: mths_since_recent_bc, dtype: float64\n",
      "1    0.845849\n",
      "0    0.154151\n",
      "Name: loan_status, dtype: float64\n"
     ]
    },
    {
     "data": {
      "image/png": "[encoded data removed]",
      "text/plain": [
       "<matplotlib.figure.Figure at 0x133f909e8>"
      ]
     },
     "metadata": {},
     "output_type": "display_data"
    }
   ],
   "source": [
    "describe_missing('mths_since_recent_bc')"
   ]
  },
  {
   "cell_type": "markdown",
   "metadata": {},
   "source": [
    "We fill missing values in `mths_since_recent_bc` with the median due to the skew."
   ]
  },
  {
   "cell_type": "code",
   "execution_count": 176,
   "metadata": {
    "collapsed": true
   },
   "outputs": [],
   "source": [
    "X_test['mths_since_recent_bc'] = X_test['mths_since_recent_bc'].fillna(X_train['mths_since_recent_bc'].median())\n",
    "X_train['mths_since_recent_bc'] = X_train['mths_since_recent_bc'].fillna(X_train['mths_since_recent_bc'].median())"
   ]
  },
  {
   "cell_type": "markdown",
   "metadata": {},
   "source": [
    "#### `acc_open_past_24mths`"
   ]
  },
  {
   "cell_type": "code",
   "execution_count": 177,
   "metadata": {},
   "outputs": [
    {
     "data": {
      "text/plain": [
       "'acc_open_past_24mths'"
      ]
     },
     "execution_count": 177,
     "metadata": {},
     "output_type": "execute_result"
    }
   ],
   "source": [
    "# find column with most missing values\n",
    "X_train.count().idxmin()"
   ]
  },
  {
   "cell_type": "code",
   "execution_count": 178,
   "metadata": {
    "scrolled": false
   },
   "outputs": [
    {
     "name": "stdout",
     "output_type": "stream",
     "text": [
      "0.0597708117575\n",
      "count    558341.00000\n",
      "mean          4.71175\n",
      "std           3.15025\n",
      "min           0.00000\n",
      "25%           2.00000\n",
      "50%           4.00000\n",
      "75%           6.00000\n",
      "max          56.00000\n",
      "Name: acc_open_past_24mths, dtype: float64\n",
      "1    0.855525\n",
      "0    0.144475\n",
      "Name: loan_status, dtype: float64\n"
     ]
    },
    {
     "data": {
      "image/png": "[encoded data removed]",
      "text/plain": [
       "<matplotlib.figure.Figure at 0x12cd6f748>"
      ]
     },
     "metadata": {},
     "output_type": "display_data"
    }
   ],
   "source": [
    "describe_missing('acc_open_past_24mths')"
   ]
  },
  {
   "cell_type": "markdown",
   "metadata": {},
   "source": [
    "We fill missing values in `acc_open_past_24mths` with the median (each value is an integer)."
   ]
  },
  {
   "cell_type": "code",
   "execution_count": 179,
   "metadata": {
    "collapsed": true
   },
   "outputs": [],
   "source": [
    "X_test['acc_open_past_24mths'] = X_test['acc_open_past_24mths'].fillna(X_train['acc_open_past_24mths'].median())\n",
    "X_train['acc_open_past_24mths'] = X_train['acc_open_past_24mths'].fillna(X_train['acc_open_past_24mths'].median())"
   ]
  },
  {
   "cell_type": "markdown",
   "metadata": {},
   "source": [
    "#### `mort_acc`"
   ]
  },
  {
   "cell_type": "code",
   "execution_count": 180,
   "metadata": {},
   "outputs": [
    {
     "data": {
      "text/plain": [
       "'mort_acc'"
      ]
     },
     "execution_count": 180,
     "metadata": {},
     "output_type": "execute_result"
    }
   ],
   "source": [
    "# find column with most missing values\n",
    "X_train.count().idxmin()"
   ]
  },
  {
   "cell_type": "code",
   "execution_count": 181,
   "metadata": {
    "scrolled": false
   },
   "outputs": [
    {
     "name": "stdout",
     "output_type": "stream",
     "text": [
      "0.0597708117575\n",
      "count    558341.000000\n",
      "mean          1.762591\n",
      "std           2.085572\n",
      "min           0.000000\n",
      "25%           0.000000\n",
      "50%           1.000000\n",
      "75%           3.000000\n",
      "max          51.000000\n",
      "Name: mort_acc, dtype: float64\n",
      "1    0.855525\n",
      "0    0.144475\n",
      "Name: loan_status, dtype: float64\n"
     ]
    },
    {
     "data": {
      "image/png": "[encoded data removed]",
      "text/plain": [
       "<matplotlib.figure.Figure at 0x1340c30b8>"
      ]
     },
     "metadata": {},
     "output_type": "display_data"
    }
   ],
   "source": [
    "describe_missing('mort_acc')"
   ]
  },
  {
   "cell_type": "markdown",
   "metadata": {},
   "source": [
    "We fill missing values in `mort_acc` with the median (each value is an integer)."
   ]
  },
  {
   "cell_type": "code",
   "execution_count": 182,
   "metadata": {
    "collapsed": true
   },
   "outputs": [],
   "source": [
    "X_test['mort_acc'] = X_test['mort_acc'].fillna(X_train['mort_acc'].median())\n",
    "X_train['mort_acc'] = X_train['mort_acc'].fillna(X_train['mort_acc'].median())"
   ]
  },
  {
   "cell_type": "markdown",
   "metadata": {},
   "source": [
    "#### `total_bal_ex_mort`"
   ]
  },
  {
   "cell_type": "code",
   "execution_count": 183,
   "metadata": {},
   "outputs": [
    {
     "data": {
      "text/plain": [
       "'total_bal_ex_mort'"
      ]
     },
     "execution_count": 183,
     "metadata": {},
     "output_type": "execute_result"
    }
   ],
   "source": [
    "# find column with most missing values\n",
    "X_train.count().idxmin()"
   ]
  },
  {
   "cell_type": "code",
   "execution_count": 184,
   "metadata": {
    "scrolled": false
   },
   "outputs": [
    {
     "name": "stdout",
     "output_type": "stream",
     "text": [
      "0.0597708117575\n",
      "count    5.583410e+05\n",
      "mean     4.858794e+04\n",
      "std      4.620411e+04\n",
      "min      0.000000e+00\n",
      "25%      2.074300e+04\n",
      "50%      3.675900e+04\n",
      "75%      6.117900e+04\n",
      "max      2.688920e+06\n",
      "Name: total_bal_ex_mort, dtype: float64\n",
      "1    0.855525\n",
      "0    0.144475\n",
      "Name: loan_status, dtype: float64\n"
     ]
    },
    {
     "data": {
      "image/png": "[encoded data removed]",
      "text/plain": [
       "<matplotlib.figure.Figure at 0x121af5240>"
      ]
     },
     "metadata": {},
     "output_type": "display_data"
    }
   ],
   "source": [
    "describe_missing('total_bal_ex_mort')"
   ]
  },
  {
   "cell_type": "markdown",
   "metadata": {},
   "source": [
    "We fill missing values in `total_bal_ex_mort` with the median due to the skew."
   ]
  },
  {
   "cell_type": "code",
   "execution_count": 185,
   "metadata": {
    "collapsed": true
   },
   "outputs": [],
   "source": [
    "X_test['total_bal_ex_mort'] = X_test['total_bal_ex_mort'].fillna(X_train['total_bal_ex_mort'].median())\n",
    "X_train['total_bal_ex_mort'] = X_train['total_bal_ex_mort'].fillna(X_train['total_bal_ex_mort'].median())"
   ]
  },
  {
   "cell_type": "markdown",
   "metadata": {},
   "source": [
    "#### `total_bc_limit`"
   ]
  },
  {
   "cell_type": "code",
   "execution_count": 186,
   "metadata": {},
   "outputs": [
    {
     "data": {
      "text/plain": [
       "'total_bc_limit'"
      ]
     },
     "execution_count": 186,
     "metadata": {},
     "output_type": "execute_result"
    }
   ],
   "source": [
    "# find column with most missing values\n",
    "X_train.count().idxmin()"
   ]
  },
  {
   "cell_type": "code",
   "execution_count": 187,
   "metadata": {
    "scrolled": false
   },
   "outputs": [
    {
     "name": "stdout",
     "output_type": "stream",
     "text": [
      "0.0597708117575\n",
      "count    5.583410e+05\n",
      "mean     2.082335e+04\n",
      "std      2.074322e+04\n",
      "min      0.000000e+00\n",
      "25%      7.500000e+03\n",
      "50%      1.450000e+04\n",
      "75%      2.710000e+04\n",
      "max      1.105500e+06\n",
      "Name: total_bc_limit, dtype: float64\n",
      "1    0.855525\n",
      "0    0.144475\n",
      "Name: loan_status, dtype: float64\n"
     ]
    },
    {
     "data": {
      "image/png": "[encoded data removed]",
      "text/plain": [
       "<matplotlib.figure.Figure at 0x1381eab70>"
      ]
     },
     "metadata": {},
     "output_type": "display_data"
    }
   ],
   "source": [
    "describe_missing('total_bc_limit')"
   ]
  },
  {
   "cell_type": "markdown",
   "metadata": {},
   "source": [
    "We fill missing values in `total_bc_limit` with the median due to the skew."
   ]
  },
  {
   "cell_type": "code",
   "execution_count": 188,
   "metadata": {
    "collapsed": true
   },
   "outputs": [],
   "source": [
    "X_test['total_bc_limit'] = X_test['total_bc_limit'].fillna(X_train['total_bc_limit'].median())\n",
    "X_train['total_bc_limit'] = X_train['total_bc_limit'].fillna(X_train['total_bc_limit'].median())"
   ]
  },
  {
   "cell_type": "markdown",
   "metadata": {},
   "source": [
    "#### `pub_rec_bankruptcies`"
   ]
  },
  {
   "cell_type": "code",
   "execution_count": 189,
   "metadata": {},
   "outputs": [
    {
     "data": {
      "text/plain": [
       "'pub_rec_bankruptcies'"
      ]
     },
     "execution_count": 189,
     "metadata": {},
     "output_type": "execute_result"
    }
   ],
   "source": [
    "# find column with most missing values\n",
    "X_train.count().idxmin()"
   ]
  },
  {
   "cell_type": "code",
   "execution_count": 190,
   "metadata": {
    "scrolled": false
   },
   "outputs": [
    {
     "name": "stdout",
     "output_type": "stream",
     "text": [
      "0.000872296176547\n",
      "count    593317.000000\n",
      "mean          0.132019\n",
      "std           0.375088\n",
      "min           0.000000\n",
      "25%           0.000000\n",
      "50%           0.000000\n",
      "75%           0.000000\n",
      "max           9.000000\n",
      "Name: pub_rec_bankruptcies, dtype: float64\n",
      "1    0.833977\n",
      "0    0.166023\n",
      "Name: loan_status, dtype: float64\n"
     ]
    },
    {
     "data": {
      "image/png": "[encoded data removed]",
      "text/plain": [
       "<matplotlib.figure.Figure at 0x138464978>"
      ]
     },
     "metadata": {},
     "output_type": "display_data"
    }
   ],
   "source": [
    "describe_missing('pub_rec_bankruptcies')"
   ]
  },
  {
   "cell_type": "markdown",
   "metadata": {},
   "source": [
    "We fill missing values in `pub_rec_bankruptcies` with 0."
   ]
  },
  {
   "cell_type": "code",
   "execution_count": 191,
   "metadata": {
    "collapsed": true
   },
   "outputs": [],
   "source": [
    "X_test['pub_rec_bankruptcies'] = X_test['pub_rec_bankruptcies'].fillna(0)\n",
    "X_train['pub_rec_bankruptcies'] = X_train['pub_rec_bankruptcies'].fillna(0)"
   ]
  },
  {
   "cell_type": "markdown",
   "metadata": {},
   "source": [
    "#### `revol_util`"
   ]
  },
  {
   "cell_type": "code",
   "execution_count": 192,
   "metadata": {
    "scrolled": true
   },
   "outputs": [
    {
     "data": {
      "text/plain": [
       "'revol_util'"
      ]
     },
     "execution_count": 192,
     "metadata": {},
     "output_type": "execute_result"
    }
   ],
   "source": [
    "# find column with most missing values\n",
    "X_train.count().idxmin()"
   ]
  },
  {
   "cell_type": "code",
   "execution_count": 193,
   "metadata": {
    "scrolled": false
   },
   "outputs": [
    {
     "name": "stdout",
     "output_type": "stream",
     "text": [
      "0.000575917552856\n",
      "count    593493.000000\n",
      "mean          0.530187\n",
      "std           0.243679\n",
      "min           0.000000\n",
      "25%           0.350000\n",
      "50%           0.537000\n",
      "75%           0.719000\n",
      "max           8.923000\n",
      "Name: revol_util, dtype: float64\n",
      "1    0.774854\n",
      "0    0.225146\n",
      "Name: loan_status, dtype: float64\n"
     ]
    },
    {
     "data": {
      "image/png": "[encoded data removed]",
      "text/plain": [
       "<matplotlib.figure.Figure at 0x137b0ada0>"
      ]
     },
     "metadata": {},
     "output_type": "display_data"
    }
   ],
   "source": [
    "describe_missing('revol_util')"
   ]
  },
  {
   "cell_type": "markdown",
   "metadata": {},
   "source": [
    "We fill missing values in `revol_util` with the mean."
   ]
  },
  {
   "cell_type": "code",
   "execution_count": 194,
   "metadata": {
    "collapsed": true
   },
   "outputs": [],
   "source": [
    "X_test['revol_util'] = X_test['revol_util'].fillna(X_train['revol_util'].mean())\n",
    "X_train['revol_util'] = X_train['revol_util'].fillna(X_train['revol_util'].mean())"
   ]
  },
  {
   "cell_type": "markdown",
   "metadata": {},
   "source": [
    "#### `dti`"
   ]
  },
  {
   "cell_type": "code",
   "execution_count": 195,
   "metadata": {},
   "outputs": [
    {
     "data": {
      "text/plain": [
       "'dti'"
      ]
     },
     "execution_count": 195,
     "metadata": {},
     "output_type": "execute_result"
    }
   ],
   "source": [
    "# find column with most missing values\n",
    "X_train.count().idxmin()"
   ]
  },
  {
   "cell_type": "code",
   "execution_count": 196,
   "metadata": {
    "scrolled": false
   },
   "outputs": [
    {
     "name": "stdout",
     "output_type": "stream",
     "text": [
      "4.04152668671e-05\n",
      "count    593811.000000\n",
      "mean         17.836590\n",
      "std           8.894372\n",
      "min          -1.000000\n",
      "25%          11.610000\n",
      "50%          17.320000\n",
      "75%          23.580000\n",
      "max         999.000000\n",
      "Name: dti, dtype: float64\n",
      "1    0.833333\n",
      "0    0.166667\n",
      "Name: loan_status, dtype: float64\n"
     ]
    },
    {
     "data": {
      "image/png": "[encoded data removed]",
      "text/plain": [
       "<matplotlib.figure.Figure at 0x137a6d4a8>"
      ]
     },
     "metadata": {},
     "output_type": "display_data"
    }
   ],
   "source": [
    "describe_missing('dti')"
   ]
  },
  {
   "cell_type": "markdown",
   "metadata": {},
   "source": [
    "We fill missing values in `dti` with the median."
   ]
  },
  {
   "cell_type": "code",
   "execution_count": 197,
   "metadata": {
    "collapsed": true
   },
   "outputs": [],
   "source": [
    "X_test['dti'] = X_test['dti'].fillna(X_train['dti'].median())\n",
    "X_train['dti'] = X_train['dti'].fillna(X_train['dti'].median())"
   ]
  },
  {
   "cell_type": "markdown",
   "metadata": {},
   "source": [
    "Check for any last missing values."
   ]
  },
  {
   "cell_type": "code",
   "execution_count": 198,
   "metadata": {
    "scrolled": true
   },
   "outputs": [
    {
     "data": {
      "text/plain": [
       "acc_open_past_24mths              0\n",
       "annual_inc                        0\n",
       "avg_cur_bal                       0\n",
       "bc_open_to_buy                    0\n",
       "bc_util                           0\n",
       "delinq_2yrs                       0\n",
       "delinq_amnt                       0\n",
       "dti                               0\n",
       "earliest_cr_line                  0\n",
       "emp_length                        0\n",
       "grade                             0\n",
       "home_ownership                    0\n",
       "initial_list_status               0\n",
       "inq_last_6mths                    1\n",
       "installment                       0\n",
       "int_rate                          0\n",
       "loan_amnt                         0\n",
       "mo_sin_old_il_acct                0\n",
       "mo_sin_old_rev_tl_op              0\n",
       "mo_sin_rcnt_rev_tl_op             0\n",
       "mo_sin_rcnt_tl                    0\n",
       "mort_acc                          0\n",
       "mths_since_last_delinq            0\n",
       "mths_since_recent_bc              0\n",
       "mths_since_recent_inq             0\n",
       "mths_since_recent_revol_delinq    0\n",
       "num_accts_ever_120_pd             0\n",
       "num_actv_bc_tl                    0\n",
       "num_actv_rev_tl                   0\n",
       "num_bc_sats                       0\n",
       "num_bc_tl                         0\n",
       "num_il_tl                         0\n",
       "num_op_rev_tl                     0\n",
       "num_rev_accts                     0\n",
       "num_rev_tl_bal_gt_0               0\n",
       "num_sats                          0\n",
       "num_tl_op_past_12m                0\n",
       "open_acc                          0\n",
       "pct_tl_nvr_dlq                    0\n",
       "percent_bc_gt_75                  0\n",
       "pub_rec                           0\n",
       "pub_rec_bankruptcies              0\n",
       "purpose                           0\n",
       "revol_bal                         0\n",
       "revol_util                        0\n",
       "tot_coll_amt                      0\n",
       "tot_cur_bal                       0\n",
       "tot_hi_cred_lim                   0\n",
       "total_acc                         0\n",
       "total_bal_ex_mort                 0\n",
       "total_bc_limit                    0\n",
       "total_il_high_credit_limit        0\n",
       "total_rev_hi_lim                  0\n",
       "verification_status               0\n",
       "mo_sin_old_rev_tol_op             0\n",
       "dtype: int64"
      ]
     },
     "execution_count": 198,
     "metadata": {},
     "output_type": "execute_result"
    }
   ],
   "source": [
    "X_train.isnull().sum()"
   ]
  },
  {
   "cell_type": "code",
   "execution_count": 201,
   "metadata": {},
   "outputs": [
    {
     "data": {
      "text/plain": [
       "593835"
      ]
     },
     "execution_count": 201,
     "metadata": {},
     "output_type": "execute_result"
    }
   ],
   "source": [
    "len(X_train)"
   ]
  },
  {
   "cell_type": "code",
   "execution_count": 202,
   "metadata": {
    "collapsed": true
   },
   "outputs": [],
   "source": [
    "X_train = X_train.dropna(subset=['inq_last_6mths'])"
   ]
  },
  {
   "cell_type": "code",
   "execution_count": 203,
   "metadata": {},
   "outputs": [
    {
     "data": {
      "text/plain": [
       "593834"
      ]
     },
     "execution_count": 203,
     "metadata": {},
     "output_type": "execute_result"
    }
   ],
   "source": [
    "len(X_train)"
   ]
  },
  {
   "cell_type": "markdown",
   "metadata": {},
   "source": [
    "Save the train and test splits to csv files."
   ]
  },
  {
   "cell_type": "code",
   "execution_count": 200,
   "metadata": {
    "scrolled": true
   },
   "outputs": [
    {
     "data": {
      "text/plain": [
       "acc_open_past_24mths              0\n",
       "annual_inc                        0\n",
       "avg_cur_bal                       0\n",
       "bc_open_to_buy                    0\n",
       "bc_util                           0\n",
       "delinq_2yrs                       0\n",
       "delinq_amnt                       0\n",
       "dti                               0\n",
       "earliest_cr_line                  0\n",
       "emp_length                        0\n",
       "grade                             0\n",
       "home_ownership                    0\n",
       "initial_list_status               0\n",
       "inq_last_6mths                    0\n",
       "installment                       0\n",
       "int_rate                          0\n",
       "loan_amnt                         0\n",
       "mo_sin_old_il_acct                0\n",
       "mo_sin_old_rev_tl_op              0\n",
       "mo_sin_rcnt_rev_tl_op             0\n",
       "mo_sin_rcnt_tl                    0\n",
       "mort_acc                          0\n",
       "mths_since_last_delinq            0\n",
       "mths_since_recent_bc              0\n",
       "mths_since_recent_inq             0\n",
       "mths_since_recent_revol_delinq    0\n",
       "num_accts_ever_120_pd             0\n",
       "num_actv_bc_tl                    0\n",
       "num_actv_rev_tl                   0\n",
       "num_bc_sats                       0\n",
       "num_bc_tl                         0\n",
       "num_il_tl                         0\n",
       "num_op_rev_tl                     0\n",
       "num_rev_accts                     0\n",
       "num_rev_tl_bal_gt_0               0\n",
       "num_sats                          0\n",
       "num_tl_op_past_12m                0\n",
       "open_acc                          0\n",
       "pct_tl_nvr_dlq                    0\n",
       "percent_bc_gt_75                  0\n",
       "pub_rec                           0\n",
       "pub_rec_bankruptcies              0\n",
       "purpose                           0\n",
       "revol_bal                         0\n",
       "revol_util                        0\n",
       "tot_coll_amt                      0\n",
       "tot_cur_bal                       0\n",
       "tot_hi_cred_lim                   0\n",
       "total_acc                         0\n",
       "total_bal_ex_mort                 0\n",
       "total_bc_limit                    0\n",
       "total_il_high_credit_limit        0\n",
       "total_rev_hi_lim                  0\n",
       "verification_status               0\n",
       "mo_sin_old_rev_tol_op             0\n",
       "dtype: int64"
      ]
     },
     "execution_count": 200,
     "metadata": {},
     "output_type": "execute_result"
    }
   ],
   "source": [
    "X_test.isnull().sum()"
   ]
  },
  {
   "cell_type": "code",
   "execution_count": 204,
   "metadata": {
    "collapsed": true
   },
   "outputs": [],
   "source": [
    "X_train.to_csv(\"X_train.csv\", index=False)\n",
    "X_test.to_csv(\"X_test.csv\", index=False)\n",
    "y_train.to_csv(\"y_train.csv\", index=False)\n",
    "y_test.to_csv(\"y_test.csv\", index=False)"
   ]
  },
  {
   "cell_type": "code",
   "execution_count": null,
   "metadata": {
    "collapsed": true
   },
   "outputs": [],
   "source": []
  }
 ],
 "metadata": {
  "kernelspec": {
   "display_name": "Python 3",
   "language": "python",
   "name": "python3"
  },
  "language_info": {
   "codemirror_mode": {
    "name": "ipython",
    "version": 3
   },
   "file_extension": ".py",
   "mimetype": "text/x-python",
   "name": "python",
   "nbconvert_exporter": "python",
   "pygments_lexer": "ipython3",
   "version": "3.6.3"
  }
 },
 "nbformat": 4,
 "nbformat_minor": 2
}
