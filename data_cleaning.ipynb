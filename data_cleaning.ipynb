{
 "cells": [
  {
   "cell_type": "code",
   "execution_count": 1,
   "metadata": {
    "collapsed": true
   },
   "outputs": [],
   "source": [
    "import pandas as pd\n",
    "import os\n",
    "import numpy as np"
   ]
  },
  {
   "cell_type": "markdown",
   "metadata": {},
   "source": [
    "### Load the data"
   ]
  },
  {
   "cell_type": "code",
   "execution_count": 2,
   "metadata": {
    "collapsed": false
   },
   "outputs": [],
   "source": [
    "csvs = os.listdir('data/accepted/')"
   ]
  },
  {
   "cell_type": "code",
   "execution_count": 3,
   "metadata": {
    "collapsed": false
   },
   "outputs": [],
   "source": [
    "# make sure all csv files have the same headers\n",
    "with open(\"data/accepted/\"+csvs[0], 'r') as f:\n",
    "    columns = f.readlines()[0]\n",
    "for c in csvs[1:]:\n",
    "    with open(\"data/accepted/\" + c, 'r') as f:\n",
    "        if f.readlines()[0] != columns:\n",
    "            print(c)"
   ]
  },
  {
   "cell_type": "code",
   "execution_count": 2,
   "metadata": {
    "collapsed": false
   },
   "outputs": [],
   "source": [
    "dtype = {'id':str,'member_id':str,'loan_amnt':float,'funded_amnt':float,'funded_amnt_inv':float,\n",
    "         'term':str,'int_rate':str,\n",
    "         'installment':float,'grade':str,'sub_grade':str,'emp_title':str,'emp_length':str,'home_ownership':str,\n",
    "         'annual_inc':float,'verification_status':str,'issue_d':str,'loan_status':str,'pymnt_plan':str,'url':str,\n",
    "         'desc':str,'purpose':str,'title':str,'zip_code':str,'addr_state':str,'dti':float,'delinq_2yrs':float,\n",
    "         'earliest_cr_line':str,'inq_last_6mths':float,'mths_since_last_delinq':float,\n",
    "         'mths_since_last_record':float,\n",
    "         'open_acc':float,'pub_rec':float,'revol_bal':float,'total_acc':float,'initial_list_status':str,\n",
    "         'out_prncp':float,\n",
    "         'out_prncp_inv':float,'total_pymnt':float,'total_pymnt_inv':float,'total_rec_prncp':float,\n",
    "         'total_rec_int':float,\n",
    "         'total_rec_late_fee':float,'recoveries':float,'collection_recovery_fee':float,'last_pymnt_d':str,\n",
    "         'last_pymnt_amnt':float,'next_pymnt_d':str,'last_credit_pull_d':str,'collections_12_mths_ex_med':float,\n",
    "         'mths_since_last_major_derog':float,'policy_code':str,'application_type':str,'annual_inc_joint':float,\n",
    "         'dti_joint':float,'verification_status_joint':str,'acc_now_delinq':float,'tot_coll_amt':float,\n",
    "         'tot_cur_bal':float,\n",
    "         'open_acc_6m':float,'open_act_il':float,'open_il_12m':float,'open_il_24m':float,\n",
    "         'mths_since_rcnt_il':float,'total_bal_il':float,\n",
    "         'il_util':str,'open_rv_12m':float,'open_rv_24m':float,'max_bal_bc':float,'all_util':float,\n",
    "         'total_rev_hi_lim':float,\n",
    "         'inq_fi':float,'total_cu_tl':float,'inq_last_12m':float,'acc_open_past_24mths':float,'avg_cur_bal':float,\n",
    "         'bc_open_to_buy':str,'bc_util':str,'chargeoff_within_12_mths':float,'delinq_amnt':float,\n",
    "         'mo_sin_old_il_acct':str,\n",
    "         'mo_sin_old_rev_tl_op':str,'mo_sin_rcnt_rev_tl_op':str,'mo_sin_rcnt_tl':str,'mort_acc':float,\n",
    "         'mths_since_recent_bc':float,'mths_since_recent_bc_dlq':float,'mths_since_recent_inq':float,\n",
    "         'mths_since_recent_revol_delinq':float,\n",
    "         'num_accts_ever_120_pd':float,'num_actv_bc_tl':float,'num_actv_rev_tl':float,'num_bc_sats':float,\n",
    "         'num_bc_tl':float,\n",
    "         'num_il_tl':float,'num_op_rev_tl':float,'num_rev_accts':float,'num_rev_tl_bal_gt_0':float,'num_sats':float,\n",
    "         'num_tl_120dpd_2m':float,'num_tl_30dpd':float,'num_tl_90g_dpd_24m':float,'num_tl_op_past_12m':float,\n",
    "         'pct_tl_nvr_dlq':float,'percent_bc_gt_75':float,'pub_rec_bankruptcies':float,'tax_liens':float,\n",
    "         'tot_hi_cred_lim':float,\n",
    "         'total_bal_ex_mort':float,'total_bc_limit':float,'total_il_high_credit_limit':float,'revol_bal_joint':float,\n",
    "         'sec_app_earliest_cr_line':str,'sec_app_inq_last_6mths':float,'sec_app_mort_acc':str,'sec_app_open_acc':str,\n",
    "         'sec_app_revol_util':str,'sec_app_open_act_il':str,'sec_app_num_rev_accts':float,\n",
    "         'sec_app_chargeoff_within_12_mths':float,\n",
    "         'sec_app_collections_12_mths_ex_med':float,'sec_app_mths_since_last_major_derog':float,'hardship_flag':str,\n",
    "         'hardship_type':str,'hardship_reason':str,'hardship_status':str,'deferral_term':str,'hardship_amount':float,\n",
    "         'hardship_start_date':str,'hardship_end_date':str,'payment_plan_start_date':str,'hardship_length':str,\n",
    "         'hardship_dpd':float,'hardship_loan_status':str,'orig_projected_additional_accrued_interest':float,\n",
    "         'hardship_payoff_balance_amount':float,'hardship_last_payment_amount':float,'disbursement_method':str,\n",
    "         'debt_settlement_flag':str,'debt_settlement_flag_date':str,'settlement_status':str,'settlement_date':str,\n",
    "         'settlement_amount':float,'settlement_percentage':float,'settlement_term':str}"
   ]
  },
  {
   "cell_type": "code",
   "execution_count": 5,
   "metadata": {
    "collapsed": true
   },
   "outputs": [],
   "source": [
    "df = pd.DataFrame(columns=dtype.keys())\n",
    "for i,c in enumerate(csvs):\n",
    "    df = df.append(pd.read_csv(\"data/accepted/\" + c, dtype=dtype))"
   ]
  },
  {
   "cell_type": "code",
   "execution_count": 6,
   "metadata": {
    "collapsed": false
   },
   "outputs": [
    {
     "name": "stdout",
     "output_type": "stream",
     "text": [
      "number of data points: 1646801\n"
     ]
    }
   ],
   "source": [
    "print(\"number of data points: {}\".format(len(df)))"
   ]
  },
  {
   "cell_type": "markdown",
   "metadata": {},
   "source": [
    "### Drop current and unlabeled borrowers"
   ]
  },
  {
   "cell_type": "code",
   "execution_count": 7,
   "metadata": {
    "collapsed": false
   },
   "outputs": [
    {
     "name": "stdout",
     "output_type": "stream",
     "text": [
      "['Fully Paid' 'Charged Off' nan\n",
      " 'Does not meet the credit policy. Status:Fully Paid'\n",
      " 'Does not meet the credit policy. Status:Charged Off' 'Current'\n",
      " 'Late (31-120 days)' 'In Grace Period' 'Late (16-30 days)' 'Default']\n"
     ]
    }
   ],
   "source": [
    "print(df.loan_status.unique())"
   ]
  },
  {
   "cell_type": "code",
   "execution_count": 8,
   "metadata": {
    "collapsed": false
   },
   "outputs": [
    {
     "data": {
      "text/plain": [
       "810381"
      ]
     },
     "execution_count": 8,
     "metadata": {},
     "output_type": "execute_result"
    }
   ],
   "source": [
    "len(df[df.loan_status=='Current'].index)"
   ]
  },
  {
   "cell_type": "code",
   "execution_count": 9,
   "metadata": {
    "collapsed": false
   },
   "outputs": [
    {
     "data": {
      "text/plain": [
       "836420"
      ]
     },
     "execution_count": 9,
     "metadata": {},
     "output_type": "execute_result"
    }
   ],
   "source": [
    "len(df[df.loan_status!='Current'].index)"
   ]
  },
  {
   "cell_type": "code",
   "execution_count": 10,
   "metadata": {
    "collapsed": false
   },
   "outputs": [
    {
     "data": {
      "text/plain": [
       "836420"
      ]
     },
     "execution_count": 10,
     "metadata": {},
     "output_type": "execute_result"
    }
   ],
   "source": [
    "# drop current borrowers\n",
    "df = df[df.loan_status!='Current']\n",
    "len(df)"
   ]
  },
  {
   "cell_type": "code",
   "execution_count": 11,
   "metadata": {
    "collapsed": false,
    "scrolled": true
   },
   "outputs": [
    {
     "name": "stdout",
     "output_type": "stream",
     "text": [
      "['Fully Paid' 'Charged Off' nan\n",
      " 'Does not meet the credit policy. Status:Fully Paid'\n",
      " 'Does not meet the credit policy. Status:Charged Off'\n",
      " 'Late (31-120 days)' 'In Grace Period' 'Late (16-30 days)' 'Default']\n"
     ]
    }
   ],
   "source": [
    "print(df.loan_status.unique())"
   ]
  },
  {
   "cell_type": "markdown",
   "metadata": {},
   "source": [
    "We drop current borrowers, as we are primarily interested in those who have already paid off or charged off on their loans. We save the current borrowers to predict how they will behave for future projects. Note that \"Charged Off\" means no further payment is expected. This typically occurs when a payment is 150+ days past due. \"Default\" typically means the borrower has not made a payment for 121+ days, but the account has not been closed or sent to collections yet (see https://help.lendingclub.com/hc/en-us/articles/216127747-What-is-the-difference-between-a-loan-that-is-in-default-and-a-loan-that-has-been-charged-off-)"
   ]
  },
  {
   "cell_type": "code",
   "execution_count": 12,
   "metadata": {
    "collapsed": false
   },
   "outputs": [],
   "source": [
    "current_df = df[(df.loan_status != 'Fully Paid') & (df.loan_status != 'Charged Off') \n",
    "                & (df.loan_status != 'Does not meet the credit policy. Status:Fully Paid')\n",
    "                & (df.loan_status != 'Does not meet the credit policy. Status:Charged Off')]"
   ]
  },
  {
   "cell_type": "code",
   "execution_count": 13,
   "metadata": {
    "collapsed": false
   },
   "outputs": [],
   "source": [
    "current_df.to_csv(\"data/current_borrowers.csv\", index=False)"
   ]
  },
  {
   "cell_type": "code",
   "execution_count": 14,
   "metadata": {
    "collapsed": false
   },
   "outputs": [
    {
     "data": {
      "text/plain": [
       "790682"
      ]
     },
     "execution_count": 14,
     "metadata": {},
     "output_type": "execute_result"
    }
   ],
   "source": [
    "# drop current borrowers\n",
    "df = df[df.loan_status!='In Grace Period']\n",
    "df = df[df.loan_status!='Late (31-120 days)']\n",
    "df = df[df.loan_status!='Late (16-30 days)']\n",
    "df = df[df.loan_status!='Default']\n",
    "len(df)"
   ]
  },
  {
   "cell_type": "markdown",
   "metadata": {},
   "source": [
    "We drop the unlabeled data points, as the proportion of unlabeled points (about .003%) is marginal."
   ]
  },
  {
   "cell_type": "code",
   "execution_count": 15,
   "metadata": {
    "collapsed": false
   },
   "outputs": [
    {
     "name": "stdout",
     "output_type": "stream",
     "text": [
      "number of unlabeled points: 23\n"
     ]
    }
   ],
   "source": [
    "print(\"number of unlabeled points: {}\".format(len(df) - df.loan_status.value_counts().sum()))"
   ]
  },
  {
   "cell_type": "code",
   "execution_count": 16,
   "metadata": {
    "collapsed": false
   },
   "outputs": [
    {
     "data": {
      "text/plain": [
       "790659"
      ]
     },
     "execution_count": 16,
     "metadata": {},
     "output_type": "execute_result"
    }
   ],
   "source": [
    "# drop unlabeled data points (nan)\n",
    "df = df.dropna(subset=['loan_status'])\n",
    "len(df)"
   ]
  },
  {
   "cell_type": "code",
   "execution_count": 17,
   "metadata": {
    "collapsed": false
   },
   "outputs": [
    {
     "name": "stdout",
     "output_type": "stream",
     "text": [
      "['Fully Paid' 'Charged Off'\n",
      " 'Does not meet the credit policy. Status:Fully Paid'\n",
      " 'Does not meet the credit policy. Status:Charged Off']\n"
     ]
    }
   ],
   "source": [
    "print(df.loan_status.unique())"
   ]
  },
  {
   "cell_type": "code",
   "execution_count": 18,
   "metadata": {
    "collapsed": false,
    "scrolled": true
   },
   "outputs": [
    {
     "data": {
      "text/plain": [
       "Fully Paid                                             627124\n",
       "Charged Off                                            160786\n",
       "Does not meet the credit policy. Status:Fully Paid       1988\n",
       "Does not meet the credit policy. Status:Charged Off       761\n",
       "Name: loan_status, dtype: int64"
      ]
     },
     "execution_count": 18,
     "metadata": {},
     "output_type": "execute_result"
    }
   ],
   "source": [
    "df.loan_status.value_counts()"
   ]
  },
  {
   "cell_type": "markdown",
   "metadata": {},
   "source": [
    "Observations labeled with \"Does not meet the credit policy\" are people that borrowed from Lending Club in the past, but would not currently qualify for a loan under Lending Club's current policy. We save them as a separate dataframe for further analysis; perhaps we can identify the change in Lending Club's policy that would cause those borrowers to not qualify for a loan today."
   ]
  },
  {
   "cell_type": "code",
   "execution_count": 19,
   "metadata": {
    "collapsed": false
   },
   "outputs": [
    {
     "data": {
      "text/plain": [
       "2749"
      ]
     },
     "execution_count": 19,
     "metadata": {},
     "output_type": "execute_result"
    }
   ],
   "source": [
    "unqualified_df = df[df.loan_status.str.contains(\"Does not meet the credit policy\")]\n",
    "len(unqualified_df)"
   ]
  },
  {
   "cell_type": "code",
   "execution_count": 20,
   "metadata": {
    "collapsed": false
   },
   "outputs": [],
   "source": [
    "unqualified_df.to_csv(\"data/unqualified_df.csv\", index=False)\n",
    "df = df[(df.loan_status != 'Does not meet the credit policy. Status:Fully Paid') & \n",
    "        (df.loan_status != 'Does not meet the credit policy. Status:Charged Off')]"
   ]
  },
  {
   "cell_type": "code",
   "execution_count": 21,
   "metadata": {
    "collapsed": false
   },
   "outputs": [
    {
     "data": {
      "text/plain": [
       "787910"
      ]
     },
     "execution_count": 21,
     "metadata": {},
     "output_type": "execute_result"
    }
   ],
   "source": [
    "len(df)"
   ]
  },
  {
   "cell_type": "markdown",
   "metadata": {},
   "source": [
    "### Label the data"
   ]
  },
  {
   "cell_type": "code",
   "execution_count": 22,
   "metadata": {
    "collapsed": true
   },
   "outputs": [],
   "source": [
    "df.loan_status = df.loan_status.map({'Fully Paid':1, 'Charged Off':0})"
   ]
  },
  {
   "cell_type": "code",
   "execution_count": 24,
   "metadata": {
    "collapsed": false
   },
   "outputs": [
    {
     "data": {
      "text/plain": [
       "1    627124\n",
       "0    160786\n",
       "Name: loan_status, dtype: int64"
      ]
     },
     "execution_count": 24,
     "metadata": {},
     "output_type": "execute_result"
    }
   ],
   "source": [
    "df.loan_status.value_counts()"
   ]
  },
  {
   "cell_type": "code",
   "execution_count": 25,
   "metadata": {
    "collapsed": false
   },
   "outputs": [],
   "source": [
    "df.to_csv('data/labeled.csv', index=False)"
   ]
  },
  {
   "cell_type": "markdown",
   "metadata": {},
   "source": [
    "### Get rid of unique/uniform columns"
   ]
  },
  {
   "cell_type": "code",
   "execution_count": 3,
   "metadata": {
    "collapsed": false
   },
   "outputs": [
    {
     "data": {
      "text/plain": [
       "145"
      ]
     },
     "execution_count": 3,
     "metadata": {},
     "output_type": "execute_result"
    }
   ],
   "source": [
    "dtype['loan_status'] = int\n",
    "df = pd.read_csv('data/labeled.csv', dtype=dtype)\n",
    "len(df.columns)"
   ]
  },
  {
   "cell_type": "code",
   "execution_count": 4,
   "metadata": {
    "collapsed": false
   },
   "outputs": [
    {
     "name": "stdout",
     "output_type": "stream",
     "text": [
      "hardship_flag 1\n",
      "id 1\n",
      "member_id 1\n",
      "next_pymnt_d 1\n",
      "out_prncp 1\n",
      "out_prncp_inv 1\n",
      "policy_code 1\n",
      "pymnt_plan 1\n",
      "url 1\n"
     ]
    }
   ],
   "source": [
    "# find features with uniform values\n",
    "rows = len(df)\n",
    "for col in df.columns:\n",
    "    if len(df[col].unique()) == 1:\n",
    "        print(col, len(df[col].unique()))\n",
    "        df = df.drop(col, axis=1)"
   ]
  },
  {
   "cell_type": "code",
   "execution_count": 8,
   "metadata": {
    "collapsed": false
   },
   "outputs": [
    {
     "name": "stdout",
     "output_type": "stream",
     "text": [
      "136\n",
      "(787910, 136)\n"
     ]
    }
   ],
   "source": [
    "print(len(df.columns))\n",
    "print(df.shape)"
   ]
  },
  {
   "cell_type": "markdown",
   "metadata": {},
   "source": [
    "Now we check for null values. For columns with a large amount of missing values (70% or more), we drop them."
   ]
  },
  {
   "cell_type": "code",
   "execution_count": 9,
   "metadata": {
    "collapsed": false
   },
   "outputs": [
    {
     "name": "stdout",
     "output_type": "stream",
     "text": [
      "acc_open_past_24mths \t 0.060008122755137006\n",
      "all_util \t 0.7942696500869388\n",
      "annual_inc_joint \t 0.9958002817580688\n",
      "avg_cur_bal \t 0.08571918112474775\n",
      "bc_open_to_buy \t 0.06964754857788326\n",
      "bc_util \t 0.07024025586678681\n",
      "chargeoff_within_12_mths \t 7.10741074488203e-05\n",
      "collections_12_mths_ex_med \t 7.10741074488203e-05\n",
      "debt_settlement_flag_date \t 0.9854691525681867\n",
      "deferral_term \t 0.9994567907502125\n",
      "desc \t 0.8483748143823533\n",
      "dti \t 3.6806234214567655e-05\n",
      "dti_joint \t 0.9958002817580688\n",
      "emp_title \t 0.05929484331966849\n",
      "hardship_amount \t 0.9994567907502125\n",
      "hardship_dpd \t 0.9994567907502125\n",
      "hardship_end_date \t 0.9994567907502125\n",
      "hardship_last_payment_amount \t 0.9994567907502125\n",
      "hardship_length \t 0.9994567907502125\n",
      "hardship_loan_status \t 0.9994567907502125\n",
      "hardship_payoff_balance_amount \t 0.9994567907502125\n",
      "hardship_reason \t 0.9994567907502125\n",
      "hardship_start_date \t 0.9994567907502125\n",
      "hardship_status \t 0.9994567907502125\n",
      "hardship_type \t 0.9994567907502125\n",
      "il_util \t 0.8200835120762524\n",
      "inq_fi \t 0.7942569582820372\n",
      "inq_last_12m \t 0.7942582274625275\n",
      "inq_last_6mths \t 1.2691804901575054e-06\n",
      "last_credit_pull_d \t 4.82288586259852e-05\n",
      "last_pymnt_d \t 0.001798428754553185\n",
      "max_bal_bc \t 0.7942569582820372\n",
      "mo_sin_old_il_acct \t 0.11267403637471285\n",
      "mo_sin_old_rev_tl_op \t 0.08570522013935601\n",
      "mo_sin_rcnt_rev_tl_op \t 0.08570522013935601\n",
      "mo_sin_rcnt_tl \t 0.08570395095886586\n",
      "mort_acc \t 0.060008122755137006\n",
      "mths_since_last_delinq \t 0.5129748321508801\n",
      "mths_since_last_major_derog \t 0.749250548920562\n",
      "mths_since_last_record \t 0.8365016308969299\n",
      "mths_since_rcnt_il \t 0.7988006244368011\n",
      "mths_since_recent_bc \t 0.06891015471310175\n",
      "mths_since_recent_bc_dlq \t 0.7682438349557691\n",
      "mths_since_recent_inq \t 0.14615121016359736\n",
      "mths_since_recent_revol_delinq \t 0.6751786371539896\n",
      "num_accts_ever_120_pd \t 0.08570395095886586\n",
      "num_actv_bc_tl \t 0.08570395095886586\n",
      "num_actv_rev_tl \t 0.08570395095886586\n",
      "num_bc_sats \t 0.07087230775088525\n",
      "num_bc_tl \t 0.08570395095886586\n",
      "num_il_tl \t 0.08570395095886586\n",
      "num_op_rev_tl \t 0.08570395095886586\n",
      "num_rev_accts \t 0.08570522013935601\n",
      "num_rev_tl_bal_gt_0 \t 0.08570395095886586\n",
      "num_sats \t 0.07087230775088525\n",
      "num_tl_120dpd_2m \t 0.11690929167036844\n",
      "num_tl_30dpd \t 0.08570395095886586\n",
      "num_tl_90g_dpd_24m \t 0.08570395095886586\n",
      "num_tl_op_past_12m \t 0.08570395095886586\n",
      "open_acc_6m \t 0.7942582274625275\n",
      "open_act_il \t 0.7942569582820372\n",
      "open_il_12m \t 0.7942569582820372\n",
      "open_il_24m \t 0.7942569582820372\n",
      "open_rv_12m \t 0.7942569582820372\n",
      "open_rv_24m \t 0.7942569582820372\n",
      "orig_projected_additional_accrued_interest \t 0.9999175032681398\n",
      "payment_plan_start_date \t 0.9994567907502125\n",
      "pct_tl_nvr_dlq \t 0.08587529032503713\n",
      "percent_bc_gt_75 \t 0.06999530403218641\n",
      "pub_rec_bankruptcies \t 0.0008846188016397812\n",
      "revol_bal_joint \t 0.9991026893934587\n",
      "revol_util \t 0.0006015915523346576\n",
      "sec_app_chargeoff_within_12_mths \t 0.9991026893934587\n",
      "sec_app_collections_12_mths_ex_med \t 0.9991026893934587\n",
      "sec_app_earliest_cr_line \t 0.9991026893934587\n",
      "sec_app_inq_last_6mths \t 0.9991026893934587\n",
      "sec_app_mort_acc \t 0.9991026893934587\n",
      "sec_app_mths_since_last_major_derog \t 0.9996992042238326\n",
      "sec_app_num_rev_accts \t 0.9991026893934587\n",
      "sec_app_open_acc \t 0.9991026893934587\n",
      "sec_app_open_act_il \t 0.9991026893934587\n",
      "sec_app_revol_util \t 0.9991191887398307\n",
      "settlement_amount \t 0.9854691525681867\n",
      "settlement_date \t 0.9854691525681867\n",
      "settlement_percentage \t 0.9854691525681867\n",
      "settlement_status \t 0.9854691525681867\n",
      "settlement_term \t 0.9854691525681867\n",
      "tax_liens \t 4.9498039116142704e-05\n",
      "title \t 0.009375436280793492\n",
      "tot_coll_amt \t 0.08570395095886586\n",
      "tot_cur_bal \t 0.08570395095886586\n",
      "tot_hi_cred_lim \t 0.08570395095886586\n",
      "total_bal_ex_mort \t 0.060008122755137006\n",
      "total_bal_il \t 0.7942569582820372\n",
      "total_bc_limit \t 0.060008122755137006\n",
      "total_cu_tl \t 0.7942582274625275\n",
      "total_il_high_credit_limit \t 0.08570395095886586\n",
      "total_rev_hi_lim \t 0.08570395095886586\n",
      "verification_status_joint \t 0.9958002817580688\n"
     ]
    }
   ],
   "source": [
    "null_counts = dict(df.isnull().sum())\n",
    "null_cols = []\n",
    "for key,val in null_counts.items():\n",
    "    if val != 0:\n",
    "        print(key, '\\t', val/df.shape[0])\n",
    "    if val/df.shape[0] >= 0.7:\n",
    "        null_cols.append(key)"
   ]
  },
  {
   "cell_type": "code",
   "execution_count": 10,
   "metadata": {
    "collapsed": false
   },
   "outputs": [
    {
     "name": "stdout",
     "output_type": "stream",
     "text": [
      "52\n"
     ]
    }
   ],
   "source": [
    "print(len(null_cols))"
   ]
  },
  {
   "cell_type": "code",
   "execution_count": 11,
   "metadata": {
    "collapsed": false
   },
   "outputs": [
    {
     "data": {
      "text/plain": [
       "84"
      ]
     },
     "execution_count": 11,
     "metadata": {},
     "output_type": "execute_result"
    }
   ],
   "source": [
    "df = df.drop(null_cols, axis=1)\n",
    "len(df.columns)"
   ]
  },
  {
   "cell_type": "code",
   "execution_count": 12,
   "metadata": {
    "collapsed": false
   },
   "outputs": [
    {
     "name": "stdout",
     "output_type": "stream",
     "text": [
      "addr_state\n",
      "application_type\n",
      "bc_open_to_buy\n",
      "bc_util\n",
      "debt_settlement_flag\n",
      "disbursement_method\n",
      "earliest_cr_line\n",
      "emp_length\n",
      "emp_title\n",
      "grade\n",
      "home_ownership\n",
      "initial_list_status\n",
      "int_rate\n",
      "issue_d\n",
      "last_credit_pull_d\n",
      "last_pymnt_d\n",
      "mo_sin_old_il_acct\n",
      "mo_sin_old_rev_tl_op\n",
      "mo_sin_rcnt_rev_tl_op\n",
      "mo_sin_rcnt_tl\n",
      "purpose\n",
      "revol_util\n",
      "sub_grade\n",
      "term\n",
      "title\n",
      "verification_status\n"
     ]
    }
   ],
   "source": [
    "for col in df.columns:\n",
    "    if df[col].dtype == 'O':\n",
    "        print(col)"
   ]
  },
  {
   "cell_type": "code",
   "execution_count": 5,
   "metadata": {
    "collapsed": false
   },
   "outputs": [
    {
     "data": {
      "text/plain": [
       "0    860xx\n",
       "1    309xx\n",
       "2    606xx\n",
       "3    917xx\n",
       "4    972xx\n",
       "Name: zip_code, dtype: object"
      ]
     },
     "execution_count": 5,
     "metadata": {},
     "output_type": "execute_result"
    }
   ],
   "source": [
    "df['zip_code'].head()"
   ]
  },
  {
   "cell_type": "code",
   "execution_count": 6,
   "metadata": {
    "collapsed": false
   },
   "outputs": [
    {
     "data": {
      "text/plain": [
       "0    860\n",
       "1    309\n",
       "2    606\n",
       "3    917\n",
       "4    972\n",
       "Name: zip_code, dtype: int64"
      ]
     },
     "execution_count": 6,
     "metadata": {},
     "output_type": "execute_result"
    }
   ],
   "source": [
    "df.zip_code = df.zip_code.apply(lambda x: int(x[:3]))\n",
    "df['zip_code'].head()"
   ]
  },
  {
   "cell_type": "code",
   "execution_count": 7,
   "metadata": {
    "collapsed": false
   },
   "outputs": [
    {
     "data": {
      "text/plain": [
       "0      36 months\n",
       "1      60 months\n",
       "2      36 months\n",
       "3      36 months\n",
       "4      60 months\n",
       "5      36 months\n",
       "6      60 months\n",
       "7      36 months\n",
       "8      60 months\n",
       "9      60 months\n",
       "10     60 months\n",
       "11     36 months\n",
       "12     36 months\n",
       "13     36 months\n",
       "14     36 months\n",
       "Name: term, dtype: object"
      ]
     },
     "execution_count": 7,
     "metadata": {},
     "output_type": "execute_result"
    }
   ],
   "source": [
    "df['term'].head(15)"
   ]
  },
  {
   "cell_type": "code",
   "execution_count": 8,
   "metadata": {
    "collapsed": false
   },
   "outputs": [
    {
     "data": {
      "text/plain": [
       "0    36\n",
       "1    60\n",
       "2    36\n",
       "3    36\n",
       "4    60\n",
       "Name: term, dtype: int64"
      ]
     },
     "execution_count": 8,
     "metadata": {},
     "output_type": "execute_result"
    }
   ],
   "source": [
    "df.term = df.term.apply(lambda x: int(x.split()[0]))\n",
    "df['term'].head()"
   ]
  },
  {
   "cell_type": "code",
   "execution_count": 9,
   "metadata": {
    "collapsed": false
   },
   "outputs": [
    {
     "data": {
      "text/plain": [
       "Source Verified    283045\n",
       "Verified           261725\n",
       "Not Verified       243140\n",
       "Name: verification_status, dtype: int64"
      ]
     },
     "execution_count": 9,
     "metadata": {},
     "output_type": "execute_result"
    }
   ],
   "source": [
    "df['verification_status'].value_counts()"
   ]
  },
  {
   "cell_type": "code",
   "execution_count": 10,
   "metadata": {
    "collapsed": false
   },
   "outputs": [
    {
     "data": {
      "text/plain": [
       "0                Computer\n",
       "1                    bike\n",
       "2    real estate business\n",
       "3                personel\n",
       "4                Personal\n",
       "Name: title, dtype: object"
      ]
     },
     "execution_count": 10,
     "metadata": {},
     "output_type": "execute_result"
    }
   ],
   "source": [
    "df['title'].head()"
   ]
  },
  {
   "cell_type": "code",
   "execution_count": 11,
   "metadata": {
    "collapsed": false
   },
   "outputs": [
    {
     "data": {
      "text/plain": [
       "0    B2\n",
       "1    C4\n",
       "2    C5\n",
       "3    C1\n",
       "4    B5\n",
       "Name: sub_grade, dtype: object"
      ]
     },
     "execution_count": 11,
     "metadata": {},
     "output_type": "execute_result"
    }
   ],
   "source": [
    "df['sub_grade'].head()"
   ]
  },
  {
   "cell_type": "code",
   "execution_count": 12,
   "metadata": {
    "collapsed": false
   },
   "outputs": [
    {
     "data": {
      "text/plain": [
       "0    83.7%\n",
       "1     9.4%\n",
       "2    98.5%\n",
       "3      21%\n",
       "4    53.9%\n",
       "Name: revol_util, dtype: object"
      ]
     },
     "execution_count": 12,
     "metadata": {},
     "output_type": "execute_result"
    }
   ],
   "source": [
    "df['revol_util'].head()"
   ]
  },
  {
   "cell_type": "code",
   "execution_count": 13,
   "metadata": {
    "collapsed": false
   },
   "outputs": [
    {
     "data": {
      "text/plain": [
       "0         0.8370\n",
       "1         0.0940\n",
       "2         0.9850\n",
       "3         0.2100\n",
       "4         0.5390\n",
       "5         0.2830\n",
       "6         0.8560\n",
       "7         0.8750\n",
       "8         0.3260\n",
       "9         0.3650\n",
       "10        0.2060\n",
       "11        0.6710\n",
       "12        0.9170\n",
       "13        0.4310\n",
       "14        0.5550\n",
       "15        0.8150\n",
       "16        0.7020\n",
       "17        0.1600\n",
       "18        0.3773\n",
       "19        0.2310\n",
       "20        0.8560\n",
       "21        0.9030\n",
       "22        0.8240\n",
       "23        0.9180\n",
       "24        0.2970\n",
       "25        0.9390\n",
       "26        0.5760\n",
       "27        0.5950\n",
       "28        0.3770\n",
       "29        0.5910\n",
       "           ...  \n",
       "787880    0.6620\n",
       "787881    0.0420\n",
       "787882    0.4600\n",
       "787883    0.4000\n",
       "787884    0.1630\n",
       "787885    0.3870\n",
       "787886    0.4700\n",
       "787887    0.8150\n",
       "787888    0.6540\n",
       "787889    0.6730\n",
       "787890    0.4940\n",
       "787891    0.7340\n",
       "787892    0.2240\n",
       "787893    0.7030\n",
       "787894    0.6840\n",
       "787895    0.0030\n",
       "787896    0.6900\n",
       "787897    0.0880\n",
       "787898    0.2350\n",
       "787899    0.3770\n",
       "787900    0.1240\n",
       "787901    0.4760\n",
       "787902    0.6250\n",
       "787903    0.2000\n",
       "787904    0.4050\n",
       "787905    0.5830\n",
       "787906    0.5870\n",
       "787907    0.6650\n",
       "787908    0.5900\n",
       "787909    0.3770\n",
       "Name: revol_util, Length: 787910, dtype: float64"
      ]
     },
     "execution_count": 13,
     "metadata": {},
     "output_type": "execute_result"
    }
   ],
   "source": [
    "df.revol_util.str[:-1].astype('float')/100"
   ]
  },
  {
   "cell_type": "code",
   "execution_count": 14,
   "metadata": {
    "collapsed": false
   },
   "outputs": [],
   "source": [
    "df.revol_util = df.revol_util.str[:-1].astype('float')/100"
   ]
  },
  {
   "cell_type": "code",
   "execution_count": 15,
   "metadata": {
    "collapsed": false
   },
   "outputs": [
    {
     "data": {
      "text/plain": [
       "0    0.837\n",
       "1    0.094\n",
       "2    0.985\n",
       "3    0.210\n",
       "4    0.539\n",
       "Name: revol_util, dtype: float64"
      ]
     },
     "execution_count": 15,
     "metadata": {},
     "output_type": "execute_result"
    }
   ],
   "source": [
    "df.revol_util.head()"
   ]
  },
  {
   "cell_type": "code",
   "execution_count": 16,
   "metadata": {
    "collapsed": false
   },
   "outputs": [
    {
     "data": {
      "text/plain": [
       "0       credit_card\n",
       "1               car\n",
       "2    small_business\n",
       "3             other\n",
       "4             other\n",
       "Name: purpose, dtype: object"
      ]
     },
     "execution_count": 16,
     "metadata": {},
     "output_type": "execute_result"
    }
   ],
   "source": [
    "df['purpose'].head() # consider using purpose and dropping title, since title is user input, purpose is set categorical"
   ]
  },
  {
   "cell_type": "code",
   "execution_count": 17,
   "metadata": {
    "collapsed": false
   },
   "outputs": [
    {
     "data": {
      "text/plain": [
       "0     NaN\n",
       "1     NaN\n",
       "2     NaN\n",
       "3     NaN\n",
       "4     NaN\n",
       "5     NaN\n",
       "6     NaN\n",
       "7     NaN\n",
       "8     NaN\n",
       "9     NaN\n",
       "10    NaN\n",
       "11    NaN\n",
       "12    NaN\n",
       "13    NaN\n",
       "14    NaN\n",
       "Name: mo_sin_rcnt_tl, dtype: object"
      ]
     },
     "execution_count": 17,
     "metadata": {},
     "output_type": "execute_result"
    }
   ],
   "source": [
    "df['mo_sin_rcnt_tl'].head(15)"
   ]
  },
  {
   "cell_type": "code",
   "execution_count": 18,
   "metadata": {
    "collapsed": false
   },
   "outputs": [
    {
     "data": {
      "text/plain": [
       "0.08570395095886586"
      ]
     },
     "execution_count": 18,
     "metadata": {},
     "output_type": "execute_result"
    }
   ],
   "source": [
    "df['mo_sin_rcnt_tl'].isnull().sum()/df.shape[0]"
   ]
  },
  {
   "cell_type": "code",
   "execution_count": 19,
   "metadata": {
    "collapsed": false
   },
   "outputs": [
    {
     "data": {
      "text/plain": [
       "0.08570522013935601"
      ]
     },
     "execution_count": 19,
     "metadata": {},
     "output_type": "execute_result"
    }
   ],
   "source": [
    "df['mo_sin_rcnt_rev_tl_op'].isnull().sum()/df.shape[0]"
   ]
  },
  {
   "cell_type": "code",
   "execution_count": 20,
   "metadata": {
    "collapsed": false
   },
   "outputs": [
    {
     "data": {
      "text/plain": [
       "0.08570522013935601"
      ]
     },
     "execution_count": 20,
     "metadata": {},
     "output_type": "execute_result"
    }
   ],
   "source": [
    "df['mo_sin_old_rev_tl_op'].isnull().sum()/df.shape[0]"
   ]
  },
  {
   "cell_type": "code",
   "execution_count": 21,
   "metadata": {
    "collapsed": false
   },
   "outputs": [
    {
     "data": {
      "text/plain": [
       "0.11267403637471285"
      ]
     },
     "execution_count": 21,
     "metadata": {},
     "output_type": "execute_result"
    }
   ],
   "source": [
    "df['mo_sin_old_il_acct'].isnull().sum()/df.shape[0]"
   ]
  },
  {
   "cell_type": "code",
   "execution_count": 22,
   "metadata": {
    "collapsed": false
   },
   "outputs": [
    {
     "data": {
      "text/plain": [
       "0    Jan-2015\n",
       "1    Apr-2013\n",
       "2    Jun-2014\n",
       "3    Jan-2015\n",
       "4    Jan-2017\n",
       "Name: last_pymnt_d, dtype: object"
      ]
     },
     "execution_count": 22,
     "metadata": {},
     "output_type": "execute_result"
    }
   ],
   "source": [
    "df['last_pymnt_d'].head()"
   ]
  },
  {
   "cell_type": "code",
   "execution_count": 23,
   "metadata": {
    "collapsed": false
   },
   "outputs": [],
   "source": [
    "df['last_pymnt_d'] = pd.to_datetime(df['last_pymnt_d'])"
   ]
  },
  {
   "cell_type": "code",
   "execution_count": 24,
   "metadata": {
    "collapsed": false
   },
   "outputs": [
    {
     "data": {
      "text/plain": [
       "0   2015-01-01\n",
       "1   2013-04-01\n",
       "2   2014-06-01\n",
       "3   2015-01-01\n",
       "4   2017-01-01\n",
       "Name: last_pymnt_d, dtype: datetime64[ns]"
      ]
     },
     "execution_count": 24,
     "metadata": {},
     "output_type": "execute_result"
    }
   ],
   "source": [
    "df['last_pymnt_d'].head()"
   ]
  },
  {
   "cell_type": "code",
   "execution_count": 25,
   "metadata": {
    "collapsed": false
   },
   "outputs": [],
   "source": [
    "df['last_credit_pull_d'] = pd.to_datetime(df['last_credit_pull_d'])"
   ]
  },
  {
   "cell_type": "code",
   "execution_count": 26,
   "metadata": {
    "collapsed": false
   },
   "outputs": [
    {
     "data": {
      "text/plain": [
       "0   2017-11-01\n",
       "1   2016-10-01\n",
       "2   2017-06-01\n",
       "3   2016-04-01\n",
       "4   2017-01-01\n",
       "Name: last_credit_pull_d, dtype: datetime64[ns]"
      ]
     },
     "execution_count": 26,
     "metadata": {},
     "output_type": "execute_result"
    }
   ],
   "source": [
    "df['last_credit_pull_d'].head()"
   ]
  },
  {
   "cell_type": "code",
   "execution_count": 27,
   "metadata": {
    "collapsed": false
   },
   "outputs": [
    {
     "data": {
      "text/plain": [
       "0    Dec-2011\n",
       "1    Dec-2011\n",
       "2    Dec-2011\n",
       "3    Dec-2011\n",
       "4    Dec-2011\n",
       "Name: issue_d, dtype: object"
      ]
     },
     "execution_count": 27,
     "metadata": {},
     "output_type": "execute_result"
    }
   ],
   "source": [
    "df['issue_d'].head()"
   ]
  },
  {
   "cell_type": "code",
   "execution_count": 28,
   "metadata": {
    "collapsed": false
   },
   "outputs": [
    {
     "data": {
      "text/plain": [
       "0   2011-12-01\n",
       "1   2011-12-01\n",
       "2   2011-12-01\n",
       "3   2011-12-01\n",
       "4   2011-12-01\n",
       "Name: issue_d, dtype: datetime64[ns]"
      ]
     },
     "execution_count": 28,
     "metadata": {},
     "output_type": "execute_result"
    }
   ],
   "source": [
    "df['issue_d'] = pd.to_datetime(df['issue_d'])\n",
    "df['issue_d'].head()"
   ]
  },
  {
   "cell_type": "code",
   "execution_count": 29,
   "metadata": {
    "collapsed": false
   },
   "outputs": [
    {
     "data": {
      "text/plain": [
       "0     10.65%\n",
       "1     15.27%\n",
       "2     15.96%\n",
       "3     13.49%\n",
       "4     12.69%\n",
       "Name: int_rate, dtype: object"
      ]
     },
     "execution_count": 29,
     "metadata": {},
     "output_type": "execute_result"
    }
   ],
   "source": [
    "df['int_rate'].head()"
   ]
  },
  {
   "cell_type": "code",
   "execution_count": 30,
   "metadata": {
    "collapsed": true
   },
   "outputs": [],
   "source": [
    "df.int_rate = df.int_rate.str[:-1].astype('float')/100"
   ]
  },
  {
   "cell_type": "code",
   "execution_count": 31,
   "metadata": {
    "collapsed": false
   },
   "outputs": [
    {
     "data": {
      "text/plain": [
       "0    0.1065\n",
       "1    0.1527\n",
       "2    0.1596\n",
       "3    0.1349\n",
       "4    0.1269\n",
       "Name: int_rate, dtype: float64"
      ]
     },
     "execution_count": 31,
     "metadata": {},
     "output_type": "execute_result"
    }
   ],
   "source": [
    "df.int_rate.head()"
   ]
  },
  {
   "cell_type": "code",
   "execution_count": 32,
   "metadata": {
    "collapsed": false
   },
   "outputs": [
    {
     "data": {
      "text/plain": [
       "f    404280\n",
       "w    383630\n",
       "Name: initial_list_status, dtype: int64"
      ]
     },
     "execution_count": 32,
     "metadata": {},
     "output_type": "execute_result"
    }
   ],
   "source": [
    "df.initial_list_status.value_counts()"
   ]
  },
  {
   "cell_type": "code",
   "execution_count": 33,
   "metadata": {
    "collapsed": false
   },
   "outputs": [
    {
     "data": {
      "text/plain": [
       "MORTGAGE    393581\n",
       "RENT        314384\n",
       "OWN          79670\n",
       "OTHER          144\n",
       "ANY             88\n",
       "NONE            43\n",
       "Name: home_ownership, dtype: int64"
      ]
     },
     "execution_count": 33,
     "metadata": {},
     "output_type": "execute_result"
    }
   ],
   "source": [
    "df.home_ownership.value_counts()"
   ]
  },
  {
   "cell_type": "code",
   "execution_count": 34,
   "metadata": {
    "collapsed": false
   },
   "outputs": [
    {
     "data": {
      "text/plain": [
       "B    227626\n",
       "C    217826\n",
       "A    129000\n",
       "D    123656\n",
       "E     61551\n",
       "F     22423\n",
       "G      5828\n",
       "Name: grade, dtype: int64"
      ]
     },
     "execution_count": 34,
     "metadata": {},
     "output_type": "execute_result"
    }
   ],
   "source": [
    "df.grade.value_counts()"
   ]
  },
  {
   "cell_type": "code",
   "execution_count": 35,
   "metadata": {
    "collapsed": false
   },
   "outputs": [
    {
     "data": {
      "text/plain": [
       "0                         NaN\n",
       "1                       Ryder\n",
       "2                         NaN\n",
       "3         AIR RESOURCES BOARD\n",
       "4    University Medical Group\n",
       "Name: emp_title, dtype: object"
      ]
     },
     "execution_count": 35,
     "metadata": {},
     "output_type": "execute_result"
    }
   ],
   "source": [
    "df.emp_title.head()"
   ]
  },
  {
   "cell_type": "code",
   "execution_count": 36,
   "metadata": {
    "collapsed": false
   },
   "outputs": [
    {
     "data": {
      "text/plain": [
       "274750"
      ]
     },
     "execution_count": 36,
     "metadata": {},
     "output_type": "execute_result"
    }
   ],
   "source": [
    "len(df.emp_title.unique())"
   ]
  },
  {
   "cell_type": "code",
   "execution_count": 37,
   "metadata": {
    "collapsed": false
   },
   "outputs": [
    {
     "data": {
      "text/plain": [
       "0    Jan-1985\n",
       "1    Apr-1999\n",
       "2    Nov-2001\n",
       "3    Feb-1996\n",
       "4    Jan-1996\n",
       "Name: earliest_cr_line, dtype: object"
      ]
     },
     "execution_count": 37,
     "metadata": {},
     "output_type": "execute_result"
    }
   ],
   "source": [
    "df.earliest_cr_line.head()"
   ]
  },
  {
   "cell_type": "code",
   "execution_count": 38,
   "metadata": {
    "collapsed": false
   },
   "outputs": [
    {
     "data": {
      "text/plain": [
       "Cash         786873\n",
       "DirectPay      1037\n",
       "Name: disbursement_method, dtype: int64"
      ]
     },
     "execution_count": 38,
     "metadata": {},
     "output_type": "execute_result"
    }
   ],
   "source": [
    "df.disbursement_method.value_counts()"
   ]
  },
  {
   "cell_type": "code",
   "execution_count": 39,
   "metadata": {
    "collapsed": false
   },
   "outputs": [
    {
     "data": {
      "text/plain": [
       "N    776461\n",
       "Y     11449\n",
       "Name: debt_settlement_flag, dtype: int64"
      ]
     },
     "execution_count": 39,
     "metadata": {},
     "output_type": "execute_result"
    }
   ],
   "source": [
    "df.debt_settlement_flag.value_counts()"
   ]
  },
  {
   "cell_type": "code",
   "execution_count": 40,
   "metadata": {
    "collapsed": false
   },
   "outputs": [],
   "source": [
    "df.bc_util = df.bc_util.astype('float')"
   ]
  },
  {
   "cell_type": "code",
   "execution_count": 41,
   "metadata": {
    "collapsed": false
   },
   "outputs": [
    {
     "data": {
      "text/plain": [
       "787895      0.3\n",
       "787896    100.1\n",
       "787897      9.8\n",
       "787898     24.5\n",
       "787899     64.7\n",
       "787900     12.8\n",
       "787901     51.7\n",
       "787902     83.5\n",
       "787903     20.0\n",
       "787904     54.2\n",
       "787905     60.5\n",
       "787906     68.0\n",
       "787907     61.7\n",
       "787908     95.8\n",
       "787909     48.0\n",
       "Name: bc_util, dtype: float64"
      ]
     },
     "execution_count": 41,
     "metadata": {},
     "output_type": "execute_result"
    }
   ],
   "source": [
    "df.bc_util.tail(15)"
   ]
  },
  {
   "cell_type": "code",
   "execution_count": 42,
   "metadata": {
    "collapsed": false
   },
   "outputs": [
    {
     "data": {
      "text/plain": [
       "55343"
      ]
     },
     "execution_count": 42,
     "metadata": {},
     "output_type": "execute_result"
    }
   ],
   "source": [
    "df.bc_util.isnull().sum() # I suspect that these are missing for a particular csv subset of the data, same for below"
   ]
  },
  {
   "cell_type": "code",
   "execution_count": 43,
   "metadata": {
    "collapsed": false
   },
   "outputs": [],
   "source": [
    "df.bc_open_to_buy = df.bc_open_to_buy.astype('float')"
   ]
  },
  {
   "cell_type": "code",
   "execution_count": 44,
   "metadata": {
    "collapsed": false
   },
   "outputs": [
    {
     "data": {
      "text/plain": [
       "787895    40278.0\n",
       "787896        0.0\n",
       "787897    52566.0\n",
       "787898    53687.0\n",
       "787899     8710.0\n",
       "787900    74790.0\n",
       "787901     2416.0\n",
       "787902     3582.0\n",
       "787903    28475.0\n",
       "787904    12830.0\n",
       "787905     4625.0\n",
       "787906    10386.0\n",
       "787907    18465.0\n",
       "787908      921.0\n",
       "787909    13771.0\n",
       "Name: bc_open_to_buy, dtype: float64"
      ]
     },
     "execution_count": 44,
     "metadata": {},
     "output_type": "execute_result"
    }
   ],
   "source": [
    "df.bc_open_to_buy.tail(15)"
   ]
  },
  {
   "cell_type": "code",
   "execution_count": 45,
   "metadata": {
    "collapsed": false
   },
   "outputs": [
    {
     "data": {
      "text/plain": [
       "Individual    784601\n",
       "Joint App       3309\n",
       "Name: application_type, dtype: int64"
      ]
     },
     "execution_count": 45,
     "metadata": {},
     "output_type": "execute_result"
    }
   ],
   "source": [
    "df.application_type.value_counts()"
   ]
  },
  {
   "cell_type": "code",
   "execution_count": 47,
   "metadata": {
    "collapsed": false
   },
   "outputs": [
    {
     "data": {
      "text/plain": [
       "51"
      ]
     },
     "execution_count": 47,
     "metadata": {},
     "output_type": "execute_result"
    }
   ],
   "source": [
    "len(df.addr_state.unique())"
   ]
  }
 ],
 "metadata": {
  "kernelspec": {
   "display_name": "Python 3",
   "language": "python",
   "name": "python3"
  },
  "language_info": {
   "codemirror_mode": {
    "name": "ipython",
    "version": 3
   },
   "file_extension": ".py",
   "mimetype": "text/x-python",
   "name": "python",
   "nbconvert_exporter": "python",
   "pygments_lexer": "ipython3",
   "version": "3.6.0"
  }
 },
 "nbformat": 4,
 "nbformat_minor": 2
}
