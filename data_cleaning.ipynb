{
 "cells": [
  {
   "cell_type": "code",
   "execution_count": 1,
   "metadata": {
    "collapsed": true
   },
   "outputs": [],
   "source": [
    "import pandas as pd\n",
    "import os\n",
    "import numpy as np\n",
    "import matplotlib.pyplot as plt"
   ]
  },
  {
   "cell_type": "markdown",
   "metadata": {},
   "source": [
    "### Load the data"
   ]
  },
  {
   "cell_type": "code",
   "execution_count": 2,
   "metadata": {
    "collapsed": false
   },
   "outputs": [],
   "source": [
    "csvs = os.listdir('data/accepted/')"
   ]
  },
  {
   "cell_type": "code",
   "execution_count": 3,
   "metadata": {
    "collapsed": false
   },
   "outputs": [],
   "source": [
    "# make sure all csv files have the same headers\n",
    "with open(\"data/accepted/\"+csvs[0], 'r') as f:\n",
    "    columns = f.readlines()[0]\n",
    "for c in csvs[1:]:\n",
    "    with open(\"data/accepted/\" + c, 'r') as f:\n",
    "        if f.readlines()[0] != columns:\n",
    "            print(c)"
   ]
  },
  {
   "cell_type": "code",
   "execution_count": 2,
   "metadata": {
    "collapsed": false
   },
   "outputs": [],
   "source": [
    "dtype = {'id':str,'member_id':str,'loan_amnt':float,'funded_amnt':float,'funded_amnt_inv':float,\n",
    "         'term':str,'int_rate':str,\n",
    "         'installment':float,'grade':str,'sub_grade':str,'emp_title':str,'emp_length':str,'home_ownership':str,\n",
    "         'annual_inc':float,'verification_status':str,'issue_d':str,'loan_status':str,'pymnt_plan':str,'url':str,\n",
    "         'desc':str,'purpose':str,'title':str,'zip_code':str,'addr_state':str,'dti':float,'delinq_2yrs':float,\n",
    "         'earliest_cr_line':str,'inq_last_6mths':float,'mths_since_last_delinq':float,\n",
    "         'mths_since_last_record':float,\n",
    "         'open_acc':float,'pub_rec':float,'revol_bal':float,'total_acc':float,'initial_list_status':str,\n",
    "         'out_prncp':float,\n",
    "         'out_prncp_inv':float,'total_pymnt':float,'total_pymnt_inv':float,'total_rec_prncp':float,\n",
    "         'total_rec_int':float,\n",
    "         'total_rec_late_fee':float,'recoveries':float,'collection_recovery_fee':float,'last_pymnt_d':str,\n",
    "         'last_pymnt_amnt':float,'next_pymnt_d':str,'last_credit_pull_d':str,'collections_12_mths_ex_med':float,\n",
    "         'mths_since_last_major_derog':float,'policy_code':str,'application_type':str,'annual_inc_joint':float,\n",
    "         'dti_joint':float,'verification_status_joint':str,'acc_now_delinq':float,'tot_coll_amt':float,\n",
    "         'tot_cur_bal':float,\n",
    "         'open_acc_6m':float,'open_act_il':float,'open_il_12m':float,'open_il_24m':float,\n",
    "         'mths_since_rcnt_il':float,'total_bal_il':float,\n",
    "         'il_util':str,'open_rv_12m':float,'open_rv_24m':float,'max_bal_bc':float,'all_util':float,\n",
    "         'total_rev_hi_lim':float,\n",
    "         'inq_fi':float,'total_cu_tl':float,'inq_last_12m':float,'acc_open_past_24mths':float,'avg_cur_bal':float,\n",
    "         'bc_open_to_buy':str,'bc_util':str,'chargeoff_within_12_mths':float,'delinq_amnt':float,\n",
    "         'mo_sin_old_il_acct':str,\n",
    "         'mo_sin_old_rev_tl_op':str,'mo_sin_rcnt_rev_tl_op':str,'mo_sin_rcnt_tl':str,'mort_acc':float,\n",
    "         'mths_since_recent_bc':float,'mths_since_recent_bc_dlq':float,'mths_since_recent_inq':float,\n",
    "         'mths_since_recent_revol_delinq':float,\n",
    "         'num_accts_ever_120_pd':float,'num_actv_bc_tl':float,'num_actv_rev_tl':float,'num_bc_sats':float,\n",
    "         'num_bc_tl':float,\n",
    "         'num_il_tl':float,'num_op_rev_tl':float,'num_rev_accts':float,'num_rev_tl_bal_gt_0':float,'num_sats':float,\n",
    "         'num_tl_120dpd_2m':float,'num_tl_30dpd':float,'num_tl_90g_dpd_24m':float,'num_tl_op_past_12m':float,\n",
    "         'pct_tl_nvr_dlq':float,'percent_bc_gt_75':float,'pub_rec_bankruptcies':float,'tax_liens':float,\n",
    "         'tot_hi_cred_lim':float,\n",
    "         'total_bal_ex_mort':float,'total_bc_limit':float,'total_il_high_credit_limit':float,'revol_bal_joint':float,\n",
    "         'sec_app_earliest_cr_line':str,'sec_app_inq_last_6mths':float,'sec_app_mort_acc':str,'sec_app_open_acc':str,\n",
    "         'sec_app_revol_util':str,'sec_app_open_act_il':str,'sec_app_num_rev_accts':float,\n",
    "         'sec_app_chargeoff_within_12_mths':float,\n",
    "         'sec_app_collections_12_mths_ex_med':float,'sec_app_mths_since_last_major_derog':float,'hardship_flag':str,\n",
    "         'hardship_type':str,'hardship_reason':str,'hardship_status':str,'deferral_term':str,'hardship_amount':float,\n",
    "         'hardship_start_date':str,'hardship_end_date':str,'payment_plan_start_date':str,'hardship_length':str,\n",
    "         'hardship_dpd':float,'hardship_loan_status':str,'orig_projected_additional_accrued_interest':float,\n",
    "         'hardship_payoff_balance_amount':float,'hardship_last_payment_amount':float,'disbursement_method':str,\n",
    "         'debt_settlement_flag':str,'debt_settlement_flag_date':str,'settlement_status':str,'settlement_date':str,\n",
    "         'settlement_amount':float,'settlement_percentage':float,'settlement_term':str}"
   ]
  },
  {
   "cell_type": "code",
   "execution_count": 5,
   "metadata": {
    "collapsed": true
   },
   "outputs": [],
   "source": [
    "df = pd.DataFrame(columns=dtype.keys())\n",
    "for i,c in enumerate(csvs):\n",
    "    df = df.append(pd.read_csv(\"data/accepted/\" + c, dtype=dtype))"
   ]
  },
  {
   "cell_type": "code",
   "execution_count": 6,
   "metadata": {
    "collapsed": false
   },
   "outputs": [
    {
     "name": "stdout",
     "output_type": "stream",
     "text": [
      "number of data points: 1646801\n"
     ]
    }
   ],
   "source": [
    "print(\"number of data points: {}\".format(len(df)))"
   ]
  },
  {
   "cell_type": "markdown",
   "metadata": {},
   "source": [
    "### Drop current and unlabeled borrowers"
   ]
  },
  {
   "cell_type": "code",
   "execution_count": 7,
   "metadata": {
    "collapsed": false
   },
   "outputs": [
    {
     "name": "stdout",
     "output_type": "stream",
     "text": [
      "['Fully Paid' 'Charged Off' nan\n",
      " 'Does not meet the credit policy. Status:Fully Paid'\n",
      " 'Does not meet the credit policy. Status:Charged Off' 'Current'\n",
      " 'Late (31-120 days)' 'In Grace Period' 'Late (16-30 days)' 'Default']\n"
     ]
    }
   ],
   "source": [
    "print(df.loan_status.unique())"
   ]
  },
  {
   "cell_type": "code",
   "execution_count": 8,
   "metadata": {
    "collapsed": false
   },
   "outputs": [
    {
     "data": {
      "text/plain": [
       "810381"
      ]
     },
     "execution_count": 8,
     "metadata": {},
     "output_type": "execute_result"
    }
   ],
   "source": [
    "len(df[df.loan_status=='Current'].index)"
   ]
  },
  {
   "cell_type": "code",
   "execution_count": 9,
   "metadata": {
    "collapsed": false
   },
   "outputs": [
    {
     "data": {
      "text/plain": [
       "836420"
      ]
     },
     "execution_count": 9,
     "metadata": {},
     "output_type": "execute_result"
    }
   ],
   "source": [
    "len(df[df.loan_status!='Current'].index)"
   ]
  },
  {
   "cell_type": "code",
   "execution_count": 10,
   "metadata": {
    "collapsed": false
   },
   "outputs": [
    {
     "data": {
      "text/plain": [
       "836420"
      ]
     },
     "execution_count": 10,
     "metadata": {},
     "output_type": "execute_result"
    }
   ],
   "source": [
    "# drop current borrowers\n",
    "df = df[df.loan_status!='Current']\n",
    "len(df)"
   ]
  },
  {
   "cell_type": "code",
   "execution_count": 11,
   "metadata": {
    "collapsed": false,
    "scrolled": true
   },
   "outputs": [
    {
     "name": "stdout",
     "output_type": "stream",
     "text": [
      "['Fully Paid' 'Charged Off' nan\n",
      " 'Does not meet the credit policy. Status:Fully Paid'\n",
      " 'Does not meet the credit policy. Status:Charged Off'\n",
      " 'Late (31-120 days)' 'In Grace Period' 'Late (16-30 days)' 'Default']\n"
     ]
    }
   ],
   "source": [
    "print(df.loan_status.unique())"
   ]
  },
  {
   "cell_type": "markdown",
   "metadata": {},
   "source": [
    "We drop current borrowers, as we are primarily interested in those who have already paid off or charged off on their loans. We save the current borrowers to predict how they will behave for future projects. Note that \"Charged Off\" means no further payment is expected. This typically occurs when a payment is 150+ days past due. \"Default\" typically means the borrower has not made a payment for 121+ days, but the account has not been closed or sent to collections yet (see https://help.lendingclub.com/hc/en-us/articles/216127747-What-is-the-difference-between-a-loan-that-is-in-default-and-a-loan-that-has-been-charged-off-)"
   ]
  },
  {
   "cell_type": "code",
   "execution_count": 12,
   "metadata": {
    "collapsed": false
   },
   "outputs": [],
   "source": [
    "current_df = df[(df.loan_status != 'Fully Paid') & (df.loan_status != 'Charged Off') \n",
    "                & (df.loan_status != 'Does not meet the credit policy. Status:Fully Paid')\n",
    "                & (df.loan_status != 'Does not meet the credit policy. Status:Charged Off')]"
   ]
  },
  {
   "cell_type": "code",
   "execution_count": 13,
   "metadata": {
    "collapsed": false
   },
   "outputs": [],
   "source": [
    "current_df.to_csv(\"data/current_borrowers.csv\", index=False)"
   ]
  },
  {
   "cell_type": "code",
   "execution_count": 14,
   "metadata": {
    "collapsed": false
   },
   "outputs": [
    {
     "data": {
      "text/plain": [
       "790682"
      ]
     },
     "execution_count": 14,
     "metadata": {},
     "output_type": "execute_result"
    }
   ],
   "source": [
    "# drop current borrowers\n",
    "df = df[df.loan_status!='In Grace Period']\n",
    "df = df[df.loan_status!='Late (31-120 days)']\n",
    "df = df[df.loan_status!='Late (16-30 days)']\n",
    "df = df[df.loan_status!='Default']\n",
    "len(df)"
   ]
  },
  {
   "cell_type": "markdown",
   "metadata": {},
   "source": [
    "We drop the unlabeled data points, as the proportion of unlabeled points (about .003%) is marginal."
   ]
  },
  {
   "cell_type": "code",
   "execution_count": 15,
   "metadata": {
    "collapsed": false
   },
   "outputs": [
    {
     "name": "stdout",
     "output_type": "stream",
     "text": [
      "number of unlabeled points: 23\n"
     ]
    }
   ],
   "source": [
    "print(\"number of unlabeled points: {}\".format(len(df) - df.loan_status.value_counts().sum()))"
   ]
  },
  {
   "cell_type": "code",
   "execution_count": 16,
   "metadata": {
    "collapsed": false
   },
   "outputs": [
    {
     "data": {
      "text/plain": [
       "790659"
      ]
     },
     "execution_count": 16,
     "metadata": {},
     "output_type": "execute_result"
    }
   ],
   "source": [
    "# drop unlabeled data points (nan)\n",
    "df = df.dropna(subset=['loan_status'])\n",
    "len(df)"
   ]
  },
  {
   "cell_type": "code",
   "execution_count": 17,
   "metadata": {
    "collapsed": false
   },
   "outputs": [
    {
     "name": "stdout",
     "output_type": "stream",
     "text": [
      "['Fully Paid' 'Charged Off'\n",
      " 'Does not meet the credit policy. Status:Fully Paid'\n",
      " 'Does not meet the credit policy. Status:Charged Off']\n"
     ]
    }
   ],
   "source": [
    "print(df.loan_status.unique())"
   ]
  },
  {
   "cell_type": "code",
   "execution_count": 18,
   "metadata": {
    "collapsed": false,
    "scrolled": true
   },
   "outputs": [
    {
     "data": {
      "text/plain": [
       "Fully Paid                                             627124\n",
       "Charged Off                                            160786\n",
       "Does not meet the credit policy. Status:Fully Paid       1988\n",
       "Does not meet the credit policy. Status:Charged Off       761\n",
       "Name: loan_status, dtype: int64"
      ]
     },
     "execution_count": 18,
     "metadata": {},
     "output_type": "execute_result"
    }
   ],
   "source": [
    "df.loan_status.value_counts()"
   ]
  },
  {
   "cell_type": "markdown",
   "metadata": {},
   "source": [
    "Observations labeled with \"Does not meet the credit policy\" are people that borrowed from Lending Club in the past, but would not currently qualify for a loan under Lending Club's current policy. We save them as a separate dataframe for further analysis; perhaps we can identify the change in Lending Club's policy that would cause those borrowers to not qualify for a loan today."
   ]
  },
  {
   "cell_type": "code",
   "execution_count": 19,
   "metadata": {
    "collapsed": false
   },
   "outputs": [
    {
     "data": {
      "text/plain": [
       "2749"
      ]
     },
     "execution_count": 19,
     "metadata": {},
     "output_type": "execute_result"
    }
   ],
   "source": [
    "unqualified_df = df[df.loan_status.str.contains(\"Does not meet the credit policy\")]\n",
    "len(unqualified_df)"
   ]
  },
  {
   "cell_type": "code",
   "execution_count": 20,
   "metadata": {
    "collapsed": false
   },
   "outputs": [],
   "source": [
    "unqualified_df.to_csv(\"data/unqualified_df.csv\", index=False)\n",
    "df = df[(df.loan_status != 'Does not meet the credit policy. Status:Fully Paid') & \n",
    "        (df.loan_status != 'Does not meet the credit policy. Status:Charged Off')]"
   ]
  },
  {
   "cell_type": "code",
   "execution_count": 21,
   "metadata": {
    "collapsed": false
   },
   "outputs": [
    {
     "data": {
      "text/plain": [
       "787910"
      ]
     },
     "execution_count": 21,
     "metadata": {},
     "output_type": "execute_result"
    }
   ],
   "source": [
    "len(df)"
   ]
  },
  {
   "cell_type": "markdown",
   "metadata": {},
   "source": [
    "### Label the data"
   ]
  },
  {
   "cell_type": "code",
   "execution_count": 22,
   "metadata": {
    "collapsed": true
   },
   "outputs": [],
   "source": [
    "df.loan_status = df.loan_status.map({'Fully Paid':1, 'Charged Off':0})"
   ]
  },
  {
   "cell_type": "code",
   "execution_count": 24,
   "metadata": {
    "collapsed": false
   },
   "outputs": [
    {
     "data": {
      "text/plain": [
       "1    627124\n",
       "0    160786\n",
       "Name: loan_status, dtype: int64"
      ]
     },
     "execution_count": 24,
     "metadata": {},
     "output_type": "execute_result"
    }
   ],
   "source": [
    "df.loan_status.value_counts()"
   ]
  },
  {
   "cell_type": "code",
   "execution_count": 25,
   "metadata": {
    "collapsed": false
   },
   "outputs": [],
   "source": [
    "df.to_csv('data/labeled.csv', index=False)"
   ]
  },
  {
   "cell_type": "markdown",
   "metadata": {},
   "source": [
    "### Get rid of unique/uniform columns"
   ]
  },
  {
   "cell_type": "code",
   "execution_count": 3,
   "metadata": {
    "collapsed": false
   },
   "outputs": [
    {
     "data": {
      "text/plain": [
       "145"
      ]
     },
     "execution_count": 3,
     "metadata": {},
     "output_type": "execute_result"
    }
   ],
   "source": [
    "dtype['loan_status'] = int\n",
    "df = pd.read_csv('data/labeled.csv', dtype=dtype)\n",
    "len(df.columns)"
   ]
  },
  {
   "cell_type": "code",
   "execution_count": 4,
   "metadata": {
    "collapsed": false
   },
   "outputs": [
    {
     "name": "stdout",
     "output_type": "stream",
     "text": [
      "hardship_flag 1\n",
      "id 1\n",
      "member_id 1\n",
      "next_pymnt_d 1\n",
      "out_prncp 1\n",
      "out_prncp_inv 1\n",
      "policy_code 1\n",
      "pymnt_plan 1\n",
      "url 1\n"
     ]
    }
   ],
   "source": [
    "# find features with uniform values\n",
    "rows = len(df)\n",
    "for col in df.columns:\n",
    "    if len(df[col].unique()) == 1:\n",
    "        print(col, len(df[col].unique()))\n",
    "        df.drop(col, axis=1, inplace=True)"
   ]
  },
  {
   "cell_type": "code",
   "execution_count": 5,
   "metadata": {
    "collapsed": false
   },
   "outputs": [
    {
     "name": "stdout",
     "output_type": "stream",
     "text": [
      "136\n",
      "(787910, 136)\n"
     ]
    }
   ],
   "source": [
    "print(df.shape)"
   ]
  },
  {
   "cell_type": "markdown",
   "metadata": {},
   "source": [
    "Now we check for null values. For columns with a large amount of missing values (70% or more), we drop them."
   ]
  },
  {
   "cell_type": "code",
   "execution_count": 43,
   "metadata": {
    "collapsed": false
   },
   "outputs": [
    {
     "name": "stdout",
     "output_type": "stream",
     "text": [
      "acc_open_past_24mths \t 0.060008122755137006\n",
      "all_util \t 0.7942696500869388\n",
      "annual_inc_joint \t 0.9958002817580688\n",
      "avg_cur_bal \t 0.08571918112474775\n",
      "bc_open_to_buy \t 0.06964754857788326\n",
      "bc_util \t 0.07024025586678681\n",
      "debt_settlement_flag_date \t 0.9854691525681867\n",
      "deferral_term \t 0.9994567907502125\n",
      "desc \t 0.8483748143823533\n",
      "dti \t 3.6806234214567655e-05\n",
      "dti_joint \t 0.9958002817580688\n",
      "hardship_amount \t 0.9994567907502125\n",
      "hardship_dpd \t 0.9994567907502125\n",
      "hardship_end_date \t 0.9994567907502125\n",
      "hardship_last_payment_amount \t 0.9994567907502125\n",
      "hardship_length \t 0.9994567907502125\n",
      "hardship_loan_status \t 0.9994567907502125\n",
      "hardship_payoff_balance_amount \t 0.9994567907502125\n",
      "hardship_reason \t 0.9994567907502125\n",
      "hardship_start_date \t 0.9994567907502125\n",
      "hardship_status \t 0.9994567907502125\n",
      "hardship_type \t 0.9994567907502125\n",
      "il_util \t 0.8200835120762524\n",
      "inq_fi \t 0.7942569582820372\n",
      "inq_last_12m \t 0.7942582274625275\n",
      "inq_last_6mths \t 1.2691804901575054e-06\n",
      "last_credit_pull_d \t 4.82288586259852e-05\n",
      "last_pymnt_d \t 0.001798428754553185\n",
      "max_bal_bc \t 0.7942569582820372\n",
      "mo_sin_old_il_acct \t 0.11267403637471285\n",
      "mo_sin_old_rev_tl_op \t 0.08570522013935601\n",
      "mo_sin_rcnt_rev_tl_op \t 0.08570522013935601\n",
      "mo_sin_rcnt_tl \t 0.08570395095886586\n",
      "mort_acc \t 0.060008122755137006\n",
      "mths_since_last_major_derog \t 0.749250548920562\n",
      "mths_since_last_record \t 0.8365016308969299\n",
      "mths_since_rcnt_il \t 0.7988006244368011\n",
      "mths_since_recent_bc \t 0.06891015471310175\n",
      "mths_since_recent_bc_dlq \t 0.7682438349557691\n",
      "mths_since_recent_inq \t 0.14615121016359736\n",
      "num_accts_ever_120_pd \t 0.08570395095886586\n",
      "num_actv_bc_tl \t 0.08570395095886586\n",
      "num_actv_rev_tl \t 0.08570395095886586\n",
      "num_bc_sats \t 0.07087230775088525\n",
      "num_bc_tl \t 0.08570395095886586\n",
      "num_il_tl \t 0.08570395095886586\n",
      "num_op_rev_tl \t 0.08570395095886586\n",
      "num_rev_accts \t 0.08570522013935601\n",
      "num_rev_tl_bal_gt_0 \t 0.08570395095886586\n",
      "num_sats \t 0.07087230775088525\n",
      "num_tl_op_past_12m \t 0.08570395095886586\n",
      "open_acc_6m \t 0.7942582274625275\n",
      "open_act_il \t 0.7942569582820372\n",
      "open_il_12m \t 0.7942569582820372\n",
      "open_il_24m \t 0.7942569582820372\n",
      "open_rv_12m \t 0.7942569582820372\n",
      "open_rv_24m \t 0.7942569582820372\n",
      "payment_plan_start_date \t 0.9994567907502125\n",
      "pct_tl_nvr_dlq \t 0.08587529032503713\n",
      "percent_bc_gt_75 \t 0.06999530403218641\n",
      "pub_rec_bankruptcies \t 0.0008846188016397812\n",
      "revol_bal_joint \t 0.9991026893934587\n",
      "revol_util \t 0.0006015915523346576\n",
      "sec_app_chargeoff_within_12_mths \t 0.9991026893934587\n",
      "sec_app_collections_12_mths_ex_med \t 0.9991026893934587\n",
      "sec_app_earliest_cr_line \t 0.9991026893934587\n",
      "sec_app_inq_last_6mths \t 0.9991026893934587\n",
      "sec_app_mort_acc \t 0.9991026893934587\n",
      "sec_app_mths_since_last_major_derog \t 0.9996992042238326\n",
      "sec_app_num_rev_accts \t 0.9991026893934587\n",
      "sec_app_open_acc \t 0.9991026893934587\n",
      "sec_app_open_act_il \t 0.9991026893934587\n",
      "sec_app_revol_util \t 0.9991191887398307\n",
      "settlement_amount \t 0.9854691525681867\n",
      "settlement_date \t 0.9854691525681867\n",
      "settlement_percentage \t 0.9854691525681867\n",
      "settlement_status \t 0.9854691525681867\n",
      "settlement_term \t 0.9854691525681867\n",
      "tot_coll_amt \t 0.08570395095886586\n",
      "tot_cur_bal \t 0.08570395095886586\n",
      "tot_hi_cred_lim \t 0.08570395095886586\n",
      "total_bal_ex_mort \t 0.060008122755137006\n",
      "total_bal_il \t 0.7942569582820372\n",
      "total_bc_limit \t 0.060008122755137006\n",
      "total_cu_tl \t 0.7942582274625275\n",
      "total_il_high_credit_limit \t 0.08570395095886586\n",
      "total_rev_hi_lim \t 0.08570395095886586\n",
      "verification_status_joint \t 0.9958002817580688\n"
     ]
    }
   ],
   "source": [
    "null_counts = dict(df.isnull().sum())\n",
    "null_cols = []\n",
    "for key,val in null_counts.items():\n",
    "    if val != 0:\n",
    "        print(key, '\\t', val/df.shape[0])\n",
    "    if val/df.shape[0] >= 0.7:\n",
    "        null_cols.append(key)"
   ]
  },
  {
   "cell_type": "code",
   "execution_count": 6,
   "metadata": {
    "collapsed": false
   },
   "outputs": [
    {
     "name": "stdout",
     "output_type": "stream",
     "text": [
      "52\n"
     ]
    }
   ],
   "source": [
    "print(len(null_cols))"
   ]
  },
  {
   "cell_type": "code",
   "execution_count": 44,
   "metadata": {
    "collapsed": false
   },
   "outputs": [
    {
     "data": {
      "text/plain": [
       "66"
      ]
     },
     "execution_count": 44,
     "metadata": {},
     "output_type": "execute_result"
    }
   ],
   "source": [
    "df.drop(null_cols, axis=1, inplace=True)\n",
    "len(df.columns)"
   ]
  },
  {
   "cell_type": "code",
   "execution_count": 9,
   "metadata": {
    "collapsed": false
   },
   "outputs": [
    {
     "name": "stdout",
     "output_type": "stream",
     "text": [
      "addr_state\n",
      "application_type\n",
      "bc_open_to_buy\n",
      "bc_util\n",
      "debt_settlement_flag\n",
      "disbursement_method\n",
      "earliest_cr_line\n",
      "emp_length\n",
      "emp_title\n",
      "grade\n",
      "home_ownership\n",
      "initial_list_status\n",
      "int_rate\n",
      "issue_d\n",
      "last_credit_pull_d\n",
      "last_pymnt_d\n",
      "mo_sin_old_il_acct\n",
      "mo_sin_old_rev_tl_op\n",
      "mo_sin_rcnt_rev_tl_op\n",
      "mo_sin_rcnt_tl\n",
      "purpose\n",
      "revol_util\n",
      "sub_grade\n",
      "term\n",
      "title\n",
      "verification_status\n",
      "zip_code\n"
     ]
    }
   ],
   "source": [
    "for col in df.columns:\n",
    "    if df[col].dtype == 'O':\n",
    "        print(col)"
   ]
  },
  {
   "cell_type": "code",
   "execution_count": 5,
   "metadata": {
    "collapsed": false
   },
   "outputs": [
    {
     "data": {
      "text/plain": [
       "0    860xx\n",
       "1    309xx\n",
       "2    606xx\n",
       "3    917xx\n",
       "4    972xx\n",
       "Name: zip_code, dtype: object"
      ]
     },
     "execution_count": 5,
     "metadata": {},
     "output_type": "execute_result"
    }
   ],
   "source": [
    "df['zip_code'].head()"
   ]
  },
  {
   "cell_type": "code",
   "execution_count": 6,
   "metadata": {
    "collapsed": true
   },
   "outputs": [],
   "source": [
    "# drop the zip_code feature, since we can't work with 3-digit zip codes, and addr_state gives the state\n",
    "df.drop(\"zip_code\", axis=1, inplace=True)"
   ]
  },
  {
   "cell_type": "code",
   "execution_count": 7,
   "metadata": {
    "collapsed": false
   },
   "outputs": [
    {
     "data": {
      "text/plain": [
       "0      36 months\n",
       "1      60 months\n",
       "2      36 months\n",
       "3      36 months\n",
       "4      60 months\n",
       "5      36 months\n",
       "6      60 months\n",
       "7      36 months\n",
       "8      60 months\n",
       "9      60 months\n",
       "10     60 months\n",
       "11     36 months\n",
       "12     36 months\n",
       "13     36 months\n",
       "14     36 months\n",
       "Name: term, dtype: object"
      ]
     },
     "execution_count": 7,
     "metadata": {},
     "output_type": "execute_result"
    }
   ],
   "source": [
    "df['term'].head(15)"
   ]
  },
  {
   "cell_type": "code",
   "execution_count": 7,
   "metadata": {
    "collapsed": false
   },
   "outputs": [
    {
     "data": {
      "text/plain": [
       "0    36\n",
       "1    60\n",
       "2    36\n",
       "3    36\n",
       "4    60\n",
       "Name: term, dtype: int64"
      ]
     },
     "execution_count": 7,
     "metadata": {},
     "output_type": "execute_result"
    }
   ],
   "source": [
    "df.term = df.term.apply(lambda x: int(x.split()[0]))\n",
    "df['term'].head()"
   ]
  },
  {
   "cell_type": "code",
   "execution_count": 30,
   "metadata": {
    "collapsed": false
   },
   "outputs": [
    {
     "data": {
      "text/plain": [
       "0                                  Computer\n",
       "1                                      bike\n",
       "2                      real estate business\n",
       "3                                  personel\n",
       "4                                  Personal\n",
       "5     My wedding loan I promise to pay back\n",
       "6                                      Loan\n",
       "7                           Car Downpayment\n",
       "8      Expand Business & Buy Debt Portfolio\n",
       "9               Building my credit history.\n",
       "10               High intrest Consolidation\n",
       "11                            Consolidation\n",
       "12                                  freedom\n",
       "13                            citicard fund\n",
       "14                               Other Loan\n",
       "Name: title, dtype: object"
      ]
     },
     "execution_count": 30,
     "metadata": {},
     "output_type": "execute_result"
    }
   ],
   "source": [
    "df['title'].head(15)"
   ]
  },
  {
   "cell_type": "code",
   "execution_count": 34,
   "metadata": {
    "collapsed": true
   },
   "outputs": [],
   "source": [
    "# make lower case\n",
    "df['title'] = df['title'].str.lower()"
   ]
  },
  {
   "cell_type": "code",
   "execution_count": 35,
   "metadata": {
    "collapsed": false
   },
   "outputs": [
    {
     "data": {
      "text/plain": [
       "50798"
      ]
     },
     "execution_count": 35,
     "metadata": {},
     "output_type": "execute_result"
    }
   ],
   "source": [
    "# got rid of about 10000 categories\n",
    "len(df['title'].unique())"
   ]
  },
  {
   "cell_type": "code",
   "execution_count": 36,
   "metadata": {
    "collapsed": false
   },
   "outputs": [
    {
     "data": {
      "text/plain": [
       "7387"
      ]
     },
     "execution_count": 36,
     "metadata": {},
     "output_type": "execute_result"
    }
   ],
   "source": [
    "df['title'].isnull().sum()"
   ]
  },
  {
   "cell_type": "code",
   "execution_count": 37,
   "metadata": {
    "collapsed": false
   },
   "outputs": [
    {
     "data": {
      "text/plain": [
       "debt consolidation           0.482619\n",
       "credit card refinancing      0.163980\n",
       "home improvement             0.051159\n",
       "other                        0.040810\n",
       "major purchase               0.015467\n",
       "consolidation                0.009376\n",
       "medical expenses             0.008539\n",
       "business                     0.008346\n",
       "car financing                0.006965\n",
       "debt consolidation loan      0.005800\n",
       "vacation                     0.005336\n",
       "moving and relocation        0.005216\n",
       "credit card consolidation    0.004302\n",
       "personal loan                0.004033\n",
       "home buying                  0.003472\n",
       "consolidation loan           0.003152\n",
       "credit card payoff           0.003083\n",
       "credit card refinance        0.002990\n",
       "consolidate                  0.002528\n",
       "personal                     0.002470\n",
       "loan                         0.001914\n",
       "payoff                       0.001722\n",
       "credit cards                 0.001681\n",
       "freedom                      0.001555\n",
       "debt                         0.001489\n",
       "my loan                      0.001461\n",
       "debt consolidation           0.001417\n",
       "credit card loan             0.001403\n",
       "credit card                  0.001368\n",
       "debt free                    0.001250\n",
       "Name: title, dtype: float64"
      ]
     },
     "execution_count": 37,
     "metadata": {},
     "output_type": "execute_result"
    }
   ],
   "source": [
    "# keep top x categories\n",
    "# use substring matching to combine categories (other ways to combine categories)\n",
    "# make new categories for leftovers\n",
    "df['title'].value_counts(normalize=True).iloc[:30]"
   ]
  },
  {
   "cell_type": "code",
   "execution_count": 12,
   "metadata": {
    "collapsed": false
   },
   "outputs": [
    {
     "data": {
      "text/plain": [
       "0    83.7%\n",
       "1     9.4%\n",
       "2    98.5%\n",
       "3      21%\n",
       "4    53.9%\n",
       "Name: revol_util, dtype: object"
      ]
     },
     "execution_count": 12,
     "metadata": {},
     "output_type": "execute_result"
    }
   ],
   "source": [
    "df['revol_util'].head()"
   ]
  },
  {
   "cell_type": "code",
   "execution_count": 8,
   "metadata": {
    "collapsed": false
   },
   "outputs": [
    {
     "data": {
      "text/plain": [
       "0    0.837\n",
       "1    0.094\n",
       "2    0.985\n",
       "3    0.210\n",
       "4    0.539\n",
       "Name: revol_util, dtype: float64"
      ]
     },
     "execution_count": 8,
     "metadata": {},
     "output_type": "execute_result"
    }
   ],
   "source": [
    "df.revol_util = df.revol_util.str[:-1].astype('float')/100\n",
    "df.revol_util.head()"
   ]
  },
  {
   "cell_type": "code",
   "execution_count": 28,
   "metadata": {
    "collapsed": false
   },
   "outputs": [
    {
     "data": {
      "text/plain": [
       "debt_consolidation    0.590989\n",
       "credit_card           0.214731\n",
       "home_improvement      0.062277\n",
       "other                 0.053793\n",
       "major_purchase        0.021473\n",
       "small_business        0.012644\n",
       "car                   0.011010\n",
       "medical               0.010686\n",
       "moving                0.007026\n",
       "vacation              0.006258\n",
       "house                 0.005073\n",
       "wedding               0.002882\n",
       "renewable_energy      0.000742\n",
       "educational           0.000414\n",
       "Name: purpose, dtype: float64"
      ]
     },
     "execution_count": 28,
     "metadata": {},
     "output_type": "execute_result"
    }
   ],
   "source": [
    "df['purpose'].value_counts(normalize=True) # consider using purpose and dropping title, since title is user input, purpose is set categorical"
   ]
  },
  {
   "cell_type": "code",
   "execution_count": 9,
   "metadata": {
    "collapsed": true
   },
   "outputs": [],
   "source": [
    "# drop title (for now), as purpose is a more uniform, consistent way to measure a similar thing (high correlation)\n",
    "df.drop('title', axis=1, inplace=True)"
   ]
  },
  {
   "cell_type": "code",
   "execution_count": 16,
   "metadata": {
    "collapsed": false
   },
   "outputs": [
    {
     "data": {
      "text/plain": [
       "0                         NaN\n",
       "1                       Ryder\n",
       "2                         NaN\n",
       "3         AIR RESOURCES BOARD\n",
       "4    University Medical Group\n",
       "Name: emp_title, dtype: object"
      ]
     },
     "execution_count": 16,
     "metadata": {},
     "output_type": "execute_result"
    }
   ],
   "source": [
    "df.emp_title.head()"
   ]
  },
  {
   "cell_type": "code",
   "execution_count": 36,
   "metadata": {
    "collapsed": false
   },
   "outputs": [
    {
     "data": {
      "text/plain": [
       "274750"
      ]
     },
     "execution_count": 36,
     "metadata": {},
     "output_type": "execute_result"
    }
   ],
   "source": [
    "len(df.emp_title.unique())"
   ]
  },
  {
   "cell_type": "code",
   "execution_count": 10,
   "metadata": {
    "collapsed": true
   },
   "outputs": [],
   "source": [
    "# for similar reasoning, drop emp_title (user input, very messy)\n",
    "df.drop('emp_title', axis=1, inplace=True)"
   ]
  },
  {
   "cell_type": "code",
   "execution_count": 12,
   "metadata": {
    "collapsed": false
   },
   "outputs": [
    {
     "data": {
      "text/plain": [
       "83"
      ]
     },
     "execution_count": 12,
     "metadata": {},
     "output_type": "execute_result"
    }
   ],
   "source": [
    "len(df.columns)"
   ]
  },
  {
   "cell_type": "code",
   "execution_count": 17,
   "metadata": {
    "collapsed": false
   },
   "outputs": [
    {
     "data": {
      "text/plain": [
       "0     NaN\n",
       "1     NaN\n",
       "2     NaN\n",
       "3     NaN\n",
       "4     NaN\n",
       "5     NaN\n",
       "6     NaN\n",
       "7     NaN\n",
       "8     NaN\n",
       "9     NaN\n",
       "10    NaN\n",
       "11    NaN\n",
       "12    NaN\n",
       "13    NaN\n",
       "14    NaN\n",
       "Name: mo_sin_rcnt_tl, dtype: object"
      ]
     },
     "execution_count": 17,
     "metadata": {},
     "output_type": "execute_result"
    }
   ],
   "source": [
    "df['mo_sin_rcnt_tl'].head(15)"
   ]
  },
  {
   "cell_type": "code",
   "execution_count": 18,
   "metadata": {
    "collapsed": false
   },
   "outputs": [
    {
     "data": {
      "text/plain": [
       "0.08570395095886586"
      ]
     },
     "execution_count": 18,
     "metadata": {},
     "output_type": "execute_result"
    }
   ],
   "source": [
    "df['mo_sin_rcnt_tl'].isnull().sum()/df.shape[0]"
   ]
  },
  {
   "cell_type": "code",
   "execution_count": 19,
   "metadata": {
    "collapsed": false
   },
   "outputs": [
    {
     "data": {
      "text/plain": [
       "0.08570522013935601"
      ]
     },
     "execution_count": 19,
     "metadata": {},
     "output_type": "execute_result"
    }
   ],
   "source": [
    "df['mo_sin_rcnt_rev_tl_op'].isnull().sum()/df.shape[0]"
   ]
  },
  {
   "cell_type": "code",
   "execution_count": 20,
   "metadata": {
    "collapsed": false
   },
   "outputs": [
    {
     "data": {
      "text/plain": [
       "0.08570522013935601"
      ]
     },
     "execution_count": 20,
     "metadata": {},
     "output_type": "execute_result"
    }
   ],
   "source": [
    "df['mo_sin_old_rev_tl_op'].isnull().sum()/df.shape[0]"
   ]
  },
  {
   "cell_type": "code",
   "execution_count": 21,
   "metadata": {
    "collapsed": false
   },
   "outputs": [
    {
     "data": {
      "text/plain": [
       "0.11267403637471285"
      ]
     },
     "execution_count": 21,
     "metadata": {},
     "output_type": "execute_result"
    }
   ],
   "source": [
    "df['mo_sin_old_il_acct'].isnull().sum()/df.shape[0]"
   ]
  },
  {
   "cell_type": "code",
   "execution_count": 22,
   "metadata": {
    "collapsed": false
   },
   "outputs": [
    {
     "data": {
      "text/plain": [
       "0    Jan-2015\n",
       "1    Apr-2013\n",
       "2    Jun-2014\n",
       "3    Jan-2015\n",
       "4    Jan-2017\n",
       "Name: last_pymnt_d, dtype: object"
      ]
     },
     "execution_count": 22,
     "metadata": {},
     "output_type": "execute_result"
    }
   ],
   "source": [
    "df['last_pymnt_d'].head()"
   ]
  },
  {
   "cell_type": "code",
   "execution_count": 11,
   "metadata": {
    "collapsed": false
   },
   "outputs": [
    {
     "data": {
      "text/plain": [
       "0   2015-01-01\n",
       "1   2013-04-01\n",
       "2   2014-06-01\n",
       "3   2015-01-01\n",
       "4   2017-01-01\n",
       "Name: last_pymnt_d, dtype: datetime64[ns]"
      ]
     },
     "execution_count": 11,
     "metadata": {},
     "output_type": "execute_result"
    }
   ],
   "source": [
    "df['last_pymnt_d'] = pd.to_datetime(df['last_pymnt_d'])\n",
    "df['last_pymnt_d'].head()"
   ]
  },
  {
   "cell_type": "code",
   "execution_count": 12,
   "metadata": {
    "collapsed": false
   },
   "outputs": [
    {
     "data": {
      "text/plain": [
       "0   2017-11-01\n",
       "1   2016-10-01\n",
       "2   2017-06-01\n",
       "3   2016-04-01\n",
       "4   2017-01-01\n",
       "Name: last_credit_pull_d, dtype: datetime64[ns]"
      ]
     },
     "execution_count": 12,
     "metadata": {},
     "output_type": "execute_result"
    }
   ],
   "source": [
    "df['last_credit_pull_d'] = pd.to_datetime(df['last_credit_pull_d'])\n",
    "df['last_credit_pull_d'].head()"
   ]
  },
  {
   "cell_type": "code",
   "execution_count": 13,
   "metadata": {
    "collapsed": false
   },
   "outputs": [
    {
     "data": {
      "text/plain": [
       "0   2011-12-01\n",
       "1   2011-12-01\n",
       "2   2011-12-01\n",
       "3   2011-12-01\n",
       "4   2011-12-01\n",
       "Name: issue_d, dtype: datetime64[ns]"
      ]
     },
     "execution_count": 13,
     "metadata": {},
     "output_type": "execute_result"
    }
   ],
   "source": [
    "df['issue_d'] = pd.to_datetime(df['issue_d'])\n",
    "df['issue_d'].head()"
   ]
  },
  {
   "cell_type": "code",
   "execution_count": 29,
   "metadata": {
    "collapsed": false,
    "scrolled": true
   },
   "outputs": [
    {
     "data": {
      "text/plain": [
       "0     10.65%\n",
       "1     15.27%\n",
       "2     15.96%\n",
       "3     13.49%\n",
       "4     12.69%\n",
       "Name: int_rate, dtype: object"
      ]
     },
     "execution_count": 29,
     "metadata": {},
     "output_type": "execute_result"
    }
   ],
   "source": [
    "df['int_rate'].head()"
   ]
  },
  {
   "cell_type": "code",
   "execution_count": 14,
   "metadata": {
    "collapsed": false
   },
   "outputs": [
    {
     "data": {
      "text/plain": [
       "0    0.1065\n",
       "1    0.1527\n",
       "2    0.1596\n",
       "3    0.1349\n",
       "4    0.1269\n",
       "Name: int_rate, dtype: float64"
      ]
     },
     "execution_count": 14,
     "metadata": {},
     "output_type": "execute_result"
    }
   ],
   "source": [
    "df.int_rate = df.int_rate.str[:-1].astype('float')/100\n",
    "df.int_rate.head()"
   ]
  },
  {
   "cell_type": "code",
   "execution_count": 15,
   "metadata": {
    "collapsed": false
   },
   "outputs": [
    {
     "data": {
      "text/plain": [
       "0   1985-01-01\n",
       "1   1999-04-01\n",
       "2   2001-11-01\n",
       "3   1996-02-01\n",
       "4   1996-01-01\n",
       "Name: earliest_cr_line, dtype: datetime64[ns]"
      ]
     },
     "execution_count": 15,
     "metadata": {},
     "output_type": "execute_result"
    }
   ],
   "source": [
    "df['earliest_cr_line'] = pd.to_datetime(df['earliest_cr_line'])\n",
    "df['earliest_cr_line'].head()"
   ]
  },
  {
   "cell_type": "code",
   "execution_count": 16,
   "metadata": {
    "collapsed": false
   },
   "outputs": [],
   "source": [
    "df.bc_util = df.bc_util.astype('float')"
   ]
  },
  {
   "cell_type": "code",
   "execution_count": 19,
   "metadata": {
    "collapsed": false
   },
   "outputs": [
    {
     "data": {
      "text/plain": [
       "787895      0.3\n",
       "787896    100.1\n",
       "787897      9.8\n",
       "787898     24.5\n",
       "787899     64.7\n",
       "787900     12.8\n",
       "787901     51.7\n",
       "787902     83.5\n",
       "787903     20.0\n",
       "787904     54.2\n",
       "787905     60.5\n",
       "787906     68.0\n",
       "787907     61.7\n",
       "787908     95.8\n",
       "787909     48.0\n",
       "Name: bc_util, dtype: float64"
      ]
     },
     "execution_count": 19,
     "metadata": {},
     "output_type": "execute_result"
    }
   ],
   "source": [
    "df.bc_util.tail(15)"
   ]
  },
  {
   "cell_type": "code",
   "execution_count": 20,
   "metadata": {
    "collapsed": false
   },
   "outputs": [
    {
     "data": {
      "text/plain": [
       "55343"
      ]
     },
     "execution_count": 20,
     "metadata": {},
     "output_type": "execute_result"
    }
   ],
   "source": [
    "df.bc_util.isnull().sum() # I suspect that these are missing for a particular csv subset of the data, same for below"
   ]
  },
  {
   "cell_type": "code",
   "execution_count": 17,
   "metadata": {
    "collapsed": false
   },
   "outputs": [],
   "source": [
    "df.bc_open_to_buy = df.bc_open_to_buy.astype('float')"
   ]
  },
  {
   "cell_type": "code",
   "execution_count": 23,
   "metadata": {
    "collapsed": false
   },
   "outputs": [
    {
     "data": {
      "text/plain": [
       "54876"
      ]
     },
     "execution_count": 23,
     "metadata": {},
     "output_type": "execute_result"
    }
   ],
   "source": [
    "df.bc_open_to_buy.isnull().sum()"
   ]
  },
  {
   "cell_type": "code",
   "execution_count": 24,
   "metadata": {
    "collapsed": false,
    "scrolled": true
   },
   "outputs": [
    {
     "data": {
      "text/plain": [
       "787895    40278.0\n",
       "787896        0.0\n",
       "787897    52566.0\n",
       "787898    53687.0\n",
       "787899     8710.0\n",
       "787900    74790.0\n",
       "787901     2416.0\n",
       "787902     3582.0\n",
       "787903    28475.0\n",
       "787904    12830.0\n",
       "787905     4625.0\n",
       "787906    10386.0\n",
       "787907    18465.0\n",
       "787908      921.0\n",
       "787909    13771.0\n",
       "Name: bc_open_to_buy, dtype: float64"
      ]
     },
     "execution_count": 24,
     "metadata": {},
     "output_type": "execute_result"
    }
   ],
   "source": [
    "df.bc_open_to_buy.tail(15)"
   ]
  },
  {
   "cell_type": "code",
   "execution_count": 21,
   "metadata": {
    "collapsed": false
   },
   "outputs": [
    {
     "data": {
      "text/plain": [
       "1    0.795934\n",
       "0    0.204066\n",
       "Name: loan_status, dtype: float64"
      ]
     },
     "execution_count": 21,
     "metadata": {},
     "output_type": "execute_result"
    }
   ],
   "source": [
    "# distribution of labels\n",
    "df.loan_status.value_counts(normalize=True)"
   ]
  },
  {
   "cell_type": "code",
   "execution_count": 25,
   "metadata": {
    "collapsed": false
   },
   "outputs": [
    {
     "data": {
      "text/plain": [
       "(787910, 81)"
      ]
     },
     "execution_count": 25,
     "metadata": {},
     "output_type": "execute_result"
    }
   ],
   "source": [
    "df.shape"
   ]
  },
  {
   "cell_type": "code",
   "execution_count": 18,
   "metadata": {
    "collapsed": true
   },
   "outputs": [],
   "source": [
    "# drop sub_grade, as that information can be captured in grade\n",
    "df.drop('sub_grade', axis=1, inplace=True)"
   ]
  },
  {
   "cell_type": "code",
   "execution_count": 27,
   "metadata": {
    "collapsed": false
   },
   "outputs": [
    {
     "data": {
      "text/plain": [
       "0.0    0.995480\n",
       "1.0    0.004264\n",
       "2.0    0.000216\n",
       "3.0    0.000027\n",
       "4.0    0.000009\n",
       "5.0    0.000003\n",
       "6.0    0.000001\n",
       "Name: acc_now_delinq, dtype: float64"
      ]
     },
     "execution_count": 27,
     "metadata": {},
     "output_type": "execute_result"
    }
   ],
   "source": [
    "df.acc_now_delinq.value_counts(normalize=True)"
   ]
  },
  {
   "cell_type": "code",
   "execution_count": 28,
   "metadata": {
    "collapsed": false
   },
   "outputs": [
    {
     "data": {
      "text/plain": [
       "1    0.752878\n",
       "0    0.247122\n",
       "Name: loan_status, dtype: float64"
      ]
     },
     "execution_count": 28,
     "metadata": {},
     "output_type": "execute_result"
    }
   ],
   "source": [
    "df[df.acc_now_delinq != 0]['loan_status'].value_counts(normalize=True)"
   ]
  },
  {
   "cell_type": "code",
   "execution_count": 19,
   "metadata": {
    "collapsed": true
   },
   "outputs": [],
   "source": [
    "# drop acc_now_delinq since 99.5% of applicants have 0 delinquent accounts\n",
    "# of the .5% left, 75% are labeled as paid off, similar to the overall distribution... so we drop\n",
    "df.drop('acc_now_delinq', axis=1, inplace=True)"
   ]
  },
  {
   "cell_type": "code",
   "execution_count": 30,
   "metadata": {
    "collapsed": false,
    "scrolled": true
   },
   "outputs": [
    {
     "data": {
      "text/plain": [
       "(572059, 79)"
      ]
     },
     "execution_count": 30,
     "metadata": {},
     "output_type": "execute_result"
    }
   ],
   "source": [
    "df[df.isnull().any(axis=1)].shape"
   ]
  },
  {
   "cell_type": "code",
   "execution_count": 49,
   "metadata": {
    "collapsed": false
   },
   "outputs": [
    {
     "data": {
      "text/plain": [
       "Individual    0.9958\n",
       "Joint App     0.0042\n",
       "Name: application_type, dtype: float64"
      ]
     },
     "execution_count": 49,
     "metadata": {},
     "output_type": "execute_result"
    }
   ],
   "source": [
    "df.application_type.value_counts(normalize=True)"
   ]
  },
  {
   "cell_type": "code",
   "execution_count": 51,
   "metadata": {
    "collapsed": false
   },
   "outputs": [
    {
     "data": {
      "text/plain": [
       "1    0.81777\n",
       "0    0.18223\n",
       "Name: loan_status, dtype: float64"
      ]
     },
     "execution_count": 51,
     "metadata": {},
     "output_type": "execute_result"
    }
   ],
   "source": [
    "df[df.application_type != 'Individual']['loan_status'].value_counts(normalize=True)"
   ]
  },
  {
   "cell_type": "code",
   "execution_count": 20,
   "metadata": {
    "collapsed": true
   },
   "outputs": [],
   "source": [
    "# for similar reasoning, we drop application_type\n",
    "df.drop(\"application_type\", axis=1, inplace=True)"
   ]
  },
  {
   "cell_type": "code",
   "execution_count": 57,
   "metadata": {
    "collapsed": false
   },
   "outputs": [
    {
     "data": {
      "text/plain": [
       "0.0     0.992377\n",
       "1.0     0.006892\n",
       "2.0     0.000597\n",
       "3.0     0.000090\n",
       "4.0     0.000025\n",
       "5.0     0.000009\n",
       "7.0     0.000004\n",
       "6.0     0.000004\n",
       "8.0     0.000001\n",
       "10.0    0.000001\n",
       "Name: chargeoff_within_12_mths, dtype: float64"
      ]
     },
     "execution_count": 57,
     "metadata": {},
     "output_type": "execute_result"
    }
   ],
   "source": [
    "df.chargeoff_within_12_mths.value_counts(normalize=True)"
   ]
  },
  {
   "cell_type": "code",
   "execution_count": 58,
   "metadata": {
    "collapsed": false
   },
   "outputs": [
    {
     "data": {
      "text/plain": [
       "1    0.777631\n",
       "0    0.222369\n",
       "Name: loan_status, dtype: float64"
      ]
     },
     "execution_count": 58,
     "metadata": {},
     "output_type": "execute_result"
    }
   ],
   "source": [
    "df[df.chargeoff_within_12_mths != 0]['loan_status'].value_counts(normalize=True)"
   ]
  },
  {
   "cell_type": "code",
   "execution_count": 21,
   "metadata": {
    "collapsed": true
   },
   "outputs": [],
   "source": [
    "# for similar reasoning, we drop chargeoff_within_12_mths\n",
    "df.drop(\"chargeoff_within_12_mths\", axis=1, inplace=True)"
   ]
  },
  {
   "cell_type": "code",
   "execution_count": 62,
   "metadata": {
    "collapsed": false,
    "scrolled": true
   },
   "outputs": [
    {
     "data": {
      "text/plain": [
       "0.0     0.986973\n",
       "1.0     0.012115\n",
       "2.0     0.000781\n",
       "3.0     0.000083\n",
       "4.0     0.000027\n",
       "6.0     0.000008\n",
       "5.0     0.000006\n",
       "12.0    0.000003\n",
       "7.0     0.000001\n",
       "16.0    0.000001\n",
       "20.0    0.000001\n",
       "10.0    0.000001\n",
       "Name: collections_12_mths_ex_med, dtype: float64"
      ]
     },
     "execution_count": 62,
     "metadata": {},
     "output_type": "execute_result"
    }
   ],
   "source": [
    "df.collections_12_mths_ex_med.value_counts(normalize=True)"
   ]
  },
  {
   "cell_type": "code",
   "execution_count": 63,
   "metadata": {
    "collapsed": false,
    "scrolled": true
   },
   "outputs": [
    {
     "data": {
      "text/plain": [
       "1    0.727978\n",
       "0    0.272022\n",
       "Name: loan_status, dtype: float64"
      ]
     },
     "execution_count": 63,
     "metadata": {},
     "output_type": "execute_result"
    }
   ],
   "source": [
    "df[df.collections_12_mths_ex_med != 0]['loan_status'].value_counts(normalize=True)"
   ]
  },
  {
   "cell_type": "code",
   "execution_count": 22,
   "metadata": {
    "collapsed": true
   },
   "outputs": [],
   "source": [
    "# for similar reasoning, we drop chargeoff_within_12_mths\n",
    "df.drop(\"collections_12_mths_ex_med\", axis=1, inplace=True)"
   ]
  },
  {
   "cell_type": "code",
   "execution_count": 66,
   "metadata": {
    "collapsed": false
   },
   "outputs": [
    {
     "data": {
      "text/plain": [
       "N    0.985469\n",
       "Y    0.014531\n",
       "Name: debt_settlement_flag, dtype: float64"
      ]
     },
     "execution_count": 66,
     "metadata": {},
     "output_type": "execute_result"
    }
   ],
   "source": [
    "df.debt_settlement_flag.value_counts(normalize=True)"
   ]
  },
  {
   "cell_type": "code",
   "execution_count": 23,
   "metadata": {
    "collapsed": true
   },
   "outputs": [],
   "source": [
    "# for similar reasoning, we drop chargeoff_within_12_mths\n",
    "df.drop(\"debt_settlement_flag\", axis=1, inplace=True)"
   ]
  },
  {
   "cell_type": "code",
   "execution_count": 24,
   "metadata": {
    "collapsed": true
   },
   "outputs": [],
   "source": [
    "# for similar reasoning, we drop chargeoff_within_12_mths\n",
    "df.drop(\"delinq_amnt\", axis=1, inplace=True)"
   ]
  },
  {
   "cell_type": "code",
   "execution_count": 25,
   "metadata": {
    "collapsed": true
   },
   "outputs": [],
   "source": [
    "# for similar reasoning, we drop chargeoff_within_12_mths\n",
    "df.drop(\"disbursement_method\", axis=1, inplace=True)"
   ]
  },
  {
   "cell_type": "code",
   "execution_count": 100,
   "metadata": {
    "collapsed": true
   },
   "outputs": [
    {
     "data": {
      "text/plain": [
       "0.0     0.392169\n",
       "1.0     0.171371\n",
       "2.0     0.142958\n",
       "3.0     0.107744\n",
       "4.0     0.076617\n",
       "5.0     0.048553\n",
       "6.0     0.028615\n",
       "7.0     0.015241\n",
       "8.0     0.007789\n",
       "9.0     0.004032\n",
       "10.0    0.002100\n",
       "11.0    0.001129\n",
       "12.0    0.000621\n",
       "13.0    0.000343\n",
       "14.0    0.000248\n",
       "15.0    0.000126\n",
       "16.0    0.000086\n",
       "17.0    0.000049\n",
       "18.0    0.000047\n",
       "19.0    0.000031\n",
       "20.0    0.000028\n",
       "24.0    0.000018\n",
       "21.0    0.000015\n",
       "22.0    0.000015\n",
       "23.0    0.000009\n",
       "25.0    0.000009\n",
       "27.0    0.000008\n",
       "26.0    0.000007\n",
       "29.0    0.000004\n",
       "34.0    0.000004\n",
       "31.0    0.000003\n",
       "32.0    0.000003\n",
       "30.0    0.000003\n",
       "51.0    0.000001\n",
       "47.0    0.000001\n",
       "28.0    0.000001\n",
       "37.0    0.000001\n",
       "Name: mort_acc, dtype: float64"
      ]
     },
     "execution_count": 100,
     "metadata": {},
     "output_type": "execute_result"
    }
   ],
   "source": [
    "# MAYBE only keep the first 6 categories of this feature? due to dist.\n",
    "df.mort_acc.value_counts(normalize=True)"
   ]
  },
  {
   "cell_type": "code",
   "execution_count": 26,
   "metadata": {
    "collapsed": false
   },
   "outputs": [],
   "source": [
    "# for similar reasoning, we drop chargeoff_within_12_mths\n",
    "df.drop(\"num_tl_120dpd_2m\", inplace=True, axis=1)"
   ]
  },
  {
   "cell_type": "code",
   "execution_count": 27,
   "metadata": {
    "collapsed": true
   },
   "outputs": [],
   "source": [
    "# for similar reasoning, we drop chargeoff_within_12_mths\n",
    "df.drop(\"num_tl_30dpd\", inplace=True, axis=1)"
   ]
  },
  {
   "cell_type": "code",
   "execution_count": 28,
   "metadata": {
    "collapsed": true
   },
   "outputs": [],
   "source": [
    "# for similar reasoning, we drop chargeoff_within_12_mths\n",
    "df.drop(\"num_tl_90g_dpd_24m\", inplace=True, axis=1)"
   ]
  },
  {
   "cell_type": "code",
   "execution_count": 29,
   "metadata": {
    "collapsed": true
   },
   "outputs": [],
   "source": [
    "# for similar reasoning, we drop chargeoff_within_12_mths\n",
    "df.drop(\"tax_liens\", inplace=True, axis=1)"
   ]
  },
  {
   "cell_type": "code",
   "execution_count": 147,
   "metadata": {
    "collapsed": false
   },
   "outputs": [
    {
     "data": {
      "text/plain": [
       "Source Verified    0.359235\n",
       "Verified           0.332176\n",
       "Not Verified       0.308589\n",
       "Name: verification_status, dtype: float64"
      ]
     },
     "execution_count": 147,
     "metadata": {},
     "output_type": "execute_result"
    }
   ],
   "source": [
    "df.verification_status.value_counts(normalize=True)"
   ]
  },
  {
   "cell_type": "code",
   "execution_count": 30,
   "metadata": {
    "collapsed": false,
    "scrolled": true
   },
   "outputs": [
    {
     "data": {
      "text/plain": [
       "Index(['acc_open_past_24mths', 'addr_state', 'all_util', 'annual_inc',\n",
       "       'annual_inc_joint', 'avg_cur_bal', 'bc_open_to_buy', 'bc_util',\n",
       "       'collection_recovery_fee', 'debt_settlement_flag_date',\n",
       "       ...\n",
       "       'total_cu_tl', 'total_il_high_credit_limit', 'total_pymnt',\n",
       "       'total_pymnt_inv', 'total_rec_int', 'total_rec_late_fee',\n",
       "       'total_rec_prncp', 'total_rev_hi_lim', 'verification_status',\n",
       "       'verification_status_joint'],\n",
       "      dtype='object', length=121)"
      ]
     },
     "execution_count": 30,
     "metadata": {},
     "output_type": "execute_result"
    }
   ],
   "source": [
    "df.columns"
   ]
  },
  {
   "cell_type": "code",
   "execution_count": 42,
   "metadata": {
    "collapsed": false,
    "scrolled": false
   },
   "outputs": [
    {
     "data": {
      "text/plain": [
       "(564595, 69)"
      ]
     },
     "execution_count": 42,
     "metadata": {},
     "output_type": "execute_result"
    }
   ],
   "source": [
    "df[df.isnull().any(axis=1)].shape"
   ]
  },
  {
   "cell_type": "code",
   "execution_count": 44,
   "metadata": {
    "collapsed": false
   },
   "outputs": [
    {
     "data": {
      "text/plain": [
       "'mths_since_recent_revol_delinq'"
      ]
     },
     "execution_count": 44,
     "metadata": {},
     "output_type": "execute_result"
    }
   ],
   "source": [
    "# find column with most missing values\n",
    "df.count().idxmin()"
   ]
  },
  {
   "cell_type": "code",
   "execution_count": 45,
   "metadata": {
    "collapsed": false
   },
   "outputs": [
    {
     "data": {
      "text/plain": [
       "dtype('float64')"
      ]
     },
     "execution_count": 45,
     "metadata": {},
     "output_type": "execute_result"
    }
   ],
   "source": [
    "df.mths_since_recent_revol_delinq.dtype"
   ]
  },
  {
   "cell_type": "code",
   "execution_count": 51,
   "metadata": {
    "collapsed": false
   },
   "outputs": [
    {
     "data": {
      "image/png": "[encoded data removed]",
      "text/plain": [
       "<matplotlib.figure.Figure at 0x11bfa1828>"
      ]
     },
     "metadata": {},
     "output_type": "display_data"
    }
   ],
   "source": [
    "df.mths_since_recent_revol_delinq.hist(bins=15, normed=True)\n",
    "plt.show()"
   ]
  },
  {
   "cell_type": "code",
   "execution_count": 52,
   "metadata": {
    "collapsed": false
   },
   "outputs": [
    {
     "data": {
      "text/plain": [
       "count    255930.000000\n",
       "mean         36.214707\n",
       "std          22.448495\n",
       "min           0.000000\n",
       "25%          17.000000\n",
       "50%          33.000000\n",
       "75%          53.000000\n",
       "max         180.000000\n",
       "Name: mths_since_recent_revol_delinq, dtype: float64"
      ]
     },
     "execution_count": 52,
     "metadata": {},
     "output_type": "execute_result"
    }
   ],
   "source": [
    "df.mths_since_recent_revol_delinq.describe()"
   ]
  },
  {
   "cell_type": "code",
   "execution_count": 55,
   "metadata": {
    "collapsed": false
   },
   "outputs": [
    {
     "data": {
      "text/plain": [
       "0.6751786371539896"
      ]
     },
     "execution_count": 55,
     "metadata": {},
     "output_type": "execute_result"
    }
   ],
   "source": [
    "df.mths_since_recent_revol_delinq.isnull().sum()/df.shape[0]"
   ]
  },
  {
   "cell_type": "code",
   "execution_count": 60,
   "metadata": {
    "collapsed": false,
    "scrolled": true
   },
   "outputs": [
    {
     "data": {
      "text/plain": [
       "1    0.787708\n",
       "0    0.212292\n",
       "Name: loan_status, dtype: float64"
      ]
     },
     "execution_count": 60,
     "metadata": {},
     "output_type": "execute_result"
    }
   ],
   "source": [
    "df[~df.mths_since_recent_revol_delinq.isnull()].loan_status.value_counts(normalize=True)"
   ]
  },
  {
   "cell_type": "code",
   "execution_count": 61,
   "metadata": {
    "collapsed": false
   },
   "outputs": [
    {
     "data": {
      "text/plain": [
       "1    0.799891\n",
       "0    0.200109\n",
       "Name: loan_status, dtype: float64"
      ]
     },
     "execution_count": 61,
     "metadata": {},
     "output_type": "execute_result"
    }
   ],
   "source": [
    "df[df.mths_since_recent_revol_delinq.isnull()].loan_status.value_counts(normalize=True)"
   ]
  },
  {
   "cell_type": "code",
   "execution_count": 31,
   "metadata": {
    "collapsed": true
   },
   "outputs": [],
   "source": [
    "# since most of mths_since_recent_revol_delinq is missing, and label dist reflects overall label distribution, we drop\n",
    "# also, seems correlated with mths_since_last_delinq\n",
    "df.drop(\"mths_since_recent_revol_delinq\", axis=1, inplace=True)"
   ]
  },
  {
   "cell_type": "code",
   "execution_count": 63,
   "metadata": {
    "collapsed": false,
    "scrolled": true
   },
   "outputs": [
    {
     "data": {
      "text/plain": [
       "(465282, 68)"
      ]
     },
     "execution_count": 63,
     "metadata": {},
     "output_type": "execute_result"
    }
   ],
   "source": [
    "df[df.isnull().any(axis=1)].shape"
   ]
  },
  {
   "cell_type": "code",
   "execution_count": 65,
   "metadata": {
    "collapsed": false
   },
   "outputs": [
    {
     "name": "stdout",
     "output_type": "stream",
     "text": [
      "mths_since_last_delinq\n"
     ]
    },
    {
     "data": {
      "text/plain": [
       "0.5129748321508801"
      ]
     },
     "execution_count": 65,
     "metadata": {},
     "output_type": "execute_result"
    }
   ],
   "source": [
    "# find column with most missing values\n",
    "col = df.count().idxmin()\n",
    "print(col)\n",
    "df[col].isnull().sum()/df.shape[0]"
   ]
  },
  {
   "cell_type": "code",
   "execution_count": 66,
   "metadata": {
    "collapsed": false,
    "scrolled": true
   },
   "outputs": [
    {
     "data": {
      "text/plain": [
       "1    0.789061\n",
       "0    0.210939\n",
       "Name: loan_status, dtype: float64"
      ]
     },
     "execution_count": 66,
     "metadata": {},
     "output_type": "execute_result"
    }
   ],
   "source": [
    "df[~df.mths_since_last_delinq.isnull()].loan_status.value_counts(normalize=True)"
   ]
  },
  {
   "cell_type": "code",
   "execution_count": 67,
   "metadata": {
    "collapsed": false
   },
   "outputs": [
    {
     "data": {
      "text/plain": [
       "1    0.802458\n",
       "0    0.197542\n",
       "Name: loan_status, dtype: float64"
      ]
     },
     "execution_count": 67,
     "metadata": {},
     "output_type": "execute_result"
    }
   ],
   "source": [
    "df[df.mths_since_last_delinq.isnull()].loan_status.value_counts(normalize=True)"
   ]
  },
  {
   "cell_type": "code",
   "execution_count": 32,
   "metadata": {
    "collapsed": true
   },
   "outputs": [],
   "source": [
    "# since most of mths_since_last_delinq is missing, and label distribution reflects overall label distribution, we drop\n",
    "df.drop(\"mths_since_last_delinq\", axis=1, inplace=True)"
   ]
  },
  {
   "cell_type": "code",
   "execution_count": 47,
   "metadata": {
    "collapsed": false,
    "scrolled": true
   },
   "outputs": [
    {
     "data": {
      "text/plain": [
       "(158317, 66)"
      ]
     },
     "execution_count": 47,
     "metadata": {},
     "output_type": "execute_result"
    }
   ],
   "source": [
    "df[df.isnull().any(axis=1)].shape"
   ]
  },
  {
   "cell_type": "code",
   "execution_count": 45,
   "metadata": {
    "collapsed": false,
    "scrolled": true
   },
   "outputs": [
    {
     "name": "stdout",
     "output_type": "stream",
     "text": [
      "mths_since_recent_inq\n",
      "115154\n"
     ]
    },
    {
     "data": {
      "text/plain": [
       "0.14615121016359736"
      ]
     },
     "execution_count": 45,
     "metadata": {},
     "output_type": "execute_result"
    }
   ],
   "source": [
    "# find column with most missing values\n",
    "col = df.count().idxmin()\n",
    "print(col)\n",
    "print(df[col].isnull().sum())\n",
    "df[col].isnull().sum()/df.shape[0]"
   ]
  },
  {
   "cell_type": "code",
   "execution_count": 41,
   "metadata": {
    "collapsed": true
   },
   "outputs": [],
   "source": [
    "df.drop(\"orig_projected_additional_accrued_interest\", axis=1, inplace=True)"
   ]
  },
  {
   "cell_type": "code",
   "execution_count": 33,
   "metadata": {
    "collapsed": false
   },
   "outputs": [
    {
     "data": {
      "text/plain": [
       "Index(['acc_open_past_24mths', 'addr_state', 'all_util', 'annual_inc',\n",
       "       'annual_inc_joint', 'avg_cur_bal', 'bc_open_to_buy', 'bc_util',\n",
       "       'collection_recovery_fee', 'debt_settlement_flag_date',\n",
       "       ...\n",
       "       'total_cu_tl', 'total_il_high_credit_limit', 'total_pymnt',\n",
       "       'total_pymnt_inv', 'total_rec_int', 'total_rec_late_fee',\n",
       "       'total_rec_prncp', 'total_rev_hi_lim', 'verification_status',\n",
       "       'verification_status_joint'],\n",
       "      dtype='object', length=119)"
      ]
     },
     "execution_count": 33,
     "metadata": {},
     "output_type": "execute_result"
    }
   ],
   "source": [
    "df.columns"
   ]
  },
  {
   "cell_type": "code",
   "execution_count": 37,
   "metadata": {
    "collapsed": false,
    "scrolled": true
   },
   "outputs": [
    {
     "data": {
      "text/plain": [
       "783987"
      ]
     },
     "execution_count": 37,
     "metadata": {},
     "output_type": "execute_result"
    }
   ],
   "source": [
    "df[(np.abs(df['total_pymnt']) <= 1.1*np.abs(df['total_pymnt_inv'])) & (np.abs(df['total_pymnt']) >= .9*np.abs(df['total_pymnt_inv'])) ].shape[0]"
   ]
  },
  {
   "cell_type": "code",
   "execution_count": 46,
   "metadata": {
    "collapsed": false
   },
   "outputs": [
    {
     "data": {
      "text/plain": [
       "(787910, 66)"
      ]
     },
     "execution_count": 46,
     "metadata": {},
     "output_type": "execute_result"
    }
   ],
   "source": [
    "df.shape"
   ]
  },
  {
   "cell_type": "code",
   "execution_count": 34,
   "metadata": {
    "collapsed": true
   },
   "outputs": [],
   "source": [
    "df['total_pymnt'] = df['total_pymnt'].round(2)"
   ]
  },
  {
   "cell_type": "code",
   "execution_count": 35,
   "metadata": {
    "collapsed": false
   },
   "outputs": [
    {
     "data": {
      "text/html": [
       "<div>\n",
       "<style>\n",
       "    .dataframe thead tr:only-child th {\n",
       "        text-align: right;\n",
       "    }\n",
       "\n",
       "    .dataframe thead th {\n",
       "        text-align: left;\n",
       "    }\n",
       "\n",
       "    .dataframe tbody tr th {\n",
       "        vertical-align: top;\n",
       "    }\n",
       "</style>\n",
       "<table border=\"1\" class=\"dataframe\">\n",
       "  <thead>\n",
       "    <tr style=\"text-align: right;\">\n",
       "      <th></th>\n",
       "      <th>total_pymnt</th>\n",
       "      <th>total_pymnt_inv</th>\n",
       "    </tr>\n",
       "  </thead>\n",
       "  <tbody>\n",
       "    <tr>\n",
       "      <th>0</th>\n",
       "      <td>5863.16</td>\n",
       "      <td>5833.84</td>\n",
       "    </tr>\n",
       "    <tr>\n",
       "      <th>1</th>\n",
       "      <td>1014.53</td>\n",
       "      <td>1014.53</td>\n",
       "    </tr>\n",
       "    <tr>\n",
       "      <th>2</th>\n",
       "      <td>3005.67</td>\n",
       "      <td>3005.67</td>\n",
       "    </tr>\n",
       "    <tr>\n",
       "      <th>3</th>\n",
       "      <td>12231.89</td>\n",
       "      <td>12231.89</td>\n",
       "    </tr>\n",
       "    <tr>\n",
       "      <th>4</th>\n",
       "      <td>4066.91</td>\n",
       "      <td>4066.91</td>\n",
       "    </tr>\n",
       "    <tr>\n",
       "      <th>5</th>\n",
       "      <td>5632.21</td>\n",
       "      <td>5632.21</td>\n",
       "    </tr>\n",
       "    <tr>\n",
       "      <th>6</th>\n",
       "      <td>10137.84</td>\n",
       "      <td>10137.84</td>\n",
       "    </tr>\n",
       "    <tr>\n",
       "      <th>7</th>\n",
       "      <td>3939.14</td>\n",
       "      <td>3939.14</td>\n",
       "    </tr>\n",
       "    <tr>\n",
       "      <th>8</th>\n",
       "      <td>647.50</td>\n",
       "      <td>647.50</td>\n",
       "    </tr>\n",
       "    <tr>\n",
       "      <th>9</th>\n",
       "      <td>1484.59</td>\n",
       "      <td>1477.70</td>\n",
       "    </tr>\n",
       "    <tr>\n",
       "      <th>10</th>\n",
       "      <td>7678.02</td>\n",
       "      <td>7678.02</td>\n",
       "    </tr>\n",
       "    <tr>\n",
       "      <th>11</th>\n",
       "      <td>13947.99</td>\n",
       "      <td>13947.99</td>\n",
       "    </tr>\n",
       "    <tr>\n",
       "      <th>12</th>\n",
       "      <td>2277.32</td>\n",
       "      <td>2277.32</td>\n",
       "    </tr>\n",
       "    <tr>\n",
       "      <th>13</th>\n",
       "      <td>3480.27</td>\n",
       "      <td>3480.27</td>\n",
       "    </tr>\n",
       "    <tr>\n",
       "      <th>14</th>\n",
       "      <td>7471.99</td>\n",
       "      <td>7471.99</td>\n",
       "    </tr>\n",
       "    <tr>\n",
       "      <th>15</th>\n",
       "      <td>1270.72</td>\n",
       "      <td>1270.72</td>\n",
       "    </tr>\n",
       "    <tr>\n",
       "      <th>16</th>\n",
       "      <td>12527.15</td>\n",
       "      <td>12527.15</td>\n",
       "    </tr>\n",
       "    <tr>\n",
       "      <th>17</th>\n",
       "      <td>3785.27</td>\n",
       "      <td>3785.27</td>\n",
       "    </tr>\n",
       "    <tr>\n",
       "      <th>18</th>\n",
       "      <td>7167.07</td>\n",
       "      <td>7167.07</td>\n",
       "    </tr>\n",
       "    <tr>\n",
       "      <th>19</th>\n",
       "      <td>9460.00</td>\n",
       "      <td>9460.00</td>\n",
       "    </tr>\n",
       "    <tr>\n",
       "      <th>20</th>\n",
       "      <td>27679.05</td>\n",
       "      <td>25433.60</td>\n",
       "    </tr>\n",
       "    <tr>\n",
       "      <th>21</th>\n",
       "      <td>14034.60</td>\n",
       "      <td>14034.60</td>\n",
       "    </tr>\n",
       "    <tr>\n",
       "      <th>22</th>\n",
       "      <td>11907.35</td>\n",
       "      <td>11907.35</td>\n",
       "    </tr>\n",
       "    <tr>\n",
       "      <th>23</th>\n",
       "      <td>11540.89</td>\n",
       "      <td>11540.89</td>\n",
       "    </tr>\n",
       "    <tr>\n",
       "      <th>24</th>\n",
       "      <td>2055.85</td>\n",
       "      <td>2055.85</td>\n",
       "    </tr>\n",
       "    <tr>\n",
       "      <th>25</th>\n",
       "      <td>15824.00</td>\n",
       "      <td>15824.00</td>\n",
       "    </tr>\n",
       "    <tr>\n",
       "      <th>26</th>\n",
       "      <td>0.00</td>\n",
       "      <td>0.00</td>\n",
       "    </tr>\n",
       "    <tr>\n",
       "      <th>27</th>\n",
       "      <td>1611.16</td>\n",
       "      <td>1611.16</td>\n",
       "    </tr>\n",
       "    <tr>\n",
       "      <th>28</th>\n",
       "      <td>4486.29</td>\n",
       "      <td>4486.29</td>\n",
       "    </tr>\n",
       "    <tr>\n",
       "      <th>29</th>\n",
       "      <td>10126.09</td>\n",
       "      <td>10126.09</td>\n",
       "    </tr>\n",
       "    <tr>\n",
       "      <th>...</th>\n",
       "      <td>...</td>\n",
       "      <td>...</td>\n",
       "    </tr>\n",
       "    <tr>\n",
       "      <th>787880</th>\n",
       "      <td>18581.96</td>\n",
       "      <td>18581.96</td>\n",
       "    </tr>\n",
       "    <tr>\n",
       "      <th>787881</th>\n",
       "      <td>11751.30</td>\n",
       "      <td>11751.30</td>\n",
       "    </tr>\n",
       "    <tr>\n",
       "      <th>787882</th>\n",
       "      <td>27789.69</td>\n",
       "      <td>27789.69</td>\n",
       "    </tr>\n",
       "    <tr>\n",
       "      <th>787883</th>\n",
       "      <td>20599.54</td>\n",
       "      <td>20599.54</td>\n",
       "    </tr>\n",
       "    <tr>\n",
       "      <th>787884</th>\n",
       "      <td>14370.58</td>\n",
       "      <td>14370.58</td>\n",
       "    </tr>\n",
       "    <tr>\n",
       "      <th>787885</th>\n",
       "      <td>15280.85</td>\n",
       "      <td>15280.85</td>\n",
       "    </tr>\n",
       "    <tr>\n",
       "      <th>787886</th>\n",
       "      <td>10743.92</td>\n",
       "      <td>10743.92</td>\n",
       "    </tr>\n",
       "    <tr>\n",
       "      <th>787887</th>\n",
       "      <td>26109.95</td>\n",
       "      <td>26109.95</td>\n",
       "    </tr>\n",
       "    <tr>\n",
       "      <th>787888</th>\n",
       "      <td>23510.35</td>\n",
       "      <td>23510.35</td>\n",
       "    </tr>\n",
       "    <tr>\n",
       "      <th>787889</th>\n",
       "      <td>10005.44</td>\n",
       "      <td>10005.44</td>\n",
       "    </tr>\n",
       "    <tr>\n",
       "      <th>787890</th>\n",
       "      <td>15265.58</td>\n",
       "      <td>15265.58</td>\n",
       "    </tr>\n",
       "    <tr>\n",
       "      <th>787891</th>\n",
       "      <td>40785.83</td>\n",
       "      <td>40785.83</td>\n",
       "    </tr>\n",
       "    <tr>\n",
       "      <th>787892</th>\n",
       "      <td>24681.97</td>\n",
       "      <td>24681.97</td>\n",
       "    </tr>\n",
       "    <tr>\n",
       "      <th>787893</th>\n",
       "      <td>27295.65</td>\n",
       "      <td>27295.65</td>\n",
       "    </tr>\n",
       "    <tr>\n",
       "      <th>787894</th>\n",
       "      <td>35024.60</td>\n",
       "      <td>35024.60</td>\n",
       "    </tr>\n",
       "    <tr>\n",
       "      <th>787895</th>\n",
       "      <td>1003.01</td>\n",
       "      <td>1003.01</td>\n",
       "    </tr>\n",
       "    <tr>\n",
       "      <th>787896</th>\n",
       "      <td>13029.08</td>\n",
       "      <td>13029.08</td>\n",
       "    </tr>\n",
       "    <tr>\n",
       "      <th>787897</th>\n",
       "      <td>37119.09</td>\n",
       "      <td>37119.09</td>\n",
       "    </tr>\n",
       "    <tr>\n",
       "      <th>787898</th>\n",
       "      <td>24019.55</td>\n",
       "      <td>24019.55</td>\n",
       "    </tr>\n",
       "    <tr>\n",
       "      <th>787899</th>\n",
       "      <td>30012.79</td>\n",
       "      <td>30012.79</td>\n",
       "    </tr>\n",
       "    <tr>\n",
       "      <th>787900</th>\n",
       "      <td>25722.97</td>\n",
       "      <td>25722.97</td>\n",
       "    </tr>\n",
       "    <tr>\n",
       "      <th>787901</th>\n",
       "      <td>7231.06</td>\n",
       "      <td>7231.06</td>\n",
       "    </tr>\n",
       "    <tr>\n",
       "      <th>787902</th>\n",
       "      <td>16354.17</td>\n",
       "      <td>16354.17</td>\n",
       "    </tr>\n",
       "    <tr>\n",
       "      <th>787903</th>\n",
       "      <td>10487.36</td>\n",
       "      <td>10487.36</td>\n",
       "    </tr>\n",
       "    <tr>\n",
       "      <th>787904</th>\n",
       "      <td>30066.28</td>\n",
       "      <td>30066.28</td>\n",
       "    </tr>\n",
       "    <tr>\n",
       "      <th>787905</th>\n",
       "      <td>17789.22</td>\n",
       "      <td>17789.22</td>\n",
       "    </tr>\n",
       "    <tr>\n",
       "      <th>787906</th>\n",
       "      <td>551.28</td>\n",
       "      <td>551.28</td>\n",
       "    </tr>\n",
       "    <tr>\n",
       "      <th>787907</th>\n",
       "      <td>36917.63</td>\n",
       "      <td>36917.63</td>\n",
       "    </tr>\n",
       "    <tr>\n",
       "      <th>787908</th>\n",
       "      <td>7400.17</td>\n",
       "      <td>7400.17</td>\n",
       "    </tr>\n",
       "    <tr>\n",
       "      <th>787909</th>\n",
       "      <td>38981.78</td>\n",
       "      <td>38981.78</td>\n",
       "    </tr>\n",
       "  </tbody>\n",
       "</table>\n",
       "<p>787910 rows × 2 columns</p>\n",
       "</div>"
      ],
      "text/plain": [
       "        total_pymnt  total_pymnt_inv\n",
       "0           5863.16          5833.84\n",
       "1           1014.53          1014.53\n",
       "2           3005.67          3005.67\n",
       "3          12231.89         12231.89\n",
       "4           4066.91          4066.91\n",
       "5           5632.21          5632.21\n",
       "6          10137.84         10137.84\n",
       "7           3939.14          3939.14\n",
       "8            647.50           647.50\n",
       "9           1484.59          1477.70\n",
       "10          7678.02          7678.02\n",
       "11         13947.99         13947.99\n",
       "12          2277.32          2277.32\n",
       "13          3480.27          3480.27\n",
       "14          7471.99          7471.99\n",
       "15          1270.72          1270.72\n",
       "16         12527.15         12527.15\n",
       "17          3785.27          3785.27\n",
       "18          7167.07          7167.07\n",
       "19          9460.00          9460.00\n",
       "20         27679.05         25433.60\n",
       "21         14034.60         14034.60\n",
       "22         11907.35         11907.35\n",
       "23         11540.89         11540.89\n",
       "24          2055.85          2055.85\n",
       "25         15824.00         15824.00\n",
       "26             0.00             0.00\n",
       "27          1611.16          1611.16\n",
       "28          4486.29          4486.29\n",
       "29         10126.09         10126.09\n",
       "...             ...              ...\n",
       "787880     18581.96         18581.96\n",
       "787881     11751.30         11751.30\n",
       "787882     27789.69         27789.69\n",
       "787883     20599.54         20599.54\n",
       "787884     14370.58         14370.58\n",
       "787885     15280.85         15280.85\n",
       "787886     10743.92         10743.92\n",
       "787887     26109.95         26109.95\n",
       "787888     23510.35         23510.35\n",
       "787889     10005.44         10005.44\n",
       "787890     15265.58         15265.58\n",
       "787891     40785.83         40785.83\n",
       "787892     24681.97         24681.97\n",
       "787893     27295.65         27295.65\n",
       "787894     35024.60         35024.60\n",
       "787895      1003.01          1003.01\n",
       "787896     13029.08         13029.08\n",
       "787897     37119.09         37119.09\n",
       "787898     24019.55         24019.55\n",
       "787899     30012.79         30012.79\n",
       "787900     25722.97         25722.97\n",
       "787901      7231.06          7231.06\n",
       "787902     16354.17         16354.17\n",
       "787903     10487.36         10487.36\n",
       "787904     30066.28         30066.28\n",
       "787905     17789.22         17789.22\n",
       "787906       551.28           551.28\n",
       "787907     36917.63         36917.63\n",
       "787908      7400.17          7400.17\n",
       "787909     38981.78         38981.78\n",
       "\n",
       "[787910 rows x 2 columns]"
      ]
     },
     "execution_count": 35,
     "metadata": {},
     "output_type": "execute_result"
    }
   ],
   "source": [
    "df[['total_pymnt','total_pymnt_inv']]"
   ]
  },
  {
   "cell_type": "code",
   "execution_count": 39,
   "metadata": {
    "collapsed": true
   },
   "outputs": [],
   "source": [
    "# drop total_pymnt_inv because of high correlation with total_pymnt\n",
    "df.drop(\"total_pymnt_inv\", axis=1, inplace=True)"
   ]
  },
  {
   "cell_type": "code",
   "execution_count": null,
   "metadata": {
    "collapsed": true
   },
   "outputs": [],
   "source": [
    "# pub_rec\n",
    "# pub_rec_bankruptcies\n",
    "# recoveries\n",
    "# total_coll_amt"
   ]
  },
  {
   "cell_type": "code",
   "execution_count": 48,
   "metadata": {
    "collapsed": false
   },
   "outputs": [
    {
     "data": {
      "text/plain": [
       "Index(['acc_open_past_24mths', 'addr_state', 'annual_inc', 'avg_cur_bal',\n",
       "       'bc_open_to_buy', 'bc_util', 'collection_recovery_fee', 'delinq_2yrs',\n",
       "       'dti', 'earliest_cr_line', 'emp_length', 'funded_amnt',\n",
       "       'funded_amnt_inv', 'grade', 'home_ownership', 'initial_list_status',\n",
       "       'inq_last_6mths', 'installment', 'int_rate', 'issue_d',\n",
       "       'last_credit_pull_d', 'last_pymnt_amnt', 'last_pymnt_d', 'loan_amnt',\n",
       "       'loan_status', 'mo_sin_old_il_acct', 'mo_sin_old_rev_tl_op',\n",
       "       'mo_sin_rcnt_rev_tl_op', 'mo_sin_rcnt_tl', 'mort_acc',\n",
       "       'mths_since_recent_bc', 'mths_since_recent_inq',\n",
       "       'num_accts_ever_120_pd', 'num_actv_bc_tl', 'num_actv_rev_tl',\n",
       "       'num_bc_sats', 'num_bc_tl', 'num_il_tl', 'num_op_rev_tl',\n",
       "       'num_rev_accts', 'num_rev_tl_bal_gt_0', 'num_sats',\n",
       "       'num_tl_op_past_12m', 'open_acc', 'pct_tl_nvr_dlq', 'percent_bc_gt_75',\n",
       "       'pub_rec', 'pub_rec_bankruptcies', 'purpose', 'recoveries', 'revol_bal',\n",
       "       'revol_util', 'term', 'tot_coll_amt', 'tot_cur_bal', 'tot_hi_cred_lim',\n",
       "       'total_acc', 'total_bal_ex_mort', 'total_bc_limit',\n",
       "       'total_il_high_credit_limit', 'total_pymnt', 'total_rec_int',\n",
       "       'total_rec_late_fee', 'total_rec_prncp', 'total_rev_hi_lim',\n",
       "       'verification_status'],\n",
       "      dtype='object')"
      ]
     },
     "execution_count": 48,
     "metadata": {},
     "output_type": "execute_result"
    }
   ],
   "source": [
    "df.columns"
   ]
  },
  {
   "cell_type": "code",
   "execution_count": 49,
   "metadata": {
    "collapsed": false
   },
   "outputs": [
    {
     "data": {
      "text/plain": [
       "mo_sin_old_il_acct       0.112674\n",
       "mo_sin_old_rev_tl_op     0.085705\n",
       "mo_sin_rcnt_rev_tl_op    0.085705\n",
       "mo_sin_rcnt_tl           0.085704\n",
       "mths_since_recent_bc     0.068910\n",
       "mths_since_recent_inq    0.146151\n",
       "dtype: float64"
      ]
     },
     "execution_count": 49,
     "metadata": {},
     "output_type": "execute_result"
    }
   ],
   "source": [
    "months_cols = ['mo_sin_old_il_acct', 'mo_sin_old_rev_tl_op',\n",
    "               'mo_sin_rcnt_rev_tl_op', 'mo_sin_rcnt_tl',\n",
    "               'mths_since_recent_bc', 'mths_since_recent_inq',]\n",
    "df[months_cols].isnull().sum()/df.shape[0]"
   ]
  },
  {
   "cell_type": "code",
   "execution_count": 51,
   "metadata": {
    "collapsed": false
   },
   "outputs": [
    {
     "data": {
      "text/plain": [
       "494"
      ]
     },
     "execution_count": 51,
     "metadata": {},
     "output_type": "execute_result"
    }
   ],
   "source": [
    "df['mo_sin_old_il_acct'].value_counts(normalize=True)"
   ]
  },
  {
   "cell_type": "code",
   "execution_count": 52,
   "metadata": {
    "collapsed": true
   },
   "outputs": [],
   "source": [
    "# drop months columns because they are so specific, don't seem to matter as much\n",
    "df.drop(months_cols, axis=1, inplace=True)"
   ]
  },
  {
   "cell_type": "code",
   "execution_count": 53,
   "metadata": {
    "collapsed": false,
    "scrolled": true
   },
   "outputs": [
    {
     "data": {
      "text/plain": [
       "(77053, 60)"
      ]
     },
     "execution_count": 53,
     "metadata": {},
     "output_type": "execute_result"
    }
   ],
   "source": [
    "df[df.isnull().any(axis=1)].shape"
   ]
  },
  {
   "cell_type": "code",
   "execution_count": 55,
   "metadata": {
    "collapsed": false,
    "scrolled": false
   },
   "outputs": [
    {
     "name": "stdout",
     "output_type": "stream",
     "text": [
      "pct_tl_nvr_dlq\n",
      "67662\n",
      "0.08587529032503713\n"
     ]
    }
   ],
   "source": [
    "# find column with most missing values\n",
    "col = df.count().idxmin()\n",
    "print(col)\n",
    "print(df[col].isnull().sum())\n",
    "print(df[col].isnull().sum()/df.shape[0])"
   ]
  },
  {
   "cell_type": "code",
   "execution_count": 56,
   "metadata": {
    "collapsed": false
   },
   "outputs": [
    {
     "data": {
      "text/plain": [
       "100.0    0.495925\n",
       "95.0     0.017208\n",
       "96.0     0.016274\n",
       "90.0     0.014924\n",
       "97.0     0.010816\n",
       "92.0     0.010070\n",
       "91.7     0.009044\n",
       "92.3     0.009004\n",
       "90.9     0.008897\n",
       "92.9     0.008723\n",
       "93.3     0.008601\n",
       "88.9     0.008442\n",
       "87.5     0.008336\n",
       "80.0     0.008287\n",
       "94.4     0.008106\n",
       "94.1     0.008099\n",
       "85.7     0.008087\n",
       "93.7     0.007939\n",
       "94.0     0.007706\n",
       "94.7     0.007703\n",
       "83.3     0.007482\n",
       "95.2     0.007393\n",
       "95.7     0.007386\n",
       "93.0     0.007236\n",
       "95.5     0.007131\n",
       "88.0     0.006660\n",
       "95.8     0.006333\n",
       "97.1     0.006302\n",
       "75.0     0.006062\n",
       "96.2     0.005998\n",
       "           ...   \n",
       "29.3     0.000001\n",
       "43.2     0.000001\n",
       "6.7      0.000001\n",
       "20.7     0.000001\n",
       "15.0     0.000001\n",
       "36.1     0.000001\n",
       "13.2     0.000001\n",
       "29.6     0.000001\n",
       "39.4     0.000001\n",
       "51.3     0.000001\n",
       "12.5     0.000001\n",
       "16.0     0.000001\n",
       "31.1     0.000001\n",
       "24.2     0.000001\n",
       "45.9     0.000001\n",
       "39.5     0.000001\n",
       "23.5     0.000001\n",
       "42.6     0.000001\n",
       "99.1     0.000001\n",
       "61.2     0.000001\n",
       "40.4     0.000001\n",
       "19.0     0.000001\n",
       "27.9     0.000001\n",
       "27.6     0.000001\n",
       "60.3     0.000001\n",
       "26.1     0.000001\n",
       "41.5     0.000001\n",
       "43.6     0.000001\n",
       "60.8     0.000001\n",
       "32.0     0.000001\n",
       "Name: pct_tl_nvr_dlq, Length: 577, dtype: float64"
      ]
     },
     "execution_count": 56,
     "metadata": {},
     "output_type": "execute_result"
    }
   ],
   "source": [
    "df['pct_tl_nvr_dlq'].value_counts(normalize=True)"
   ]
  },
  {
   "cell_type": "code",
   "execution_count": 57,
   "metadata": {
    "collapsed": true
   },
   "outputs": [],
   "source": [
    "null_data = df[df.isnull().any(axis=1)]"
   ]
  },
  {
   "cell_type": "code",
   "execution_count": 63,
   "metadata": {
    "collapsed": false
   },
   "outputs": [
    {
     "data": {
      "text/plain": [
       "Index(['acc_open_past_24mths', 'addr_state', 'annual_inc', 'avg_cur_bal',\n",
       "       'bc_open_to_buy', 'bc_util', 'collection_recovery_fee', 'delinq_2yrs',\n",
       "       'dti', 'earliest_cr_line', 'emp_length', 'funded_amnt',\n",
       "       'funded_amnt_inv', 'grade', 'home_ownership', 'initial_list_status',\n",
       "       'inq_last_6mths', 'installment', 'int_rate', 'issue_d',\n",
       "       'last_credit_pull_d', 'last_pymnt_amnt', 'last_pymnt_d', 'loan_amnt',\n",
       "       'loan_status', 'mort_acc', 'num_accts_ever_120_pd', 'num_actv_bc_tl',\n",
       "       'num_actv_rev_tl', 'num_bc_sats', 'num_bc_tl', 'num_il_tl',\n",
       "       'num_op_rev_tl', 'num_rev_accts', 'num_rev_tl_bal_gt_0', 'num_sats',\n",
       "       'num_tl_op_past_12m', 'open_acc', 'pct_tl_nvr_dlq', 'percent_bc_gt_75',\n",
       "       'pub_rec', 'pub_rec_bankruptcies', 'purpose', 'recoveries', 'revol_bal',\n",
       "       'revol_util', 'term', 'tot_coll_amt', 'tot_cur_bal', 'tot_hi_cred_lim',\n",
       "       'total_acc', 'total_bal_ex_mort', 'total_bc_limit',\n",
       "       'total_il_high_credit_limit', 'total_pymnt', 'total_rec_int',\n",
       "       'total_rec_late_fee', 'total_rec_prncp', 'total_rev_hi_lim',\n",
       "       'verification_status'],\n",
       "      dtype='object')"
      ]
     },
     "execution_count": 63,
     "metadata": {},
     "output_type": "execute_result"
    }
   ],
   "source": [
    "df.columns"
   ]
  },
  {
   "cell_type": "code",
   "execution_count": 58,
   "metadata": {
    "collapsed": false
   },
   "outputs": [
    {
     "data": {
      "text/html": [
       "<div>\n",
       "<style>\n",
       "    .dataframe thead tr:only-child th {\n",
       "        text-align: right;\n",
       "    }\n",
       "\n",
       "    .dataframe thead th {\n",
       "        text-align: left;\n",
       "    }\n",
       "\n",
       "    .dataframe tbody tr th {\n",
       "        vertical-align: top;\n",
       "    }\n",
       "</style>\n",
       "<table border=\"1\" class=\"dataframe\">\n",
       "  <thead>\n",
       "    <tr style=\"text-align: right;\">\n",
       "      <th></th>\n",
       "      <th>acc_open_past_24mths</th>\n",
       "      <th>addr_state</th>\n",
       "      <th>annual_inc</th>\n",
       "      <th>avg_cur_bal</th>\n",
       "      <th>bc_open_to_buy</th>\n",
       "      <th>bc_util</th>\n",
       "      <th>collection_recovery_fee</th>\n",
       "      <th>delinq_2yrs</th>\n",
       "      <th>dti</th>\n",
       "      <th>earliest_cr_line</th>\n",
       "      <th>...</th>\n",
       "      <th>total_acc</th>\n",
       "      <th>total_bal_ex_mort</th>\n",
       "      <th>total_bc_limit</th>\n",
       "      <th>total_il_high_credit_limit</th>\n",
       "      <th>total_pymnt</th>\n",
       "      <th>total_rec_int</th>\n",
       "      <th>total_rec_late_fee</th>\n",
       "      <th>total_rec_prncp</th>\n",
       "      <th>total_rev_hi_lim</th>\n",
       "      <th>verification_status</th>\n",
       "    </tr>\n",
       "  </thead>\n",
       "  <tbody>\n",
       "    <tr>\n",
       "      <th>0</th>\n",
       "      <td>NaN</td>\n",
       "      <td>AZ</td>\n",
       "      <td>24000.00</td>\n",
       "      <td>NaN</td>\n",
       "      <td>NaN</td>\n",
       "      <td>NaN</td>\n",
       "      <td>0.0000</td>\n",
       "      <td>0.0</td>\n",
       "      <td>27.65</td>\n",
       "      <td>1985-01-01</td>\n",
       "      <td>...</td>\n",
       "      <td>9.0</td>\n",
       "      <td>NaN</td>\n",
       "      <td>NaN</td>\n",
       "      <td>NaN</td>\n",
       "      <td>5863.16</td>\n",
       "      <td>863.16</td>\n",
       "      <td>0.00</td>\n",
       "      <td>5000.00</td>\n",
       "      <td>NaN</td>\n",
       "      <td>Verified</td>\n",
       "    </tr>\n",
       "    <tr>\n",
       "      <th>1</th>\n",
       "      <td>NaN</td>\n",
       "      <td>GA</td>\n",
       "      <td>30000.00</td>\n",
       "      <td>NaN</td>\n",
       "      <td>NaN</td>\n",
       "      <td>NaN</td>\n",
       "      <td>1.1100</td>\n",
       "      <td>0.0</td>\n",
       "      <td>1.00</td>\n",
       "      <td>1999-04-01</td>\n",
       "      <td>...</td>\n",
       "      <td>4.0</td>\n",
       "      <td>NaN</td>\n",
       "      <td>NaN</td>\n",
       "      <td>NaN</td>\n",
       "      <td>1014.53</td>\n",
       "      <td>435.17</td>\n",
       "      <td>0.00</td>\n",
       "      <td>456.46</td>\n",
       "      <td>NaN</td>\n",
       "      <td>Source Verified</td>\n",
       "    </tr>\n",
       "    <tr>\n",
       "      <th>2</th>\n",
       "      <td>NaN</td>\n",
       "      <td>IL</td>\n",
       "      <td>12252.00</td>\n",
       "      <td>NaN</td>\n",
       "      <td>NaN</td>\n",
       "      <td>NaN</td>\n",
       "      <td>0.0000</td>\n",
       "      <td>0.0</td>\n",
       "      <td>8.72</td>\n",
       "      <td>2001-11-01</td>\n",
       "      <td>...</td>\n",
       "      <td>10.0</td>\n",
       "      <td>NaN</td>\n",
       "      <td>NaN</td>\n",
       "      <td>NaN</td>\n",
       "      <td>3005.67</td>\n",
       "      <td>605.67</td>\n",
       "      <td>0.00</td>\n",
       "      <td>2400.00</td>\n",
       "      <td>NaN</td>\n",
       "      <td>Not Verified</td>\n",
       "    </tr>\n",
       "    <tr>\n",
       "      <th>3</th>\n",
       "      <td>NaN</td>\n",
       "      <td>CA</td>\n",
       "      <td>49200.00</td>\n",
       "      <td>NaN</td>\n",
       "      <td>NaN</td>\n",
       "      <td>NaN</td>\n",
       "      <td>0.0000</td>\n",
       "      <td>0.0</td>\n",
       "      <td>20.00</td>\n",
       "      <td>1996-02-01</td>\n",
       "      <td>...</td>\n",
       "      <td>37.0</td>\n",
       "      <td>NaN</td>\n",
       "      <td>NaN</td>\n",
       "      <td>NaN</td>\n",
       "      <td>12231.89</td>\n",
       "      <td>2214.92</td>\n",
       "      <td>16.97</td>\n",
       "      <td>10000.00</td>\n",
       "      <td>NaN</td>\n",
       "      <td>Source Verified</td>\n",
       "    </tr>\n",
       "    <tr>\n",
       "      <th>4</th>\n",
       "      <td>NaN</td>\n",
       "      <td>OR</td>\n",
       "      <td>80000.00</td>\n",
       "      <td>NaN</td>\n",
       "      <td>NaN</td>\n",
       "      <td>NaN</td>\n",
       "      <td>0.0000</td>\n",
       "      <td>0.0</td>\n",
       "      <td>17.94</td>\n",
       "      <td>1996-01-01</td>\n",
       "      <td>...</td>\n",
       "      <td>38.0</td>\n",
       "      <td>NaN</td>\n",
       "      <td>NaN</td>\n",
       "      <td>NaN</td>\n",
       "      <td>4066.91</td>\n",
       "      <td>1066.91</td>\n",
       "      <td>0.00</td>\n",
       "      <td>3000.00</td>\n",
       "      <td>NaN</td>\n",
       "      <td>Source Verified</td>\n",
       "    </tr>\n",
       "    <tr>\n",
       "      <th>5</th>\n",
       "      <td>NaN</td>\n",
       "      <td>AZ</td>\n",
       "      <td>36000.00</td>\n",
       "      <td>NaN</td>\n",
       "      <td>NaN</td>\n",
       "      <td>NaN</td>\n",
       "      <td>0.0000</td>\n",
       "      <td>0.0</td>\n",
       "      <td>11.20</td>\n",
       "      <td>2004-11-01</td>\n",
       "      <td>...</td>\n",
       "      <td>12.0</td>\n",
       "      <td>NaN</td>\n",
       "      <td>NaN</td>\n",
       "      <td>NaN</td>\n",
       "      <td>5632.21</td>\n",
       "      <td>632.21</td>\n",
       "      <td>0.00</td>\n",
       "      <td>5000.00</td>\n",
       "      <td>NaN</td>\n",
       "      <td>Source Verified</td>\n",
       "    </tr>\n",
       "    <tr>\n",
       "      <th>6</th>\n",
       "      <td>NaN</td>\n",
       "      <td>NC</td>\n",
       "      <td>47004.00</td>\n",
       "      <td>NaN</td>\n",
       "      <td>NaN</td>\n",
       "      <td>NaN</td>\n",
       "      <td>0.0000</td>\n",
       "      <td>0.0</td>\n",
       "      <td>23.51</td>\n",
       "      <td>2005-07-01</td>\n",
       "      <td>...</td>\n",
       "      <td>11.0</td>\n",
       "      <td>NaN</td>\n",
       "      <td>NaN</td>\n",
       "      <td>NaN</td>\n",
       "      <td>10137.84</td>\n",
       "      <td>3137.84</td>\n",
       "      <td>0.00</td>\n",
       "      <td>7000.00</td>\n",
       "      <td>NaN</td>\n",
       "      <td>Not Verified</td>\n",
       "    </tr>\n",
       "    <tr>\n",
       "      <th>7</th>\n",
       "      <td>NaN</td>\n",
       "      <td>CA</td>\n",
       "      <td>48000.00</td>\n",
       "      <td>NaN</td>\n",
       "      <td>NaN</td>\n",
       "      <td>NaN</td>\n",
       "      <td>0.0000</td>\n",
       "      <td>0.0</td>\n",
       "      <td>5.35</td>\n",
       "      <td>2007-01-01</td>\n",
       "      <td>...</td>\n",
       "      <td>4.0</td>\n",
       "      <td>NaN</td>\n",
       "      <td>NaN</td>\n",
       "      <td>NaN</td>\n",
       "      <td>3939.14</td>\n",
       "      <td>939.14</td>\n",
       "      <td>0.00</td>\n",
       "      <td>3000.00</td>\n",
       "      <td>NaN</td>\n",
       "      <td>Source Verified</td>\n",
       "    </tr>\n",
       "    <tr>\n",
       "      <th>8</th>\n",
       "      <td>NaN</td>\n",
       "      <td>CA</td>\n",
       "      <td>40000.00</td>\n",
       "      <td>NaN</td>\n",
       "      <td>NaN</td>\n",
       "      <td>NaN</td>\n",
       "      <td>2.0900</td>\n",
       "      <td>0.0</td>\n",
       "      <td>5.55</td>\n",
       "      <td>2004-04-01</td>\n",
       "      <td>...</td>\n",
       "      <td>13.0</td>\n",
       "      <td>NaN</td>\n",
       "      <td>NaN</td>\n",
       "      <td>NaN</td>\n",
       "      <td>647.50</td>\n",
       "      <td>294.94</td>\n",
       "      <td>0.00</td>\n",
       "      <td>162.02</td>\n",
       "      <td>NaN</td>\n",
       "      <td>Source Verified</td>\n",
       "    </tr>\n",
       "    <tr>\n",
       "      <th>9</th>\n",
       "      <td>NaN</td>\n",
       "      <td>TX</td>\n",
       "      <td>15000.00</td>\n",
       "      <td>NaN</td>\n",
       "      <td>NaN</td>\n",
       "      <td>NaN</td>\n",
       "      <td>2.5200</td>\n",
       "      <td>0.0</td>\n",
       "      <td>18.08</td>\n",
       "      <td>2004-09-01</td>\n",
       "      <td>...</td>\n",
       "      <td>3.0</td>\n",
       "      <td>NaN</td>\n",
       "      <td>NaN</td>\n",
       "      <td>NaN</td>\n",
       "      <td>1484.59</td>\n",
       "      <td>533.42</td>\n",
       "      <td>0.00</td>\n",
       "      <td>673.48</td>\n",
       "      <td>NaN</td>\n",
       "      <td>Verified</td>\n",
       "    </tr>\n",
       "    <tr>\n",
       "      <th>10</th>\n",
       "      <td>NaN</td>\n",
       "      <td>AZ</td>\n",
       "      <td>72000.00</td>\n",
       "      <td>NaN</td>\n",
       "      <td>NaN</td>\n",
       "      <td>NaN</td>\n",
       "      <td>0.0000</td>\n",
       "      <td>0.0</td>\n",
       "      <td>16.12</td>\n",
       "      <td>1998-01-01</td>\n",
       "      <td>...</td>\n",
       "      <td>23.0</td>\n",
       "      <td>NaN</td>\n",
       "      <td>NaN</td>\n",
       "      <td>NaN</td>\n",
       "      <td>7678.02</td>\n",
       "      <td>1178.02</td>\n",
       "      <td>0.00</td>\n",
       "      <td>6500.00</td>\n",
       "      <td>NaN</td>\n",
       "      <td>Not Verified</td>\n",
       "    </tr>\n",
       "    <tr>\n",
       "      <th>11</th>\n",
       "      <td>NaN</td>\n",
       "      <td>CA</td>\n",
       "      <td>75000.00</td>\n",
       "      <td>NaN</td>\n",
       "      <td>NaN</td>\n",
       "      <td>NaN</td>\n",
       "      <td>0.0000</td>\n",
       "      <td>0.0</td>\n",
       "      <td>10.78</td>\n",
       "      <td>1989-10-01</td>\n",
       "      <td>...</td>\n",
       "      <td>34.0</td>\n",
       "      <td>NaN</td>\n",
       "      <td>NaN</td>\n",
       "      <td>NaN</td>\n",
       "      <td>13947.99</td>\n",
       "      <td>1947.99</td>\n",
       "      <td>0.00</td>\n",
       "      <td>12000.00</td>\n",
       "      <td>NaN</td>\n",
       "      <td>Source Verified</td>\n",
       "    </tr>\n",
       "    <tr>\n",
       "      <th>12</th>\n",
       "      <td>NaN</td>\n",
       "      <td>VA</td>\n",
       "      <td>30000.00</td>\n",
       "      <td>NaN</td>\n",
       "      <td>NaN</td>\n",
       "      <td>NaN</td>\n",
       "      <td>4.1600</td>\n",
       "      <td>0.0</td>\n",
       "      <td>10.08</td>\n",
       "      <td>2004-04-01</td>\n",
       "      <td>...</td>\n",
       "      <td>9.0</td>\n",
       "      <td>NaN</td>\n",
       "      <td>NaN</td>\n",
       "      <td>NaN</td>\n",
       "      <td>2277.32</td>\n",
       "      <td>570.26</td>\n",
       "      <td>0.00</td>\n",
       "      <td>1256.14</td>\n",
       "      <td>NaN</td>\n",
       "      <td>Source Verified</td>\n",
       "    </tr>\n",
       "    <tr>\n",
       "      <th>13</th>\n",
       "      <td>NaN</td>\n",
       "      <td>IL</td>\n",
       "      <td>15000.00</td>\n",
       "      <td>NaN</td>\n",
       "      <td>NaN</td>\n",
       "      <td>NaN</td>\n",
       "      <td>0.0000</td>\n",
       "      <td>0.0</td>\n",
       "      <td>12.56</td>\n",
       "      <td>2003-07-01</td>\n",
       "      <td>...</td>\n",
       "      <td>11.0</td>\n",
       "      <td>NaN</td>\n",
       "      <td>NaN</td>\n",
       "      <td>NaN</td>\n",
       "      <td>3480.27</td>\n",
       "      <td>480.27</td>\n",
       "      <td>0.00</td>\n",
       "      <td>3000.00</td>\n",
       "      <td>NaN</td>\n",
       "      <td>Source Verified</td>\n",
       "    </tr>\n",
       "    <tr>\n",
       "      <th>14</th>\n",
       "      <td>NaN</td>\n",
       "      <td>CA</td>\n",
       "      <td>100000.00</td>\n",
       "      <td>NaN</td>\n",
       "      <td>NaN</td>\n",
       "      <td>NaN</td>\n",
       "      <td>6.3145</td>\n",
       "      <td>0.0</td>\n",
       "      <td>7.06</td>\n",
       "      <td>1991-05-01</td>\n",
       "      <td>...</td>\n",
       "      <td>29.0</td>\n",
       "      <td>NaN</td>\n",
       "      <td>NaN</td>\n",
       "      <td>NaN</td>\n",
       "      <td>7471.99</td>\n",
       "      <td>1393.42</td>\n",
       "      <td>0.00</td>\n",
       "      <td>5433.47</td>\n",
       "      <td>NaN</td>\n",
       "      <td>Source Verified</td>\n",
       "    </tr>\n",
       "    <tr>\n",
       "      <th>15</th>\n",
       "      <td>NaN</td>\n",
       "      <td>MO</td>\n",
       "      <td>28000.00</td>\n",
       "      <td>NaN</td>\n",
       "      <td>NaN</td>\n",
       "      <td>NaN</td>\n",
       "      <td>0.0000</td>\n",
       "      <td>0.0</td>\n",
       "      <td>20.31</td>\n",
       "      <td>2007-09-01</td>\n",
       "      <td>...</td>\n",
       "      <td>23.0</td>\n",
       "      <td>NaN</td>\n",
       "      <td>NaN</td>\n",
       "      <td>NaN</td>\n",
       "      <td>1270.72</td>\n",
       "      <td>270.72</td>\n",
       "      <td>0.00</td>\n",
       "      <td>1000.00</td>\n",
       "      <td>NaN</td>\n",
       "      <td>Not Verified</td>\n",
       "    </tr>\n",
       "    <tr>\n",
       "      <th>16</th>\n",
       "      <td>NaN</td>\n",
       "      <td>CA</td>\n",
       "      <td>42000.00</td>\n",
       "      <td>NaN</td>\n",
       "      <td>NaN</td>\n",
       "      <td>NaN</td>\n",
       "      <td>0.0000</td>\n",
       "      <td>0.0</td>\n",
       "      <td>18.60</td>\n",
       "      <td>1998-10-01</td>\n",
       "      <td>...</td>\n",
       "      <td>28.0</td>\n",
       "      <td>NaN</td>\n",
       "      <td>NaN</td>\n",
       "      <td>NaN</td>\n",
       "      <td>12527.15</td>\n",
       "      <td>2527.15</td>\n",
       "      <td>0.00</td>\n",
       "      <td>10000.00</td>\n",
       "      <td>NaN</td>\n",
       "      <td>Not Verified</td>\n",
       "    </tr>\n",
       "    <tr>\n",
       "      <th>17</th>\n",
       "      <td>NaN</td>\n",
       "      <td>CT</td>\n",
       "      <td>110000.00</td>\n",
       "      <td>NaN</td>\n",
       "      <td>NaN</td>\n",
       "      <td>NaN</td>\n",
       "      <td>0.0000</td>\n",
       "      <td>0.0</td>\n",
       "      <td>10.52</td>\n",
       "      <td>1993-08-01</td>\n",
       "      <td>...</td>\n",
       "      <td>42.0</td>\n",
       "      <td>NaN</td>\n",
       "      <td>NaN</td>\n",
       "      <td>NaN</td>\n",
       "      <td>3785.27</td>\n",
       "      <td>185.27</td>\n",
       "      <td>0.00</td>\n",
       "      <td>3600.00</td>\n",
       "      <td>NaN</td>\n",
       "      <td>Not Verified</td>\n",
       "    </tr>\n",
       "    <tr>\n",
       "      <th>18</th>\n",
       "      <td>NaN</td>\n",
       "      <td>UT</td>\n",
       "      <td>84000.00</td>\n",
       "      <td>NaN</td>\n",
       "      <td>NaN</td>\n",
       "      <td>NaN</td>\n",
       "      <td>0.0000</td>\n",
       "      <td>2.0</td>\n",
       "      <td>18.44</td>\n",
       "      <td>2003-10-01</td>\n",
       "      <td>...</td>\n",
       "      <td>14.0</td>\n",
       "      <td>NaN</td>\n",
       "      <td>NaN</td>\n",
       "      <td>NaN</td>\n",
       "      <td>7167.07</td>\n",
       "      <td>1152.07</td>\n",
       "      <td>15.00</td>\n",
       "      <td>6000.00</td>\n",
       "      <td>NaN</td>\n",
       "      <td>Verified</td>\n",
       "    </tr>\n",
       "    <tr>\n",
       "      <th>19</th>\n",
       "      <td>NaN</td>\n",
       "      <td>CA</td>\n",
       "      <td>77385.19</td>\n",
       "      <td>NaN</td>\n",
       "      <td>NaN</td>\n",
       "      <td>NaN</td>\n",
       "      <td>0.0000</td>\n",
       "      <td>0.0</td>\n",
       "      <td>9.86</td>\n",
       "      <td>2001-01-01</td>\n",
       "      <td>...</td>\n",
       "      <td>28.0</td>\n",
       "      <td>NaN</td>\n",
       "      <td>NaN</td>\n",
       "      <td>NaN</td>\n",
       "      <td>9460.00</td>\n",
       "      <td>260.00</td>\n",
       "      <td>0.00</td>\n",
       "      <td>9200.00</td>\n",
       "      <td>NaN</td>\n",
       "      <td>Not Verified</td>\n",
       "    </tr>\n",
       "    <tr>\n",
       "      <th>20</th>\n",
       "      <td>NaN</td>\n",
       "      <td>TX</td>\n",
       "      <td>43370.00</td>\n",
       "      <td>NaN</td>\n",
       "      <td>NaN</td>\n",
       "      <td>NaN</td>\n",
       "      <td>0.0000</td>\n",
       "      <td>0.0</td>\n",
       "      <td>26.53</td>\n",
       "      <td>1997-11-01</td>\n",
       "      <td>...</td>\n",
       "      <td>22.0</td>\n",
       "      <td>NaN</td>\n",
       "      <td>NaN</td>\n",
       "      <td>NaN</td>\n",
       "      <td>27679.05</td>\n",
       "      <td>7429.05</td>\n",
       "      <td>0.00</td>\n",
       "      <td>20250.00</td>\n",
       "      <td>NaN</td>\n",
       "      <td>Verified</td>\n",
       "    </tr>\n",
       "    <tr>\n",
       "      <th>21</th>\n",
       "      <td>NaN</td>\n",
       "      <td>FL</td>\n",
       "      <td>105000.00</td>\n",
       "      <td>NaN</td>\n",
       "      <td>NaN</td>\n",
       "      <td>NaN</td>\n",
       "      <td>0.0000</td>\n",
       "      <td>0.0</td>\n",
       "      <td>13.22</td>\n",
       "      <td>1983-02-01</td>\n",
       "      <td>...</td>\n",
       "      <td>38.0</td>\n",
       "      <td>NaN</td>\n",
       "      <td>NaN</td>\n",
       "      <td>NaN</td>\n",
       "      <td>14034.60</td>\n",
       "      <td>3330.44</td>\n",
       "      <td>0.00</td>\n",
       "      <td>10694.96</td>\n",
       "      <td>NaN</td>\n",
       "      <td>Verified</td>\n",
       "    </tr>\n",
       "    <tr>\n",
       "      <th>22</th>\n",
       "      <td>NaN</td>\n",
       "      <td>TX</td>\n",
       "      <td>50000.00</td>\n",
       "      <td>NaN</td>\n",
       "      <td>NaN</td>\n",
       "      <td>NaN</td>\n",
       "      <td>0.0000</td>\n",
       "      <td>0.0</td>\n",
       "      <td>11.18</td>\n",
       "      <td>1985-07-01</td>\n",
       "      <td>...</td>\n",
       "      <td>21.0</td>\n",
       "      <td>NaN</td>\n",
       "      <td>NaN</td>\n",
       "      <td>NaN</td>\n",
       "      <td>11907.35</td>\n",
       "      <td>1907.35</td>\n",
       "      <td>0.00</td>\n",
       "      <td>10000.00</td>\n",
       "      <td>NaN</td>\n",
       "      <td>Source Verified</td>\n",
       "    </tr>\n",
       "    <tr>\n",
       "      <th>23</th>\n",
       "      <td>NaN</td>\n",
       "      <td>CA</td>\n",
       "      <td>50000.00</td>\n",
       "      <td>NaN</td>\n",
       "      <td>NaN</td>\n",
       "      <td>NaN</td>\n",
       "      <td>0.0000</td>\n",
       "      <td>0.0</td>\n",
       "      <td>16.01</td>\n",
       "      <td>2003-04-01</td>\n",
       "      <td>...</td>\n",
       "      <td>17.0</td>\n",
       "      <td>NaN</td>\n",
       "      <td>NaN</td>\n",
       "      <td>NaN</td>\n",
       "      <td>11540.89</td>\n",
       "      <td>1540.89</td>\n",
       "      <td>0.00</td>\n",
       "      <td>10000.00</td>\n",
       "      <td>NaN</td>\n",
       "      <td>Not Verified</td>\n",
       "    </tr>\n",
       "    <tr>\n",
       "      <th>24</th>\n",
       "      <td>NaN</td>\n",
       "      <td>CA</td>\n",
       "      <td>76000.00</td>\n",
       "      <td>NaN</td>\n",
       "      <td>NaN</td>\n",
       "      <td>NaN</td>\n",
       "      <td>2.5700</td>\n",
       "      <td>0.0</td>\n",
       "      <td>2.40</td>\n",
       "      <td>2001-06-01</td>\n",
       "      <td>...</td>\n",
       "      <td>7.0</td>\n",
       "      <td>NaN</td>\n",
       "      <td>NaN</td>\n",
       "      <td>NaN</td>\n",
       "      <td>2055.85</td>\n",
       "      <td>475.25</td>\n",
       "      <td>0.00</td>\n",
       "      <td>1305.58</td>\n",
       "      <td>NaN</td>\n",
       "      <td>Not Verified</td>\n",
       "    </tr>\n",
       "    <tr>\n",
       "      <th>25</th>\n",
       "      <td>NaN</td>\n",
       "      <td>IL</td>\n",
       "      <td>92000.00</td>\n",
       "      <td>NaN</td>\n",
       "      <td>NaN</td>\n",
       "      <td>NaN</td>\n",
       "      <td>0.0000</td>\n",
       "      <td>0.0</td>\n",
       "      <td>29.44</td>\n",
       "      <td>2002-02-01</td>\n",
       "      <td>...</td>\n",
       "      <td>31.0</td>\n",
       "      <td>NaN</td>\n",
       "      <td>NaN</td>\n",
       "      <td>NaN</td>\n",
       "      <td>15824.00</td>\n",
       "      <td>824.00</td>\n",
       "      <td>0.00</td>\n",
       "      <td>15000.00</td>\n",
       "      <td>NaN</td>\n",
       "      <td>Verified</td>\n",
       "    </tr>\n",
       "    <tr>\n",
       "      <th>26</th>\n",
       "      <td>NaN</td>\n",
       "      <td>NY</td>\n",
       "      <td>60000.00</td>\n",
       "      <td>NaN</td>\n",
       "      <td>NaN</td>\n",
       "      <td>NaN</td>\n",
       "      <td>0.0000</td>\n",
       "      <td>0.0</td>\n",
       "      <td>15.22</td>\n",
       "      <td>2003-10-01</td>\n",
       "      <td>...</td>\n",
       "      <td>11.0</td>\n",
       "      <td>NaN</td>\n",
       "      <td>NaN</td>\n",
       "      <td>NaN</td>\n",
       "      <td>0.00</td>\n",
       "      <td>0.00</td>\n",
       "      <td>0.00</td>\n",
       "      <td>0.00</td>\n",
       "      <td>NaN</td>\n",
       "      <td>Not Verified</td>\n",
       "    </tr>\n",
       "    <tr>\n",
       "      <th>27</th>\n",
       "      <td>NaN</td>\n",
       "      <td>PA</td>\n",
       "      <td>50004.00</td>\n",
       "      <td>NaN</td>\n",
       "      <td>NaN</td>\n",
       "      <td>NaN</td>\n",
       "      <td>2.3000</td>\n",
       "      <td>3.0</td>\n",
       "      <td>13.97</td>\n",
       "      <td>2003-10-01</td>\n",
       "      <td>...</td>\n",
       "      <td>22.0</td>\n",
       "      <td>NaN</td>\n",
       "      <td>NaN</td>\n",
       "      <td>NaN</td>\n",
       "      <td>1611.16</td>\n",
       "      <td>719.11</td>\n",
       "      <td>0.00</td>\n",
       "      <td>629.05</td>\n",
       "      <td>NaN</td>\n",
       "      <td>Not Verified</td>\n",
       "    </tr>\n",
       "    <tr>\n",
       "      <th>28</th>\n",
       "      <td>NaN</td>\n",
       "      <td>FL</td>\n",
       "      <td>106000.00</td>\n",
       "      <td>NaN</td>\n",
       "      <td>NaN</td>\n",
       "      <td>NaN</td>\n",
       "      <td>0.0000</td>\n",
       "      <td>1.0</td>\n",
       "      <td>5.63</td>\n",
       "      <td>1984-08-01</td>\n",
       "      <td>...</td>\n",
       "      <td>44.0</td>\n",
       "      <td>NaN</td>\n",
       "      <td>NaN</td>\n",
       "      <td>NaN</td>\n",
       "      <td>4486.29</td>\n",
       "      <td>486.29</td>\n",
       "      <td>0.00</td>\n",
       "      <td>4000.00</td>\n",
       "      <td>NaN</td>\n",
       "      <td>Not Verified</td>\n",
       "    </tr>\n",
       "    <tr>\n",
       "      <th>29</th>\n",
       "      <td>NaN</td>\n",
       "      <td>MN</td>\n",
       "      <td>25000.00</td>\n",
       "      <td>NaN</td>\n",
       "      <td>NaN</td>\n",
       "      <td>NaN</td>\n",
       "      <td>0.0000</td>\n",
       "      <td>0.0</td>\n",
       "      <td>12.19</td>\n",
       "      <td>2006-11-01</td>\n",
       "      <td>...</td>\n",
       "      <td>12.0</td>\n",
       "      <td>NaN</td>\n",
       "      <td>NaN</td>\n",
       "      <td>NaN</td>\n",
       "      <td>10126.09</td>\n",
       "      <td>1626.09</td>\n",
       "      <td>0.00</td>\n",
       "      <td>8500.00</td>\n",
       "      <td>NaN</td>\n",
       "      <td>Source Verified</td>\n",
       "    </tr>\n",
       "    <tr>\n",
       "      <th>...</th>\n",
       "      <td>...</td>\n",
       "      <td>...</td>\n",
       "      <td>...</td>\n",
       "      <td>...</td>\n",
       "      <td>...</td>\n",
       "      <td>...</td>\n",
       "      <td>...</td>\n",
       "      <td>...</td>\n",
       "      <td>...</td>\n",
       "      <td>...</td>\n",
       "      <td>...</td>\n",
       "      <td>...</td>\n",
       "      <td>...</td>\n",
       "      <td>...</td>\n",
       "      <td>...</td>\n",
       "      <td>...</td>\n",
       "      <td>...</td>\n",
       "      <td>...</td>\n",
       "      <td>...</td>\n",
       "      <td>...</td>\n",
       "      <td>...</td>\n",
       "    </tr>\n",
       "    <tr>\n",
       "      <th>786384</th>\n",
       "      <td>7.0</td>\n",
       "      <td>TX</td>\n",
       "      <td>22800.00</td>\n",
       "      <td>681.0</td>\n",
       "      <td>NaN</td>\n",
       "      <td>NaN</td>\n",
       "      <td>0.0000</td>\n",
       "      <td>1.0</td>\n",
       "      <td>15.84</td>\n",
       "      <td>1972-04-01</td>\n",
       "      <td>...</td>\n",
       "      <td>38.0</td>\n",
       "      <td>4768.0</td>\n",
       "      <td>0.0</td>\n",
       "      <td>3540.0</td>\n",
       "      <td>4969.28</td>\n",
       "      <td>169.28</td>\n",
       "      <td>0.00</td>\n",
       "      <td>4800.00</td>\n",
       "      <td>11400.0</td>\n",
       "      <td>Source Verified</td>\n",
       "    </tr>\n",
       "    <tr>\n",
       "      <th>786457</th>\n",
       "      <td>3.0</td>\n",
       "      <td>CA</td>\n",
       "      <td>105000.00</td>\n",
       "      <td>183541.0</td>\n",
       "      <td>NaN</td>\n",
       "      <td>NaN</td>\n",
       "      <td>0.0000</td>\n",
       "      <td>0.0</td>\n",
       "      <td>0.29</td>\n",
       "      <td>2009-10-01</td>\n",
       "      <td>...</td>\n",
       "      <td>13.0</td>\n",
       "      <td>26.0</td>\n",
       "      <td>0.0</td>\n",
       "      <td>0.0</td>\n",
       "      <td>6179.56</td>\n",
       "      <td>179.56</td>\n",
       "      <td>0.00</td>\n",
       "      <td>6000.00</td>\n",
       "      <td>1700.0</td>\n",
       "      <td>Source Verified</td>\n",
       "    </tr>\n",
       "    <tr>\n",
       "      <th>786460</th>\n",
       "      <td>9.0</td>\n",
       "      <td>CO</td>\n",
       "      <td>80000.00</td>\n",
       "      <td>33938.0</td>\n",
       "      <td>1481.0</td>\n",
       "      <td>NaN</td>\n",
       "      <td>0.0000</td>\n",
       "      <td>1.0</td>\n",
       "      <td>12.84</td>\n",
       "      <td>2005-11-01</td>\n",
       "      <td>...</td>\n",
       "      <td>32.0</td>\n",
       "      <td>20760.0</td>\n",
       "      <td>1500.0</td>\n",
       "      <td>26959.0</td>\n",
       "      <td>18570.89</td>\n",
       "      <td>570.89</td>\n",
       "      <td>0.00</td>\n",
       "      <td>18000.00</td>\n",
       "      <td>20000.0</td>\n",
       "      <td>Verified</td>\n",
       "    </tr>\n",
       "    <tr>\n",
       "      <th>786471</th>\n",
       "      <td>0.0</td>\n",
       "      <td>MI</td>\n",
       "      <td>33000.00</td>\n",
       "      <td>3466.0</td>\n",
       "      <td>NaN</td>\n",
       "      <td>NaN</td>\n",
       "      <td>0.0000</td>\n",
       "      <td>1.0</td>\n",
       "      <td>8.22</td>\n",
       "      <td>2006-06-01</td>\n",
       "      <td>...</td>\n",
       "      <td>39.0</td>\n",
       "      <td>34655.0</td>\n",
       "      <td>0.0</td>\n",
       "      <td>32923.0</td>\n",
       "      <td>8033.36</td>\n",
       "      <td>33.36</td>\n",
       "      <td>0.00</td>\n",
       "      <td>8000.00</td>\n",
       "      <td>0.0</td>\n",
       "      <td>Not Verified</td>\n",
       "    </tr>\n",
       "    <tr>\n",
       "      <th>786493</th>\n",
       "      <td>7.0</td>\n",
       "      <td>AZ</td>\n",
       "      <td>128230.00</td>\n",
       "      <td>13882.0</td>\n",
       "      <td>611.0</td>\n",
       "      <td>97.7</td>\n",
       "      <td>0.0000</td>\n",
       "      <td>0.0</td>\n",
       "      <td>24.57</td>\n",
       "      <td>1995-11-01</td>\n",
       "      <td>...</td>\n",
       "      <td>34.0</td>\n",
       "      <td>263754.0</td>\n",
       "      <td>27000.0</td>\n",
       "      <td>254655.0</td>\n",
       "      <td>0.00</td>\n",
       "      <td>0.00</td>\n",
       "      <td>0.00</td>\n",
       "      <td>0.00</td>\n",
       "      <td>47200.0</td>\n",
       "      <td>Source Verified</td>\n",
       "    </tr>\n",
       "    <tr>\n",
       "      <th>786510</th>\n",
       "      <td>29.0</td>\n",
       "      <td>GA</td>\n",
       "      <td>57250.00</td>\n",
       "      <td>3555.0</td>\n",
       "      <td>7034.0</td>\n",
       "      <td>62.6</td>\n",
       "      <td>0.0000</td>\n",
       "      <td>0.0</td>\n",
       "      <td>28.22</td>\n",
       "      <td>1985-04-01</td>\n",
       "      <td>...</td>\n",
       "      <td>65.0</td>\n",
       "      <td>36932.0</td>\n",
       "      <td>18800.0</td>\n",
       "      <td>21441.0</td>\n",
       "      <td>0.00</td>\n",
       "      <td>0.00</td>\n",
       "      <td>0.00</td>\n",
       "      <td>0.00</td>\n",
       "      <td>52900.0</td>\n",
       "      <td>Verified</td>\n",
       "    </tr>\n",
       "    <tr>\n",
       "      <th>786545</th>\n",
       "      <td>5.0</td>\n",
       "      <td>WI</td>\n",
       "      <td>60000.00</td>\n",
       "      <td>1122.0</td>\n",
       "      <td>NaN</td>\n",
       "      <td>NaN</td>\n",
       "      <td>0.0000</td>\n",
       "      <td>0.0</td>\n",
       "      <td>12.64</td>\n",
       "      <td>2002-10-01</td>\n",
       "      <td>...</td>\n",
       "      <td>22.0</td>\n",
       "      <td>12341.0</td>\n",
       "      <td>0.0</td>\n",
       "      <td>9901.0</td>\n",
       "      <td>2051.73</td>\n",
       "      <td>51.73</td>\n",
       "      <td>0.00</td>\n",
       "      <td>2000.00</td>\n",
       "      <td>17000.0</td>\n",
       "      <td>Not Verified</td>\n",
       "    </tr>\n",
       "    <tr>\n",
       "      <th>786557</th>\n",
       "      <td>1.0</td>\n",
       "      <td>CA</td>\n",
       "      <td>48000.00</td>\n",
       "      <td>21136.0</td>\n",
       "      <td>NaN</td>\n",
       "      <td>NaN</td>\n",
       "      <td>0.0000</td>\n",
       "      <td>1.0</td>\n",
       "      <td>14.30</td>\n",
       "      <td>1979-02-01</td>\n",
       "      <td>...</td>\n",
       "      <td>22.0</td>\n",
       "      <td>12234.0</td>\n",
       "      <td>0.0</td>\n",
       "      <td>27077.0</td>\n",
       "      <td>6184.30</td>\n",
       "      <td>184.30</td>\n",
       "      <td>0.00</td>\n",
       "      <td>6000.00</td>\n",
       "      <td>1000.0</td>\n",
       "      <td>Source Verified</td>\n",
       "    </tr>\n",
       "    <tr>\n",
       "      <th>786575</th>\n",
       "      <td>2.0</td>\n",
       "      <td>NC</td>\n",
       "      <td>36400.00</td>\n",
       "      <td>7169.0</td>\n",
       "      <td>NaN</td>\n",
       "      <td>NaN</td>\n",
       "      <td>0.0000</td>\n",
       "      <td>0.0</td>\n",
       "      <td>30.20</td>\n",
       "      <td>2001-12-01</td>\n",
       "      <td>...</td>\n",
       "      <td>19.0</td>\n",
       "      <td>78859.0</td>\n",
       "      <td>0.0</td>\n",
       "      <td>91495.0</td>\n",
       "      <td>3613.18</td>\n",
       "      <td>13.19</td>\n",
       "      <td>0.00</td>\n",
       "      <td>3600.00</td>\n",
       "      <td>9700.0</td>\n",
       "      <td>Verified</td>\n",
       "    </tr>\n",
       "    <tr>\n",
       "      <th>786672</th>\n",
       "      <td>2.0</td>\n",
       "      <td>CA</td>\n",
       "      <td>70000.00</td>\n",
       "      <td>26350.0</td>\n",
       "      <td>NaN</td>\n",
       "      <td>NaN</td>\n",
       "      <td>0.0000</td>\n",
       "      <td>0.0</td>\n",
       "      <td>6.96</td>\n",
       "      <td>2006-11-01</td>\n",
       "      <td>...</td>\n",
       "      <td>27.0</td>\n",
       "      <td>57678.0</td>\n",
       "      <td>0.0</td>\n",
       "      <td>48624.0</td>\n",
       "      <td>21073.75</td>\n",
       "      <td>1073.75</td>\n",
       "      <td>0.00</td>\n",
       "      <td>20000.00</td>\n",
       "      <td>700.0</td>\n",
       "      <td>Source Verified</td>\n",
       "    </tr>\n",
       "    <tr>\n",
       "      <th>786758</th>\n",
       "      <td>0.0</td>\n",
       "      <td>VA</td>\n",
       "      <td>56000.00</td>\n",
       "      <td>5328.0</td>\n",
       "      <td>NaN</td>\n",
       "      <td>NaN</td>\n",
       "      <td>0.0000</td>\n",
       "      <td>1.0</td>\n",
       "      <td>19.10</td>\n",
       "      <td>2006-01-01</td>\n",
       "      <td>...</td>\n",
       "      <td>20.0</td>\n",
       "      <td>26642.0</td>\n",
       "      <td>0.0</td>\n",
       "      <td>32419.0</td>\n",
       "      <td>14672.53</td>\n",
       "      <td>272.53</td>\n",
       "      <td>0.00</td>\n",
       "      <td>14400.00</td>\n",
       "      <td>17500.0</td>\n",
       "      <td>Source Verified</td>\n",
       "    </tr>\n",
       "    <tr>\n",
       "      <th>786762</th>\n",
       "      <td>7.0</td>\n",
       "      <td>MO</td>\n",
       "      <td>48000.00</td>\n",
       "      <td>16618.0</td>\n",
       "      <td>NaN</td>\n",
       "      <td>NaN</td>\n",
       "      <td>0.0000</td>\n",
       "      <td>0.0</td>\n",
       "      <td>11.45</td>\n",
       "      <td>1997-12-01</td>\n",
       "      <td>...</td>\n",
       "      <td>14.0</td>\n",
       "      <td>14161.0</td>\n",
       "      <td>0.0</td>\n",
       "      <td>11100.0</td>\n",
       "      <td>5568.52</td>\n",
       "      <td>68.53</td>\n",
       "      <td>0.00</td>\n",
       "      <td>5500.00</td>\n",
       "      <td>7200.0</td>\n",
       "      <td>Source Verified</td>\n",
       "    </tr>\n",
       "    <tr>\n",
       "      <th>786777</th>\n",
       "      <td>4.0</td>\n",
       "      <td>NC</td>\n",
       "      <td>28000.00</td>\n",
       "      <td>11129.0</td>\n",
       "      <td>130.0</td>\n",
       "      <td>87.0</td>\n",
       "      <td>0.0000</td>\n",
       "      <td>0.0</td>\n",
       "      <td>16.55</td>\n",
       "      <td>2002-08-01</td>\n",
       "      <td>...</td>\n",
       "      <td>11.0</td>\n",
       "      <td>18077.0</td>\n",
       "      <td>1000.0</td>\n",
       "      <td>17832.0</td>\n",
       "      <td>0.00</td>\n",
       "      <td>0.00</td>\n",
       "      <td>0.00</td>\n",
       "      <td>0.00</td>\n",
       "      <td>4100.0</td>\n",
       "      <td>Source Verified</td>\n",
       "    </tr>\n",
       "    <tr>\n",
       "      <th>786788</th>\n",
       "      <td>3.0</td>\n",
       "      <td>NV</td>\n",
       "      <td>99000.00</td>\n",
       "      <td>32663.0</td>\n",
       "      <td>NaN</td>\n",
       "      <td>NaN</td>\n",
       "      <td>0.0000</td>\n",
       "      <td>1.0</td>\n",
       "      <td>11.83</td>\n",
       "      <td>1997-06-01</td>\n",
       "      <td>...</td>\n",
       "      <td>21.0</td>\n",
       "      <td>42659.0</td>\n",
       "      <td>0.0</td>\n",
       "      <td>55119.0</td>\n",
       "      <td>1605.20</td>\n",
       "      <td>5.20</td>\n",
       "      <td>0.00</td>\n",
       "      <td>1600.00</td>\n",
       "      <td>11800.0</td>\n",
       "      <td>Not Verified</td>\n",
       "    </tr>\n",
       "    <tr>\n",
       "      <th>786810</th>\n",
       "      <td>5.0</td>\n",
       "      <td>UT</td>\n",
       "      <td>83000.00</td>\n",
       "      <td>24507.0</td>\n",
       "      <td>NaN</td>\n",
       "      <td>NaN</td>\n",
       "      <td>0.0000</td>\n",
       "      <td>0.0</td>\n",
       "      <td>14.63</td>\n",
       "      <td>1999-01-01</td>\n",
       "      <td>...</td>\n",
       "      <td>17.0</td>\n",
       "      <td>36296.0</td>\n",
       "      <td>0.0</td>\n",
       "      <td>49105.0</td>\n",
       "      <td>6204.07</td>\n",
       "      <td>204.07</td>\n",
       "      <td>0.00</td>\n",
       "      <td>6000.00</td>\n",
       "      <td>2900.0</td>\n",
       "      <td>Source Verified</td>\n",
       "    </tr>\n",
       "    <tr>\n",
       "      <th>786912</th>\n",
       "      <td>8.0</td>\n",
       "      <td>NC</td>\n",
       "      <td>66000.00</td>\n",
       "      <td>46158.0</td>\n",
       "      <td>NaN</td>\n",
       "      <td>NaN</td>\n",
       "      <td>0.0000</td>\n",
       "      <td>0.0</td>\n",
       "      <td>22.67</td>\n",
       "      <td>2002-02-01</td>\n",
       "      <td>...</td>\n",
       "      <td>31.0</td>\n",
       "      <td>60307.0</td>\n",
       "      <td>0.0</td>\n",
       "      <td>65296.0</td>\n",
       "      <td>14514.90</td>\n",
       "      <td>514.90</td>\n",
       "      <td>0.00</td>\n",
       "      <td>14000.00</td>\n",
       "      <td>8800.0</td>\n",
       "      <td>Source Verified</td>\n",
       "    </tr>\n",
       "    <tr>\n",
       "      <th>786961</th>\n",
       "      <td>3.0</td>\n",
       "      <td>AZ</td>\n",
       "      <td>40000.00</td>\n",
       "      <td>27183.0</td>\n",
       "      <td>NaN</td>\n",
       "      <td>NaN</td>\n",
       "      <td>0.0000</td>\n",
       "      <td>0.0</td>\n",
       "      <td>32.25</td>\n",
       "      <td>1997-12-01</td>\n",
       "      <td>...</td>\n",
       "      <td>17.0</td>\n",
       "      <td>45778.0</td>\n",
       "      <td>0.0</td>\n",
       "      <td>43820.0</td>\n",
       "      <td>9661.09</td>\n",
       "      <td>61.09</td>\n",
       "      <td>0.00</td>\n",
       "      <td>9600.00</td>\n",
       "      <td>19200.0</td>\n",
       "      <td>Not Verified</td>\n",
       "    </tr>\n",
       "    <tr>\n",
       "      <th>786997</th>\n",
       "      <td>8.0</td>\n",
       "      <td>KY</td>\n",
       "      <td>85000.00</td>\n",
       "      <td>21833.0</td>\n",
       "      <td>235.0</td>\n",
       "      <td>NaN</td>\n",
       "      <td>0.0000</td>\n",
       "      <td>0.0</td>\n",
       "      <td>30.33</td>\n",
       "      <td>2001-07-01</td>\n",
       "      <td>...</td>\n",
       "      <td>52.0</td>\n",
       "      <td>102795.0</td>\n",
       "      <td>5000.0</td>\n",
       "      <td>115230.0</td>\n",
       "      <td>16860.58</td>\n",
       "      <td>360.58</td>\n",
       "      <td>0.00</td>\n",
       "      <td>16500.00</td>\n",
       "      <td>15900.0</td>\n",
       "      <td>Source Verified</td>\n",
       "    </tr>\n",
       "    <tr>\n",
       "      <th>787044</th>\n",
       "      <td>3.0</td>\n",
       "      <td>NC</td>\n",
       "      <td>98000.00</td>\n",
       "      <td>65875.0</td>\n",
       "      <td>NaN</td>\n",
       "      <td>NaN</td>\n",
       "      <td>0.0000</td>\n",
       "      <td>0.0</td>\n",
       "      <td>1.13</td>\n",
       "      <td>1999-11-01</td>\n",
       "      <td>...</td>\n",
       "      <td>12.0</td>\n",
       "      <td>32875.0</td>\n",
       "      <td>0.0</td>\n",
       "      <td>28681.0</td>\n",
       "      <td>8083.88</td>\n",
       "      <td>83.88</td>\n",
       "      <td>0.00</td>\n",
       "      <td>8000.00</td>\n",
       "      <td>5500.0</td>\n",
       "      <td>Verified</td>\n",
       "    </tr>\n",
       "    <tr>\n",
       "      <th>787131</th>\n",
       "      <td>4.0</td>\n",
       "      <td>FL</td>\n",
       "      <td>60000.00</td>\n",
       "      <td>51788.0</td>\n",
       "      <td>34457.0</td>\n",
       "      <td>NaN</td>\n",
       "      <td>0.0000</td>\n",
       "      <td>1.0</td>\n",
       "      <td>7.90</td>\n",
       "      <td>1997-04-01</td>\n",
       "      <td>...</td>\n",
       "      <td>30.0</td>\n",
       "      <td>15674.0</td>\n",
       "      <td>38000.0</td>\n",
       "      <td>15241.0</td>\n",
       "      <td>9023.60</td>\n",
       "      <td>23.60</td>\n",
       "      <td>0.00</td>\n",
       "      <td>9000.00</td>\n",
       "      <td>42000.0</td>\n",
       "      <td>Verified</td>\n",
       "    </tr>\n",
       "    <tr>\n",
       "      <th>787141</th>\n",
       "      <td>4.0</td>\n",
       "      <td>TN</td>\n",
       "      <td>0.00</td>\n",
       "      <td>10309.0</td>\n",
       "      <td>6087.0</td>\n",
       "      <td>10.5</td>\n",
       "      <td>0.0000</td>\n",
       "      <td>0.0</td>\n",
       "      <td>NaN</td>\n",
       "      <td>2010-07-01</td>\n",
       "      <td>...</td>\n",
       "      <td>15.0</td>\n",
       "      <td>19457.0</td>\n",
       "      <td>6800.0</td>\n",
       "      <td>11190.0</td>\n",
       "      <td>3659.95</td>\n",
       "      <td>159.95</td>\n",
       "      <td>0.00</td>\n",
       "      <td>3500.00</td>\n",
       "      <td>19000.0</td>\n",
       "      <td>Not Verified</td>\n",
       "    </tr>\n",
       "    <tr>\n",
       "      <th>787313</th>\n",
       "      <td>6.0</td>\n",
       "      <td>VA</td>\n",
       "      <td>50500.00</td>\n",
       "      <td>5127.0</td>\n",
       "      <td>NaN</td>\n",
       "      <td>NaN</td>\n",
       "      <td>0.0000</td>\n",
       "      <td>0.0</td>\n",
       "      <td>13.19</td>\n",
       "      <td>1993-10-01</td>\n",
       "      <td>...</td>\n",
       "      <td>35.0</td>\n",
       "      <td>20507.0</td>\n",
       "      <td>0.0</td>\n",
       "      <td>17681.0</td>\n",
       "      <td>5384.54</td>\n",
       "      <td>384.54</td>\n",
       "      <td>0.00</td>\n",
       "      <td>5000.00</td>\n",
       "      <td>4600.0</td>\n",
       "      <td>Not Verified</td>\n",
       "    </tr>\n",
       "    <tr>\n",
       "      <th>787316</th>\n",
       "      <td>3.0</td>\n",
       "      <td>WA</td>\n",
       "      <td>68700.00</td>\n",
       "      <td>47345.0</td>\n",
       "      <td>NaN</td>\n",
       "      <td>NaN</td>\n",
       "      <td>0.0000</td>\n",
       "      <td>1.0</td>\n",
       "      <td>5.08</td>\n",
       "      <td>2006-10-01</td>\n",
       "      <td>...</td>\n",
       "      <td>17.0</td>\n",
       "      <td>20748.0</td>\n",
       "      <td>0.0</td>\n",
       "      <td>0.0</td>\n",
       "      <td>10392.50</td>\n",
       "      <td>392.50</td>\n",
       "      <td>0.00</td>\n",
       "      <td>10000.00</td>\n",
       "      <td>27600.0</td>\n",
       "      <td>Not Verified</td>\n",
       "    </tr>\n",
       "    <tr>\n",
       "      <th>787329</th>\n",
       "      <td>2.0</td>\n",
       "      <td>OK</td>\n",
       "      <td>110000.00</td>\n",
       "      <td>120348.0</td>\n",
       "      <td>NaN</td>\n",
       "      <td>NaN</td>\n",
       "      <td>0.0000</td>\n",
       "      <td>0.0</td>\n",
       "      <td>0.00</td>\n",
       "      <td>2005-11-01</td>\n",
       "      <td>...</td>\n",
       "      <td>19.0</td>\n",
       "      <td>0.0</td>\n",
       "      <td>0.0</td>\n",
       "      <td>0.0</td>\n",
       "      <td>2412.74</td>\n",
       "      <td>12.74</td>\n",
       "      <td>0.00</td>\n",
       "      <td>2400.00</td>\n",
       "      <td>0.0</td>\n",
       "      <td>Not Verified</td>\n",
       "    </tr>\n",
       "    <tr>\n",
       "      <th>787375</th>\n",
       "      <td>1.0</td>\n",
       "      <td>FL</td>\n",
       "      <td>49280.00</td>\n",
       "      <td>15590.0</td>\n",
       "      <td>NaN</td>\n",
       "      <td>NaN</td>\n",
       "      <td>0.0000</td>\n",
       "      <td>0.0</td>\n",
       "      <td>25.69</td>\n",
       "      <td>2004-07-01</td>\n",
       "      <td>...</td>\n",
       "      <td>9.0</td>\n",
       "      <td>62358.0</td>\n",
       "      <td>0.0</td>\n",
       "      <td>73891.0</td>\n",
       "      <td>20694.34</td>\n",
       "      <td>694.34</td>\n",
       "      <td>0.00</td>\n",
       "      <td>20000.00</td>\n",
       "      <td>9500.0</td>\n",
       "      <td>Source Verified</td>\n",
       "    </tr>\n",
       "    <tr>\n",
       "      <th>787399</th>\n",
       "      <td>1.0</td>\n",
       "      <td>AZ</td>\n",
       "      <td>75000.00</td>\n",
       "      <td>4027.0</td>\n",
       "      <td>NaN</td>\n",
       "      <td>NaN</td>\n",
       "      <td>0.0000</td>\n",
       "      <td>0.0</td>\n",
       "      <td>11.66</td>\n",
       "      <td>1987-09-01</td>\n",
       "      <td>...</td>\n",
       "      <td>18.0</td>\n",
       "      <td>24163.0</td>\n",
       "      <td>0.0</td>\n",
       "      <td>37636.0</td>\n",
       "      <td>12092.55</td>\n",
       "      <td>92.55</td>\n",
       "      <td>0.00</td>\n",
       "      <td>12000.00</td>\n",
       "      <td>10000.0</td>\n",
       "      <td>Source Verified</td>\n",
       "    </tr>\n",
       "    <tr>\n",
       "      <th>787447</th>\n",
       "      <td>2.0</td>\n",
       "      <td>OH</td>\n",
       "      <td>41700.00</td>\n",
       "      <td>44846.0</td>\n",
       "      <td>NaN</td>\n",
       "      <td>NaN</td>\n",
       "      <td>0.0000</td>\n",
       "      <td>0.0</td>\n",
       "      <td>16.09</td>\n",
       "      <td>2006-09-01</td>\n",
       "      <td>...</td>\n",
       "      <td>28.0</td>\n",
       "      <td>77879.0</td>\n",
       "      <td>0.0</td>\n",
       "      <td>64393.0</td>\n",
       "      <td>3134.02</td>\n",
       "      <td>134.02</td>\n",
       "      <td>0.00</td>\n",
       "      <td>3000.00</td>\n",
       "      <td>9300.0</td>\n",
       "      <td>Verified</td>\n",
       "    </tr>\n",
       "    <tr>\n",
       "      <th>787653</th>\n",
       "      <td>2.0</td>\n",
       "      <td>CA</td>\n",
       "      <td>72000.00</td>\n",
       "      <td>6614.0</td>\n",
       "      <td>NaN</td>\n",
       "      <td>NaN</td>\n",
       "      <td>0.0000</td>\n",
       "      <td>0.0</td>\n",
       "      <td>21.10</td>\n",
       "      <td>2013-01-01</td>\n",
       "      <td>...</td>\n",
       "      <td>9.0</td>\n",
       "      <td>19843.0</td>\n",
       "      <td>0.0</td>\n",
       "      <td>35664.0</td>\n",
       "      <td>1236.48</td>\n",
       "      <td>36.48</td>\n",
       "      <td>0.00</td>\n",
       "      <td>1200.00</td>\n",
       "      <td>4600.0</td>\n",
       "      <td>Source Verified</td>\n",
       "    </tr>\n",
       "    <tr>\n",
       "      <th>787699</th>\n",
       "      <td>4.0</td>\n",
       "      <td>FL</td>\n",
       "      <td>23000.00</td>\n",
       "      <td>2032.0</td>\n",
       "      <td>NaN</td>\n",
       "      <td>NaN</td>\n",
       "      <td>0.0000</td>\n",
       "      <td>3.0</td>\n",
       "      <td>37.00</td>\n",
       "      <td>1982-09-01</td>\n",
       "      <td>...</td>\n",
       "      <td>14.0</td>\n",
       "      <td>14223.0</td>\n",
       "      <td>0.0</td>\n",
       "      <td>26290.0</td>\n",
       "      <td>15214.02</td>\n",
       "      <td>214.02</td>\n",
       "      <td>0.00</td>\n",
       "      <td>15000.00</td>\n",
       "      <td>6100.0</td>\n",
       "      <td>Not Verified</td>\n",
       "    </tr>\n",
       "    <tr>\n",
       "      <th>787729</th>\n",
       "      <td>7.0</td>\n",
       "      <td>LA</td>\n",
       "      <td>86000.00</td>\n",
       "      <td>28528.0</td>\n",
       "      <td>NaN</td>\n",
       "      <td>NaN</td>\n",
       "      <td>0.0000</td>\n",
       "      <td>0.0</td>\n",
       "      <td>10.19</td>\n",
       "      <td>1991-11-01</td>\n",
       "      <td>...</td>\n",
       "      <td>23.0</td>\n",
       "      <td>26307.0</td>\n",
       "      <td>0.0</td>\n",
       "      <td>28466.0</td>\n",
       "      <td>2215.12</td>\n",
       "      <td>15.12</td>\n",
       "      <td>0.00</td>\n",
       "      <td>2200.00</td>\n",
       "      <td>1200.0</td>\n",
       "      <td>Source Verified</td>\n",
       "    </tr>\n",
       "  </tbody>\n",
       "</table>\n",
       "<p>77053 rows × 60 columns</p>\n",
       "</div>"
      ],
      "text/plain": [
       "        acc_open_past_24mths addr_state  annual_inc  avg_cur_bal  \\\n",
       "0                        NaN         AZ    24000.00          NaN   \n",
       "1                        NaN         GA    30000.00          NaN   \n",
       "2                        NaN         IL    12252.00          NaN   \n",
       "3                        NaN         CA    49200.00          NaN   \n",
       "4                        NaN         OR    80000.00          NaN   \n",
       "5                        NaN         AZ    36000.00          NaN   \n",
       "6                        NaN         NC    47004.00          NaN   \n",
       "7                        NaN         CA    48000.00          NaN   \n",
       "8                        NaN         CA    40000.00          NaN   \n",
       "9                        NaN         TX    15000.00          NaN   \n",
       "10                       NaN         AZ    72000.00          NaN   \n",
       "11                       NaN         CA    75000.00          NaN   \n",
       "12                       NaN         VA    30000.00          NaN   \n",
       "13                       NaN         IL    15000.00          NaN   \n",
       "14                       NaN         CA   100000.00          NaN   \n",
       "15                       NaN         MO    28000.00          NaN   \n",
       "16                       NaN         CA    42000.00          NaN   \n",
       "17                       NaN         CT   110000.00          NaN   \n",
       "18                       NaN         UT    84000.00          NaN   \n",
       "19                       NaN         CA    77385.19          NaN   \n",
       "20                       NaN         TX    43370.00          NaN   \n",
       "21                       NaN         FL   105000.00          NaN   \n",
       "22                       NaN         TX    50000.00          NaN   \n",
       "23                       NaN         CA    50000.00          NaN   \n",
       "24                       NaN         CA    76000.00          NaN   \n",
       "25                       NaN         IL    92000.00          NaN   \n",
       "26                       NaN         NY    60000.00          NaN   \n",
       "27                       NaN         PA    50004.00          NaN   \n",
       "28                       NaN         FL   106000.00          NaN   \n",
       "29                       NaN         MN    25000.00          NaN   \n",
       "...                      ...        ...         ...          ...   \n",
       "786384                   7.0         TX    22800.00        681.0   \n",
       "786457                   3.0         CA   105000.00     183541.0   \n",
       "786460                   9.0         CO    80000.00      33938.0   \n",
       "786471                   0.0         MI    33000.00       3466.0   \n",
       "786493                   7.0         AZ   128230.00      13882.0   \n",
       "786510                  29.0         GA    57250.00       3555.0   \n",
       "786545                   5.0         WI    60000.00       1122.0   \n",
       "786557                   1.0         CA    48000.00      21136.0   \n",
       "786575                   2.0         NC    36400.00       7169.0   \n",
       "786672                   2.0         CA    70000.00      26350.0   \n",
       "786758                   0.0         VA    56000.00       5328.0   \n",
       "786762                   7.0         MO    48000.00      16618.0   \n",
       "786777                   4.0         NC    28000.00      11129.0   \n",
       "786788                   3.0         NV    99000.00      32663.0   \n",
       "786810                   5.0         UT    83000.00      24507.0   \n",
       "786912                   8.0         NC    66000.00      46158.0   \n",
       "786961                   3.0         AZ    40000.00      27183.0   \n",
       "786997                   8.0         KY    85000.00      21833.0   \n",
       "787044                   3.0         NC    98000.00      65875.0   \n",
       "787131                   4.0         FL    60000.00      51788.0   \n",
       "787141                   4.0         TN        0.00      10309.0   \n",
       "787313                   6.0         VA    50500.00       5127.0   \n",
       "787316                   3.0         WA    68700.00      47345.0   \n",
       "787329                   2.0         OK   110000.00     120348.0   \n",
       "787375                   1.0         FL    49280.00      15590.0   \n",
       "787399                   1.0         AZ    75000.00       4027.0   \n",
       "787447                   2.0         OH    41700.00      44846.0   \n",
       "787653                   2.0         CA    72000.00       6614.0   \n",
       "787699                   4.0         FL    23000.00       2032.0   \n",
       "787729                   7.0         LA    86000.00      28528.0   \n",
       "\n",
       "        bc_open_to_buy  bc_util  collection_recovery_fee  delinq_2yrs    dti  \\\n",
       "0                  NaN      NaN                   0.0000          0.0  27.65   \n",
       "1                  NaN      NaN                   1.1100          0.0   1.00   \n",
       "2                  NaN      NaN                   0.0000          0.0   8.72   \n",
       "3                  NaN      NaN                   0.0000          0.0  20.00   \n",
       "4                  NaN      NaN                   0.0000          0.0  17.94   \n",
       "5                  NaN      NaN                   0.0000          0.0  11.20   \n",
       "6                  NaN      NaN                   0.0000          0.0  23.51   \n",
       "7                  NaN      NaN                   0.0000          0.0   5.35   \n",
       "8                  NaN      NaN                   2.0900          0.0   5.55   \n",
       "9                  NaN      NaN                   2.5200          0.0  18.08   \n",
       "10                 NaN      NaN                   0.0000          0.0  16.12   \n",
       "11                 NaN      NaN                   0.0000          0.0  10.78   \n",
       "12                 NaN      NaN                   4.1600          0.0  10.08   \n",
       "13                 NaN      NaN                   0.0000          0.0  12.56   \n",
       "14                 NaN      NaN                   6.3145          0.0   7.06   \n",
       "15                 NaN      NaN                   0.0000          0.0  20.31   \n",
       "16                 NaN      NaN                   0.0000          0.0  18.60   \n",
       "17                 NaN      NaN                   0.0000          0.0  10.52   \n",
       "18                 NaN      NaN                   0.0000          2.0  18.44   \n",
       "19                 NaN      NaN                   0.0000          0.0   9.86   \n",
       "20                 NaN      NaN                   0.0000          0.0  26.53   \n",
       "21                 NaN      NaN                   0.0000          0.0  13.22   \n",
       "22                 NaN      NaN                   0.0000          0.0  11.18   \n",
       "23                 NaN      NaN                   0.0000          0.0  16.01   \n",
       "24                 NaN      NaN                   2.5700          0.0   2.40   \n",
       "25                 NaN      NaN                   0.0000          0.0  29.44   \n",
       "26                 NaN      NaN                   0.0000          0.0  15.22   \n",
       "27                 NaN      NaN                   2.3000          3.0  13.97   \n",
       "28                 NaN      NaN                   0.0000          1.0   5.63   \n",
       "29                 NaN      NaN                   0.0000          0.0  12.19   \n",
       "...                ...      ...                      ...          ...    ...   \n",
       "786384             NaN      NaN                   0.0000          1.0  15.84   \n",
       "786457             NaN      NaN                   0.0000          0.0   0.29   \n",
       "786460          1481.0      NaN                   0.0000          1.0  12.84   \n",
       "786471             NaN      NaN                   0.0000          1.0   8.22   \n",
       "786493           611.0     97.7                   0.0000          0.0  24.57   \n",
       "786510          7034.0     62.6                   0.0000          0.0  28.22   \n",
       "786545             NaN      NaN                   0.0000          0.0  12.64   \n",
       "786557             NaN      NaN                   0.0000          1.0  14.30   \n",
       "786575             NaN      NaN                   0.0000          0.0  30.20   \n",
       "786672             NaN      NaN                   0.0000          0.0   6.96   \n",
       "786758             NaN      NaN                   0.0000          1.0  19.10   \n",
       "786762             NaN      NaN                   0.0000          0.0  11.45   \n",
       "786777           130.0     87.0                   0.0000          0.0  16.55   \n",
       "786788             NaN      NaN                   0.0000          1.0  11.83   \n",
       "786810             NaN      NaN                   0.0000          0.0  14.63   \n",
       "786912             NaN      NaN                   0.0000          0.0  22.67   \n",
       "786961             NaN      NaN                   0.0000          0.0  32.25   \n",
       "786997           235.0      NaN                   0.0000          0.0  30.33   \n",
       "787044             NaN      NaN                   0.0000          0.0   1.13   \n",
       "787131         34457.0      NaN                   0.0000          1.0   7.90   \n",
       "787141          6087.0     10.5                   0.0000          0.0    NaN   \n",
       "787313             NaN      NaN                   0.0000          0.0  13.19   \n",
       "787316             NaN      NaN                   0.0000          1.0   5.08   \n",
       "787329             NaN      NaN                   0.0000          0.0   0.00   \n",
       "787375             NaN      NaN                   0.0000          0.0  25.69   \n",
       "787399             NaN      NaN                   0.0000          0.0  11.66   \n",
       "787447             NaN      NaN                   0.0000          0.0  16.09   \n",
       "787653             NaN      NaN                   0.0000          0.0  21.10   \n",
       "787699             NaN      NaN                   0.0000          3.0  37.00   \n",
       "787729             NaN      NaN                   0.0000          0.0  10.19   \n",
       "\n",
       "       earliest_cr_line         ...         total_acc  total_bal_ex_mort  \\\n",
       "0            1985-01-01         ...               9.0                NaN   \n",
       "1            1999-04-01         ...               4.0                NaN   \n",
       "2            2001-11-01         ...              10.0                NaN   \n",
       "3            1996-02-01         ...              37.0                NaN   \n",
       "4            1996-01-01         ...              38.0                NaN   \n",
       "5            2004-11-01         ...              12.0                NaN   \n",
       "6            2005-07-01         ...              11.0                NaN   \n",
       "7            2007-01-01         ...               4.0                NaN   \n",
       "8            2004-04-01         ...              13.0                NaN   \n",
       "9            2004-09-01         ...               3.0                NaN   \n",
       "10           1998-01-01         ...              23.0                NaN   \n",
       "11           1989-10-01         ...              34.0                NaN   \n",
       "12           2004-04-01         ...               9.0                NaN   \n",
       "13           2003-07-01         ...              11.0                NaN   \n",
       "14           1991-05-01         ...              29.0                NaN   \n",
       "15           2007-09-01         ...              23.0                NaN   \n",
       "16           1998-10-01         ...              28.0                NaN   \n",
       "17           1993-08-01         ...              42.0                NaN   \n",
       "18           2003-10-01         ...              14.0                NaN   \n",
       "19           2001-01-01         ...              28.0                NaN   \n",
       "20           1997-11-01         ...              22.0                NaN   \n",
       "21           1983-02-01         ...              38.0                NaN   \n",
       "22           1985-07-01         ...              21.0                NaN   \n",
       "23           2003-04-01         ...              17.0                NaN   \n",
       "24           2001-06-01         ...               7.0                NaN   \n",
       "25           2002-02-01         ...              31.0                NaN   \n",
       "26           2003-10-01         ...              11.0                NaN   \n",
       "27           2003-10-01         ...              22.0                NaN   \n",
       "28           1984-08-01         ...              44.0                NaN   \n",
       "29           2006-11-01         ...              12.0                NaN   \n",
       "...                 ...         ...               ...                ...   \n",
       "786384       1972-04-01         ...              38.0             4768.0   \n",
       "786457       2009-10-01         ...              13.0               26.0   \n",
       "786460       2005-11-01         ...              32.0            20760.0   \n",
       "786471       2006-06-01         ...              39.0            34655.0   \n",
       "786493       1995-11-01         ...              34.0           263754.0   \n",
       "786510       1985-04-01         ...              65.0            36932.0   \n",
       "786545       2002-10-01         ...              22.0            12341.0   \n",
       "786557       1979-02-01         ...              22.0            12234.0   \n",
       "786575       2001-12-01         ...              19.0            78859.0   \n",
       "786672       2006-11-01         ...              27.0            57678.0   \n",
       "786758       2006-01-01         ...              20.0            26642.0   \n",
       "786762       1997-12-01         ...              14.0            14161.0   \n",
       "786777       2002-08-01         ...              11.0            18077.0   \n",
       "786788       1997-06-01         ...              21.0            42659.0   \n",
       "786810       1999-01-01         ...              17.0            36296.0   \n",
       "786912       2002-02-01         ...              31.0            60307.0   \n",
       "786961       1997-12-01         ...              17.0            45778.0   \n",
       "786997       2001-07-01         ...              52.0           102795.0   \n",
       "787044       1999-11-01         ...              12.0            32875.0   \n",
       "787131       1997-04-01         ...              30.0            15674.0   \n",
       "787141       2010-07-01         ...              15.0            19457.0   \n",
       "787313       1993-10-01         ...              35.0            20507.0   \n",
       "787316       2006-10-01         ...              17.0            20748.0   \n",
       "787329       2005-11-01         ...              19.0                0.0   \n",
       "787375       2004-07-01         ...               9.0            62358.0   \n",
       "787399       1987-09-01         ...              18.0            24163.0   \n",
       "787447       2006-09-01         ...              28.0            77879.0   \n",
       "787653       2013-01-01         ...               9.0            19843.0   \n",
       "787699       1982-09-01         ...              14.0            14223.0   \n",
       "787729       1991-11-01         ...              23.0            26307.0   \n",
       "\n",
       "        total_bc_limit total_il_high_credit_limit total_pymnt total_rec_int  \\\n",
       "0                  NaN                        NaN     5863.16        863.16   \n",
       "1                  NaN                        NaN     1014.53        435.17   \n",
       "2                  NaN                        NaN     3005.67        605.67   \n",
       "3                  NaN                        NaN    12231.89       2214.92   \n",
       "4                  NaN                        NaN     4066.91       1066.91   \n",
       "5                  NaN                        NaN     5632.21        632.21   \n",
       "6                  NaN                        NaN    10137.84       3137.84   \n",
       "7                  NaN                        NaN     3939.14        939.14   \n",
       "8                  NaN                        NaN      647.50        294.94   \n",
       "9                  NaN                        NaN     1484.59        533.42   \n",
       "10                 NaN                        NaN     7678.02       1178.02   \n",
       "11                 NaN                        NaN    13947.99       1947.99   \n",
       "12                 NaN                        NaN     2277.32        570.26   \n",
       "13                 NaN                        NaN     3480.27        480.27   \n",
       "14                 NaN                        NaN     7471.99       1393.42   \n",
       "15                 NaN                        NaN     1270.72        270.72   \n",
       "16                 NaN                        NaN    12527.15       2527.15   \n",
       "17                 NaN                        NaN     3785.27        185.27   \n",
       "18                 NaN                        NaN     7167.07       1152.07   \n",
       "19                 NaN                        NaN     9460.00        260.00   \n",
       "20                 NaN                        NaN    27679.05       7429.05   \n",
       "21                 NaN                        NaN    14034.60       3330.44   \n",
       "22                 NaN                        NaN    11907.35       1907.35   \n",
       "23                 NaN                        NaN    11540.89       1540.89   \n",
       "24                 NaN                        NaN     2055.85        475.25   \n",
       "25                 NaN                        NaN    15824.00        824.00   \n",
       "26                 NaN                        NaN        0.00          0.00   \n",
       "27                 NaN                        NaN     1611.16        719.11   \n",
       "28                 NaN                        NaN     4486.29        486.29   \n",
       "29                 NaN                        NaN    10126.09       1626.09   \n",
       "...                ...                        ...         ...           ...   \n",
       "786384             0.0                     3540.0     4969.28        169.28   \n",
       "786457             0.0                        0.0     6179.56        179.56   \n",
       "786460          1500.0                    26959.0    18570.89        570.89   \n",
       "786471             0.0                    32923.0     8033.36         33.36   \n",
       "786493         27000.0                   254655.0        0.00          0.00   \n",
       "786510         18800.0                    21441.0        0.00          0.00   \n",
       "786545             0.0                     9901.0     2051.73         51.73   \n",
       "786557             0.0                    27077.0     6184.30        184.30   \n",
       "786575             0.0                    91495.0     3613.18         13.19   \n",
       "786672             0.0                    48624.0    21073.75       1073.75   \n",
       "786758             0.0                    32419.0    14672.53        272.53   \n",
       "786762             0.0                    11100.0     5568.52         68.53   \n",
       "786777          1000.0                    17832.0        0.00          0.00   \n",
       "786788             0.0                    55119.0     1605.20          5.20   \n",
       "786810             0.0                    49105.0     6204.07        204.07   \n",
       "786912             0.0                    65296.0    14514.90        514.90   \n",
       "786961             0.0                    43820.0     9661.09         61.09   \n",
       "786997          5000.0                   115230.0    16860.58        360.58   \n",
       "787044             0.0                    28681.0     8083.88         83.88   \n",
       "787131         38000.0                    15241.0     9023.60         23.60   \n",
       "787141          6800.0                    11190.0     3659.95        159.95   \n",
       "787313             0.0                    17681.0     5384.54        384.54   \n",
       "787316             0.0                        0.0    10392.50        392.50   \n",
       "787329             0.0                        0.0     2412.74         12.74   \n",
       "787375             0.0                    73891.0    20694.34        694.34   \n",
       "787399             0.0                    37636.0    12092.55         92.55   \n",
       "787447             0.0                    64393.0     3134.02        134.02   \n",
       "787653             0.0                    35664.0     1236.48         36.48   \n",
       "787699             0.0                    26290.0    15214.02        214.02   \n",
       "787729             0.0                    28466.0     2215.12         15.12   \n",
       "\n",
       "        total_rec_late_fee  total_rec_prncp  total_rev_hi_lim  \\\n",
       "0                     0.00          5000.00               NaN   \n",
       "1                     0.00           456.46               NaN   \n",
       "2                     0.00          2400.00               NaN   \n",
       "3                    16.97         10000.00               NaN   \n",
       "4                     0.00          3000.00               NaN   \n",
       "5                     0.00          5000.00               NaN   \n",
       "6                     0.00          7000.00               NaN   \n",
       "7                     0.00          3000.00               NaN   \n",
       "8                     0.00           162.02               NaN   \n",
       "9                     0.00           673.48               NaN   \n",
       "10                    0.00          6500.00               NaN   \n",
       "11                    0.00         12000.00               NaN   \n",
       "12                    0.00          1256.14               NaN   \n",
       "13                    0.00          3000.00               NaN   \n",
       "14                    0.00          5433.47               NaN   \n",
       "15                    0.00          1000.00               NaN   \n",
       "16                    0.00         10000.00               NaN   \n",
       "17                    0.00          3600.00               NaN   \n",
       "18                   15.00          6000.00               NaN   \n",
       "19                    0.00          9200.00               NaN   \n",
       "20                    0.00         20250.00               NaN   \n",
       "21                    0.00         10694.96               NaN   \n",
       "22                    0.00         10000.00               NaN   \n",
       "23                    0.00         10000.00               NaN   \n",
       "24                    0.00          1305.58               NaN   \n",
       "25                    0.00         15000.00               NaN   \n",
       "26                    0.00             0.00               NaN   \n",
       "27                    0.00           629.05               NaN   \n",
       "28                    0.00          4000.00               NaN   \n",
       "29                    0.00          8500.00               NaN   \n",
       "...                    ...              ...               ...   \n",
       "786384                0.00          4800.00           11400.0   \n",
       "786457                0.00          6000.00            1700.0   \n",
       "786460                0.00         18000.00           20000.0   \n",
       "786471                0.00          8000.00               0.0   \n",
       "786493                0.00             0.00           47200.0   \n",
       "786510                0.00             0.00           52900.0   \n",
       "786545                0.00          2000.00           17000.0   \n",
       "786557                0.00          6000.00            1000.0   \n",
       "786575                0.00          3600.00            9700.0   \n",
       "786672                0.00         20000.00             700.0   \n",
       "786758                0.00         14400.00           17500.0   \n",
       "786762                0.00          5500.00            7200.0   \n",
       "786777                0.00             0.00            4100.0   \n",
       "786788                0.00          1600.00           11800.0   \n",
       "786810                0.00          6000.00            2900.0   \n",
       "786912                0.00         14000.00            8800.0   \n",
       "786961                0.00          9600.00           19200.0   \n",
       "786997                0.00         16500.00           15900.0   \n",
       "787044                0.00          8000.00            5500.0   \n",
       "787131                0.00          9000.00           42000.0   \n",
       "787141                0.00          3500.00           19000.0   \n",
       "787313                0.00          5000.00            4600.0   \n",
       "787316                0.00         10000.00           27600.0   \n",
       "787329                0.00          2400.00               0.0   \n",
       "787375                0.00         20000.00            9500.0   \n",
       "787399                0.00         12000.00           10000.0   \n",
       "787447                0.00          3000.00            9300.0   \n",
       "787653                0.00          1200.00            4600.0   \n",
       "787699                0.00         15000.00            6100.0   \n",
       "787729                0.00          2200.00            1200.0   \n",
       "\n",
       "       verification_status  \n",
       "0                 Verified  \n",
       "1          Source Verified  \n",
       "2             Not Verified  \n",
       "3          Source Verified  \n",
       "4          Source Verified  \n",
       "5          Source Verified  \n",
       "6             Not Verified  \n",
       "7          Source Verified  \n",
       "8          Source Verified  \n",
       "9                 Verified  \n",
       "10            Not Verified  \n",
       "11         Source Verified  \n",
       "12         Source Verified  \n",
       "13         Source Verified  \n",
       "14         Source Verified  \n",
       "15            Not Verified  \n",
       "16            Not Verified  \n",
       "17            Not Verified  \n",
       "18                Verified  \n",
       "19            Not Verified  \n",
       "20                Verified  \n",
       "21                Verified  \n",
       "22         Source Verified  \n",
       "23            Not Verified  \n",
       "24            Not Verified  \n",
       "25                Verified  \n",
       "26            Not Verified  \n",
       "27            Not Verified  \n",
       "28            Not Verified  \n",
       "29         Source Verified  \n",
       "...                    ...  \n",
       "786384     Source Verified  \n",
       "786457     Source Verified  \n",
       "786460            Verified  \n",
       "786471        Not Verified  \n",
       "786493     Source Verified  \n",
       "786510            Verified  \n",
       "786545        Not Verified  \n",
       "786557     Source Verified  \n",
       "786575            Verified  \n",
       "786672     Source Verified  \n",
       "786758     Source Verified  \n",
       "786762     Source Verified  \n",
       "786777     Source Verified  \n",
       "786788        Not Verified  \n",
       "786810     Source Verified  \n",
       "786912     Source Verified  \n",
       "786961        Not Verified  \n",
       "786997     Source Verified  \n",
       "787044            Verified  \n",
       "787131            Verified  \n",
       "787141        Not Verified  \n",
       "787313        Not Verified  \n",
       "787316        Not Verified  \n",
       "787329        Not Verified  \n",
       "787375     Source Verified  \n",
       "787399     Source Verified  \n",
       "787447            Verified  \n",
       "787653     Source Verified  \n",
       "787699        Not Verified  \n",
       "787729     Source Verified  \n",
       "\n",
       "[77053 rows x 60 columns]"
      ]
     },
     "execution_count": 58,
     "metadata": {},
     "output_type": "execute_result"
    }
   ],
   "source": [
    "null_data"
   ]
  },
  {
   "cell_type": "code",
   "execution_count": 59,
   "metadata": {
    "collapsed": false
   },
   "outputs": [
    {
     "name": "stdout",
     "output_type": "stream",
     "text": [
      "67539\n",
      "0.08571918112474775\n"
     ]
    }
   ],
   "source": [
    "# find column with most missing values\n",
    "print(df['avg_cur_bal'].isnull().sum())\n",
    "print(df['avg_cur_bal'].isnull().sum()/df.shape[0])"
   ]
  },
  {
   "cell_type": "code",
   "execution_count": 62,
   "metadata": {
    "collapsed": false
   },
   "outputs": [
    {
     "data": {
      "text/plain": [
       "count    720371.000000\n",
       "mean      13528.413955\n",
       "std       16219.021791\n",
       "min           0.000000\n",
       "25%        3118.000000\n",
       "50%        7516.000000\n",
       "75%       18845.000000\n",
       "max      958084.000000\n",
       "Name: avg_cur_bal, dtype: float64"
      ]
     },
     "execution_count": 62,
     "metadata": {},
     "output_type": "execute_result"
    }
   ],
   "source": [
    "df['avg_cur_bal'].describe()"
   ]
  },
  {
   "cell_type": "code",
   "execution_count": 71,
   "metadata": {
    "collapsed": false,
    "scrolled": true
   },
   "outputs": [
    {
     "data": {
      "text/plain": [
       "27"
      ]
     },
     "execution_count": 71,
     "metadata": {},
     "output_type": "execute_result"
    }
   ],
   "source": [
    "np.max(df.isnull().sum(axis=1))"
   ]
  },
  {
   "cell_type": "code",
   "execution_count": 72,
   "metadata": {
    "collapsed": false
   },
   "outputs": [
    {
     "data": {
      "text/plain": [
       "(array([13930, 28754, 36278, 37980, 39545]),)"
      ]
     },
     "execution_count": 72,
     "metadata": {},
     "output_type": "execute_result"
    }
   ],
   "source": [
    "np.where(df.isnull().sum(axis=1)==27)"
   ]
  },
  {
   "cell_type": "code",
   "execution_count": 75,
   "metadata": {
    "collapsed": false
   },
   "outputs": [
    {
     "data": {
      "text/plain": [
       "count    740629.000000\n",
       "mean          4.712176\n",
       "std           3.146878\n",
       "min           0.000000\n",
       "25%           2.000000\n",
       "50%           4.000000\n",
       "75%           6.000000\n",
       "max          56.000000\n",
       "Name: acc_open_past_24mths, dtype: float64"
      ]
     },
     "execution_count": 75,
     "metadata": {},
     "output_type": "execute_result"
    }
   ],
   "source": [
    "df.acc_open_past_24mths.describe()"
   ]
  },
  {
   "cell_type": "code",
   "execution_count": 78,
   "metadata": {
    "collapsed": true
   },
   "outputs": [],
   "source": [
    "# fill with median since months since is nominal and median and mean are close (not so much skew)\n",
    "df['acc_open_past_24mths'].fillna(df['acc_open_past_24mths'].median(), inplace=True)"
   ]
  },
  {
   "cell_type": "code",
   "execution_count": 80,
   "metadata": {
    "collapsed": false
   },
   "outputs": [
    {
     "data": {
      "text/plain": [
       "count    720371.000000\n",
       "mean      13528.413955\n",
       "std       16219.021791\n",
       "min           0.000000\n",
       "25%        3118.000000\n",
       "50%        7516.000000\n",
       "75%       18845.000000\n",
       "max      958084.000000\n",
       "Name: avg_cur_bal, dtype: float64"
      ]
     },
     "execution_count": 80,
     "metadata": {},
     "output_type": "execute_result"
    }
   ],
   "source": [
    "df['avg_cur_bal'].describe()"
   ]
  },
  {
   "cell_type": "code",
   "execution_count": 91,
   "metadata": {
    "collapsed": false
   },
   "outputs": [
    {
     "data": {
      "image/png": "[encoded data removed]",
      "text/plain": [
       "<matplotlib.figure.Figure at 0x11797c668>"
      ]
     },
     "metadata": {},
     "output_type": "display_data"
    }
   ],
   "source": [
    "df[df['avg_cur_bal']<463698]['avg_cur_bal'].hist(bins=15)\n",
    "plt.show()"
   ]
  },
  {
   "cell_type": "code",
   "execution_count": 104,
   "metadata": {
    "collapsed": false
   },
   "outputs": [
    {
     "data": {
      "text/plain": [
       "(408615, 60)"
      ]
     },
     "execution_count": 104,
     "metadata": {},
     "output_type": "execute_result"
    }
   ],
   "source": [
    "df[df['avg_cur_bal']<10000].shape"
   ]
  },
  {
   "cell_type": "code",
   "execution_count": 105,
   "metadata": {
    "collapsed": true
   },
   "outputs": [],
   "source": [
    "# since over 50% of the data is contained when avg_cur_bal < 10000, we fill missing values with median\n",
    "df['avg_cur_bal'].fillna(df['avg_cur_bal'].median(), inplace=True)"
   ]
  },
  {
   "cell_type": "code",
   "execution_count": 112,
   "metadata": {
    "collapsed": false
   },
   "outputs": [
    {
     "data": {
      "text/plain": [
       "count    733034.000000\n",
       "mean       9436.288340\n",
       "std       14551.612378\n",
       "min           0.000000\n",
       "25%        1304.000000\n",
       "50%        4240.000000\n",
       "75%       11299.000000\n",
       "max      559912.000000\n",
       "Name: bc_open_to_buy, dtype: float64"
      ]
     },
     "execution_count": 112,
     "metadata": {},
     "output_type": "execute_result"
    }
   ],
   "source": [
    "df['bc_open_to_buy'].describe()"
   ]
  },
  {
   "cell_type": "code",
   "execution_count": 113,
   "metadata": {
    "collapsed": true
   },
   "outputs": [],
   "source": [
    "# drop bc_open_to_buy because it means \"total open-to-buy on revolving bankcards\"\n",
    "# information can be found in (I think) in tot_hi_cred_lim\n",
    "df.drop('bc_open_to_buy', axis=1, inplace=True)"
   ]
  },
  {
   "cell_type": "code",
   "execution_count": 117,
   "metadata": {
    "collapsed": false
   },
   "outputs": [
    {
     "data": {
      "text/plain": [
       "count    732567.000000\n",
       "mean         61.644117\n",
       "std          27.863545\n",
       "min           0.000000\n",
       "25%          40.900000\n",
       "50%          65.500000\n",
       "75%          86.000000\n",
       "max         339.600000\n",
       "Name: bc_util, dtype: float64"
      ]
     },
     "execution_count": 117,
     "metadata": {},
     "output_type": "execute_result"
    }
   ],
   "source": [
    "df['bc_util'].describe()"
   ]
  },
  {
   "cell_type": "code",
   "execution_count": 118,
   "metadata": {
    "collapsed": true
   },
   "outputs": [],
   "source": [
    "# fill with mean (data is not very skewed)\n",
    "df['bc_util'].fillna(df['bc_util'].mean(), inplace=True)"
   ]
  },
  {
   "cell_type": "code",
   "execution_count": 121,
   "metadata": {
    "collapsed": false
   },
   "outputs": [
    {
     "data": {
      "text/plain": [
       "0.0    427576\n",
       "1.0    220004\n",
       "2.0     89382\n",
       "3.0     36329\n",
       "4.0     10071\n",
       "5.0      3577\n",
       "6.0       900\n",
       "7.0        48\n",
       "8.0        22\n",
       "Name: inq_last_6mths, dtype: int64"
      ]
     },
     "execution_count": 121,
     "metadata": {},
     "output_type": "execute_result"
    }
   ],
   "source": [
    "df['inq_last_6mths'].value_counts()"
   ]
  },
  {
   "cell_type": "code",
   "execution_count": 122,
   "metadata": {
    "collapsed": true
   },
   "outputs": [],
   "source": [
    "# fill with median due to integer values\n",
    "df['inq_last_6mths'].fillna(df['inq_last_6mths'].median(), inplace=True)"
   ]
  },
  {
   "cell_type": "code",
   "execution_count": 127,
   "metadata": {
    "collapsed": false
   },
   "outputs": [],
   "source": [
    "# fill with mode due to categorical values\n",
    "df['last_credit_pull_d'].fillna(df['last_credit_pull_d'].mode()[0], inplace=True)"
   ]
  },
  {
   "cell_type": "code",
   "execution_count": 129,
   "metadata": {
    "collapsed": false
   },
   "outputs": [
    {
     "data": {
      "text/plain": [
       "count    787881.000000\n",
       "mean         17.832820\n",
       "std           8.845265\n",
       "min          -1.000000\n",
       "25%          11.610000\n",
       "50%          17.320000\n",
       "75%          23.580000\n",
       "max         999.000000\n",
       "Name: dti, dtype: float64"
      ]
     },
     "execution_count": 129,
     "metadata": {},
     "output_type": "execute_result"
    }
   ],
   "source": [
    "df['dti'].describe()"
   ]
  },
  {
   "cell_type": "code",
   "execution_count": 132,
   "metadata": {
    "collapsed": false
   },
   "outputs": [
    {
     "data": {
      "text/plain": [
       "645411   -1.0\n",
       "Name: dti, dtype: float64"
      ]
     },
     "execution_count": 132,
     "metadata": {},
     "output_type": "execute_result"
    }
   ],
   "source": [
    "# df.iloc[645411]\n",
    "df[df['dti']==-1]['dti']"
   ]
  },
  {
   "cell_type": "code",
   "execution_count": 134,
   "metadata": {
    "collapsed": true
   },
   "outputs": [],
   "source": [
    "# fill with mean; data is not skewed\n",
    "# there is only one value of -1, I thought was impossible and placeholder for NaN\n",
    "# however, maybe it's possible?\n",
    "df['dti'].fillna(df['dti'].mean(), inplace=True)"
   ]
  },
  {
   "cell_type": "code",
   "execution_count": 136,
   "metadata": {
    "collapsed": true
   },
   "outputs": [],
   "source": [
    "# Fill with mode (categorical)\n",
    "df['last_pymnt_d'].fillna(df['last_pymnt_d'].mode()[0], inplace=True)"
   ]
  },
  {
   "cell_type": "code",
   "execution_count": 137,
   "metadata": {
    "collapsed": false
   },
   "outputs": [
    {
     "data": {
      "text/plain": [
       "count    740629.000000\n",
       "mean          1.764267\n",
       "std           2.087446\n",
       "min           0.000000\n",
       "25%           0.000000\n",
       "50%           1.000000\n",
       "75%           3.000000\n",
       "max          51.000000\n",
       "Name: mort_acc, dtype: float64"
      ]
     },
     "execution_count": 137,
     "metadata": {},
     "output_type": "execute_result"
    }
   ],
   "source": [
    "df['mort_acc'].describe()"
   ]
  },
  {
   "cell_type": "code",
   "execution_count": 139,
   "metadata": {
    "collapsed": false
   },
   "outputs": [],
   "source": [
    "# fill with median (integer-valued)\n",
    "df['mort_acc'].fillna(df['mort_acc'].median(), inplace=True)"
   ]
  },
  {
   "cell_type": "code",
   "execution_count": 142,
   "metadata": {
    "collapsed": false
   },
   "outputs": [
    {
     "data": {
      "text/html": [
       "<div>\n",
       "<style>\n",
       "    .dataframe thead tr:only-child th {\n",
       "        text-align: right;\n",
       "    }\n",
       "\n",
       "    .dataframe thead th {\n",
       "        text-align: left;\n",
       "    }\n",
       "\n",
       "    .dataframe tbody tr th {\n",
       "        vertical-align: top;\n",
       "    }\n",
       "</style>\n",
       "<table border=\"1\" class=\"dataframe\">\n",
       "  <thead>\n",
       "    <tr style=\"text-align: right;\">\n",
       "      <th></th>\n",
       "      <th>num_bc_sats</th>\n",
       "      <th>num_bc_tl</th>\n",
       "    </tr>\n",
       "  </thead>\n",
       "  <tbody>\n",
       "    <tr>\n",
       "      <th>0</th>\n",
       "      <td>NaN</td>\n",
       "      <td>NaN</td>\n",
       "    </tr>\n",
       "    <tr>\n",
       "      <th>1</th>\n",
       "      <td>NaN</td>\n",
       "      <td>NaN</td>\n",
       "    </tr>\n",
       "    <tr>\n",
       "      <th>2</th>\n",
       "      <td>NaN</td>\n",
       "      <td>NaN</td>\n",
       "    </tr>\n",
       "    <tr>\n",
       "      <th>3</th>\n",
       "      <td>NaN</td>\n",
       "      <td>NaN</td>\n",
       "    </tr>\n",
       "    <tr>\n",
       "      <th>4</th>\n",
       "      <td>NaN</td>\n",
       "      <td>NaN</td>\n",
       "    </tr>\n",
       "    <tr>\n",
       "      <th>5</th>\n",
       "      <td>NaN</td>\n",
       "      <td>NaN</td>\n",
       "    </tr>\n",
       "    <tr>\n",
       "      <th>6</th>\n",
       "      <td>NaN</td>\n",
       "      <td>NaN</td>\n",
       "    </tr>\n",
       "    <tr>\n",
       "      <th>7</th>\n",
       "      <td>NaN</td>\n",
       "      <td>NaN</td>\n",
       "    </tr>\n",
       "    <tr>\n",
       "      <th>8</th>\n",
       "      <td>NaN</td>\n",
       "      <td>NaN</td>\n",
       "    </tr>\n",
       "    <tr>\n",
       "      <th>9</th>\n",
       "      <td>NaN</td>\n",
       "      <td>NaN</td>\n",
       "    </tr>\n",
       "    <tr>\n",
       "      <th>10</th>\n",
       "      <td>NaN</td>\n",
       "      <td>NaN</td>\n",
       "    </tr>\n",
       "    <tr>\n",
       "      <th>11</th>\n",
       "      <td>NaN</td>\n",
       "      <td>NaN</td>\n",
       "    </tr>\n",
       "    <tr>\n",
       "      <th>12</th>\n",
       "      <td>NaN</td>\n",
       "      <td>NaN</td>\n",
       "    </tr>\n",
       "    <tr>\n",
       "      <th>13</th>\n",
       "      <td>NaN</td>\n",
       "      <td>NaN</td>\n",
       "    </tr>\n",
       "    <tr>\n",
       "      <th>14</th>\n",
       "      <td>NaN</td>\n",
       "      <td>NaN</td>\n",
       "    </tr>\n",
       "    <tr>\n",
       "      <th>15</th>\n",
       "      <td>NaN</td>\n",
       "      <td>NaN</td>\n",
       "    </tr>\n",
       "    <tr>\n",
       "      <th>16</th>\n",
       "      <td>NaN</td>\n",
       "      <td>NaN</td>\n",
       "    </tr>\n",
       "    <tr>\n",
       "      <th>17</th>\n",
       "      <td>NaN</td>\n",
       "      <td>NaN</td>\n",
       "    </tr>\n",
       "    <tr>\n",
       "      <th>18</th>\n",
       "      <td>NaN</td>\n",
       "      <td>NaN</td>\n",
       "    </tr>\n",
       "    <tr>\n",
       "      <th>19</th>\n",
       "      <td>NaN</td>\n",
       "      <td>NaN</td>\n",
       "    </tr>\n",
       "    <tr>\n",
       "      <th>20</th>\n",
       "      <td>NaN</td>\n",
       "      <td>NaN</td>\n",
       "    </tr>\n",
       "    <tr>\n",
       "      <th>21</th>\n",
       "      <td>NaN</td>\n",
       "      <td>NaN</td>\n",
       "    </tr>\n",
       "    <tr>\n",
       "      <th>22</th>\n",
       "      <td>NaN</td>\n",
       "      <td>NaN</td>\n",
       "    </tr>\n",
       "    <tr>\n",
       "      <th>23</th>\n",
       "      <td>NaN</td>\n",
       "      <td>NaN</td>\n",
       "    </tr>\n",
       "    <tr>\n",
       "      <th>24</th>\n",
       "      <td>NaN</td>\n",
       "      <td>NaN</td>\n",
       "    </tr>\n",
       "    <tr>\n",
       "      <th>25</th>\n",
       "      <td>NaN</td>\n",
       "      <td>NaN</td>\n",
       "    </tr>\n",
       "    <tr>\n",
       "      <th>26</th>\n",
       "      <td>NaN</td>\n",
       "      <td>NaN</td>\n",
       "    </tr>\n",
       "    <tr>\n",
       "      <th>27</th>\n",
       "      <td>NaN</td>\n",
       "      <td>NaN</td>\n",
       "    </tr>\n",
       "    <tr>\n",
       "      <th>28</th>\n",
       "      <td>NaN</td>\n",
       "      <td>NaN</td>\n",
       "    </tr>\n",
       "    <tr>\n",
       "      <th>29</th>\n",
       "      <td>NaN</td>\n",
       "      <td>NaN</td>\n",
       "    </tr>\n",
       "    <tr>\n",
       "      <th>...</th>\n",
       "      <td>...</td>\n",
       "      <td>...</td>\n",
       "    </tr>\n",
       "    <tr>\n",
       "      <th>787873</th>\n",
       "      <td>6.0</td>\n",
       "      <td>13.0</td>\n",
       "    </tr>\n",
       "    <tr>\n",
       "      <th>787875</th>\n",
       "      <td>6.0</td>\n",
       "      <td>12.0</td>\n",
       "    </tr>\n",
       "    <tr>\n",
       "      <th>787876</th>\n",
       "      <td>13.0</td>\n",
       "      <td>17.0</td>\n",
       "    </tr>\n",
       "    <tr>\n",
       "      <th>787877</th>\n",
       "      <td>3.0</td>\n",
       "      <td>7.0</td>\n",
       "    </tr>\n",
       "    <tr>\n",
       "      <th>787879</th>\n",
       "      <td>5.0</td>\n",
       "      <td>6.0</td>\n",
       "    </tr>\n",
       "    <tr>\n",
       "      <th>787880</th>\n",
       "      <td>1.0</td>\n",
       "      <td>4.0</td>\n",
       "    </tr>\n",
       "    <tr>\n",
       "      <th>787881</th>\n",
       "      <td>3.0</td>\n",
       "      <td>6.0</td>\n",
       "    </tr>\n",
       "    <tr>\n",
       "      <th>787882</th>\n",
       "      <td>2.0</td>\n",
       "      <td>3.0</td>\n",
       "    </tr>\n",
       "    <tr>\n",
       "      <th>787883</th>\n",
       "      <td>9.0</td>\n",
       "      <td>22.0</td>\n",
       "    </tr>\n",
       "    <tr>\n",
       "      <th>787884</th>\n",
       "      <td>2.0</td>\n",
       "      <td>4.0</td>\n",
       "    </tr>\n",
       "    <tr>\n",
       "      <th>787885</th>\n",
       "      <td>2.0</td>\n",
       "      <td>6.0</td>\n",
       "    </tr>\n",
       "    <tr>\n",
       "      <th>787886</th>\n",
       "      <td>3.0</td>\n",
       "      <td>6.0</td>\n",
       "    </tr>\n",
       "    <tr>\n",
       "      <th>787887</th>\n",
       "      <td>5.0</td>\n",
       "      <td>11.0</td>\n",
       "    </tr>\n",
       "    <tr>\n",
       "      <th>787890</th>\n",
       "      <td>7.0</td>\n",
       "      <td>8.0</td>\n",
       "    </tr>\n",
       "    <tr>\n",
       "      <th>787892</th>\n",
       "      <td>4.0</td>\n",
       "      <td>7.0</td>\n",
       "    </tr>\n",
       "    <tr>\n",
       "      <th>787893</th>\n",
       "      <td>9.0</td>\n",
       "      <td>10.0</td>\n",
       "    </tr>\n",
       "    <tr>\n",
       "      <th>787894</th>\n",
       "      <td>2.0</td>\n",
       "      <td>3.0</td>\n",
       "    </tr>\n",
       "    <tr>\n",
       "      <th>787895</th>\n",
       "      <td>9.0</td>\n",
       "      <td>11.0</td>\n",
       "    </tr>\n",
       "    <tr>\n",
       "      <th>787896</th>\n",
       "      <td>4.0</td>\n",
       "      <td>15.0</td>\n",
       "    </tr>\n",
       "    <tr>\n",
       "      <th>787897</th>\n",
       "      <td>9.0</td>\n",
       "      <td>10.0</td>\n",
       "    </tr>\n",
       "    <tr>\n",
       "      <th>787898</th>\n",
       "      <td>13.0</td>\n",
       "      <td>14.0</td>\n",
       "    </tr>\n",
       "    <tr>\n",
       "      <th>787899</th>\n",
       "      <td>3.0</td>\n",
       "      <td>5.0</td>\n",
       "    </tr>\n",
       "    <tr>\n",
       "      <th>787901</th>\n",
       "      <td>2.0</td>\n",
       "      <td>6.0</td>\n",
       "    </tr>\n",
       "    <tr>\n",
       "      <th>787902</th>\n",
       "      <td>8.0</td>\n",
       "      <td>20.0</td>\n",
       "    </tr>\n",
       "    <tr>\n",
       "      <th>787903</th>\n",
       "      <td>7.0</td>\n",
       "      <td>11.0</td>\n",
       "    </tr>\n",
       "    <tr>\n",
       "      <th>787904</th>\n",
       "      <td>3.0</td>\n",
       "      <td>8.0</td>\n",
       "    </tr>\n",
       "    <tr>\n",
       "      <th>787905</th>\n",
       "      <td>7.0</td>\n",
       "      <td>8.0</td>\n",
       "    </tr>\n",
       "    <tr>\n",
       "      <th>787907</th>\n",
       "      <td>8.0</td>\n",
       "      <td>10.0</td>\n",
       "    </tr>\n",
       "    <tr>\n",
       "      <th>787908</th>\n",
       "      <td>9.0</td>\n",
       "      <td>20.0</td>\n",
       "    </tr>\n",
       "    <tr>\n",
       "      <th>787909</th>\n",
       "      <td>5.0</td>\n",
       "      <td>6.0</td>\n",
       "    </tr>\n",
       "  </tbody>\n",
       "</table>\n",
       "<p>672965 rows × 2 columns</p>\n",
       "</div>"
      ],
      "text/plain": [
       "        num_bc_sats  num_bc_tl\n",
       "0               NaN        NaN\n",
       "1               NaN        NaN\n",
       "2               NaN        NaN\n",
       "3               NaN        NaN\n",
       "4               NaN        NaN\n",
       "5               NaN        NaN\n",
       "6               NaN        NaN\n",
       "7               NaN        NaN\n",
       "8               NaN        NaN\n",
       "9               NaN        NaN\n",
       "10              NaN        NaN\n",
       "11              NaN        NaN\n",
       "12              NaN        NaN\n",
       "13              NaN        NaN\n",
       "14              NaN        NaN\n",
       "15              NaN        NaN\n",
       "16              NaN        NaN\n",
       "17              NaN        NaN\n",
       "18              NaN        NaN\n",
       "19              NaN        NaN\n",
       "20              NaN        NaN\n",
       "21              NaN        NaN\n",
       "22              NaN        NaN\n",
       "23              NaN        NaN\n",
       "24              NaN        NaN\n",
       "25              NaN        NaN\n",
       "26              NaN        NaN\n",
       "27              NaN        NaN\n",
       "28              NaN        NaN\n",
       "29              NaN        NaN\n",
       "...             ...        ...\n",
       "787873          6.0       13.0\n",
       "787875          6.0       12.0\n",
       "787876         13.0       17.0\n",
       "787877          3.0        7.0\n",
       "787879          5.0        6.0\n",
       "787880          1.0        4.0\n",
       "787881          3.0        6.0\n",
       "787882          2.0        3.0\n",
       "787883          9.0       22.0\n",
       "787884          2.0        4.0\n",
       "787885          2.0        6.0\n",
       "787886          3.0        6.0\n",
       "787887          5.0       11.0\n",
       "787890          7.0        8.0\n",
       "787892          4.0        7.0\n",
       "787893          9.0       10.0\n",
       "787894          2.0        3.0\n",
       "787895          9.0       11.0\n",
       "787896          4.0       15.0\n",
       "787897          9.0       10.0\n",
       "787898         13.0       14.0\n",
       "787899          3.0        5.0\n",
       "787901          2.0        6.0\n",
       "787902          8.0       20.0\n",
       "787903          7.0       11.0\n",
       "787904          3.0        8.0\n",
       "787905          7.0        8.0\n",
       "787907          8.0       10.0\n",
       "787908          9.0       20.0\n",
       "787909          5.0        6.0\n",
       "\n",
       "[672965 rows x 2 columns]"
      ]
     },
     "execution_count": 142,
     "metadata": {},
     "output_type": "execute_result"
    }
   ],
   "source": [
    "df[df['num_bc_sats'] != df['num_bc_tl']][['num_bc_sats','num_bc_tl']]"
   ]
  },
  {
   "cell_type": "code",
   "execution_count": 143,
   "metadata": {
    "collapsed": true
   },
   "outputs": [],
   "source": [
    "# drop num_bc_tl because (I believe) it's more important than num_bc_sats, and has more missing values\n",
    "df.drop('num_bc_sats', axis=1, inplace=True)"
   ]
  },
  {
   "cell_type": "code",
   "execution_count": 158,
   "metadata": {
    "collapsed": false
   },
   "outputs": [
    {
     "data": {
      "text/plain": [
       "749273"
      ]
     },
     "execution_count": 158,
     "metadata": {},
     "output_type": "execute_result"
    }
   ],
   "source": [
    "(df['pub_rec_bankruptcies'] == df['pub_rec']).sum()"
   ]
  },
  {
   "cell_type": "code",
   "execution_count": 154,
   "metadata": {
    "collapsed": true
   },
   "outputs": [],
   "source": [
    "df['pub_rec_bankruptcies'] = df.apply(lambda row: row['pub_rec'] if np.isnan(row['pub_rec_bankruptcies']) else row['pub_rec_bankruptcies'],axis=1)"
   ]
  },
  {
   "cell_type": "code",
   "execution_count": 161,
   "metadata": {
    "collapsed": false
   },
   "outputs": [
    {
     "data": {
      "text/plain": [
       "count    787436.000000\n",
       "mean          0.530831\n",
       "std           0.243244\n",
       "min           0.000000\n",
       "25%           0.351000\n",
       "50%           0.538000\n",
       "75%           0.719000\n",
       "max           8.923000\n",
       "Name: revol_util, dtype: float64"
      ]
     },
     "execution_count": 161,
     "metadata": {},
     "output_type": "execute_result"
    }
   ],
   "source": [
    "df['revol_util'].describe()"
   ]
  },
  {
   "cell_type": "code",
   "execution_count": 162,
   "metadata": {
    "collapsed": true
   },
   "outputs": [],
   "source": [
    "# Fill with mean (not skewed) - could figure this out using other variables later\n",
    "df['revol_util'].fillna(df['revol_util'].mean(), inplace=True)"
   ]
  },
  {
   "cell_type": "code",
   "execution_count": 172,
   "metadata": {
    "collapsed": false
   },
   "outputs": [],
   "source": [
    "# drop because 76% are 0, and the remaining have the same distribution of labels as total sample\n",
    "df.drop(\"num_accts_ever_120_pd\", axis=1, inplace=True)"
   ]
  },
  {
   "cell_type": "code",
   "execution_count": 175,
   "metadata": {
    "collapsed": false
   },
   "outputs": [
    {
     "data": {
      "text/plain": [
       "count    720383.000000\n",
       "mean          3.635744\n",
       "std           2.187278\n",
       "min           0.000000\n",
       "25%           2.000000\n",
       "50%           3.000000\n",
       "75%           5.000000\n",
       "max          33.000000\n",
       "Name: num_actv_bc_tl, dtype: float64"
      ]
     },
     "execution_count": 175,
     "metadata": {},
     "output_type": "execute_result"
    }
   ],
   "source": [
    "df['num_actv_bc_tl'].describe()"
   ]
  },
  {
   "cell_type": "code",
   "execution_count": 176,
   "metadata": {
    "collapsed": true
   },
   "outputs": [],
   "source": [
    "# fill with median (integer-valued)\n",
    "df['num_actv_bc_tl'].fillna(df['num_actv_bc_tl'].median(), inplace=True)"
   ]
  },
  {
   "cell_type": "code",
   "execution_count": 179,
   "metadata": {
    "collapsed": false
   },
   "outputs": [],
   "source": [
    "# fill with median (integer-valued)\n",
    "df['num_actv_rev_tl'].fillna(df['num_actv_rev_tl'].median(), inplace=True)"
   ]
  },
  {
   "cell_type": "code",
   "execution_count": 181,
   "metadata": {
    "collapsed": false
   },
   "outputs": [],
   "source": [
    "# fill with median (integer-valued)\n",
    "df['num_bc_tl'].fillna(df['num_bc_tl'].median(), inplace=True)"
   ]
  },
  {
   "cell_type": "code",
   "execution_count": 189,
   "metadata": {
    "collapsed": false
   },
   "outputs": [],
   "source": [
    "# fill with rounded-down mean\n",
    "df['num_il_tl'].fillna(np.floor(df['num_il_tl'].median()), inplace=True)"
   ]
  },
  {
   "cell_type": "code",
   "execution_count": 198,
   "metadata": {
    "collapsed": false
   },
   "outputs": [],
   "source": [
    "# fill with rounded-down mean\n",
    "df['num_op_rev_tl'].fillna(np.floor(df['num_op_rev_tl'].mean()), inplace=True)"
   ]
  },
  {
   "cell_type": "code",
   "execution_count": 199,
   "metadata": {
    "collapsed": false
   },
   "outputs": [],
   "source": [
    "df['num_rev_accts'].fillna(np.floor(df['num_rev_accts'].mean()), inplace=True)"
   ]
  },
  {
   "cell_type": "code",
   "execution_count": 200,
   "metadata": {
    "collapsed": false
   },
   "outputs": [],
   "source": [
    "df['num_rev_tl_bal_gt_0'].fillna(df['num_rev_tl_bal_gt_0'].median(), inplace=True)"
   ]
  },
  {
   "cell_type": "code",
   "execution_count": 208,
   "metadata": {
    "collapsed": false
   },
   "outputs": [],
   "source": [
    "df['num_sats'].fillna(df['num_sats'].median(), inplace=True)"
   ]
  },
  {
   "cell_type": "code",
   "execution_count": 211,
   "metadata": {
    "collapsed": false
   },
   "outputs": [],
   "source": [
    "df['num_tl_op_past_12m'].fillna(df['num_tl_op_past_12m'].median(), inplace=True)"
   ]
  },
  {
   "cell_type": "code",
   "execution_count": 213,
   "metadata": {
    "collapsed": false
   },
   "outputs": [
    {
     "data": {
      "text/plain": [
       "count    720248.000000\n",
       "mean         94.398238\n",
       "std           8.384764\n",
       "min           0.000000\n",
       "25%          91.700000\n",
       "50%          98.100000\n",
       "75%         100.000000\n",
       "max         100.000000\n",
       "Name: pct_tl_nvr_dlq, dtype: float64"
      ]
     },
     "execution_count": 213,
     "metadata": {},
     "output_type": "execute_result"
    }
   ],
   "source": [
    "df['pct_tl_nvr_dlq'].describe()"
   ]
  },
  {
   "cell_type": "code",
   "execution_count": 214,
   "metadata": {
    "collapsed": true
   },
   "outputs": [],
   "source": [
    "df['pct_tl_nvr_dlq'].fillna(df['pct_tl_nvr_dlq'].median(), inplace=True)"
   ]
  },
  {
   "cell_type": "code",
   "execution_count": 216,
   "metadata": {
    "collapsed": false
   },
   "outputs": [
    {
     "data": {
      "text/plain": [
       "count    732760.000000\n",
       "mean         47.331868\n",
       "std          35.624645\n",
       "min           0.000000\n",
       "25%          16.700000\n",
       "50%          50.000000\n",
       "75%          75.000000\n",
       "max         100.000000\n",
       "Name: percent_bc_gt_75, dtype: float64"
      ]
     },
     "execution_count": 216,
     "metadata": {},
     "output_type": "execute_result"
    }
   ],
   "source": [
    "df['percent_bc_gt_75'].describe()"
   ]
  },
  {
   "cell_type": "code",
   "execution_count": 218,
   "metadata": {
    "collapsed": true
   },
   "outputs": [],
   "source": [
    "df['percent_bc_gt_75'].fillna(df['percent_bc_gt_75'].median(), inplace=True)"
   ]
  },
  {
   "cell_type": "code",
   "execution_count": 220,
   "metadata": {
    "collapsed": false
   },
   "outputs": [
    {
     "data": {
      "text/plain": [
       "0.8556087525663432"
      ]
     },
     "execution_count": 220,
     "metadata": {},
     "output_type": "execute_result"
    }
   ],
   "source": [
    "df['tot_coll_amt'].value_counts(normalize=True)[0]"
   ]
  },
  {
   "cell_type": "code",
   "execution_count": 221,
   "metadata": {
    "collapsed": true
   },
   "outputs": [],
   "source": [
    "df.drop('tot_coll_amt', axis=1, inplace=True)"
   ]
  },
  {
   "cell_type": "code",
   "execution_count": 226,
   "metadata": {
    "collapsed": false
   },
   "outputs": [],
   "source": [
    "# fill with median because of outliers\n",
    "df['tot_cur_bal'].fillna(df['tot_cur_bal'].median(), inplace=True)"
   ]
  },
  {
   "cell_type": "code",
   "execution_count": 231,
   "metadata": {
    "collapsed": false
   },
   "outputs": [],
   "source": [
    "# fill with median because of outliers\n",
    "df['tot_hi_cred_lim'].fillna(df['tot_hi_cred_lim'].median(), inplace=True)"
   ]
  },
  {
   "cell_type": "code",
   "execution_count": 234,
   "metadata": {
    "collapsed": false
   },
   "outputs": [],
   "source": [
    "# fill with median because of outliers\n",
    "df['total_bal_ex_mort'].fillna(df['total_bal_ex_mort'].median(), inplace=True)"
   ]
  },
  {
   "cell_type": "code",
   "execution_count": 237,
   "metadata": {
    "collapsed": false
   },
   "outputs": [],
   "source": [
    "# fill with median because of outliers\n",
    "df['total_bc_limit'].fillna(df['total_bc_limit'].median(), inplace=True)"
   ]
  },
  {
   "cell_type": "code",
   "execution_count": 239,
   "metadata": {
    "collapsed": false
   },
   "outputs": [],
   "source": [
    "# fill with median because of outliers\n",
    "df['total_il_high_credit_limit'].fillna(df['total_il_high_credit_limit'].median(), inplace=True)"
   ]
  },
  {
   "cell_type": "code",
   "execution_count": 241,
   "metadata": {
    "collapsed": false
   },
   "outputs": [],
   "source": [
    "# fill with median because of outliers\n",
    "df['total_rev_hi_lim'].fillna(df['total_rev_hi_lim'].median(), inplace=True)"
   ]
  },
  {
   "cell_type": "code",
   "execution_count": 242,
   "metadata": {
    "collapsed": false,
    "scrolled": true
   },
   "outputs": [
    {
     "data": {
      "text/plain": [
       "acc_open_past_24mths          0\n",
       "addr_state                    0\n",
       "annual_inc                    0\n",
       "avg_cur_bal                   0\n",
       "bc_util                       0\n",
       "collection_recovery_fee       0\n",
       "delinq_2yrs                   0\n",
       "dti                           0\n",
       "earliest_cr_line              0\n",
       "emp_length                    0\n",
       "funded_amnt                   0\n",
       "funded_amnt_inv               0\n",
       "grade                         0\n",
       "home_ownership                0\n",
       "initial_list_status           0\n",
       "inq_last_6mths                0\n",
       "installment                   0\n",
       "int_rate                      0\n",
       "issue_d                       0\n",
       "last_credit_pull_d            0\n",
       "last_pymnt_amnt               0\n",
       "last_pymnt_d                  0\n",
       "loan_amnt                     0\n",
       "loan_status                   0\n",
       "mort_acc                      0\n",
       "num_actv_bc_tl                0\n",
       "num_actv_rev_tl               0\n",
       "num_bc_tl                     0\n",
       "num_il_tl                     0\n",
       "num_op_rev_tl                 0\n",
       "num_rev_accts                 0\n",
       "num_rev_tl_bal_gt_0           0\n",
       "num_sats                      0\n",
       "num_tl_op_past_12m            0\n",
       "open_acc                      0\n",
       "pct_tl_nvr_dlq                0\n",
       "percent_bc_gt_75              0\n",
       "pub_rec                       0\n",
       "pub_rec_bankruptcies          0\n",
       "purpose                       0\n",
       "recoveries                    0\n",
       "revol_bal                     0\n",
       "revol_util                    0\n",
       "term                          0\n",
       "tot_cur_bal                   0\n",
       "tot_hi_cred_lim               0\n",
       "total_acc                     0\n",
       "total_bal_ex_mort             0\n",
       "total_bc_limit                0\n",
       "total_il_high_credit_limit    0\n",
       "total_pymnt                   0\n",
       "total_rec_int                 0\n",
       "total_rec_late_fee            0\n",
       "total_rec_prncp               0\n",
       "total_rev_hi_lim              0\n",
       "verification_status           0\n",
       "dtype: int64"
      ]
     },
     "execution_count": 242,
     "metadata": {},
     "output_type": "execute_result"
    }
   ],
   "source": [
    "df.isnull().sum()"
   ]
  },
  {
   "cell_type": "code",
   "execution_count": 243,
   "metadata": {
    "collapsed": false
   },
   "outputs": [
    {
     "data": {
      "text/plain": [
       "56"
      ]
     },
     "execution_count": 243,
     "metadata": {},
     "output_type": "execute_result"
    }
   ],
   "source": [
    "len(df.columns)"
   ]
  },
  {
   "cell_type": "code",
   "execution_count": 245,
   "metadata": {
    "collapsed": true
   },
   "outputs": [],
   "source": [
    "df.to_csv(\"cleaned_data.csv\", index=False)"
   ]
  },
  {
   "cell_type": "code",
   "execution_count": null,
   "metadata": {
    "collapsed": true
   },
   "outputs": [],
   "source": []
  }
 ],
 "metadata": {
  "kernelspec": {
   "display_name": "Python 3",
   "language": "python",
   "name": "python3"
  },
  "language_info": {
   "codemirror_mode": {
    "name": "ipython",
    "version": 3
   },
   "file_extension": ".py",
   "mimetype": "text/x-python",
   "name": "python",
   "nbconvert_exporter": "python",
   "pygments_lexer": "ipython3",
   "version": "3.6.0"
  }
 },
 "nbformat": 4,
 "nbformat_minor": 2
}
