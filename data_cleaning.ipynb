{
 "cells": [
  {
   "cell_type": "code",
   "execution_count": 1,
   "metadata": {
    "collapsed": true
   },
   "outputs": [],
   "source": [
    "import pandas as pd\n",
    "from datetime import datetime\n",
    "import os\n",
    "import numpy as np\n",
    "import matplotlib.pyplot as plt\n",
    "from sklearn.model_selection import train_test_split"
   ]
  },
  {
   "cell_type": "markdown",
   "metadata": {},
   "source": [
    "### Load the data"
   ]
  },
  {
   "cell_type": "code",
   "execution_count": 2,
   "metadata": {},
   "outputs": [],
   "source": [
    "csvs = os.listdir('accepted/')"
   ]
  },
  {
   "cell_type": "code",
   "execution_count": 3,
   "metadata": {},
   "outputs": [],
   "source": [
    "# make sure all csv files have the same headers\n",
    "with open(\"accepted/\"+csvs[0], 'r') as f:\n",
    "    columns = f.readlines()[0]\n",
    "for c in csvs[1:]:\n",
    "    with open(\"accepted/\" + c, 'r') as f:\n",
    "        if f.readlines()[0] != columns:\n",
    "            print(c)"
   ]
  },
  {
   "cell_type": "code",
   "execution_count": 4,
   "metadata": {},
   "outputs": [],
   "source": [
    "dtype = {'id':str,'member_id':str,'loan_amnt':float,'funded_amnt':float,'funded_amnt_inv':float,\n",
    "         'term':str,'int_rate':str,\n",
    "         'installment':float,'grade':str,'sub_grade':str,'emp_title':str,'emp_length':str,'home_ownership':str,\n",
    "         'annual_inc':float,'verification_status':str,'issue_d':str,'loan_status':str,'pymnt_plan':str,'url':str,\n",
    "         'desc':str,'purpose':str,'title':str,'zip_code':str,'addr_state':str,'dti':float,'delinq_2yrs':float,\n",
    "         'earliest_cr_line':str,'inq_last_6mths':float,'mths_since_last_delinq':float,\n",
    "         'mths_since_last_record':float,\n",
    "         'open_acc':float,'pub_rec':float,'revol_bal':float,'total_acc':float,'initial_list_status':str,\n",
    "         'out_prncp':float,\n",
    "         'out_prncp_inv':float,'total_pymnt':float,'total_pymnt_inv':float,'total_rec_prncp':float,\n",
    "         'total_rec_int':float,\n",
    "         'total_rec_late_fee':float,'recoveries':float,'collection_recovery_fee':float,'last_pymnt_d':str,\n",
    "         'last_pymnt_amnt':float,'next_pymnt_d':str,'last_credit_pull_d':str,'collections_12_mths_ex_med':float,\n",
    "         'mths_since_last_major_derog':float,'policy_code':str,'application_type':str,'annual_inc_joint':float,\n",
    "         'dti_joint':float,'verification_status_joint':str,'acc_now_delinq':float,'tot_coll_amt':float,\n",
    "         'tot_cur_bal':float,\n",
    "         'open_acc_6m':float,'open_act_il':float,'open_il_12m':float,'open_il_24m':float,\n",
    "         'mths_since_rcnt_il':float,'total_bal_il':float,\n",
    "         'il_util':str,'open_rv_12m':float,'open_rv_24m':float,'max_bal_bc':float,'all_util':float,\n",
    "         'total_rev_hi_lim':float,\n",
    "         'inq_fi':float,'total_cu_tl':float,'inq_last_12m':float,'acc_open_past_24mths':float,'avg_cur_bal':float,\n",
    "         'bc_open_to_buy':str,'bc_util':str,'chargeoff_within_12_mths':float,'delinq_amnt':float,\n",
    "         'mo_sin_old_il_acct':str,\n",
    "         'mo_sin_old_rev_tl_op':str,'mo_sin_rcnt_rev_tl_op':str,'mo_sin_rcnt_tl':str,'mort_acc':float,\n",
    "         'mths_since_recent_bc':float,'mths_since_recent_bc_dlq':float,'mths_since_recent_inq':float,\n",
    "         'mths_since_recent_revol_delinq':float,\n",
    "         'num_accts_ever_120_pd':float,'num_actv_bc_tl':float,'num_actv_rev_tl':float,'num_bc_sats':float,\n",
    "         'num_bc_tl':float,\n",
    "         'num_il_tl':float,'num_op_rev_tl':float,'num_rev_accts':float,'num_rev_tl_bal_gt_0':float,'num_sats':float,\n",
    "         'num_tl_120dpd_2m':float,'num_tl_30dpd':float,'num_tl_90g_dpd_24m':float,'num_tl_op_past_12m':float,\n",
    "         'pct_tl_nvr_dlq':float,'percent_bc_gt_75':float,'pub_rec_bankruptcies':float,'tax_liens':float,\n",
    "         'tot_hi_cred_lim':float,\n",
    "         'total_bal_ex_mort':float,'total_bc_limit':float,'total_il_high_credit_limit':float,'revol_bal_joint':float,\n",
    "         'sec_app_earliest_cr_line':str,'sec_app_inq_last_6mths':float,'sec_app_mort_acc':str,'sec_app_open_acc':str,\n",
    "         'sec_app_revol_util':str,'sec_app_open_act_il':str,'sec_app_num_rev_accts':float,\n",
    "         'sec_app_chargeoff_within_12_mths':float,\n",
    "         'sec_app_collections_12_mths_ex_med':float,'sec_app_mths_since_last_major_derog':float,'hardship_flag':str,\n",
    "         'hardship_type':str,'hardship_reason':str,'hardship_status':str,'deferral_term':str,'hardship_amount':float,\n",
    "         'hardship_start_date':str,'hardship_end_date':str,'payment_plan_start_date':str,'hardship_length':str,\n",
    "         'hardship_dpd':float,'hardship_loan_status':str,'orig_projected_additional_accrued_interest':float,\n",
    "         'hardship_payoff_balance_amount':float,'hardship_last_payment_amount':float,'disbursement_method':str,\n",
    "         'debt_settlement_flag':str,'debt_settlement_flag_date':str,'settlement_status':str,'settlement_date':str,\n",
    "         'settlement_amount':float,'settlement_percentage':float,'settlement_term':str}"
   ]
  },
  {
   "cell_type": "code",
   "execution_count": 5,
   "metadata": {},
   "outputs": [],
   "source": [
    "df = pd.DataFrame(columns=dtype.keys())\n",
    "for i,c in enumerate(csvs):\n",
    "    df = df.append(pd.read_csv(\"accepted/\" + c, dtype=dtype))"
   ]
  },
  {
   "cell_type": "code",
   "execution_count": 6,
   "metadata": {},
   "outputs": [
    {
     "name": "stdout",
     "output_type": "stream",
     "text": [
      "number of data points: 1765451\n"
     ]
    }
   ],
   "source": [
    "print(\"number of data points: {}\".format(len(df)))"
   ]
  },
  {
   "cell_type": "markdown",
   "metadata": {},
   "source": [
    "### Drop current and unlabeled borrowers"
   ]
  },
  {
   "cell_type": "code",
   "execution_count": 7,
   "metadata": {},
   "outputs": [
    {
     "name": "stdout",
     "output_type": "stream",
     "text": [
      "Current                                                0.523060\n",
      "Fully Paid                                             0.357402\n",
      "Charged Off                                            0.091091\n",
      "Late (31-120 days)                                     0.014585\n",
      "In Grace Period                                        0.009283\n",
      "Late (16-30 days)                                      0.002981\n",
      "Does not meet the credit policy. Status:Fully Paid     0.001126\n",
      "Does not meet the credit policy. Status:Charged Off    0.000431\n",
      "Default                                                0.000041\n",
      "Name: loan_status, dtype: float64\n"
     ]
    }
   ],
   "source": [
    "print(df.loan_status.value_counts(normalize=True))"
   ]
  },
  {
   "cell_type": "markdown",
   "metadata": {},
   "source": [
    "We drop current borrowers, as we are primarily interested in those who have already paid off or charged off on their loans. We save the current borrowers to predict how they will behave for future projects. Note that \"Charged Off\" means no further payment is expected. This typically occurs when a payment is 150+ days past due. \"Default\" typically means the borrower has not made a payment for 121+ days, but the account has not been closed or sent to collections yet (see https://help.lendingclub.com/hc/en-us/articles/216127747-What-is-the-difference-between-a-loan-that-is-in-default-and-a-loan-that-has-been-charged-off-).\n",
    "\n",
    "The labels that include \"Does not meet the credit policy\" means those applicants would not be awarded a loan under Lending Club's current policy. We omit them from this analysis, as we are concerned with the current policy of Lending Club."
   ]
  },
  {
   "cell_type": "code",
   "execution_count": 8,
   "metadata": {},
   "outputs": [],
   "source": [
    "# save current borrowers for separate analysis\n",
    "current_df = df[(df.loan_status != 'Fully Paid') & (df.loan_status != 'Charged Off') \n",
    "                & (df.loan_status != 'Does not meet the credit policy. Status:Fully Paid')\n",
    "                & (df.loan_status != 'Does not meet the credit policy. Status:Charged Off')]"
   ]
  },
  {
   "cell_type": "code",
   "execution_count": 9,
   "metadata": {},
   "outputs": [],
   "source": [
    "current_df.to_csv(\"data/current_borrowers.csv\", index=False)"
   ]
  },
  {
   "cell_type": "markdown",
   "metadata": {},
   "source": [
    "We drop the unlabeled data points, as the proportion of unlabeled points (about .003%) is marginal."
   ]
  },
  {
   "cell_type": "code",
   "execution_count": 10,
   "metadata": {},
   "outputs": [
    {
     "name": "stdout",
     "output_type": "stream",
     "text": [
      "number of unlabeled points: 25\n"
     ]
    }
   ],
   "source": [
    "print(\"number of unlabeled points: {}\".format(len(df) - df.loan_status.value_counts().sum()))"
   ]
  },
  {
   "cell_type": "code",
   "execution_count": 11,
   "metadata": {},
   "outputs": [
    {
     "data": {
      "text/plain": [
       "1765426"
      ]
     },
     "execution_count": 11,
     "metadata": {},
     "output_type": "execute_result"
    }
   ],
   "source": [
    "# drop unlabeled data points (nan)\n",
    "df = df.dropna(subset=['loan_status'])\n",
    "len(df)"
   ]
  },
  {
   "cell_type": "code",
   "execution_count": 12,
   "metadata": {},
   "outputs": [
    {
     "data": {
      "text/plain": [
       "2749"
      ]
     },
     "execution_count": 12,
     "metadata": {},
     "output_type": "execute_result"
    }
   ],
   "source": [
    "unqualified_df = df[df.loan_status.str.contains(\"Does not meet the credit policy\")]\n",
    "len(unqualified_df)"
   ]
  },
  {
   "cell_type": "code",
   "execution_count": 13,
   "metadata": {
    "scrolled": true
   },
   "outputs": [
    {
     "data": {
      "text/plain": [
       "1762677"
      ]
     },
     "execution_count": 13,
     "metadata": {},
     "output_type": "execute_result"
    }
   ],
   "source": [
    "# save those who don't meet the policy today in a separate csv\n",
    "unqualified_df.to_csv(\"data/unqualified_df.csv\", index=False)\n",
    "df = df[(df.loan_status != 'Does not meet the credit policy. Status:Fully Paid') & \n",
    "        (df.loan_status != 'Does not meet the credit policy. Status:Charged Off')]\n",
    "len(df)"
   ]
  },
  {
   "cell_type": "code",
   "execution_count": 14,
   "metadata": {},
   "outputs": [],
   "source": [
    "# drop current borrowers\n",
    "df = df[df.loan_status!='Current']\n",
    "df = df[df.loan_status!='In Grace Period']\n",
    "df = df[df.loan_status!='Late (31-120 days)']\n",
    "df = df[df.loan_status!='Late (16-30 days)']\n",
    "df = df[df.loan_status!='Default']"
   ]
  },
  {
   "cell_type": "code",
   "execution_count": 15,
   "metadata": {},
   "outputs": [
    {
     "name": "stdout",
     "output_type": "stream",
     "text": [
      "['Fully Paid' 'Charged Off']\n"
     ]
    }
   ],
   "source": [
    "print(df.loan_status.unique())"
   ]
  },
  {
   "cell_type": "code",
   "execution_count": 16,
   "metadata": {
    "scrolled": true
   },
   "outputs": [
    {
     "data": {
      "text/plain": [
       "Fully Paid     0.796896\n",
       "Charged Off    0.203104\n",
       "Name: loan_status, dtype: float64"
      ]
     },
     "execution_count": 16,
     "metadata": {},
     "output_type": "execute_result"
    }
   ],
   "source": [
    "df.loan_status.value_counts(normalize=True)"
   ]
  },
  {
   "cell_type": "markdown",
   "metadata": {},
   "source": [
    "Observations labeled with \"Does not meet the credit policy\" are people that borrowed from Lending Club in the past, but would not currently qualify for a loan under Lending Club's current policy. We save them as a separate dataframe for further analysis; perhaps we can identify the change in Lending Club's policy that would cause those borrowers to not qualify for a loan today."
   ]
  },
  {
   "cell_type": "markdown",
   "metadata": {},
   "source": [
    "### Label the data"
   ]
  },
  {
   "cell_type": "code",
   "execution_count": 17,
   "metadata": {},
   "outputs": [],
   "source": [
    "df.loan_status = df.loan_status.map({'Fully Paid':1, 'Charged Off':0})\n",
    "df.to_csv('data/labeled.csv', index=False)"
   ]
  },
  {
   "cell_type": "code",
   "execution_count": 18,
   "metadata": {},
   "outputs": [
    {
     "data": {
      "text/plain": [
       "145"
      ]
     },
     "execution_count": 18,
     "metadata": {},
     "output_type": "execute_result"
    }
   ],
   "source": [
    "# change loan_status to int, due to encoded labels\n",
    "dtype['loan_status'] = int\n",
    "df = pd.read_csv('data/labeled.csv', dtype=dtype)\n",
    "len(df.columns)"
   ]
  },
  {
   "cell_type": "markdown",
   "metadata": {},
   "source": [
    "### Remove features that are not available for new applicants"
   ]
  },
  {
   "cell_type": "markdown",
   "metadata": {},
   "source": [
    "Since we want to this analysis to be useful for new applicants, we drop the columns that are available for only those whose applications have been accepted and have already received the loan for which they applied. Many of these features have to do with payment schedules, recovery fees, and hardship plans."
   ]
  },
  {
   "cell_type": "code",
   "execution_count": 19,
   "metadata": {},
   "outputs": [],
   "source": [
    "feats = ['collection_recovery_fee', 'funded_amnt', 'funded_amnt_inv', 'issue_d', 'last_credit_pull_d',\n",
    "         'last_pymnt_amnt', 'last_pymnt_d', 'next_pymnt_d', 'out_prncp', 'out_prncp_inv', 'pymnt_plan',\n",
    "         'recoveries', 'term', 'total_pymnt', 'total_pymnt_inv', 'total_rec_int', 'total_rec_late_fee',\n",
    "         'total_rec_prncp', 'hardship_flag', 'hardship_type', 'hardship_reason', 'hardship_status',\n",
    "         'deferral_term', 'hardship_amount', 'hardship_start_date', 'hardship_end_date', 'payment_plan_start_date',\n",
    "         'hardship_length', 'hardship_dpd', 'hardship_loan_status', 'orig_projected_additional_accrued_interest',\n",
    "         'hardship_payoff_balance_amount', 'hardship_last_payment_amount', 'disbursement_method', \n",
    "         'debt_settlement_flag', 'debt_settlement_flag_date', 'settlement_status', 'settlement_date',\n",
    "         'settlement_amount', 'settlement_percentage', 'settlement_term']\n",
    "df.drop(feats, axis=1, inplace=True)"
   ]
  },
  {
   "cell_type": "markdown",
   "metadata": {},
   "source": [
    "### Remove uniform columns"
   ]
  },
  {
   "cell_type": "code",
   "execution_count": 20,
   "metadata": {
    "scrolled": true
   },
   "outputs": [
    {
     "name": "stdout",
     "output_type": "stream",
     "text": [
      "id 1\n",
      "member_id 1\n",
      "policy_code 1\n",
      "url 1\n"
     ]
    }
   ],
   "source": [
    "# find features with uniform values\n",
    "for col in df.columns:\n",
    "    if len(df[col].unique()) == 1:\n",
    "        print(col, len(df[col].unique()))\n",
    "        df.drop(col, axis=1, inplace=True)"
   ]
  },
  {
   "cell_type": "code",
   "execution_count": 21,
   "metadata": {},
   "outputs": [
    {
     "data": {
      "text/plain": [
       "(791781, 100)"
      ]
     },
     "execution_count": 21,
     "metadata": {},
     "output_type": "execute_result"
    }
   ],
   "source": [
    "df.shape"
   ]
  },
  {
   "cell_type": "markdown",
   "metadata": {},
   "source": [
    "### Remove columns with a majority (70% or more) of missing values"
   ]
  },
  {
   "cell_type": "code",
   "execution_count": 22,
   "metadata": {},
   "outputs": [
    {
     "name": "stdout",
     "output_type": "stream",
     "text": [
      "all_util                           \t0.7903877461065623\n",
      "annual_inc_joint                   \t0.995332042572378\n",
      "desc                               \t0.8491161066001837\n",
      "dti_joint                          \t0.995332042572378\n",
      "il_util                            \t0.8168483456915485\n",
      "inq_fi                             \t0.790373853376123\n",
      "inq_last_12m                       \t0.7903751163516174\n",
      "max_bal_bc                         \t0.790373853376123\n",
      "mo_sin_old_il_acct                 \t0.11224442112149698\n",
      "mths_since_last_delinq             \t0.5131620991157908\n",
      "mths_since_last_major_derog        \t0.7493372536092682\n",
      "mths_since_last_record             \t0.8365583412585046\n",
      "mths_since_rcnt_il                 \t0.7950165512938553\n",
      "mths_since_recent_bc_dlq           \t0.7683803981151354\n",
      "mths_since_recent_inq              \t0.1458370433238484\n",
      "mths_since_recent_revol_delinq     \t0.6752927892940094\n",
      "num_tl_120dpd_2m                   \t0.11655243053319037\n",
      "open_acc_6m                        \t0.7903751163516174\n",
      "open_act_il                        \t0.790373853376123\n",
      "open_il_12m                        \t0.790373853376123\n",
      "open_il_24m                        \t0.790373853376123\n",
      "open_rv_12m                        \t0.790373853376123\n",
      "open_rv_24m                        \t0.790373853376123\n",
      "revol_bal_joint                    \t0.9986183048090318\n",
      "sec_app_chargeoff_within_12_mths   \t0.9986183048090318\n",
      "sec_app_collections_12_mths_ex_med \t0.9986183048090318\n",
      "sec_app_earliest_cr_line           \t0.9986183048090318\n",
      "sec_app_inq_last_6mths             \t0.9986183048090318\n",
      "sec_app_mort_acc                   \t0.9986183048090318\n",
      "sec_app_mths_since_last_major_derog\t0.9995188063366006\n",
      "sec_app_num_rev_accts              \t0.9986183048090318\n",
      "sec_app_open_acc                   \t0.9986183048090318\n",
      "sec_app_open_act_il                \t0.9986183048090318\n",
      "sec_app_revol_util                 \t0.9986435643189215\n",
      "total_bal_il                       \t0.790373853376123\n",
      "total_cu_tl                        \t0.7903751163516174\n",
      "verification_status_joint          \t0.995332042572378\n"
     ]
    }
   ],
   "source": [
    "null_counts = dict(df.isnull().sum())\n",
    "null_cols = []\n",
    "for key,val in null_counts.items():\n",
    "    if val/df.shape[0] >= .1:\n",
    "        print(\"{:<35}\\t{}\".format((key), val/df.shape[0]))\n",
    "    if val/df.shape[0] >= 0.7:\n",
    "        null_cols.append(key)"
   ]
  },
  {
   "cell_type": "markdown",
   "metadata": {},
   "source": [
    "We drop the variable `application_type` since it is nearly uniform."
   ]
  },
  {
   "cell_type": "code",
   "execution_count": 23,
   "metadata": {},
   "outputs": [
    {
     "data": {
      "text/plain": [
       "Individual    0.995332\n",
       "Joint App     0.004668\n",
       "Name: application_type, dtype: float64"
      ]
     },
     "execution_count": 23,
     "metadata": {},
     "output_type": "execute_result"
    }
   ],
   "source": [
    "df.application_type.value_counts(normalize=True)"
   ]
  },
  {
   "cell_type": "code",
   "execution_count": 24,
   "metadata": {},
   "outputs": [
    {
     "data": {
      "text/plain": [
       "Individual    788085\n",
       "Joint App       3696\n",
       "Name: application_type, dtype: int64"
      ]
     },
     "execution_count": 24,
     "metadata": {},
     "output_type": "execute_result"
    }
   ],
   "source": [
    "df.application_type.value_counts()"
   ]
  },
  {
   "cell_type": "code",
   "execution_count": 25,
   "metadata": {},
   "outputs": [],
   "source": [
    "df.drop('application_type', axis=1, inplace=True)"
   ]
  },
  {
   "cell_type": "code",
   "execution_count": 26,
   "metadata": {},
   "outputs": [
    {
     "name": "stdout",
     "output_type": "stream",
     "text": [
      "32\n",
      "67\n"
     ]
    }
   ],
   "source": [
    "print(len(null_cols))\n",
    "df.drop(null_cols, axis=1, inplace=True)\n",
    "print(len(df.columns))"
   ]
  },
  {
   "cell_type": "markdown",
   "metadata": {},
   "source": [
    "### Drop columns that aren't helpful or are strongly correlated with other features"
   ]
  },
  {
   "cell_type": "code",
   "execution_count": 27,
   "metadata": {},
   "outputs": [
    {
     "data": {
      "text/plain": [
       "0    775xx\n",
       "1    985xx\n",
       "2    333xx\n",
       "3    770xx\n",
       "4    760xx\n",
       "Name: zip_code, dtype: object"
      ]
     },
     "execution_count": 27,
     "metadata": {},
     "output_type": "execute_result"
    }
   ],
   "source": [
    "df['zip_code'].head()"
   ]
  },
  {
   "cell_type": "code",
   "execution_count": 28,
   "metadata": {
    "collapsed": true
   },
   "outputs": [],
   "source": [
    "# drop the zip_code feature, since we can't work with 3-digit zip codes, and addr_state gives the state\n",
    "df.drop(\"zip_code\", axis=1, inplace=True)"
   ]
  },
  {
   "cell_type": "code",
   "execution_count": 29,
   "metadata": {
    "collapsed": true
   },
   "outputs": [],
   "source": [
    "df.drop('addr_state', axis=1, inplace=True)"
   ]
  },
  {
   "cell_type": "code",
   "execution_count": 30,
   "metadata": {},
   "outputs": [
    {
     "data": {
      "text/plain": [
       "0         Debt consolidation\n",
       "1         Debt consolidation\n",
       "2           Home improvement\n",
       "3         Debt consolidation\n",
       "4         Debt consolidation\n",
       "5             Major purchase\n",
       "6    Credit card refinancing\n",
       "7      Moving and relocation\n",
       "8         Debt consolidation\n",
       "9                      Other\n",
       "Name: title, dtype: object"
      ]
     },
     "execution_count": 30,
     "metadata": {},
     "output_type": "execute_result"
    }
   ],
   "source": [
    "df['title'].head(10)"
   ]
  },
  {
   "cell_type": "code",
   "execution_count": 31,
   "metadata": {},
   "outputs": [
    {
     "name": "stdout",
     "output_type": "stream",
     "text": [
      "50798\n",
      "7387\n"
     ]
    }
   ],
   "source": [
    "# make lower case\n",
    "df['title'] = df['title'].str.lower()\n",
    "# got rid of about 10000 categories\n",
    "print(len(df['title'].unique()))\n",
    "print(df['title'].isnull().sum())"
   ]
  },
  {
   "cell_type": "code",
   "execution_count": 32,
   "metadata": {},
   "outputs": [
    {
     "name": "stdout",
     "output_type": "stream",
     "text": [
      "50798\n"
     ]
    },
    {
     "data": {
      "text/plain": [
       "debt consolidation           0.482650\n",
       "credit card refinancing      0.163981\n",
       "home improvement             0.051340\n",
       "other                        0.041199\n",
       "major purchase               0.015564\n",
       "consolidation                0.009329\n",
       "medical expenses             0.008617\n",
       "business                     0.008354\n",
       "car financing                0.007036\n",
       "debt consolidation loan      0.005771\n",
       "vacation                     0.005375\n",
       "moving and relocation        0.005240\n",
       "credit card consolidation    0.004281\n",
       "personal loan                0.004013\n",
       "home buying                  0.003573\n",
       "Name: title, dtype: float64"
      ]
     },
     "execution_count": 32,
     "metadata": {},
     "output_type": "execute_result"
    }
   ],
   "source": [
    "# keep top x categories\n",
    "# use substring matching to combine categories (other ways to combine categories)\n",
    "# make new categories for leftovers\n",
    "print(len(df['title'].unique()))\n",
    "df['title'].value_counts(normalize=True).iloc[:15]"
   ]
  },
  {
   "cell_type": "code",
   "execution_count": 33,
   "metadata": {},
   "outputs": [
    {
     "data": {
      "text/plain": [
       "debt_consolidation    0.590490\n",
       "credit_card           0.214485\n",
       "home_improvement      0.062402\n",
       "other                 0.054115\n",
       "major_purchase        0.021540\n",
       "small_business        0.012631\n",
       "car                   0.011061\n",
       "medical               0.010753\n",
       "moving                0.007041\n",
       "vacation              0.006292\n",
       "house                 0.005166\n",
       "wedding               0.002868\n",
       "renewable_energy      0.000744\n",
       "educational           0.000412\n",
       "Name: purpose, dtype: float64"
      ]
     },
     "execution_count": 33,
     "metadata": {},
     "output_type": "execute_result"
    }
   ],
   "source": [
    "df['purpose'].value_counts(normalize=True)"
   ]
  },
  {
   "cell_type": "code",
   "execution_count": 34,
   "metadata": {
    "collapsed": true
   },
   "outputs": [],
   "source": [
    "# drop title (for now), as purpose is a more uniform, consistent way to measure a similar thing (high correlation)\n",
    "df.drop('title', axis=1, inplace=True)"
   ]
  },
  {
   "cell_type": "code",
   "execution_count": 35,
   "metadata": {},
   "outputs": [
    {
     "data": {
      "text/plain": [
       "0             Buyer\n",
       "1               USA\n",
       "2               NaN\n",
       "3               NaN\n",
       "4    member service\n",
       "Name: emp_title, dtype: object"
      ]
     },
     "execution_count": 35,
     "metadata": {},
     "output_type": "execute_result"
    }
   ],
   "source": [
    "df.emp_title.head()"
   ]
  },
  {
   "cell_type": "code",
   "execution_count": 36,
   "metadata": {},
   "outputs": [
    {
     "data": {
      "text/plain": [
       "275475"
      ]
     },
     "execution_count": 36,
     "metadata": {},
     "output_type": "execute_result"
    }
   ],
   "source": [
    "len(df.emp_title.unique())"
   ]
  },
  {
   "cell_type": "code",
   "execution_count": 37,
   "metadata": {
    "collapsed": true
   },
   "outputs": [],
   "source": [
    "# for similar reasoning, drop emp_title (user input, very messy)\n",
    "df.drop('emp_title', axis=1, inplace=True)"
   ]
  },
  {
   "cell_type": "code",
   "execution_count": 38,
   "metadata": {},
   "outputs": [
    {
     "data": {
      "text/plain": [
       "B    0.288935\n",
       "C    0.276340\n",
       "A    0.163899\n",
       "D    0.156993\n",
       "E    0.078034\n",
       "F    0.028402\n",
       "G    0.007397\n",
       "Name: grade, dtype: float64"
      ]
     },
     "execution_count": 38,
     "metadata": {},
     "output_type": "execute_result"
    }
   ],
   "source": [
    "df.grade.value_counts(normalize=True)"
   ]
  },
  {
   "cell_type": "code",
   "execution_count": 39,
   "metadata": {
    "scrolled": true
   },
   "outputs": [
    {
     "data": {
      "text/plain": [
       "B3    0.063241\n",
       "B4    0.062870\n",
       "C1    0.061520\n",
       "C2    0.058502\n",
       "B5    0.058317\n",
       "B2    0.054934\n",
       "C3    0.054861\n",
       "C4    0.053442\n",
       "B1    0.049573\n",
       "C5    0.048016\n",
       "A5    0.046678\n",
       "D1    0.040097\n",
       "A4    0.038796\n",
       "D2    0.034604\n",
       "D3    0.030087\n",
       "D4    0.028502\n",
       "A1    0.026889\n",
       "A3    0.026525\n",
       "A2    0.025011\n",
       "D5    0.023704\n",
       "E1    0.020006\n",
       "E2    0.018178\n",
       "E3    0.015271\n",
       "E4    0.013143\n",
       "E5    0.011438\n",
       "F1    0.008730\n",
       "F2    0.006488\n",
       "F3    0.005491\n",
       "F4    0.004294\n",
       "F5    0.003399\n",
       "G1    0.002464\n",
       "G2    0.001841\n",
       "G3    0.001321\n",
       "G4    0.000976\n",
       "G5    0.000794\n",
       "Name: sub_grade, dtype: float64"
      ]
     },
     "execution_count": 39,
     "metadata": {},
     "output_type": "execute_result"
    }
   ],
   "source": [
    "df.sub_grade.value_counts(normalize=True)"
   ]
  },
  {
   "cell_type": "code",
   "execution_count": 40,
   "metadata": {
    "collapsed": true
   },
   "outputs": [],
   "source": [
    "df.grade = df.sub_grade.apply(lambda x: x[0] if x[0]=='E' or x[0]=='F' or x[0]=='G' else x)"
   ]
  },
  {
   "cell_type": "code",
   "execution_count": 41,
   "metadata": {},
   "outputs": [
    {
     "data": {
      "text/plain": [
       "E     0.078034\n",
       "B3    0.063241\n",
       "B4    0.062870\n",
       "C1    0.061520\n",
       "C2    0.058502\n",
       "B5    0.058317\n",
       "B2    0.054934\n",
       "C3    0.054861\n",
       "C4    0.053442\n",
       "B1    0.049573\n",
       "C5    0.048016\n",
       "A5    0.046678\n",
       "D1    0.040097\n",
       "A4    0.038796\n",
       "D2    0.034604\n",
       "D3    0.030087\n",
       "D4    0.028502\n",
       "F     0.028402\n",
       "A1    0.026889\n",
       "A3    0.026525\n",
       "A2    0.025011\n",
       "D5    0.023704\n",
       "G     0.007397\n",
       "Name: grade, dtype: float64"
      ]
     },
     "execution_count": 41,
     "metadata": {},
     "output_type": "execute_result"
    }
   ],
   "source": [
    "df.grade.value_counts(normalize=True)"
   ]
  },
  {
   "cell_type": "code",
   "execution_count": 42,
   "metadata": {
    "collapsed": true
   },
   "outputs": [],
   "source": [
    "# drop sub_grade, as that information can be captured in our engineered grade\n",
    "df.drop('sub_grade', axis=1, inplace=True)"
   ]
  },
  {
   "cell_type": "markdown",
   "metadata": {},
   "source": [
    "### Clean features and change to floats/ints"
   ]
  },
  {
   "cell_type": "code",
   "execution_count": 43,
   "metadata": {},
   "outputs": [
    {
     "data": {
      "text/plain": [
       "0    50.9%\n",
       "1    45.6%\n",
       "2    11.9%\n",
       "3       5%\n",
       "4    92.6%\n",
       "Name: revol_util, dtype: object"
      ]
     },
     "execution_count": 43,
     "metadata": {},
     "output_type": "execute_result"
    }
   ],
   "source": [
    "df['revol_util'].head()"
   ]
  },
  {
   "cell_type": "code",
   "execution_count": 44,
   "metadata": {},
   "outputs": [
    {
     "data": {
      "text/plain": [
       "0    0.509\n",
       "1    0.456\n",
       "2    0.119\n",
       "3    0.050\n",
       "4    0.926\n",
       "Name: revol_util, dtype: float64"
      ]
     },
     "execution_count": 44,
     "metadata": {},
     "output_type": "execute_result"
    }
   ],
   "source": [
    "# change revol_util to floats\n",
    "df.revol_util = df.revol_util.str[:-1].astype('float')/100\n",
    "df.revol_util.head()"
   ]
  },
  {
   "cell_type": "code",
   "execution_count": 45,
   "metadata": {
    "collapsed": true
   },
   "outputs": [],
   "source": [
    "df['earliest_cr_line'] = pd.to_datetime(df['earliest_cr_line']).dt.year"
   ]
  },
  {
   "cell_type": "markdown",
   "metadata": {},
   "source": [
    "We keep interest rate, as it is calculated based off the grade which Lending Club gives an applicant. The method of grade assignment is explained in this link: https://www.lendingclub.com/foliofn/rateDetail.action."
   ]
  },
  {
   "cell_type": "code",
   "execution_count": 46,
   "metadata": {
    "scrolled": true
   },
   "outputs": [
    {
     "data": {
      "text/plain": [
       "0     13.99%\n",
       "1     14.49%\n",
       "2      5.32%\n",
       "3     12.79%\n",
       "4     13.99%\n",
       "Name: int_rate, dtype: object"
      ]
     },
     "execution_count": 46,
     "metadata": {},
     "output_type": "execute_result"
    }
   ],
   "source": [
    "df['int_rate'].head()"
   ]
  },
  {
   "cell_type": "code",
   "execution_count": 47,
   "metadata": {},
   "outputs": [
    {
     "data": {
      "text/plain": [
       "0    0.1399\n",
       "1    0.1449\n",
       "2    0.0532\n",
       "3    0.1279\n",
       "4    0.1399\n",
       "Name: int_rate, dtype: float64"
      ]
     },
     "execution_count": 47,
     "metadata": {},
     "output_type": "execute_result"
    }
   ],
   "source": [
    "df.int_rate = df.int_rate.str[:-1].astype('float')/100\n",
    "df.int_rate.head()"
   ]
  },
  {
   "cell_type": "code",
   "execution_count": 48,
   "metadata": {},
   "outputs": [],
   "source": [
    "df.bc_util = df.bc_util.astype('float')"
   ]
  },
  {
   "cell_type": "code",
   "execution_count": 49,
   "metadata": {},
   "outputs": [
    {
     "data": {
      "text/plain": [
       "791771    76.3\n",
       "791772    44.4\n",
       "791773    22.2\n",
       "791774    70.0\n",
       "791775    78.7\n",
       "791776    55.6\n",
       "791777    24.6\n",
       "791778     NaN\n",
       "791779    18.2\n",
       "791780    13.1\n",
       "Name: bc_util, dtype: float64"
      ]
     },
     "execution_count": 49,
     "metadata": {},
     "output_type": "execute_result"
    }
   ],
   "source": [
    "df.bc_util.tail(10)"
   ]
  },
  {
   "cell_type": "code",
   "execution_count": 50,
   "metadata": {},
   "outputs": [],
   "source": [
    "df.bc_open_to_buy = df.bc_open_to_buy.astype('float')"
   ]
  },
  {
   "cell_type": "code",
   "execution_count": 51,
   "metadata": {},
   "outputs": [
    {
     "data": {
      "text/plain": [
       "array([dtype('float64'), dtype('int64'), dtype('O')], dtype=object)"
      ]
     },
     "execution_count": 51,
     "metadata": {},
     "output_type": "execute_result"
    }
   ],
   "source": [
    "df.dtypes.unique()"
   ]
  },
  {
   "cell_type": "code",
   "execution_count": 52,
   "metadata": {},
   "outputs": [
    {
     "data": {
      "text/plain": [
       "Index(['emp_length', 'grade', 'home_ownership', 'initial_list_status',\n",
       "       'mo_sin_old_il_acct', 'mo_sin_old_rev_tl_op', 'mo_sin_rcnt_rev_tl_op',\n",
       "       'mo_sin_rcnt_tl', 'purpose', 'verification_status'],\n",
       "      dtype='object')"
      ]
     },
     "execution_count": 52,
     "metadata": {},
     "output_type": "execute_result"
    }
   ],
   "source": [
    "df.select_dtypes(include=['O']).columns"
   ]
  },
  {
   "cell_type": "code",
   "execution_count": 53,
   "metadata": {},
   "outputs": [
    {
     "data": {
      "text/plain": [
       "0      4 years\n",
       "1    10+ years\n",
       "2          n/a\n",
       "3          n/a\n",
       "4    10+ years\n",
       "Name: emp_length, dtype: object"
      ]
     },
     "execution_count": 53,
     "metadata": {},
     "output_type": "execute_result"
    }
   ],
   "source": [
    "df['emp_length'].head()"
   ]
  },
  {
   "cell_type": "code",
   "execution_count": 54,
   "metadata": {},
   "outputs": [],
   "source": [
    "df['emp_length'] = df['emp_length'].apply(lambda x: -1 if x=='n/a' else 0 if x[0]=='<' else int(x[0]))"
   ]
  },
  {
   "cell_type": "code",
   "execution_count": 55,
   "metadata": {},
   "outputs": [
    {
     "data": {
      "text/plain": [
       "20    0.078034\n",
       "7     0.063241\n",
       "8     0.062870\n",
       "10    0.061520\n",
       "11    0.058502\n",
       "9     0.058317\n",
       "6     0.054934\n",
       "12    0.054861\n",
       "13    0.053442\n",
       "5     0.049573\n",
       "14    0.048016\n",
       "4     0.046678\n",
       "15    0.040097\n",
       "3     0.038796\n",
       "16    0.034604\n",
       "17    0.030087\n",
       "18    0.028502\n",
       "21    0.028402\n",
       "0     0.026889\n",
       "2     0.026525\n",
       "1     0.025011\n",
       "19    0.023704\n",
       "22    0.007397\n",
       "dtype: float64"
      ]
     },
     "execution_count": 55,
     "metadata": {},
     "output_type": "execute_result"
    }
   ],
   "source": [
    "df['grade'].astype('category').cat.codes.value_counts(normalize=True)"
   ]
  },
  {
   "cell_type": "code",
   "execution_count": 56,
   "metadata": {
    "collapsed": true
   },
   "outputs": [],
   "source": [
    "df['grade'] = df['grade'].astype('category').cat.codes"
   ]
  },
  {
   "cell_type": "code",
   "execution_count": 58,
   "metadata": {},
   "outputs": [
    {
     "data": {
      "text/plain": [
       "MORTGAGE    0.499499\n",
       "RENT        0.398807\n",
       "OWN         0.101346\n",
       "OTHER       0.000182\n",
       "ANY         0.000111\n",
       "NONE        0.000054\n",
       "Name: home_ownership, dtype: float64"
      ]
     },
     "execution_count": 58,
     "metadata": {},
     "output_type": "execute_result"
    }
   ],
   "source": [
    "df['home_ownership'].value_counts(normalize=True)"
   ]
  },
  {
   "cell_type": "code",
   "execution_count": 60,
   "metadata": {},
   "outputs": [],
   "source": [
    "ownership_dict = {'MORTGAGE':0, 'RENT': 1, 'OWN': 2, 'OTHER': 3, 'ANY': 4, 'NONE': 5}\n",
    "df.home_ownership = df.home_ownership.map(ownership_dict)"
   ]
  },
  {
   "cell_type": "code",
   "execution_count": 61,
   "metadata": {},
   "outputs": [
    {
     "data": {
      "text/plain": [
       "f    0.511563\n",
       "w    0.488437\n",
       "Name: initial_list_status, dtype: float64"
      ]
     },
     "execution_count": 61,
     "metadata": {},
     "output_type": "execute_result"
    }
   ],
   "source": [
    "df['initial_list_status'].value_counts(normalize=True)"
   ]
  },
  {
   "cell_type": "code",
   "execution_count": 63,
   "metadata": {
    "collapsed": true
   },
   "outputs": [],
   "source": [
    "df['initial_list_status'] = df['initial_list_status'].astype('category').cat.codes"
   ]
  },
  {
   "cell_type": "code",
   "execution_count": 78,
   "metadata": {},
   "outputs": [],
   "source": [
    "df['mo_sin_old_il_acct'] = df['mo_sin_old_il_acct'].astype(float)\n",
    "df['mo_sin_old_rev_tol_op'] = df['mo_sin_old_rev_tl_op'].astype(float)\n",
    "df['mo_sin_rcnt_rev_tl_op'] = df['mo_sin_rcnt_rev_tl_op'].astype(float)\n",
    "df['mo_sin_rcnt_tl'] = df['mo_sin_rcnt_tl'].astype(float)\n",
    "df['mo_sin_old_rev_tl_op'] = df['mo_sin_old_rev_tl_op'].astype(float)"
   ]
  },
  {
   "cell_type": "code",
   "execution_count": 69,
   "metadata": {},
   "outputs": [
    {
     "data": {
      "text/plain": [
       "debt_consolidation    0.590490\n",
       "credit_card           0.214485\n",
       "home_improvement      0.062402\n",
       "other                 0.054115\n",
       "major_purchase        0.021540\n",
       "small_business        0.012631\n",
       "car                   0.011061\n",
       "medical               0.010753\n",
       "moving                0.007041\n",
       "vacation              0.006292\n",
       "house                 0.005166\n",
       "wedding               0.002868\n",
       "renewable_energy      0.000744\n",
       "educational           0.000412\n",
       "Name: purpose, dtype: float64"
      ]
     },
     "execution_count": 69,
     "metadata": {},
     "output_type": "execute_result"
    }
   ],
   "source": [
    "df['purpose'].value_counts(normalize=True)"
   ]
  },
  {
   "cell_type": "code",
   "execution_count": 72,
   "metadata": {},
   "outputs": [
    {
     "data": {
      "text/plain": [
       "2     0.590490\n",
       "1     0.214485\n",
       "4     0.062402\n",
       "9     0.054115\n",
       "6     0.021540\n",
       "11    0.012631\n",
       "0     0.011061\n",
       "7     0.010753\n",
       "8     0.007041\n",
       "12    0.006292\n",
       "5     0.005166\n",
       "13    0.002868\n",
       "10    0.000744\n",
       "3     0.000412\n",
       "dtype: float64"
      ]
     },
     "execution_count": 72,
     "metadata": {},
     "output_type": "execute_result"
    }
   ],
   "source": [
    "df['purpose'].astype('category').cat.codes.value_counts(normalize=True)"
   ]
  },
  {
   "cell_type": "code",
   "execution_count": 73,
   "metadata": {
    "collapsed": true
   },
   "outputs": [],
   "source": [
    "df['purpose'] = df['purpose'].astype('category').cat.codes"
   ]
  },
  {
   "cell_type": "code",
   "execution_count": 74,
   "metadata": {},
   "outputs": [
    {
     "data": {
      "text/plain": [
       "Source Verified    0.359320\n",
       "Verified           0.331655\n",
       "Not Verified       0.309025\n",
       "Name: verification_status, dtype: float64"
      ]
     },
     "execution_count": 74,
     "metadata": {},
     "output_type": "execute_result"
    }
   ],
   "source": [
    "df['verification_status'].value_counts(normalize=True)"
   ]
  },
  {
   "cell_type": "code",
   "execution_count": 75,
   "metadata": {
    "collapsed": true
   },
   "outputs": [],
   "source": [
    "df['verification_status'] = df['verification_status'].astype('category').cat.codes"
   ]
  },
  {
   "cell_type": "code",
   "execution_count": 79,
   "metadata": {},
   "outputs": [
    {
     "data": {
      "text/plain": [
       "array([dtype('float64'), dtype('int64'), dtype('int8')], dtype=object)"
      ]
     },
     "execution_count": 79,
     "metadata": {},
     "output_type": "execute_result"
    }
   ],
   "source": [
    "df.dtypes.unique()"
   ]
  },
  {
   "cell_type": "code",
   "execution_count": 70,
   "metadata": {},
   "outputs": [
    {
     "name": "stdout",
     "output_type": "stream",
     "text": [
      "Index(['acc_open_past_24mths', 'avg_cur_bal', 'bc_open_to_buy', 'bc_util',\n",
      "       'chargeoff_within_12_mths', 'collections_12_mths_ex_med', 'dti',\n",
      "       'inq_last_6mths', 'mo_sin_old_il_acct', 'mo_sin_old_rev_tl_op',\n",
      "       'mo_sin_rcnt_rev_tl_op', 'mo_sin_rcnt_tl', 'mort_acc',\n",
      "       'mths_since_last_delinq', 'mths_since_recent_bc',\n",
      "       'mths_since_recent_inq', 'mths_since_recent_revol_delinq',\n",
      "       'num_accts_ever_120_pd', 'num_actv_bc_tl', 'num_actv_rev_tl',\n",
      "       'num_bc_sats', 'num_bc_tl', 'num_il_tl', 'num_op_rev_tl',\n",
      "       'num_rev_accts', 'num_rev_tl_bal_gt_0', 'num_sats', 'num_tl_120dpd_2m',\n",
      "       'num_tl_30dpd', 'num_tl_90g_dpd_24m', 'num_tl_op_past_12m',\n",
      "       'pct_tl_nvr_dlq', 'percent_bc_gt_75', 'pub_rec_bankruptcies',\n",
      "       'revol_util', 'tax_liens', 'tot_coll_amt', 'tot_cur_bal',\n",
      "       'tot_hi_cred_lim', 'total_bal_ex_mort', 'total_bc_limit',\n",
      "       'total_il_high_credit_limit', 'total_rev_hi_lim'],\n",
      "      dtype='object') 43\n"
     ]
    }
   ],
   "source": [
    "print(df.columns[df.isnull().any()], len(df.columns[df.isnull().any()]))"
   ]
  },
  {
   "cell_type": "code",
   "execution_count": 80,
   "metadata": {
    "collapsed": true
   },
   "outputs": [],
   "source": [
    "# save the work we've done thus far\n",
    "df.to_csv(\"data/cleaned_features.csv\", index=False)"
   ]
  },
  {
   "cell_type": "markdown",
   "metadata": {},
   "source": [
    "### Create train/test split and fill missing values"
   ]
  },
  {
   "cell_type": "code",
   "execution_count": 81,
   "metadata": {
    "collapsed": true
   },
   "outputs": [],
   "source": [
    "X_train, X_test, y_train, y_test = train_test_split(df.drop('loan_status', axis=1), df['loan_status'], test_size=.25)"
   ]
  },
  {
   "cell_type": "code",
   "execution_count": 101,
   "metadata": {},
   "outputs": [
    {
     "data": {
      "text/plain": [
       "(9550000.0, 0.0)"
      ]
     },
     "execution_count": 101,
     "metadata": {},
     "output_type": "execute_result"
    }
   ],
   "source": [
    "df.annual_inc.max(), df.annual_inc.min()"
   ]
  },
  {
   "cell_type": "code",
   "execution_count": 102,
   "metadata": {},
   "outputs": [
    {
     "data": {
      "text/plain": [
       "22303    Source Verified\n",
       "Name: verification_status, dtype: object"
      ]
     },
     "execution_count": 102,
     "metadata": {},
     "output_type": "execute_result"
    }
   ],
   "source": [
    "df[df['annual_inc']==9550000]['verification_status']"
   ]
  },
  {
   "cell_type": "code",
   "execution_count": 107,
   "metadata": {},
   "outputs": [
    {
     "data": {
      "text/plain": [
       "9550000.0"
      ]
     },
     "execution_count": 107,
     "metadata": {},
     "output_type": "execute_result"
    }
   ],
   "source": [
    "X_train['annual_inc'].max()"
   ]
  },
  {
   "cell_type": "code",
   "execution_count": 108,
   "metadata": {},
   "outputs": [
    {
     "data": {
      "text/plain": [
       "count    5.938350e+05\n",
       "mean     7.524301e+04\n",
       "std      6.634302e+04\n",
       "min      0.000000e+00\n",
       "25%      4.513100e+04\n",
       "50%      6.500000e+04\n",
       "75%      9.000000e+04\n",
       "max      9.550000e+06\n",
       "Name: annual_inc, dtype: float64"
      ]
     },
     "execution_count": 108,
     "metadata": {},
     "output_type": "execute_result"
    }
   ],
   "source": [
    "X_train['annual_inc'].describe()"
   ]
  },
  {
   "cell_type": "code",
   "execution_count": 111,
   "metadata": {},
   "outputs": [
    {
     "data": {
      "text/plain": [
       "22303     9550000.0\n",
       "217264    8900060.0\n",
       "400544    8706582.0\n",
       "64766     8300000.0\n",
       "85911     8253000.0\n",
       "94571     7500000.0\n",
       "221288    7446395.0\n",
       "95648     7200000.0\n",
       "134706    7141778.0\n",
       "38507     7000000.0\n",
       "111737    6998721.0\n",
       "51033     6500000.0\n",
       "209282    6000000.0\n",
       "36608     6000000.0\n",
       "30176     6000000.0\n",
       "124124    5604824.0\n",
       "181428    5000000.0\n",
       "76129     4900000.0\n",
       "131117    4860012.0\n",
       "71757     4647200.0\n",
       "44470     4300012.0\n",
       "105356    4300000.0\n",
       "112038    4000095.0\n",
       "7017      3964280.0\n",
       "29708     3900000.0\n",
       "103645    3200000.0\n",
       "19457     3000000.0\n",
       "61600     3000000.0\n",
       "63573     2500000.0\n",
       "39874     2300000.0\n",
       "Name: annual_inc, dtype: float64"
      ]
     },
     "execution_count": 111,
     "metadata": {},
     "output_type": "execute_result"
    }
   ],
   "source": [
    "X_train['annual_inc'].nlargest(30)"
   ]
  },
  {
   "cell_type": "code",
   "execution_count": 115,
   "metadata": {},
   "outputs": [
    {
     "data": {
      "text/plain": [
       "682"
      ]
     },
     "execution_count": 115,
     "metadata": {},
     "output_type": "execute_result"
    }
   ],
   "source": [
    "len(X_train[X_train['annual_inc']>500000])"
   ]
  },
  {
   "cell_type": "code",
   "execution_count": 113,
   "metadata": {},
   "outputs": [
    {
     "data": {
      "image/png": "[encoded data removed]",
      "text/plain": [
       "<matplotlib.figure.Figure at 0x133542908>"
      ]
     },
     "metadata": {},
     "output_type": "display_data"
    }
   ],
   "source": [
    "X_train[X_train['annual_inc']<1000000]['annual_inc'].hist(bins=30, normed=True)\n",
    "plt.show()"
   ]
  },
  {
   "cell_type": "code",
   "execution_count": 96,
   "metadata": {},
   "outputs": [
    {
     "data": {
      "text/plain": [
       "'mths_since_recent_revol_delinq'"
      ]
     },
     "execution_count": 96,
     "metadata": {},
     "output_type": "execute_result"
    }
   ],
   "source": [
    "# find column with most missing values\n",
    "X_train.count().idxmin()"
   ]
  },
  {
   "cell_type": "code",
   "execution_count": 97,
   "metadata": {},
   "outputs": [
    {
     "data": {
      "text/plain": [
       "0.67471267271211699"
      ]
     },
     "execution_count": 97,
     "metadata": {},
     "output_type": "execute_result"
    }
   ],
   "source": [
    "X_train['mths_since_recent_revol_delinq'].isnull().sum()/X_train.shape[0]"
   ]
  },
  {
   "cell_type": "code",
   "execution_count": 98,
   "metadata": {},
   "outputs": [
    {
     "data": {
      "image/png": "[encoded data removed]",
      "text/plain": [
       "<matplotlib.figure.Figure at 0x12042a4e0>"
      ]
     },
     "metadata": {},
     "output_type": "display_data"
    }
   ],
   "source": [
    "X_train.mths_since_recent_revol_delinq.hist(bins=15, normed=True)\n",
    "plt.show()"
   ]
  },
  {
   "cell_type": "code",
   "execution_count": 117,
   "metadata": {},
   "outputs": [
    {
     "data": {
      "text/plain": [
       "(593835, 61)"
      ]
     },
     "execution_count": 117,
     "metadata": {},
     "output_type": "execute_result"
    }
   ],
   "source": [
    "X_train.shape"
   ]
  },
  {
   "cell_type": "code",
   "execution_count": 116,
   "metadata": {},
   "outputs": [
    {
     "data": {
      "text/plain": [
       "count    193167.000000\n",
       "mean         36.236236\n",
       "std          22.465860\n",
       "min           0.000000\n",
       "25%          17.000000\n",
       "50%          33.000000\n",
       "75%          53.000000\n",
       "max         180.000000\n",
       "Name: mths_since_recent_revol_delinq, dtype: float64"
      ]
     },
     "execution_count": 116,
     "metadata": {},
     "output_type": "execute_result"
    }
   ],
   "source": [
    "X_train.mths_since_recent_revol_delinq.describe()"
   ]
  },
  {
   "cell_type": "code",
   "execution_count": 28,
   "metadata": {
    "scrolled": true
   },
   "outputs": [
    {
     "data": {
      "text/plain": [
       "1    0.787708\n",
       "0    0.212292\n",
       "Name: loan_status, dtype: float64"
      ]
     },
     "execution_count": 28,
     "metadata": {},
     "output_type": "execute_result"
    }
   ],
   "source": [
    "df[~df.mths_since_recent_revol_delinq.isnull()].loan_status.value_counts(normalize=True)"
   ]
  },
  {
   "cell_type": "code",
   "execution_count": 29,
   "metadata": {},
   "outputs": [
    {
     "data": {
      "text/plain": [
       "1    0.799891\n",
       "0    0.200109\n",
       "Name: loan_status, dtype: float64"
      ]
     },
     "execution_count": 29,
     "metadata": {},
     "output_type": "execute_result"
    }
   ],
   "source": [
    "df[df.mths_since_recent_revol_delinq.isnull()].loan_status.value_counts(normalize=True)"
   ]
  },
  {
   "cell_type": "code",
   "execution_count": 31,
   "metadata": {
    "collapsed": true
   },
   "outputs": [],
   "source": [
    "# Fill with median, since \"mths_since_recent_revol_delinq\" is integer-valued, and slightly skewed left\n",
    "df[\"mths_since_recent_revol_delinq\"].fillna(df[\"mths_since_recent_revol_delinq\"].median(), inplace=True)"
   ]
  },
  {
   "cell_type": "code",
   "execution_count": 33,
   "metadata": {},
   "outputs": [
    {
     "name": "stdout",
     "output_type": "stream",
     "text": [
      "mths_since_last_delinq\n"
     ]
    },
    {
     "data": {
      "text/plain": [
       "0.5129748321508801"
      ]
     },
     "execution_count": 33,
     "metadata": {},
     "output_type": "execute_result"
    }
   ],
   "source": [
    "# find column with most missing values\n",
    "col = df.count().idxmin()\n",
    "print(col)\n",
    "df[col].isnull().sum()/df.shape[0]"
   ]
  },
  {
   "cell_type": "code",
   "execution_count": 34,
   "metadata": {
    "scrolled": true
   },
   "outputs": [
    {
     "data": {
      "text/plain": [
       "1    0.789061\n",
       "0    0.210939\n",
       "Name: loan_status, dtype: float64"
      ]
     },
     "execution_count": 34,
     "metadata": {},
     "output_type": "execute_result"
    }
   ],
   "source": [
    "df[~df.mths_since_last_delinq.isnull()].loan_status.value_counts(normalize=True)"
   ]
  },
  {
   "cell_type": "code",
   "execution_count": 35,
   "metadata": {
    "scrolled": false
   },
   "outputs": [
    {
     "data": {
      "text/plain": [
       "1    0.802458\n",
       "0    0.197542\n",
       "Name: loan_status, dtype: float64"
      ]
     },
     "execution_count": 35,
     "metadata": {},
     "output_type": "execute_result"
    }
   ],
   "source": [
    "df[df.mths_since_last_delinq.isnull()].loan_status.value_counts(normalize=True)"
   ]
  },
  {
   "cell_type": "code",
   "execution_count": 36,
   "metadata": {},
   "outputs": [
    {
     "data": {
      "image/png": "[encoded data removed]",
      "text/plain": [
       "<matplotlib.figure.Figure at 0x11777bfd0>"
      ]
     },
     "metadata": {},
     "output_type": "display_data"
    }
   ],
   "source": [
    "df.mths_since_last_delinq.hist(bins=15, normed=True)\n",
    "plt.show()"
   ]
  },
  {
   "cell_type": "code",
   "execution_count": 37,
   "metadata": {},
   "outputs": [
    {
     "data": {
      "text/plain": [
       "count    383732.000000\n",
       "mean         34.524348\n",
       "std          21.946122\n",
       "min           0.000000\n",
       "25%          16.000000\n",
       "50%          31.000000\n",
       "75%          50.000000\n",
       "max         192.000000\n",
       "Name: mths_since_last_delinq, dtype: float64"
      ]
     },
     "execution_count": 37,
     "metadata": {},
     "output_type": "execute_result"
    }
   ],
   "source": [
    "df['mths_since_last_delinq'].describe()"
   ]
  },
  {
   "cell_type": "code",
   "execution_count": 40,
   "metadata": {
    "collapsed": true
   },
   "outputs": [],
   "source": [
    "# Fill with median, since \"mths_since_last_delinq\" is integer-valued, and slightly skewed left\n",
    "df[\"mths_since_last_delinq\"].fillna(df[\"mths_since_last_delinq\"].median(), inplace=True)"
   ]
  },
  {
   "cell_type": "code",
   "execution_count": 41,
   "metadata": {},
   "outputs": [
    {
     "data": {
      "text/plain": [
       "count    740629.000000\n",
       "mean          4.712176\n",
       "std           3.146878\n",
       "min           0.000000\n",
       "25%           2.000000\n",
       "50%           4.000000\n",
       "75%           6.000000\n",
       "max          56.000000\n",
       "Name: acc_open_past_24mths, dtype: float64"
      ]
     },
     "execution_count": 41,
     "metadata": {},
     "output_type": "execute_result"
    }
   ],
   "source": [
    "df.acc_open_past_24mths.describe()"
   ]
  },
  {
   "cell_type": "code",
   "execution_count": 42,
   "metadata": {
    "collapsed": true
   },
   "outputs": [],
   "source": [
    "# fill with median since months since is nominal and median and mean are close (not so much skew)\n",
    "df['acc_open_past_24mths'].fillna(df['acc_open_past_24mths'].median(), inplace=True)"
   ]
  },
  {
   "cell_type": "code",
   "execution_count": 43,
   "metadata": {},
   "outputs": [
    {
     "data": {
      "text/plain": [
       "count    720371.000000\n",
       "mean      13528.413955\n",
       "std       16219.021791\n",
       "min           0.000000\n",
       "25%        3118.000000\n",
       "50%        7516.000000\n",
       "75%       18845.000000\n",
       "max      958084.000000\n",
       "Name: avg_cur_bal, dtype: float64"
      ]
     },
     "execution_count": 43,
     "metadata": {},
     "output_type": "execute_result"
    }
   ],
   "source": [
    "df['avg_cur_bal'].describe()"
   ]
  },
  {
   "cell_type": "code",
   "execution_count": 44,
   "metadata": {},
   "outputs": [
    {
     "data": {
      "image/png": "[encoded data removed]",
      "text/plain": [
       "<matplotlib.figure.Figure at 0x113012e48>"
      ]
     },
     "metadata": {},
     "output_type": "display_data"
    }
   ],
   "source": [
    "df[df['avg_cur_bal']<463698]['avg_cur_bal'].hist(bins=15)\n",
    "plt.show()"
   ]
  },
  {
   "cell_type": "code",
   "execution_count": 45,
   "metadata": {},
   "outputs": [
    {
     "data": {
      "text/plain": [
       "(408615, 64)"
      ]
     },
     "execution_count": 45,
     "metadata": {},
     "output_type": "execute_result"
    }
   ],
   "source": [
    "df[df['avg_cur_bal']<10000].shape"
   ]
  },
  {
   "cell_type": "code",
   "execution_count": 46,
   "metadata": {
    "collapsed": true
   },
   "outputs": [],
   "source": [
    "# since over 50% of the data is contained when avg_cur_bal < 10000, we fill missing values with median\n",
    "df['avg_cur_bal'].fillna(df['avg_cur_bal'].median(), inplace=True)"
   ]
  },
  {
   "cell_type": "code",
   "execution_count": 47,
   "metadata": {},
   "outputs": [
    {
     "data": {
      "text/plain": [
       "count    733034.000000\n",
       "mean       9436.288340\n",
       "std       14551.612378\n",
       "min           0.000000\n",
       "25%        1304.000000\n",
       "50%        4240.000000\n",
       "75%       11299.000000\n",
       "max      559912.000000\n",
       "Name: bc_open_to_buy, dtype: float64"
      ]
     },
     "execution_count": 47,
     "metadata": {},
     "output_type": "execute_result"
    }
   ],
   "source": [
    "df['bc_open_to_buy'].describe()"
   ]
  },
  {
   "cell_type": "code",
   "execution_count": 48,
   "metadata": {
    "collapsed": true
   },
   "outputs": [],
   "source": [
    "# drop bc_open_to_buy because it means \"total open-to-buy on revolving bankcards\"\n",
    "# information can be found in (I think) in tot_hi_cred_lim\n",
    "df.drop('bc_open_to_buy', axis=1, inplace=True)"
   ]
  },
  {
   "cell_type": "code",
   "execution_count": 49,
   "metadata": {},
   "outputs": [
    {
     "data": {
      "text/plain": [
       "count    732567.000000\n",
       "mean         61.644117\n",
       "std          27.863545\n",
       "min           0.000000\n",
       "25%          40.900000\n",
       "50%          65.500000\n",
       "75%          86.000000\n",
       "max         339.600000\n",
       "Name: bc_util, dtype: float64"
      ]
     },
     "execution_count": 49,
     "metadata": {},
     "output_type": "execute_result"
    }
   ],
   "source": [
    "df['bc_util'].describe()"
   ]
  },
  {
   "cell_type": "code",
   "execution_count": 50,
   "metadata": {},
   "outputs": [],
   "source": [
    "# fill with mean (data is not very skewed)\n",
    "df['bc_util'].fillna(df['bc_util'].mean(), inplace=True)"
   ]
  },
  {
   "cell_type": "code",
   "execution_count": 51,
   "metadata": {},
   "outputs": [
    {
     "data": {
      "text/plain": [
       "0.0    427576\n",
       "1.0    220004\n",
       "2.0     89382\n",
       "3.0     36329\n",
       "4.0     10071\n",
       "5.0      3577\n",
       "6.0       900\n",
       "7.0        48\n",
       "8.0        22\n",
       "Name: inq_last_6mths, dtype: int64"
      ]
     },
     "execution_count": 51,
     "metadata": {},
     "output_type": "execute_result"
    }
   ],
   "source": [
    "df['inq_last_6mths'].value_counts()"
   ]
  },
  {
   "cell_type": "code",
   "execution_count": 52,
   "metadata": {
    "collapsed": true
   },
   "outputs": [],
   "source": [
    "# fill with median due to integer values\n",
    "df['inq_last_6mths'].fillna(df['inq_last_6mths'].median(), inplace=True)"
   ]
  },
  {
   "cell_type": "code",
   "execution_count": 53,
   "metadata": {},
   "outputs": [
    {
     "data": {
      "text/plain": [
       "count    787881.000000\n",
       "mean         17.832820\n",
       "std           8.845265\n",
       "min          -1.000000\n",
       "25%          11.610000\n",
       "50%          17.320000\n",
       "75%          23.580000\n",
       "max         999.000000\n",
       "Name: dti, dtype: float64"
      ]
     },
     "execution_count": 53,
     "metadata": {},
     "output_type": "execute_result"
    }
   ],
   "source": [
    "df['dti'].describe()"
   ]
  },
  {
   "cell_type": "code",
   "execution_count": 55,
   "metadata": {},
   "outputs": [
    {
     "data": {
      "text/html": [
       "<div>\n",
       "<style>\n",
       "    .dataframe thead tr:only-child th {\n",
       "        text-align: right;\n",
       "    }\n",
       "\n",
       "    .dataframe thead th {\n",
       "        text-align: left;\n",
       "    }\n",
       "\n",
       "    .dataframe tbody tr th {\n",
       "        vertical-align: top;\n",
       "    }\n",
       "</style>\n",
       "<table border=\"1\" class=\"dataframe\">\n",
       "  <thead>\n",
       "    <tr style=\"text-align: right;\">\n",
       "      <th></th>\n",
       "      <th>acc_open_past_24mths</th>\n",
       "      <th>addr_state</th>\n",
       "      <th>annual_inc</th>\n",
       "      <th>avg_cur_bal</th>\n",
       "      <th>bc_util</th>\n",
       "      <th>collection_recovery_fee</th>\n",
       "      <th>delinq_2yrs</th>\n",
       "      <th>dti</th>\n",
       "      <th>emp_length</th>\n",
       "      <th>funded_amnt</th>\n",
       "      <th>...</th>\n",
       "      <th>total_acc</th>\n",
       "      <th>total_bal_ex_mort</th>\n",
       "      <th>total_bc_limit</th>\n",
       "      <th>total_il_high_credit_limit</th>\n",
       "      <th>total_pymnt</th>\n",
       "      <th>total_rec_int</th>\n",
       "      <th>total_rec_prncp</th>\n",
       "      <th>total_rev_hi_lim</th>\n",
       "      <th>verification_status</th>\n",
       "      <th>credit_pull_time_diff</th>\n",
       "    </tr>\n",
       "  </thead>\n",
       "  <tbody>\n",
       "    <tr>\n",
       "      <th>645411</th>\n",
       "      <td>8.0</td>\n",
       "      <td>OR</td>\n",
       "      <td>94000.0</td>\n",
       "      <td>8461.0</td>\n",
       "      <td>61.7</td>\n",
       "      <td>0.0</td>\n",
       "      <td>0.0</td>\n",
       "      <td>-1.0</td>\n",
       "      <td>5 years</td>\n",
       "      <td>15000.0</td>\n",
       "      <td>...</td>\n",
       "      <td>24.0</td>\n",
       "      <td>93070.0</td>\n",
       "      <td>10300.0</td>\n",
       "      <td>94043.0</td>\n",
       "      <td>16188.78</td>\n",
       "      <td>1188.78</td>\n",
       "      <td>15000.0</td>\n",
       "      <td>33700.0</td>\n",
       "      <td>Source Verified</td>\n",
       "      <td>170</td>\n",
       "    </tr>\n",
       "  </tbody>\n",
       "</table>\n",
       "<p>1 rows × 63 columns</p>\n",
       "</div>"
      ],
      "text/plain": [
       "        acc_open_past_24mths addr_state  annual_inc  avg_cur_bal  bc_util  \\\n",
       "645411                   8.0         OR     94000.0       8461.0     61.7   \n",
       "\n",
       "        collection_recovery_fee  delinq_2yrs  dti emp_length  funded_amnt  \\\n",
       "645411                      0.0          0.0 -1.0    5 years      15000.0   \n",
       "\n",
       "                ...            total_acc total_bal_ex_mort total_bc_limit  \\\n",
       "645411          ...                 24.0           93070.0        10300.0   \n",
       "\n",
       "       total_il_high_credit_limit  total_pymnt  total_rec_int  \\\n",
       "645411                    94043.0     16188.78        1188.78   \n",
       "\n",
       "        total_rec_prncp  total_rev_hi_lim  verification_status  \\\n",
       "645411          15000.0           33700.0      Source Verified   \n",
       "\n",
       "        credit_pull_time_diff  \n",
       "645411                    170  \n",
       "\n",
       "[1 rows x 63 columns]"
      ]
     },
     "execution_count": 55,
     "metadata": {},
     "output_type": "execute_result"
    }
   ],
   "source": [
    "df[df['dti']==-1]"
   ]
  },
  {
   "cell_type": "code",
   "execution_count": 56,
   "metadata": {
    "collapsed": true
   },
   "outputs": [],
   "source": [
    "# fill with mean; data is not skewed\n",
    "# there is only one value of -1, I thought was impossible and placeholder for NaN\n",
    "# however, maybe it's possible?\n",
    "df['dti'].fillna(df['dti'].mean(), inplace=True)"
   ]
  },
  {
   "cell_type": "code",
   "execution_count": 57,
   "metadata": {},
   "outputs": [
    {
     "data": {
      "text/plain": [
       "count    740629.000000\n",
       "mean          1.764267\n",
       "std           2.087446\n",
       "min           0.000000\n",
       "25%           0.000000\n",
       "50%           1.000000\n",
       "75%           3.000000\n",
       "max          51.000000\n",
       "Name: mort_acc, dtype: float64"
      ]
     },
     "execution_count": 57,
     "metadata": {},
     "output_type": "execute_result"
    }
   ],
   "source": [
    "df['mort_acc'].describe()"
   ]
  },
  {
   "cell_type": "code",
   "execution_count": 58,
   "metadata": {},
   "outputs": [],
   "source": [
    "# fill with median (integer-valued)\n",
    "df['mort_acc'].fillna(df['mort_acc'].median(), inplace=True)"
   ]
  },
  {
   "cell_type": "code",
   "execution_count": 60,
   "metadata": {},
   "outputs": [
    {
     "data": {
      "text/plain": [
       "(672965, 2)"
      ]
     },
     "execution_count": 60,
     "metadata": {},
     "output_type": "execute_result"
    }
   ],
   "source": [
    "df[df['num_bc_sats'] != df['num_bc_tl']][['num_bc_sats','num_bc_tl']].shape"
   ]
  },
  {
   "cell_type": "code",
   "execution_count": 61,
   "metadata": {
    "collapsed": true
   },
   "outputs": [],
   "source": [
    "# drop num_bc_tl because (I believe) it's more important than num_bc_sats, and has more missing values\n",
    "df.drop('num_bc_sats', axis=1, inplace=True)"
   ]
  },
  {
   "cell_type": "code",
   "execution_count": 62,
   "metadata": {},
   "outputs": [
    {
     "data": {
      "text/plain": [
       "748576"
      ]
     },
     "execution_count": 62,
     "metadata": {},
     "output_type": "execute_result"
    }
   ],
   "source": [
    "(df['pub_rec_bankruptcies'] == df['pub_rec']).sum()"
   ]
  },
  {
   "cell_type": "code",
   "execution_count": 64,
   "metadata": {},
   "outputs": [
    {
     "data": {
      "text/plain": [
       "1    0.758987\n",
       "0    0.241013\n",
       "Name: loan_status, dtype: float64"
      ]
     },
     "execution_count": 64,
     "metadata": {},
     "output_type": "execute_result"
    }
   ],
   "source": [
    "df[df['pub_rec_bankruptcies'] != df['pub_rec']]['loan_status'].value_counts(normalize=True)"
   ]
  },
  {
   "cell_type": "code",
   "execution_count": 66,
   "metadata": {},
   "outputs": [
    {
     "data": {
      "text/html": [
       "<div>\n",
       "<style>\n",
       "    .dataframe thead tr:only-child th {\n",
       "        text-align: right;\n",
       "    }\n",
       "\n",
       "    .dataframe thead th {\n",
       "        text-align: left;\n",
       "    }\n",
       "\n",
       "    .dataframe tbody tr th {\n",
       "        vertical-align: top;\n",
       "    }\n",
       "</style>\n",
       "<table border=\"1\" class=\"dataframe\">\n",
       "  <thead>\n",
       "    <tr style=\"text-align: right;\">\n",
       "      <th></th>\n",
       "      <th>pub_rec_bankruptcies</th>\n",
       "      <th>pub_rec</th>\n",
       "    </tr>\n",
       "  </thead>\n",
       "  <tbody>\n",
       "  </tbody>\n",
       "</table>\n",
       "</div>"
      ],
      "text/plain": [
       "Empty DataFrame\n",
       "Columns: [pub_rec_bankruptcies, pub_rec]\n",
       "Index: []"
      ]
     },
     "execution_count": 66,
     "metadata": {},
     "output_type": "execute_result"
    }
   ],
   "source": [
    "df[(df['pub_rec_bankruptcies'] != df['pub_rec']) & (df['pub_rec_bankruptcies'] > df['pub_rec'])][['pub_rec_bankruptcies','pub_rec']]"
   ]
  },
  {
   "cell_type": "code",
   "execution_count": 68,
   "metadata": {},
   "outputs": [],
   "source": [
    "# Drop pub_rec_bankruptcies, since that information is captured in pub_rec\n",
    "df.drop('pub_rec_bankruptcies', axis=1, inplace=True)"
   ]
  },
  {
   "cell_type": "code",
   "execution_count": 69,
   "metadata": {},
   "outputs": [
    {
     "data": {
      "text/plain": [
       "count    787436.000000\n",
       "mean          0.530831\n",
       "std           0.243244\n",
       "min           0.000000\n",
       "25%           0.351000\n",
       "50%           0.538000\n",
       "75%           0.719000\n",
       "max           8.923000\n",
       "Name: revol_util, dtype: float64"
      ]
     },
     "execution_count": 69,
     "metadata": {},
     "output_type": "execute_result"
    }
   ],
   "source": [
    "df['revol_util'].describe()"
   ]
  },
  {
   "cell_type": "code",
   "execution_count": 70,
   "metadata": {
    "collapsed": true
   },
   "outputs": [],
   "source": [
    "# Fill with mean (not skewed) - could figure this out using other variables later\n",
    "df['revol_util'].fillna(df['revol_util'].mean(), inplace=True)"
   ]
  },
  {
   "cell_type": "code",
   "execution_count": 71,
   "metadata": {},
   "outputs": [],
   "source": [
    "# drop because 76% are 0, and the remaining have the same distribution of labels as total sample\n",
    "df.drop(\"num_accts_ever_120_pd\", axis=1, inplace=True)"
   ]
  },
  {
   "cell_type": "code",
   "execution_count": 72,
   "metadata": {},
   "outputs": [
    {
     "data": {
      "text/plain": [
       "count    720383.000000\n",
       "mean          3.635744\n",
       "std           2.187278\n",
       "min           0.000000\n",
       "25%           2.000000\n",
       "50%           3.000000\n",
       "75%           5.000000\n",
       "max          33.000000\n",
       "Name: num_actv_bc_tl, dtype: float64"
      ]
     },
     "execution_count": 72,
     "metadata": {},
     "output_type": "execute_result"
    }
   ],
   "source": [
    "df['num_actv_bc_tl'].describe()"
   ]
  },
  {
   "cell_type": "code",
   "execution_count": 73,
   "metadata": {
    "collapsed": true
   },
   "outputs": [],
   "source": [
    "# fill with median (integer-valued)\n",
    "df['num_actv_bc_tl'].fillna(df['num_actv_bc_tl'].median(), inplace=True)"
   ]
  },
  {
   "cell_type": "code",
   "execution_count": 74,
   "metadata": {},
   "outputs": [],
   "source": [
    "# fill with median (integer-valued)\n",
    "df['num_actv_rev_tl'].fillna(df['num_actv_rev_tl'].median(), inplace=True)"
   ]
  },
  {
   "cell_type": "code",
   "execution_count": 75,
   "metadata": {},
   "outputs": [],
   "source": [
    "# fill with median (integer-valued)\n",
    "df['num_bc_tl'].fillna(df['num_bc_tl'].median(), inplace=True)"
   ]
  },
  {
   "cell_type": "code",
   "execution_count": 76,
   "metadata": {},
   "outputs": [],
   "source": [
    "# fill with rounded-down mean\n",
    "df['num_il_tl'].fillna(np.floor(df['num_il_tl'].median()), inplace=True)"
   ]
  },
  {
   "cell_type": "code",
   "execution_count": 77,
   "metadata": {},
   "outputs": [],
   "source": [
    "# fill with rounded-down mean\n",
    "df['num_op_rev_tl'].fillna(np.floor(df['num_op_rev_tl'].mean()), inplace=True)"
   ]
  },
  {
   "cell_type": "code",
   "execution_count": 78,
   "metadata": {},
   "outputs": [],
   "source": [
    "df['num_rev_accts'].fillna(np.floor(df['num_rev_accts'].mean()), inplace=True)"
   ]
  },
  {
   "cell_type": "code",
   "execution_count": 79,
   "metadata": {},
   "outputs": [],
   "source": [
    "df['num_rev_tl_bal_gt_0'].fillna(df['num_rev_tl_bal_gt_0'].median(), inplace=True)"
   ]
  },
  {
   "cell_type": "code",
   "execution_count": 80,
   "metadata": {},
   "outputs": [],
   "source": [
    "df['num_sats'].fillna(df['num_sats'].median(), inplace=True)"
   ]
  },
  {
   "cell_type": "code",
   "execution_count": 81,
   "metadata": {},
   "outputs": [],
   "source": [
    "df['num_tl_op_past_12m'].fillna(df['num_tl_op_past_12m'].median(), inplace=True)"
   ]
  },
  {
   "cell_type": "code",
   "execution_count": 82,
   "metadata": {},
   "outputs": [
    {
     "data": {
      "text/plain": [
       "count    720248.000000\n",
       "mean         94.398238\n",
       "std           8.384764\n",
       "min           0.000000\n",
       "25%          91.700000\n",
       "50%          98.100000\n",
       "75%         100.000000\n",
       "max         100.000000\n",
       "Name: pct_tl_nvr_dlq, dtype: float64"
      ]
     },
     "execution_count": 82,
     "metadata": {},
     "output_type": "execute_result"
    }
   ],
   "source": [
    "df['pct_tl_nvr_dlq'].describe()"
   ]
  },
  {
   "cell_type": "code",
   "execution_count": 83,
   "metadata": {
    "collapsed": true
   },
   "outputs": [],
   "source": [
    "df['pct_tl_nvr_dlq'].fillna(df['pct_tl_nvr_dlq'].median(), inplace=True)"
   ]
  },
  {
   "cell_type": "code",
   "execution_count": 84,
   "metadata": {},
   "outputs": [
    {
     "data": {
      "text/plain": [
       "count    732760.000000\n",
       "mean         47.331868\n",
       "std          35.624645\n",
       "min           0.000000\n",
       "25%          16.700000\n",
       "50%          50.000000\n",
       "75%          75.000000\n",
       "max         100.000000\n",
       "Name: percent_bc_gt_75, dtype: float64"
      ]
     },
     "execution_count": 84,
     "metadata": {},
     "output_type": "execute_result"
    }
   ],
   "source": [
    "df['percent_bc_gt_75'].describe()"
   ]
  },
  {
   "cell_type": "code",
   "execution_count": 85,
   "metadata": {
    "collapsed": true
   },
   "outputs": [],
   "source": [
    "df['percent_bc_gt_75'].fillna(df['percent_bc_gt_75'].median(), inplace=True)"
   ]
  },
  {
   "cell_type": "code",
   "execution_count": 86,
   "metadata": {},
   "outputs": [],
   "source": [
    "# fill with median because of outliers\n",
    "df['tot_cur_bal'].fillna(df['tot_cur_bal'].median(), inplace=True)"
   ]
  },
  {
   "cell_type": "code",
   "execution_count": 87,
   "metadata": {},
   "outputs": [],
   "source": [
    "# fill with median because of outliers\n",
    "df['tot_hi_cred_lim'].fillna(df['tot_hi_cred_lim'].median(), inplace=True)"
   ]
  },
  {
   "cell_type": "code",
   "execution_count": 88,
   "metadata": {},
   "outputs": [],
   "source": [
    "# fill with median because of outliers\n",
    "df['total_bal_ex_mort'].fillna(df['total_bal_ex_mort'].median(), inplace=True)"
   ]
  },
  {
   "cell_type": "code",
   "execution_count": 89,
   "metadata": {},
   "outputs": [],
   "source": [
    "# fill with median because of outliers\n",
    "df['total_bc_limit'].fillna(df['total_bc_limit'].median(), inplace=True)"
   ]
  },
  {
   "cell_type": "code",
   "execution_count": 90,
   "metadata": {},
   "outputs": [],
   "source": [
    "# fill with median because of outliers\n",
    "df['total_il_high_credit_limit'].fillna(df['total_il_high_credit_limit'].median(), inplace=True)"
   ]
  },
  {
   "cell_type": "code",
   "execution_count": 91,
   "metadata": {},
   "outputs": [],
   "source": [
    "# fill with median because of outliers\n",
    "df['total_rev_hi_lim'].fillna(df['total_rev_hi_lim'].median(), inplace=True)"
   ]
  },
  {
   "cell_type": "code",
   "execution_count": 39,
   "metadata": {},
   "outputs": [
    {
     "data": {
      "text/plain": [
       "mo_sin_old_il_acct       0.112674\n",
       "mo_sin_old_rev_tl_op     0.085705\n",
       "mo_sin_rcnt_rev_tl_op    0.085705\n",
       "mo_sin_rcnt_tl           0.085704\n",
       "mths_since_recent_bc     0.068910\n",
       "mths_since_recent_inq    0.146151\n",
       "dtype: float64"
      ]
     },
     "execution_count": 39,
     "metadata": {},
     "output_type": "execute_result"
    }
   ],
   "source": [
    "months_cols = ['mo_sin_old_il_acct', 'mo_sin_old_rev_tl_op',\n",
    "               'mo_sin_rcnt_rev_tl_op', 'mo_sin_rcnt_tl',\n",
    "               'mths_since_recent_bc', 'mths_since_recent_inq',]\n",
    "df[months_cols].isnull().sum()/df.shape[0]"
   ]
  },
  {
   "cell_type": "code",
   "execution_count": 92,
   "metadata": {
    "scrolled": true
   },
   "outputs": [
    {
     "data": {
      "text/plain": [
       "acc_open_past_24mths                   0\n",
       "addr_state                             0\n",
       "annual_inc                             0\n",
       "avg_cur_bal                            0\n",
       "bc_util                                0\n",
       "collection_recovery_fee                0\n",
       "delinq_2yrs                            0\n",
       "dti                                    0\n",
       "emp_length                             0\n",
       "funded_amnt                            0\n",
       "funded_amnt_inv                        0\n",
       "grade                                  0\n",
       "home_ownership                         0\n",
       "initial_list_status                    0\n",
       "inq_last_6mths                         0\n",
       "installment                            0\n",
       "int_rate                               0\n",
       "last_pymnt_amnt                        0\n",
       "loan_amnt                              0\n",
       "loan_status                            0\n",
       "mo_sin_old_il_acct                 88777\n",
       "mo_sin_old_rev_tl_op               67528\n",
       "mo_sin_rcnt_rev_tl_op              67528\n",
       "mo_sin_rcnt_tl                     67527\n",
       "mort_acc                               0\n",
       "mths_since_last_delinq                 0\n",
       "mths_since_recent_bc               54295\n",
       "mths_since_recent_inq             115154\n",
       "mths_since_recent_revol_delinq         0\n",
       "num_actv_bc_tl                         0\n",
       "num_actv_rev_tl                        0\n",
       "num_bc_tl                              0\n",
       "num_il_tl                              0\n",
       "num_op_rev_tl                          0\n",
       "num_rev_accts                          0\n",
       "num_rev_tl_bal_gt_0                    0\n",
       "num_sats                               0\n",
       "num_tl_op_past_12m                     0\n",
       "open_acc                               0\n",
       "pct_tl_nvr_dlq                         0\n",
       "percent_bc_gt_75                       0\n",
       "pub_rec                                0\n",
       "purpose                                0\n",
       "recoveries                             0\n",
       "revol_bal                              0\n",
       "revol_util                             0\n",
       "term                                   0\n",
       "tot_coll_amt                       67527\n",
       "tot_cur_bal                            0\n",
       "tot_hi_cred_lim                        0\n",
       "total_acc                              0\n",
       "total_bal_ex_mort                      0\n",
       "total_bc_limit                         0\n",
       "total_il_high_credit_limit             0\n",
       "total_pymnt                            0\n",
       "total_rec_int                          0\n",
       "total_rec_prncp                        0\n",
       "total_rev_hi_lim                       0\n",
       "verification_status                    0\n",
       "credit_pull_time_diff                 38\n",
       "dtype: int64"
      ]
     },
     "execution_count": 92,
     "metadata": {},
     "output_type": "execute_result"
    }
   ],
   "source": [
    "df.isnull().sum()"
   ]
  },
  {
   "cell_type": "code",
   "execution_count": null,
   "metadata": {
    "scrolled": true
   },
   "outputs": [],
   "source": [
    "len(df.columns)"
   ]
  },
  {
   "cell_type": "code",
   "execution_count": null,
   "metadata": {
    "collapsed": true
   },
   "outputs": [],
   "source": [
    "df.to_csv(\"cleaned_data.csv\", index=False)"
   ]
  },
  {
   "cell_type": "code",
   "execution_count": null,
   "metadata": {
    "collapsed": true
   },
   "outputs": [],
   "source": []
  },
  {
   "cell_type": "markdown",
   "metadata": {},
   "source": [
    "## SCRATCH"
   ]
  },
  {
   "cell_type": "code",
   "execution_count": null,
   "metadata": {
    "collapsed": true
   },
   "outputs": [],
   "source": [
    "# MAYBE only keep the first 6 categories of this feature? due to dist.\n",
    "df.mort_acc.value_counts(normalize=True)"
   ]
  }
 ],
 "metadata": {
  "kernelspec": {
   "display_name": "Python 3",
   "language": "python",
   "name": "python3"
  },
  "language_info": {
   "codemirror_mode": {
    "name": "ipython",
    "version": 3
   },
   "file_extension": ".py",
   "mimetype": "text/x-python",
   "name": "python",
   "nbconvert_exporter": "python",
   "pygments_lexer": "ipython3",
   "version": "3.6.3"
  }
 },
 "nbformat": 4,
 "nbformat_minor": 2
}
