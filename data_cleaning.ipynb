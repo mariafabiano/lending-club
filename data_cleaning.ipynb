{
 "cells": [
  {
   "cell_type": "code",
   "execution_count": 1,
   "metadata": {
    "collapsed": true
   },
   "outputs": [],
   "source": [
    "import pandas as pd\n",
    "from datetime import datetime\n",
    "import os\n",
    "import numpy as np\n",
    "import matplotlib.pyplot as plt"
   ]
  },
  {
   "cell_type": "markdown",
   "metadata": {},
   "source": [
    "### Load the data"
   ]
  },
  {
   "cell_type": "code",
   "execution_count": 2,
   "metadata": {
    "collapsed": false
   },
   "outputs": [],
   "source": [
    "csvs = os.listdir('data/accepted/')"
   ]
  },
  {
   "cell_type": "code",
   "execution_count": 3,
   "metadata": {
    "collapsed": false
   },
   "outputs": [],
   "source": [
    "# make sure all csv files have the same headers\n",
    "with open(\"data/accepted/\"+csvs[0], 'r') as f:\n",
    "    columns = f.readlines()[0]\n",
    "for c in csvs[1:]:\n",
    "    with open(\"data/accepted/\" + c, 'r') as f:\n",
    "        if f.readlines()[0] != columns:\n",
    "            print(c)"
   ]
  },
  {
   "cell_type": "code",
   "execution_count": 2,
   "metadata": {
    "collapsed": false
   },
   "outputs": [],
   "source": [
    "dtype = {'id':str,'member_id':str,'loan_amnt':float,'funded_amnt':float,'funded_amnt_inv':float,\n",
    "         'term':str,'int_rate':str,\n",
    "         'installment':float,'grade':str,'sub_grade':str,'emp_title':str,'emp_length':str,'home_ownership':str,\n",
    "         'annual_inc':float,'verification_status':str,'issue_d':str,'loan_status':str,'pymnt_plan':str,'url':str,\n",
    "         'desc':str,'purpose':str,'title':str,'zip_code':str,'addr_state':str,'dti':float,'delinq_2yrs':float,\n",
    "         'earliest_cr_line':str,'inq_last_6mths':float,'mths_since_last_delinq':float,\n",
    "         'mths_since_last_record':float,\n",
    "         'open_acc':float,'pub_rec':float,'revol_bal':float,'total_acc':float,'initial_list_status':str,\n",
    "         'out_prncp':float,\n",
    "         'out_prncp_inv':float,'total_pymnt':float,'total_pymnt_inv':float,'total_rec_prncp':float,\n",
    "         'total_rec_int':float,\n",
    "         'total_rec_late_fee':float,'recoveries':float,'collection_recovery_fee':float,'last_pymnt_d':str,\n",
    "         'last_pymnt_amnt':float,'next_pymnt_d':str,'last_credit_pull_d':str,'collections_12_mths_ex_med':float,\n",
    "         'mths_since_last_major_derog':float,'policy_code':str,'application_type':str,'annual_inc_joint':float,\n",
    "         'dti_joint':float,'verification_status_joint':str,'acc_now_delinq':float,'tot_coll_amt':float,\n",
    "         'tot_cur_bal':float,\n",
    "         'open_acc_6m':float,'open_act_il':float,'open_il_12m':float,'open_il_24m':float,\n",
    "         'mths_since_rcnt_il':float,'total_bal_il':float,\n",
    "         'il_util':str,'open_rv_12m':float,'open_rv_24m':float,'max_bal_bc':float,'all_util':float,\n",
    "         'total_rev_hi_lim':float,\n",
    "         'inq_fi':float,'total_cu_tl':float,'inq_last_12m':float,'acc_open_past_24mths':float,'avg_cur_bal':float,\n",
    "         'bc_open_to_buy':str,'bc_util':str,'chargeoff_within_12_mths':float,'delinq_amnt':float,\n",
    "         'mo_sin_old_il_acct':str,\n",
    "         'mo_sin_old_rev_tl_op':str,'mo_sin_rcnt_rev_tl_op':str,'mo_sin_rcnt_tl':str,'mort_acc':float,\n",
    "         'mths_since_recent_bc':float,'mths_since_recent_bc_dlq':float,'mths_since_recent_inq':float,\n",
    "         'mths_since_recent_revol_delinq':float,\n",
    "         'num_accts_ever_120_pd':float,'num_actv_bc_tl':float,'num_actv_rev_tl':float,'num_bc_sats':float,\n",
    "         'num_bc_tl':float,\n",
    "         'num_il_tl':float,'num_op_rev_tl':float,'num_rev_accts':float,'num_rev_tl_bal_gt_0':float,'num_sats':float,\n",
    "         'num_tl_120dpd_2m':float,'num_tl_30dpd':float,'num_tl_90g_dpd_24m':float,'num_tl_op_past_12m':float,\n",
    "         'pct_tl_nvr_dlq':float,'percent_bc_gt_75':float,'pub_rec_bankruptcies':float,'tax_liens':float,\n",
    "         'tot_hi_cred_lim':float,\n",
    "         'total_bal_ex_mort':float,'total_bc_limit':float,'total_il_high_credit_limit':float,'revol_bal_joint':float,\n",
    "         'sec_app_earliest_cr_line':str,'sec_app_inq_last_6mths':float,'sec_app_mort_acc':str,'sec_app_open_acc':str,\n",
    "         'sec_app_revol_util':str,'sec_app_open_act_il':str,'sec_app_num_rev_accts':float,\n",
    "         'sec_app_chargeoff_within_12_mths':float,\n",
    "         'sec_app_collections_12_mths_ex_med':float,'sec_app_mths_since_last_major_derog':float,'hardship_flag':str,\n",
    "         'hardship_type':str,'hardship_reason':str,'hardship_status':str,'deferral_term':str,'hardship_amount':float,\n",
    "         'hardship_start_date':str,'hardship_end_date':str,'payment_plan_start_date':str,'hardship_length':str,\n",
    "         'hardship_dpd':float,'hardship_loan_status':str,'orig_projected_additional_accrued_interest':float,\n",
    "         'hardship_payoff_balance_amount':float,'hardship_last_payment_amount':float,'disbursement_method':str,\n",
    "         'debt_settlement_flag':str,'debt_settlement_flag_date':str,'settlement_status':str,'settlement_date':str,\n",
    "         'settlement_amount':float,'settlement_percentage':float,'settlement_term':str}"
   ]
  },
  {
   "cell_type": "code",
   "execution_count": 5,
   "metadata": {
    "collapsed": true
   },
   "outputs": [],
   "source": [
    "df = pd.DataFrame(columns=dtype.keys())\n",
    "for i,c in enumerate(csvs):\n",
    "    df = df.append(pd.read_csv(\"data/accepted/\" + c, dtype=dtype))"
   ]
  },
  {
   "cell_type": "code",
   "execution_count": 6,
   "metadata": {
    "collapsed": false
   },
   "outputs": [
    {
     "name": "stdout",
     "output_type": "stream",
     "text": [
      "number of data points: 1646801\n"
     ]
    }
   ],
   "source": [
    "print(\"number of data points: {}\".format(len(df)))"
   ]
  },
  {
   "cell_type": "markdown",
   "metadata": {},
   "source": [
    "### Drop current and unlabeled borrowers"
   ]
  },
  {
   "cell_type": "code",
   "execution_count": 7,
   "metadata": {
    "collapsed": false
   },
   "outputs": [
    {
     "name": "stdout",
     "output_type": "stream",
     "text": [
      "Current                                                0.492101\n",
      "Fully Paid                                             0.380819\n",
      "Charged Off                                            0.097637\n",
      "Late (31-120 days)                                     0.015266\n",
      "In Grace Period                                        0.009458\n",
      "Late (16-30 days)                                      0.003006\n",
      "Does not meet the credit policy. Status:Fully Paid     0.001207\n",
      "Does not meet the credit policy. Status:Charged Off    0.000462\n",
      "Default                                                0.000044\n",
      "Name: loan_status, dtype: float64\n"
     ]
    }
   ],
   "source": [
    "print(df.loan_status.value_counts(normalize=True))"
   ]
  },
  {
   "cell_type": "markdown",
   "metadata": {},
   "source": [
    "We drop current borrowers, as we are primarily interested in those who have already paid off or charged off on their loans. We save the current borrowers to predict how they will behave for future projects. Note that \"Charged Off\" means no further payment is expected. This typically occurs when a payment is 150+ days past due. \"Default\" typically means the borrower has not made a payment for 121+ days, but the account has not been closed or sent to collections yet (see https://help.lendingclub.com/hc/en-us/articles/216127747-What-is-the-difference-between-a-loan-that-is-in-default-and-a-loan-that-has-been-charged-off-)"
   ]
  },
  {
   "cell_type": "code",
   "execution_count": 8,
   "metadata": {
    "collapsed": false
   },
   "outputs": [],
   "source": [
    "# drop current borrowers, save for clustering problem\n",
    "current_df = df[(df.loan_status != 'Fully Paid') & (df.loan_status != 'Charged Off') \n",
    "                & (df.loan_status != 'Does not meet the credit policy. Status:Fully Paid')\n",
    "                & (df.loan_status != 'Does not meet the credit policy. Status:Charged Off')]"
   ]
  },
  {
   "cell_type": "code",
   "execution_count": 9,
   "metadata": {
    "collapsed": false
   },
   "outputs": [],
   "source": [
    "current_df.to_csv(\"data/current_borrowers.csv\", index=False)"
   ]
  },
  {
   "cell_type": "code",
   "execution_count": 10,
   "metadata": {
    "collapsed": false
   },
   "outputs": [
    {
     "data": {
      "text/plain": [
       "790682"
      ]
     },
     "execution_count": 10,
     "metadata": {},
     "output_type": "execute_result"
    }
   ],
   "source": [
    "# drop current borrowers\n",
    "df = df[df.loan_status!='Current']\n",
    "df = df[df.loan_status!='In Grace Period']\n",
    "df = df[df.loan_status!='Late (31-120 days)']\n",
    "df = df[df.loan_status!='Late (16-30 days)']\n",
    "df = df[df.loan_status!='Default']\n",
    "len(df)"
   ]
  },
  {
   "cell_type": "markdown",
   "metadata": {},
   "source": [
    "We drop the unlabeled data points, as the proportion of unlabeled points (about .003%) is marginal."
   ]
  },
  {
   "cell_type": "code",
   "execution_count": 11,
   "metadata": {
    "collapsed": false
   },
   "outputs": [
    {
     "name": "stdout",
     "output_type": "stream",
     "text": [
      "number of unlabeled points: 23\n"
     ]
    }
   ],
   "source": [
    "print(\"number of unlabeled points: {}\".format(len(df) - df.loan_status.value_counts().sum()))"
   ]
  },
  {
   "cell_type": "code",
   "execution_count": 12,
   "metadata": {
    "collapsed": false
   },
   "outputs": [
    {
     "data": {
      "text/plain": [
       "790659"
      ]
     },
     "execution_count": 12,
     "metadata": {},
     "output_type": "execute_result"
    }
   ],
   "source": [
    "# drop unlabeled data points (nan)\n",
    "df = df.dropna(subset=['loan_status'])\n",
    "len(df)"
   ]
  },
  {
   "cell_type": "code",
   "execution_count": 13,
   "metadata": {
    "collapsed": false
   },
   "outputs": [
    {
     "name": "stdout",
     "output_type": "stream",
     "text": [
      "['Fully Paid' 'Charged Off'\n",
      " 'Does not meet the credit policy. Status:Fully Paid'\n",
      " 'Does not meet the credit policy. Status:Charged Off']\n"
     ]
    }
   ],
   "source": [
    "print(df.loan_status.unique())"
   ]
  },
  {
   "cell_type": "code",
   "execution_count": 14,
   "metadata": {
    "collapsed": false,
    "scrolled": true
   },
   "outputs": [
    {
     "data": {
      "text/plain": [
       "Fully Paid                                             627124\n",
       "Charged Off                                            160786\n",
       "Does not meet the credit policy. Status:Fully Paid       1988\n",
       "Does not meet the credit policy. Status:Charged Off       761\n",
       "Name: loan_status, dtype: int64"
      ]
     },
     "execution_count": 14,
     "metadata": {},
     "output_type": "execute_result"
    }
   ],
   "source": [
    "df.loan_status.value_counts()"
   ]
  },
  {
   "cell_type": "markdown",
   "metadata": {},
   "source": [
    "Observations labeled with \"Does not meet the credit policy\" are people that borrowed from Lending Club in the past, but would not currently qualify for a loan under Lending Club's current policy. We save them as a separate dataframe for further analysis; perhaps we can identify the change in Lending Club's policy that would cause those borrowers to not qualify for a loan today."
   ]
  },
  {
   "cell_type": "code",
   "execution_count": 15,
   "metadata": {
    "collapsed": false
   },
   "outputs": [
    {
     "data": {
      "text/plain": [
       "2749"
      ]
     },
     "execution_count": 15,
     "metadata": {},
     "output_type": "execute_result"
    }
   ],
   "source": [
    "unqualified_df = df[df.loan_status.str.contains(\"Does not meet the credit policy\")]\n",
    "len(unqualified_df)"
   ]
  },
  {
   "cell_type": "code",
   "execution_count": 16,
   "metadata": {
    "collapsed": false
   },
   "outputs": [],
   "source": [
    "unqualified_df.to_csv(\"data/unqualified_df.csv\", index=False)\n",
    "df = df[(df.loan_status != 'Does not meet the credit policy. Status:Fully Paid') & \n",
    "        (df.loan_status != 'Does not meet the credit policy. Status:Charged Off')]"
   ]
  },
  {
   "cell_type": "code",
   "execution_count": 17,
   "metadata": {
    "collapsed": false
   },
   "outputs": [
    {
     "data": {
      "text/plain": [
       "787910"
      ]
     },
     "execution_count": 17,
     "metadata": {},
     "output_type": "execute_result"
    }
   ],
   "source": [
    "len(df)"
   ]
  },
  {
   "cell_type": "markdown",
   "metadata": {},
   "source": [
    "### Label the data"
   ]
  },
  {
   "cell_type": "code",
   "execution_count": 18,
   "metadata": {
    "collapsed": false
   },
   "outputs": [
    {
     "data": {
      "text/plain": [
       "1    627124\n",
       "0    160786\n",
       "Name: loan_status, dtype: int64"
      ]
     },
     "execution_count": 18,
     "metadata": {},
     "output_type": "execute_result"
    }
   ],
   "source": [
    "df.loan_status = df.loan_status.map({'Fully Paid':1, 'Charged Off':0})\n",
    "df.loan_status.value_counts()"
   ]
  },
  {
   "cell_type": "code",
   "execution_count": 19,
   "metadata": {
    "collapsed": false
   },
   "outputs": [],
   "source": [
    "df.to_csv('data/labeled.csv', index=False)"
   ]
  },
  {
   "cell_type": "markdown",
   "metadata": {},
   "source": [
    "### Remove uniform columns"
   ]
  },
  {
   "cell_type": "code",
   "execution_count": 3,
   "metadata": {
    "collapsed": false
   },
   "outputs": [
    {
     "data": {
      "text/plain": [
       "145"
      ]
     },
     "execution_count": 3,
     "metadata": {},
     "output_type": "execute_result"
    }
   ],
   "source": [
    "# change loan_status to int, due to encoded labels\n",
    "dtype['loan_status'] = int\n",
    "df = pd.read_csv('data/labeled.csv', dtype=dtype)\n",
    "len(df.columns)"
   ]
  },
  {
   "cell_type": "code",
   "execution_count": 4,
   "metadata": {
    "collapsed": false,
    "scrolled": true
   },
   "outputs": [
    {
     "name": "stdout",
     "output_type": "stream",
     "text": [
      "hardship_flag 1\n",
      "id 1\n",
      "member_id 1\n",
      "next_pymnt_d 1\n",
      "out_prncp 1\n",
      "out_prncp_inv 1\n",
      "policy_code 1\n",
      "pymnt_plan 1\n",
      "url 1\n"
     ]
    }
   ],
   "source": [
    "# find features with uniform values\n",
    "for col in df.columns:\n",
    "    if len(df[col].unique()) == 1:\n",
    "        print(col, len(df[col].unique()))\n",
    "        df.drop(col, axis=1, inplace=True)"
   ]
  },
  {
   "cell_type": "markdown",
   "metadata": {},
   "source": [
    "### Remove columns with a majority (70% or more) of missing values"
   ]
  },
  {
   "cell_type": "code",
   "execution_count": 5,
   "metadata": {
    "collapsed": false
   },
   "outputs": [
    {
     "name": "stdout",
     "output_type": "stream",
     "text": [
      "all_util \t 0.7942696500869388\n",
      "annual_inc_joint \t 0.9958002817580688\n",
      "debt_settlement_flag_date \t 0.9854691525681867\n",
      "deferral_term \t 0.9994567907502125\n",
      "desc \t 0.8483748143823533\n",
      "dti_joint \t 0.9958002817580688\n",
      "hardship_amount \t 0.9994567907502125\n",
      "hardship_dpd \t 0.9994567907502125\n",
      "hardship_end_date \t 0.9994567907502125\n",
      "hardship_last_payment_amount \t 0.9994567907502125\n",
      "hardship_length \t 0.9994567907502125\n",
      "hardship_loan_status \t 0.9994567907502125\n",
      "hardship_payoff_balance_amount \t 0.9994567907502125\n",
      "hardship_reason \t 0.9994567907502125\n",
      "hardship_start_date \t 0.9994567907502125\n",
      "hardship_status \t 0.9994567907502125\n",
      "hardship_type \t 0.9994567907502125\n",
      "il_util \t 0.8200835120762524\n",
      "inq_fi \t 0.7942569582820372\n",
      "inq_last_12m \t 0.7942582274625275\n",
      "max_bal_bc \t 0.7942569582820372\n",
      "mo_sin_old_il_acct \t 0.11267403637471285\n",
      "mths_since_last_delinq \t 0.5129748321508801\n",
      "mths_since_last_major_derog \t 0.749250548920562\n",
      "mths_since_last_record \t 0.8365016308969299\n",
      "mths_since_rcnt_il \t 0.7988006244368011\n",
      "mths_since_recent_bc_dlq \t 0.7682438349557691\n",
      "mths_since_recent_inq \t 0.14615121016359736\n",
      "mths_since_recent_revol_delinq \t 0.6751786371539896\n",
      "num_tl_120dpd_2m \t 0.11690929167036844\n",
      "open_acc_6m \t 0.7942582274625275\n",
      "open_act_il \t 0.7942569582820372\n",
      "open_il_12m \t 0.7942569582820372\n",
      "open_il_24m \t 0.7942569582820372\n",
      "open_rv_12m \t 0.7942569582820372\n",
      "open_rv_24m \t 0.7942569582820372\n",
      "orig_projected_additional_accrued_interest \t 0.9999175032681398\n",
      "payment_plan_start_date \t 0.9994567907502125\n",
      "revol_bal_joint \t 0.9991026893934587\n",
      "sec_app_chargeoff_within_12_mths \t 0.9991026893934587\n",
      "sec_app_collections_12_mths_ex_med \t 0.9991026893934587\n",
      "sec_app_earliest_cr_line \t 0.9991026893934587\n",
      "sec_app_inq_last_6mths \t 0.9991026893934587\n",
      "sec_app_mort_acc \t 0.9991026893934587\n",
      "sec_app_mths_since_last_major_derog \t 0.9996992042238326\n",
      "sec_app_num_rev_accts \t 0.9991026893934587\n",
      "sec_app_open_acc \t 0.9991026893934587\n",
      "sec_app_open_act_il \t 0.9991026893934587\n",
      "sec_app_revol_util \t 0.9991191887398307\n",
      "settlement_amount \t 0.9854691525681867\n",
      "settlement_date \t 0.9854691525681867\n",
      "settlement_percentage \t 0.9854691525681867\n",
      "settlement_status \t 0.9854691525681867\n",
      "settlement_term \t 0.9854691525681867\n",
      "total_bal_il \t 0.7942569582820372\n",
      "total_cu_tl \t 0.7942582274625275\n",
      "verification_status_joint \t 0.9958002817580688\n"
     ]
    }
   ],
   "source": [
    "null_counts = dict(df.isnull().sum())\n",
    "null_cols = []\n",
    "for key,val in null_counts.items():\n",
    "    if val/df.shape[0] >= .1:\n",
    "        print(key, '\\t', val/df.shape[0])\n",
    "    if val/df.shape[0] >= 0.7:\n",
    "        null_cols.append(key)"
   ]
  },
  {
   "cell_type": "code",
   "execution_count": 6,
   "metadata": {
    "collapsed": false
   },
   "outputs": [
    {
     "name": "stdout",
     "output_type": "stream",
     "text": [
      "52\n",
      "84\n"
     ]
    }
   ],
   "source": [
    "print(len(null_cols))\n",
    "df.drop(null_cols, axis=1, inplace=True)\n",
    "print(len(df.columns))"
   ]
  },
  {
   "cell_type": "markdown",
   "metadata": {},
   "source": [
    "### Remove columns with majority value (90% or more)"
   ]
  },
  {
   "cell_type": "code",
   "execution_count": 7,
   "metadata": {
    "collapsed": false
   },
   "outputs": [
    {
     "name": "stdout",
     "output_type": "stream",
     "text": [
      "acc_now_delinq\n",
      "application_type\n",
      "chargeoff_within_12_mths\n",
      "collections_12_mths_ex_med\n",
      "debt_settlement_flag\n",
      "delinq_amnt\n",
      "disbursement_method\n",
      "num_tl_120dpd_2m\n",
      "num_tl_30dpd\n",
      "num_tl_90g_dpd_24m\n",
      "tax_liens\n",
      "total_rec_late_fee\n"
     ]
    }
   ],
   "source": [
    "for col in df.drop('loan_status', axis=1).columns:\n",
    "    if df[col].value_counts(normalize=True).iloc[0] >=.9:\n",
    "        print(col)\n",
    "        df.drop(col, axis=1, inplace=True)"
   ]
  },
  {
   "cell_type": "code",
   "execution_count": 8,
   "metadata": {
    "collapsed": false
   },
   "outputs": [
    {
     "name": "stdout",
     "output_type": "stream",
     "text": [
      "(787910, 72)\n"
     ]
    }
   ],
   "source": [
    "print(df.shape)"
   ]
  },
  {
   "cell_type": "markdown",
   "metadata": {},
   "source": [
    "### Drop columns that aren't helpful or strongly correlated with other features"
   ]
  },
  {
   "cell_type": "code",
   "execution_count": 9,
   "metadata": {
    "collapsed": false
   },
   "outputs": [
    {
     "data": {
      "text/plain": [
       "0    860xx\n",
       "1    309xx\n",
       "2    606xx\n",
       "3    917xx\n",
       "4    972xx\n",
       "Name: zip_code, dtype: object"
      ]
     },
     "execution_count": 9,
     "metadata": {},
     "output_type": "execute_result"
    }
   ],
   "source": [
    "df['zip_code'].head()"
   ]
  },
  {
   "cell_type": "code",
   "execution_count": 8,
   "metadata": {
    "collapsed": true
   },
   "outputs": [],
   "source": [
    "# drop the zip_code feature, since we can't work with 3-digit zip codes, and addr_state gives the state\n",
    "df.drop(\"zip_code\", axis=1, inplace=True)"
   ]
  },
  {
   "cell_type": "code",
   "execution_count": 30,
   "metadata": {
    "collapsed": false
   },
   "outputs": [
    {
     "data": {
      "text/plain": [
       "0                                 Computer\n",
       "1                                     bike\n",
       "2                     real estate business\n",
       "3                                 personel\n",
       "4                                 Personal\n",
       "5    My wedding loan I promise to pay back\n",
       "6                                     Loan\n",
       "7                          Car Downpayment\n",
       "8     Expand Business & Buy Debt Portfolio\n",
       "9              Building my credit history.\n",
       "Name: title, dtype: object"
      ]
     },
     "execution_count": 30,
     "metadata": {},
     "output_type": "execute_result"
    }
   ],
   "source": [
    "df['title'].head(10)"
   ]
  },
  {
   "cell_type": "code",
   "execution_count": 31,
   "metadata": {
    "collapsed": false
   },
   "outputs": [
    {
     "name": "stdout",
     "output_type": "stream",
     "text": [
      "50798\n",
      "7387\n"
     ]
    }
   ],
   "source": [
    "# make lower case\n",
    "df['title'] = df['title'].str.lower()\n",
    "# got rid of about 10000 categories\n",
    "print(len(df['title'].unique()))\n",
    "print(df['title'].isnull().sum())"
   ]
  },
  {
   "cell_type": "code",
   "execution_count": 33,
   "metadata": {
    "collapsed": false
   },
   "outputs": [
    {
     "data": {
      "text/plain": [
       "debt consolidation           0.482619\n",
       "credit card refinancing      0.163980\n",
       "home improvement             0.051159\n",
       "other                        0.040810\n",
       "major purchase               0.015467\n",
       "consolidation                0.009376\n",
       "medical expenses             0.008539\n",
       "business                     0.008346\n",
       "car financing                0.006965\n",
       "debt consolidation loan      0.005800\n",
       "vacation                     0.005336\n",
       "moving and relocation        0.005216\n",
       "credit card consolidation    0.004302\n",
       "personal loan                0.004033\n",
       "home buying                  0.003472\n",
       "Name: title, dtype: float64"
      ]
     },
     "execution_count": 33,
     "metadata": {},
     "output_type": "execute_result"
    }
   ],
   "source": [
    "# keep top x categories\n",
    "# use substring matching to combine categories (other ways to combine categories)\n",
    "# make new categories for leftovers\n",
    "df['title'].value_counts(normalize=True).iloc[:15]"
   ]
  },
  {
   "cell_type": "code",
   "execution_count": 34,
   "metadata": {
    "collapsed": false
   },
   "outputs": [
    {
     "data": {
      "text/plain": [
       "debt_consolidation    0.590989\n",
       "credit_card           0.214731\n",
       "home_improvement      0.062277\n",
       "other                 0.053793\n",
       "major_purchase        0.021473\n",
       "small_business        0.012644\n",
       "car                   0.011010\n",
       "medical               0.010686\n",
       "moving                0.007026\n",
       "vacation              0.006258\n",
       "house                 0.005073\n",
       "wedding               0.002882\n",
       "renewable_energy      0.000742\n",
       "educational           0.000414\n",
       "Name: purpose, dtype: float64"
      ]
     },
     "execution_count": 34,
     "metadata": {},
     "output_type": "execute_result"
    }
   ],
   "source": [
    "df['purpose'].value_counts(normalize=True)"
   ]
  },
  {
   "cell_type": "code",
   "execution_count": 9,
   "metadata": {
    "collapsed": true
   },
   "outputs": [],
   "source": [
    "# drop title (for now), as purpose is a more uniform, consistent way to measure a similar thing (high correlation)\n",
    "df.drop('title', axis=1, inplace=True)"
   ]
  },
  {
   "cell_type": "code",
   "execution_count": 36,
   "metadata": {
    "collapsed": false
   },
   "outputs": [
    {
     "data": {
      "text/plain": [
       "0                         NaN\n",
       "1                       Ryder\n",
       "2                         NaN\n",
       "3         AIR RESOURCES BOARD\n",
       "4    University Medical Group\n",
       "Name: emp_title, dtype: object"
      ]
     },
     "execution_count": 36,
     "metadata": {},
     "output_type": "execute_result"
    }
   ],
   "source": [
    "df.emp_title.head()"
   ]
  },
  {
   "cell_type": "code",
   "execution_count": 37,
   "metadata": {
    "collapsed": false
   },
   "outputs": [
    {
     "data": {
      "text/plain": [
       "274750"
      ]
     },
     "execution_count": 37,
     "metadata": {},
     "output_type": "execute_result"
    }
   ],
   "source": [
    "len(df.emp_title.unique())"
   ]
  },
  {
   "cell_type": "code",
   "execution_count": 10,
   "metadata": {
    "collapsed": true
   },
   "outputs": [],
   "source": [
    "# for similar reasoning, drop emp_title (user input, very messy)\n",
    "df.drop('emp_title', axis=1, inplace=True)"
   ]
  },
  {
   "cell_type": "code",
   "execution_count": 11,
   "metadata": {
    "collapsed": true
   },
   "outputs": [],
   "source": [
    "# drop sub_grade, as that information can be captured in grade\n",
    "df.drop('sub_grade', axis=1, inplace=True)"
   ]
  },
  {
   "cell_type": "code",
   "execution_count": 12,
   "metadata": {
    "collapsed": false
   },
   "outputs": [
    {
     "data": {
      "text/html": [
       "<div>\n",
       "<style>\n",
       "    .dataframe thead tr:only-child th {\n",
       "        text-align: right;\n",
       "    }\n",
       "\n",
       "    .dataframe thead th {\n",
       "        text-align: left;\n",
       "    }\n",
       "\n",
       "    .dataframe tbody tr th {\n",
       "        vertical-align: top;\n",
       "    }\n",
       "</style>\n",
       "<table border=\"1\" class=\"dataframe\">\n",
       "  <thead>\n",
       "    <tr style=\"text-align: right;\">\n",
       "      <th></th>\n",
       "      <th>total_pymnt</th>\n",
       "      <th>total_pymnt_inv</th>\n",
       "    </tr>\n",
       "  </thead>\n",
       "  <tbody>\n",
       "    <tr>\n",
       "      <th>0</th>\n",
       "      <td>5863.16</td>\n",
       "      <td>5833.84</td>\n",
       "    </tr>\n",
       "    <tr>\n",
       "      <th>1</th>\n",
       "      <td>1014.53</td>\n",
       "      <td>1014.53</td>\n",
       "    </tr>\n",
       "    <tr>\n",
       "      <th>2</th>\n",
       "      <td>3005.67</td>\n",
       "      <td>3005.67</td>\n",
       "    </tr>\n",
       "    <tr>\n",
       "      <th>3</th>\n",
       "      <td>12231.89</td>\n",
       "      <td>12231.89</td>\n",
       "    </tr>\n",
       "    <tr>\n",
       "      <th>4</th>\n",
       "      <td>4066.91</td>\n",
       "      <td>4066.91</td>\n",
       "    </tr>\n",
       "    <tr>\n",
       "      <th>5</th>\n",
       "      <td>5632.21</td>\n",
       "      <td>5632.21</td>\n",
       "    </tr>\n",
       "    <tr>\n",
       "      <th>6</th>\n",
       "      <td>10137.84</td>\n",
       "      <td>10137.84</td>\n",
       "    </tr>\n",
       "    <tr>\n",
       "      <th>7</th>\n",
       "      <td>3939.14</td>\n",
       "      <td>3939.14</td>\n",
       "    </tr>\n",
       "    <tr>\n",
       "      <th>8</th>\n",
       "      <td>647.50</td>\n",
       "      <td>647.50</td>\n",
       "    </tr>\n",
       "    <tr>\n",
       "      <th>9</th>\n",
       "      <td>1484.59</td>\n",
       "      <td>1477.70</td>\n",
       "    </tr>\n",
       "  </tbody>\n",
       "</table>\n",
       "</div>"
      ],
      "text/plain": [
       "   total_pymnt  total_pymnt_inv\n",
       "0      5863.16          5833.84\n",
       "1      1014.53          1014.53\n",
       "2      3005.67          3005.67\n",
       "3     12231.89         12231.89\n",
       "4      4066.91          4066.91\n",
       "5      5632.21          5632.21\n",
       "6     10137.84         10137.84\n",
       "7      3939.14          3939.14\n",
       "8       647.50           647.50\n",
       "9      1484.59          1477.70"
      ]
     },
     "execution_count": 12,
     "metadata": {},
     "output_type": "execute_result"
    }
   ],
   "source": [
    "df['total_pymnt'] = df['total_pymnt'].round(2)\n",
    "df[['total_pymnt','total_pymnt_inv']].head(10)"
   ]
  },
  {
   "cell_type": "code",
   "execution_count": 41,
   "metadata": {
    "collapsed": false,
    "scrolled": true
   },
   "outputs": [
    {
     "data": {
      "text/plain": [
       "783987"
      ]
     },
     "execution_count": 41,
     "metadata": {},
     "output_type": "execute_result"
    }
   ],
   "source": [
    "df[(np.abs(df['total_pymnt']) <= 1.1*np.abs(df['total_pymnt_inv'])) & (np.abs(df['total_pymnt']) >= .9*np.abs(df['total_pymnt_inv'])) ].shape[0]"
   ]
  },
  {
   "cell_type": "code",
   "execution_count": 13,
   "metadata": {
    "collapsed": true
   },
   "outputs": [],
   "source": [
    "# most total_pymnt_inv are nearly the same as total_pymnt\n",
    "# drop total_pymnt_inv because of high correlation with total_pymnt\n",
    "df.drop(\"total_pymnt_inv\", axis=1, inplace=True)"
   ]
  },
  {
   "cell_type": "code",
   "execution_count": 14,
   "metadata": {
    "collapsed": false
   },
   "outputs": [],
   "source": [
    "# drop issue_d and last_pymnt_d, since new applicants won't have these features\n",
    "df.drop(['issue_d','last_pymnt_d'], axis=1, inplace=True)"
   ]
  },
  {
   "cell_type": "code",
   "execution_count": 15,
   "metadata": {
    "collapsed": false
   },
   "outputs": [
    {
     "data": {
      "text/plain": [
       "(787910, 65)"
      ]
     },
     "execution_count": 15,
     "metadata": {},
     "output_type": "execute_result"
    }
   ],
   "source": [
    "df.shape"
   ]
  },
  {
   "cell_type": "markdown",
   "metadata": {},
   "source": [
    "### Clean features and change to floats/ints"
   ]
  },
  {
   "cell_type": "code",
   "execution_count": 45,
   "metadata": {
    "collapsed": false
   },
   "outputs": [
    {
     "data": {
      "text/plain": [
       "0     36 months\n",
       "1     60 months\n",
       "2     36 months\n",
       "3     36 months\n",
       "4     60 months\n",
       "Name: term, dtype: object"
      ]
     },
     "execution_count": 45,
     "metadata": {},
     "output_type": "execute_result"
    }
   ],
   "source": [
    "df['term'].head()"
   ]
  },
  {
   "cell_type": "code",
   "execution_count": 16,
   "metadata": {
    "collapsed": false
   },
   "outputs": [
    {
     "data": {
      "text/plain": [
       "0    36\n",
       "1    60\n",
       "2    36\n",
       "3    36\n",
       "4    60\n",
       "Name: term, dtype: int64"
      ]
     },
     "execution_count": 16,
     "metadata": {},
     "output_type": "execute_result"
    }
   ],
   "source": [
    "# change 'term' from string to int\n",
    "df.term = df.term.apply(lambda x: int(x.split()[0]))\n",
    "df['term'].head()"
   ]
  },
  {
   "cell_type": "code",
   "execution_count": 47,
   "metadata": {
    "collapsed": false
   },
   "outputs": [
    {
     "data": {
      "text/plain": [
       "0    83.7%\n",
       "1     9.4%\n",
       "2    98.5%\n",
       "3      21%\n",
       "4    53.9%\n",
       "Name: revol_util, dtype: object"
      ]
     },
     "execution_count": 47,
     "metadata": {},
     "output_type": "execute_result"
    }
   ],
   "source": [
    "df['revol_util'].head()"
   ]
  },
  {
   "cell_type": "code",
   "execution_count": 17,
   "metadata": {
    "collapsed": false
   },
   "outputs": [
    {
     "data": {
      "text/plain": [
       "0    0.837\n",
       "1    0.094\n",
       "2    0.985\n",
       "3    0.210\n",
       "4    0.539\n",
       "Name: revol_util, dtype: float64"
      ]
     },
     "execution_count": 17,
     "metadata": {},
     "output_type": "execute_result"
    }
   ],
   "source": [
    "# change revol_util to floats\n",
    "df.revol_util = df.revol_util.str[:-1].astype('float')/100\n",
    "df.revol_util.head()"
   ]
  },
  {
   "cell_type": "code",
   "execution_count": null,
   "metadata": {
    "collapsed": true
   },
   "outputs": [],
   "source": [
    "df['last_credit_pull_d'] = pd.to_datetime(df['last_credit_pull_d'])\n",
    "df['earliest_cr_line'] = pd.to_datetime(df['earliest_cr_line'])"
   ]
  },
  {
   "cell_type": "code",
   "execution_count": 18,
   "metadata": {
    "collapsed": false
   },
   "outputs": [
    {
     "data": {
      "text/plain": [
       "0    394\n",
       "1    210\n",
       "2    187\n",
       "3    242\n",
       "4    252\n",
       "Name: credit_pull_time_diff, dtype: object"
      ]
     },
     "execution_count": 18,
     "metadata": {},
     "output_type": "execute_result"
    }
   ],
   "source": [
    "df['credit_pull_time_diff'] = int(df.last_credit_pull_d.dt.to_period('M') - df.earliest_cr_line.dt.to_period('M'))\n",
    "df['credit_pull_time_diff'].head()"
   ]
  },
  {
   "cell_type": "code",
   "execution_count": 96,
   "metadata": {
    "collapsed": false
   },
   "outputs": [
    {
     "data": {
      "text/plain": [
       "count    7.879100e+05\n",
       "mean    -4.448327e+14\n",
       "std      6.405205e+16\n",
       "min     -9.223372e+18\n",
       "25%      1.620000e+02\n",
       "50%      2.070000e+02\n",
       "75%      2.680000e+02\n",
       "max      8.730000e+02\n",
       "Name: credit_pull_time_diff, dtype: float64"
      ]
     },
     "execution_count": 96,
     "metadata": {},
     "output_type": "execute_result"
    }
   ],
   "source": [
    "df['credit_pull_time_diff'].describe()"
   ]
  },
  {
   "cell_type": "code",
   "execution_count": 98,
   "metadata": {
    "collapsed": false
   },
   "outputs": [
    {
     "data": {
      "image/png": "[encoded data removed]",
      "text/plain": [
       "<matplotlib.figure.Figure at 0x11aa62400>"
      ]
     },
     "metadata": {},
     "output_type": "display_data"
    }
   ],
   "source": [
    "df['credit_pull_time_diff'].hist(bins=50)\n",
    "plt.show()"
   ]
  },
  {
   "cell_type": "code",
   "execution_count": 19,
   "metadata": {
    "collapsed": false
   },
   "outputs": [],
   "source": [
    "# Now we drop earliest_cr_line and last_credit_pull_d because we made a new feature from them\n",
    "df.drop(['earliest_cr_line', 'last_credit_pull_d'], axis=1, inplace=True)"
   ]
  },
  {
   "cell_type": "code",
   "execution_count": 51,
   "metadata": {
    "collapsed": false,
    "scrolled": true
   },
   "outputs": [
    {
     "data": {
      "text/plain": [
       "0     10.65%\n",
       "1     15.27%\n",
       "2     15.96%\n",
       "3     13.49%\n",
       "4     12.69%\n",
       "Name: int_rate, dtype: object"
      ]
     },
     "execution_count": 51,
     "metadata": {},
     "output_type": "execute_result"
    }
   ],
   "source": [
    "df['int_rate'].head()"
   ]
  },
  {
   "cell_type": "code",
   "execution_count": 20,
   "metadata": {
    "collapsed": false
   },
   "outputs": [
    {
     "data": {
      "text/plain": [
       "0    0.1065\n",
       "1    0.1527\n",
       "2    0.1596\n",
       "3    0.1349\n",
       "4    0.1269\n",
       "Name: int_rate, dtype: float64"
      ]
     },
     "execution_count": 20,
     "metadata": {},
     "output_type": "execute_result"
    }
   ],
   "source": [
    "df.int_rate = df.int_rate.str[:-1].astype('float')/100\n",
    "df.int_rate.head()"
   ]
  },
  {
   "cell_type": "code",
   "execution_count": 21,
   "metadata": {
    "collapsed": false
   },
   "outputs": [],
   "source": [
    "df.bc_util = df.bc_util.astype('float')"
   ]
  },
  {
   "cell_type": "code",
   "execution_count": 55,
   "metadata": {
    "collapsed": false
   },
   "outputs": [
    {
     "data": {
      "text/plain": [
       "787900    12.8\n",
       "787901    51.7\n",
       "787902    83.5\n",
       "787903    20.0\n",
       "787904    54.2\n",
       "787905    60.5\n",
       "787906    68.0\n",
       "787907    61.7\n",
       "787908    95.8\n",
       "787909    48.0\n",
       "Name: bc_util, dtype: float64"
      ]
     },
     "execution_count": 55,
     "metadata": {},
     "output_type": "execute_result"
    }
   ],
   "source": [
    "df.bc_util.tail(10)"
   ]
  },
  {
   "cell_type": "code",
   "execution_count": 22,
   "metadata": {
    "collapsed": false
   },
   "outputs": [],
   "source": [
    "df.bc_open_to_buy = df.bc_open_to_buy.astype('float')"
   ]
  },
  {
   "cell_type": "markdown",
   "metadata": {},
   "source": [
    "### Fill missing values"
   ]
  },
  {
   "cell_type": "code",
   "execution_count": 24,
   "metadata": {
    "collapsed": false
   },
   "outputs": [
    {
     "data": {
      "text/plain": [
       "'mths_since_recent_revol_delinq'"
      ]
     },
     "execution_count": 24,
     "metadata": {},
     "output_type": "execute_result"
    }
   ],
   "source": [
    "# find column with most missing values\n",
    "df.count().idxmin()"
   ]
  },
  {
   "cell_type": "code",
   "execution_count": 25,
   "metadata": {
    "collapsed": false
   },
   "outputs": [
    {
     "data": {
      "text/plain": [
       "0.6751786371539896"
      ]
     },
     "execution_count": 25,
     "metadata": {},
     "output_type": "execute_result"
    }
   ],
   "source": [
    "df['mths_since_recent_revol_delinq'].isnull().sum()/df.shape[0]"
   ]
  },
  {
   "cell_type": "code",
   "execution_count": 26,
   "metadata": {
    "collapsed": false
   },
   "outputs": [
    {
     "data": {
      "image/png": "[encoded data removed]",
      "text/plain": [
       "<matplotlib.figure.Figure at 0x11b584eb8>"
      ]
     },
     "metadata": {},
     "output_type": "display_data"
    }
   ],
   "source": [
    "df.mths_since_recent_revol_delinq.hist(bins=15, normed=True)\n",
    "plt.show()"
   ]
  },
  {
   "cell_type": "code",
   "execution_count": 32,
   "metadata": {
    "collapsed": false
   },
   "outputs": [
    {
     "data": {
      "text/plain": [
       "count    787910.000000\n",
       "mean         34.044206\n",
       "std          12.882347\n",
       "min           0.000000\n",
       "25%          33.000000\n",
       "50%          33.000000\n",
       "75%          33.000000\n",
       "max         180.000000\n",
       "Name: mths_since_recent_revol_delinq, dtype: float64"
      ]
     },
     "execution_count": 32,
     "metadata": {},
     "output_type": "execute_result"
    }
   ],
   "source": [
    "df.mths_since_recent_revol_delinq.describe()"
   ]
  },
  {
   "cell_type": "code",
   "execution_count": 28,
   "metadata": {
    "collapsed": false,
    "scrolled": true
   },
   "outputs": [
    {
     "data": {
      "text/plain": [
       "1    0.787708\n",
       "0    0.212292\n",
       "Name: loan_status, dtype: float64"
      ]
     },
     "execution_count": 28,
     "metadata": {},
     "output_type": "execute_result"
    }
   ],
   "source": [
    "df[~df.mths_since_recent_revol_delinq.isnull()].loan_status.value_counts(normalize=True)"
   ]
  },
  {
   "cell_type": "code",
   "execution_count": 29,
   "metadata": {
    "collapsed": false
   },
   "outputs": [
    {
     "data": {
      "text/plain": [
       "1    0.799891\n",
       "0    0.200109\n",
       "Name: loan_status, dtype: float64"
      ]
     },
     "execution_count": 29,
     "metadata": {},
     "output_type": "execute_result"
    }
   ],
   "source": [
    "df[df.mths_since_recent_revol_delinq.isnull()].loan_status.value_counts(normalize=True)"
   ]
  },
  {
   "cell_type": "code",
   "execution_count": 31,
   "metadata": {
    "collapsed": true
   },
   "outputs": [],
   "source": [
    "# Fill with median, since \"mths_since_recent_revol_delinq\" is integer-valued, and slightly skewed left\n",
    "df[\"mths_since_recent_revol_delinq\"].fillna(df[\"mths_since_recent_revol_delinq\"].median(), inplace=True)"
   ]
  },
  {
   "cell_type": "code",
   "execution_count": 33,
   "metadata": {
    "collapsed": false
   },
   "outputs": [
    {
     "name": "stdout",
     "output_type": "stream",
     "text": [
      "mths_since_last_delinq\n"
     ]
    },
    {
     "data": {
      "text/plain": [
       "0.5129748321508801"
      ]
     },
     "execution_count": 33,
     "metadata": {},
     "output_type": "execute_result"
    }
   ],
   "source": [
    "# find column with most missing values\n",
    "col = df.count().idxmin()\n",
    "print(col)\n",
    "df[col].isnull().sum()/df.shape[0]"
   ]
  },
  {
   "cell_type": "code",
   "execution_count": 34,
   "metadata": {
    "collapsed": false,
    "scrolled": true
   },
   "outputs": [
    {
     "data": {
      "text/plain": [
       "1    0.789061\n",
       "0    0.210939\n",
       "Name: loan_status, dtype: float64"
      ]
     },
     "execution_count": 34,
     "metadata": {},
     "output_type": "execute_result"
    }
   ],
   "source": [
    "df[~df.mths_since_last_delinq.isnull()].loan_status.value_counts(normalize=True)"
   ]
  },
  {
   "cell_type": "code",
   "execution_count": 35,
   "metadata": {
    "collapsed": false,
    "scrolled": false
   },
   "outputs": [
    {
     "data": {
      "text/plain": [
       "1    0.802458\n",
       "0    0.197542\n",
       "Name: loan_status, dtype: float64"
      ]
     },
     "execution_count": 35,
     "metadata": {},
     "output_type": "execute_result"
    }
   ],
   "source": [
    "df[df.mths_since_last_delinq.isnull()].loan_status.value_counts(normalize=True)"
   ]
  },
  {
   "cell_type": "code",
   "execution_count": 36,
   "metadata": {
    "collapsed": false
   },
   "outputs": [
    {
     "data": {
      "image/png": "[encoded data removed]",
      "text/plain": [
       "<matplotlib.figure.Figure at 0x11777bfd0>"
      ]
     },
     "metadata": {},
     "output_type": "display_data"
    }
   ],
   "source": [
    "df.mths_since_last_delinq.hist(bins=15, normed=True)\n",
    "plt.show()"
   ]
  },
  {
   "cell_type": "code",
   "execution_count": 37,
   "metadata": {
    "collapsed": false
   },
   "outputs": [
    {
     "data": {
      "text/plain": [
       "count    383732.000000\n",
       "mean         34.524348\n",
       "std          21.946122\n",
       "min           0.000000\n",
       "25%          16.000000\n",
       "50%          31.000000\n",
       "75%          50.000000\n",
       "max         192.000000\n",
       "Name: mths_since_last_delinq, dtype: float64"
      ]
     },
     "execution_count": 37,
     "metadata": {},
     "output_type": "execute_result"
    }
   ],
   "source": [
    "df['mths_since_last_delinq'].describe()"
   ]
  },
  {
   "cell_type": "code",
   "execution_count": 40,
   "metadata": {
    "collapsed": true
   },
   "outputs": [],
   "source": [
    "# Fill with median, since \"mths_since_last_delinq\" is integer-valued, and slightly skewed left\n",
    "df[\"mths_since_last_delinq\"].fillna(df[\"mths_since_last_delinq\"].median(), inplace=True)"
   ]
  },
  {
   "cell_type": "code",
   "execution_count": 41,
   "metadata": {
    "collapsed": false
   },
   "outputs": [
    {
     "data": {
      "text/plain": [
       "count    740629.000000\n",
       "mean          4.712176\n",
       "std           3.146878\n",
       "min           0.000000\n",
       "25%           2.000000\n",
       "50%           4.000000\n",
       "75%           6.000000\n",
       "max          56.000000\n",
       "Name: acc_open_past_24mths, dtype: float64"
      ]
     },
     "execution_count": 41,
     "metadata": {},
     "output_type": "execute_result"
    }
   ],
   "source": [
    "df.acc_open_past_24mths.describe()"
   ]
  },
  {
   "cell_type": "code",
   "execution_count": 42,
   "metadata": {
    "collapsed": true
   },
   "outputs": [],
   "source": [
    "# fill with median since months since is nominal and median and mean are close (not so much skew)\n",
    "df['acc_open_past_24mths'].fillna(df['acc_open_past_24mths'].median(), inplace=True)"
   ]
  },
  {
   "cell_type": "code",
   "execution_count": 43,
   "metadata": {
    "collapsed": false
   },
   "outputs": [
    {
     "data": {
      "text/plain": [
       "count    720371.000000\n",
       "mean      13528.413955\n",
       "std       16219.021791\n",
       "min           0.000000\n",
       "25%        3118.000000\n",
       "50%        7516.000000\n",
       "75%       18845.000000\n",
       "max      958084.000000\n",
       "Name: avg_cur_bal, dtype: float64"
      ]
     },
     "execution_count": 43,
     "metadata": {},
     "output_type": "execute_result"
    }
   ],
   "source": [
    "df['avg_cur_bal'].describe()"
   ]
  },
  {
   "cell_type": "code",
   "execution_count": 44,
   "metadata": {
    "collapsed": false
   },
   "outputs": [
    {
     "data": {
      "image/png": "[encoded data removed]",
      "text/plain": [
       "<matplotlib.figure.Figure at 0x113012e48>"
      ]
     },
     "metadata": {},
     "output_type": "display_data"
    }
   ],
   "source": [
    "df[df['avg_cur_bal']<463698]['avg_cur_bal'].hist(bins=15)\n",
    "plt.show()"
   ]
  },
  {
   "cell_type": "code",
   "execution_count": 45,
   "metadata": {
    "collapsed": false
   },
   "outputs": [
    {
     "data": {
      "text/plain": [
       "(408615, 64)"
      ]
     },
     "execution_count": 45,
     "metadata": {},
     "output_type": "execute_result"
    }
   ],
   "source": [
    "df[df['avg_cur_bal']<10000].shape"
   ]
  },
  {
   "cell_type": "code",
   "execution_count": 46,
   "metadata": {
    "collapsed": true
   },
   "outputs": [],
   "source": [
    "# since over 50% of the data is contained when avg_cur_bal < 10000, we fill missing values with median\n",
    "df['avg_cur_bal'].fillna(df['avg_cur_bal'].median(), inplace=True)"
   ]
  },
  {
   "cell_type": "code",
   "execution_count": 47,
   "metadata": {
    "collapsed": false
   },
   "outputs": [
    {
     "data": {
      "text/plain": [
       "count    733034.000000\n",
       "mean       9436.288340\n",
       "std       14551.612378\n",
       "min           0.000000\n",
       "25%        1304.000000\n",
       "50%        4240.000000\n",
       "75%       11299.000000\n",
       "max      559912.000000\n",
       "Name: bc_open_to_buy, dtype: float64"
      ]
     },
     "execution_count": 47,
     "metadata": {},
     "output_type": "execute_result"
    }
   ],
   "source": [
    "df['bc_open_to_buy'].describe()"
   ]
  },
  {
   "cell_type": "code",
   "execution_count": 48,
   "metadata": {
    "collapsed": true
   },
   "outputs": [],
   "source": [
    "# drop bc_open_to_buy because it means \"total open-to-buy on revolving bankcards\"\n",
    "# information can be found in (I think) in tot_hi_cred_lim\n",
    "df.drop('bc_open_to_buy', axis=1, inplace=True)"
   ]
  },
  {
   "cell_type": "code",
   "execution_count": 49,
   "metadata": {
    "collapsed": false
   },
   "outputs": [
    {
     "data": {
      "text/plain": [
       "count    732567.000000\n",
       "mean         61.644117\n",
       "std          27.863545\n",
       "min           0.000000\n",
       "25%          40.900000\n",
       "50%          65.500000\n",
       "75%          86.000000\n",
       "max         339.600000\n",
       "Name: bc_util, dtype: float64"
      ]
     },
     "execution_count": 49,
     "metadata": {},
     "output_type": "execute_result"
    }
   ],
   "source": [
    "df['bc_util'].describe()"
   ]
  },
  {
   "cell_type": "code",
   "execution_count": 50,
   "metadata": {
    "collapsed": false
   },
   "outputs": [],
   "source": [
    "# fill with mean (data is not very skewed)\n",
    "df['bc_util'].fillna(df['bc_util'].mean(), inplace=True)"
   ]
  },
  {
   "cell_type": "code",
   "execution_count": 51,
   "metadata": {
    "collapsed": false
   },
   "outputs": [
    {
     "data": {
      "text/plain": [
       "0.0    427576\n",
       "1.0    220004\n",
       "2.0     89382\n",
       "3.0     36329\n",
       "4.0     10071\n",
       "5.0      3577\n",
       "6.0       900\n",
       "7.0        48\n",
       "8.0        22\n",
       "Name: inq_last_6mths, dtype: int64"
      ]
     },
     "execution_count": 51,
     "metadata": {},
     "output_type": "execute_result"
    }
   ],
   "source": [
    "df['inq_last_6mths'].value_counts()"
   ]
  },
  {
   "cell_type": "code",
   "execution_count": 52,
   "metadata": {
    "collapsed": true
   },
   "outputs": [],
   "source": [
    "# fill with median due to integer values\n",
    "df['inq_last_6mths'].fillna(df['inq_last_6mths'].median(), inplace=True)"
   ]
  },
  {
   "cell_type": "code",
   "execution_count": 53,
   "metadata": {
    "collapsed": false
   },
   "outputs": [
    {
     "data": {
      "text/plain": [
       "count    787881.000000\n",
       "mean         17.832820\n",
       "std           8.845265\n",
       "min          -1.000000\n",
       "25%          11.610000\n",
       "50%          17.320000\n",
       "75%          23.580000\n",
       "max         999.000000\n",
       "Name: dti, dtype: float64"
      ]
     },
     "execution_count": 53,
     "metadata": {},
     "output_type": "execute_result"
    }
   ],
   "source": [
    "df['dti'].describe()"
   ]
  },
  {
   "cell_type": "code",
   "execution_count": 55,
   "metadata": {
    "collapsed": false
   },
   "outputs": [
    {
     "data": {
      "text/html": [
       "<div>\n",
       "<style>\n",
       "    .dataframe thead tr:only-child th {\n",
       "        text-align: right;\n",
       "    }\n",
       "\n",
       "    .dataframe thead th {\n",
       "        text-align: left;\n",
       "    }\n",
       "\n",
       "    .dataframe tbody tr th {\n",
       "        vertical-align: top;\n",
       "    }\n",
       "</style>\n",
       "<table border=\"1\" class=\"dataframe\">\n",
       "  <thead>\n",
       "    <tr style=\"text-align: right;\">\n",
       "      <th></th>\n",
       "      <th>acc_open_past_24mths</th>\n",
       "      <th>addr_state</th>\n",
       "      <th>annual_inc</th>\n",
       "      <th>avg_cur_bal</th>\n",
       "      <th>bc_util</th>\n",
       "      <th>collection_recovery_fee</th>\n",
       "      <th>delinq_2yrs</th>\n",
       "      <th>dti</th>\n",
       "      <th>emp_length</th>\n",
       "      <th>funded_amnt</th>\n",
       "      <th>...</th>\n",
       "      <th>total_acc</th>\n",
       "      <th>total_bal_ex_mort</th>\n",
       "      <th>total_bc_limit</th>\n",
       "      <th>total_il_high_credit_limit</th>\n",
       "      <th>total_pymnt</th>\n",
       "      <th>total_rec_int</th>\n",
       "      <th>total_rec_prncp</th>\n",
       "      <th>total_rev_hi_lim</th>\n",
       "      <th>verification_status</th>\n",
       "      <th>credit_pull_time_diff</th>\n",
       "    </tr>\n",
       "  </thead>\n",
       "  <tbody>\n",
       "    <tr>\n",
       "      <th>645411</th>\n",
       "      <td>8.0</td>\n",
       "      <td>OR</td>\n",
       "      <td>94000.0</td>\n",
       "      <td>8461.0</td>\n",
       "      <td>61.7</td>\n",
       "      <td>0.0</td>\n",
       "      <td>0.0</td>\n",
       "      <td>-1.0</td>\n",
       "      <td>5 years</td>\n",
       "      <td>15000.0</td>\n",
       "      <td>...</td>\n",
       "      <td>24.0</td>\n",
       "      <td>93070.0</td>\n",
       "      <td>10300.0</td>\n",
       "      <td>94043.0</td>\n",
       "      <td>16188.78</td>\n",
       "      <td>1188.78</td>\n",
       "      <td>15000.0</td>\n",
       "      <td>33700.0</td>\n",
       "      <td>Source Verified</td>\n",
       "      <td>170</td>\n",
       "    </tr>\n",
       "  </tbody>\n",
       "</table>\n",
       "<p>1 rows × 63 columns</p>\n",
       "</div>"
      ],
      "text/plain": [
       "        acc_open_past_24mths addr_state  annual_inc  avg_cur_bal  bc_util  \\\n",
       "645411                   8.0         OR     94000.0       8461.0     61.7   \n",
       "\n",
       "        collection_recovery_fee  delinq_2yrs  dti emp_length  funded_amnt  \\\n",
       "645411                      0.0          0.0 -1.0    5 years      15000.0   \n",
       "\n",
       "                ...            total_acc total_bal_ex_mort total_bc_limit  \\\n",
       "645411          ...                 24.0           93070.0        10300.0   \n",
       "\n",
       "       total_il_high_credit_limit  total_pymnt  total_rec_int  \\\n",
       "645411                    94043.0     16188.78        1188.78   \n",
       "\n",
       "        total_rec_prncp  total_rev_hi_lim  verification_status  \\\n",
       "645411          15000.0           33700.0      Source Verified   \n",
       "\n",
       "        credit_pull_time_diff  \n",
       "645411                    170  \n",
       "\n",
       "[1 rows x 63 columns]"
      ]
     },
     "execution_count": 55,
     "metadata": {},
     "output_type": "execute_result"
    }
   ],
   "source": [
    "df[df['dti']==-1]"
   ]
  },
  {
   "cell_type": "code",
   "execution_count": 56,
   "metadata": {
    "collapsed": true
   },
   "outputs": [],
   "source": [
    "# fill with mean; data is not skewed\n",
    "# there is only one value of -1, I thought was impossible and placeholder for NaN\n",
    "# however, maybe it's possible?\n",
    "df['dti'].fillna(df['dti'].mean(), inplace=True)"
   ]
  },
  {
   "cell_type": "code",
   "execution_count": 57,
   "metadata": {
    "collapsed": false
   },
   "outputs": [
    {
     "data": {
      "text/plain": [
       "count    740629.000000\n",
       "mean          1.764267\n",
       "std           2.087446\n",
       "min           0.000000\n",
       "25%           0.000000\n",
       "50%           1.000000\n",
       "75%           3.000000\n",
       "max          51.000000\n",
       "Name: mort_acc, dtype: float64"
      ]
     },
     "execution_count": 57,
     "metadata": {},
     "output_type": "execute_result"
    }
   ],
   "source": [
    "df['mort_acc'].describe()"
   ]
  },
  {
   "cell_type": "code",
   "execution_count": 58,
   "metadata": {
    "collapsed": false
   },
   "outputs": [],
   "source": [
    "# fill with median (integer-valued)\n",
    "df['mort_acc'].fillna(df['mort_acc'].median(), inplace=True)"
   ]
  },
  {
   "cell_type": "code",
   "execution_count": 60,
   "metadata": {
    "collapsed": false
   },
   "outputs": [
    {
     "data": {
      "text/plain": [
       "(672965, 2)"
      ]
     },
     "execution_count": 60,
     "metadata": {},
     "output_type": "execute_result"
    }
   ],
   "source": [
    "df[df['num_bc_sats'] != df['num_bc_tl']][['num_bc_sats','num_bc_tl']].shape"
   ]
  },
  {
   "cell_type": "code",
   "execution_count": 61,
   "metadata": {
    "collapsed": true
   },
   "outputs": [],
   "source": [
    "# drop num_bc_tl because (I believe) it's more important than num_bc_sats, and has more missing values\n",
    "df.drop('num_bc_sats', axis=1, inplace=True)"
   ]
  },
  {
   "cell_type": "code",
   "execution_count": 62,
   "metadata": {
    "collapsed": false
   },
   "outputs": [
    {
     "data": {
      "text/plain": [
       "748576"
      ]
     },
     "execution_count": 62,
     "metadata": {},
     "output_type": "execute_result"
    }
   ],
   "source": [
    "(df['pub_rec_bankruptcies'] == df['pub_rec']).sum()"
   ]
  },
  {
   "cell_type": "code",
   "execution_count": 64,
   "metadata": {
    "collapsed": false
   },
   "outputs": [
    {
     "data": {
      "text/plain": [
       "1    0.758987\n",
       "0    0.241013\n",
       "Name: loan_status, dtype: float64"
      ]
     },
     "execution_count": 64,
     "metadata": {},
     "output_type": "execute_result"
    }
   ],
   "source": [
    "df[df['pub_rec_bankruptcies'] != df['pub_rec']]['loan_status'].value_counts(normalize=True)"
   ]
  },
  {
   "cell_type": "code",
   "execution_count": 66,
   "metadata": {
    "collapsed": false
   },
   "outputs": [
    {
     "data": {
      "text/html": [
       "<div>\n",
       "<style>\n",
       "    .dataframe thead tr:only-child th {\n",
       "        text-align: right;\n",
       "    }\n",
       "\n",
       "    .dataframe thead th {\n",
       "        text-align: left;\n",
       "    }\n",
       "\n",
       "    .dataframe tbody tr th {\n",
       "        vertical-align: top;\n",
       "    }\n",
       "</style>\n",
       "<table border=\"1\" class=\"dataframe\">\n",
       "  <thead>\n",
       "    <tr style=\"text-align: right;\">\n",
       "      <th></th>\n",
       "      <th>pub_rec_bankruptcies</th>\n",
       "      <th>pub_rec</th>\n",
       "    </tr>\n",
       "  </thead>\n",
       "  <tbody>\n",
       "  </tbody>\n",
       "</table>\n",
       "</div>"
      ],
      "text/plain": [
       "Empty DataFrame\n",
       "Columns: [pub_rec_bankruptcies, pub_rec]\n",
       "Index: []"
      ]
     },
     "execution_count": 66,
     "metadata": {},
     "output_type": "execute_result"
    }
   ],
   "source": [
    "df[(df['pub_rec_bankruptcies'] != df['pub_rec']) & (df['pub_rec_bankruptcies'] > df['pub_rec'])][['pub_rec_bankruptcies','pub_rec']]"
   ]
  },
  {
   "cell_type": "code",
   "execution_count": 68,
   "metadata": {
    "collapsed": false
   },
   "outputs": [],
   "source": [
    "# Drop pub_rec_bankruptcies, since that information is captured in pub_rec\n",
    "df.drop('pub_rec_bankruptcies', axis=1, inplace=True)"
   ]
  },
  {
   "cell_type": "code",
   "execution_count": 69,
   "metadata": {
    "collapsed": false
   },
   "outputs": [
    {
     "data": {
      "text/plain": [
       "count    787436.000000\n",
       "mean          0.530831\n",
       "std           0.243244\n",
       "min           0.000000\n",
       "25%           0.351000\n",
       "50%           0.538000\n",
       "75%           0.719000\n",
       "max           8.923000\n",
       "Name: revol_util, dtype: float64"
      ]
     },
     "execution_count": 69,
     "metadata": {},
     "output_type": "execute_result"
    }
   ],
   "source": [
    "df['revol_util'].describe()"
   ]
  },
  {
   "cell_type": "code",
   "execution_count": 70,
   "metadata": {
    "collapsed": true
   },
   "outputs": [],
   "source": [
    "# Fill with mean (not skewed) - could figure this out using other variables later\n",
    "df['revol_util'].fillna(df['revol_util'].mean(), inplace=True)"
   ]
  },
  {
   "cell_type": "code",
   "execution_count": 71,
   "metadata": {
    "collapsed": false
   },
   "outputs": [],
   "source": [
    "# drop because 76% are 0, and the remaining have the same distribution of labels as total sample\n",
    "df.drop(\"num_accts_ever_120_pd\", axis=1, inplace=True)"
   ]
  },
  {
   "cell_type": "code",
   "execution_count": 72,
   "metadata": {
    "collapsed": false
   },
   "outputs": [
    {
     "data": {
      "text/plain": [
       "count    720383.000000\n",
       "mean          3.635744\n",
       "std           2.187278\n",
       "min           0.000000\n",
       "25%           2.000000\n",
       "50%           3.000000\n",
       "75%           5.000000\n",
       "max          33.000000\n",
       "Name: num_actv_bc_tl, dtype: float64"
      ]
     },
     "execution_count": 72,
     "metadata": {},
     "output_type": "execute_result"
    }
   ],
   "source": [
    "df['num_actv_bc_tl'].describe()"
   ]
  },
  {
   "cell_type": "code",
   "execution_count": 73,
   "metadata": {
    "collapsed": true
   },
   "outputs": [],
   "source": [
    "# fill with median (integer-valued)\n",
    "df['num_actv_bc_tl'].fillna(df['num_actv_bc_tl'].median(), inplace=True)"
   ]
  },
  {
   "cell_type": "code",
   "execution_count": 74,
   "metadata": {
    "collapsed": false
   },
   "outputs": [],
   "source": [
    "# fill with median (integer-valued)\n",
    "df['num_actv_rev_tl'].fillna(df['num_actv_rev_tl'].median(), inplace=True)"
   ]
  },
  {
   "cell_type": "code",
   "execution_count": 75,
   "metadata": {
    "collapsed": false
   },
   "outputs": [],
   "source": [
    "# fill with median (integer-valued)\n",
    "df['num_bc_tl'].fillna(df['num_bc_tl'].median(), inplace=True)"
   ]
  },
  {
   "cell_type": "code",
   "execution_count": 76,
   "metadata": {
    "collapsed": false
   },
   "outputs": [],
   "source": [
    "# fill with rounded-down mean\n",
    "df['num_il_tl'].fillna(np.floor(df['num_il_tl'].median()), inplace=True)"
   ]
  },
  {
   "cell_type": "code",
   "execution_count": 77,
   "metadata": {
    "collapsed": false
   },
   "outputs": [],
   "source": [
    "# fill with rounded-down mean\n",
    "df['num_op_rev_tl'].fillna(np.floor(df['num_op_rev_tl'].mean()), inplace=True)"
   ]
  },
  {
   "cell_type": "code",
   "execution_count": 78,
   "metadata": {
    "collapsed": false
   },
   "outputs": [],
   "source": [
    "df['num_rev_accts'].fillna(np.floor(df['num_rev_accts'].mean()), inplace=True)"
   ]
  },
  {
   "cell_type": "code",
   "execution_count": 79,
   "metadata": {
    "collapsed": false
   },
   "outputs": [],
   "source": [
    "df['num_rev_tl_bal_gt_0'].fillna(df['num_rev_tl_bal_gt_0'].median(), inplace=True)"
   ]
  },
  {
   "cell_type": "code",
   "execution_count": 80,
   "metadata": {
    "collapsed": false
   },
   "outputs": [],
   "source": [
    "df['num_sats'].fillna(df['num_sats'].median(), inplace=True)"
   ]
  },
  {
   "cell_type": "code",
   "execution_count": 81,
   "metadata": {
    "collapsed": false
   },
   "outputs": [],
   "source": [
    "df['num_tl_op_past_12m'].fillna(df['num_tl_op_past_12m'].median(), inplace=True)"
   ]
  },
  {
   "cell_type": "code",
   "execution_count": 82,
   "metadata": {
    "collapsed": false
   },
   "outputs": [
    {
     "data": {
      "text/plain": [
       "count    720248.000000\n",
       "mean         94.398238\n",
       "std           8.384764\n",
       "min           0.000000\n",
       "25%          91.700000\n",
       "50%          98.100000\n",
       "75%         100.000000\n",
       "max         100.000000\n",
       "Name: pct_tl_nvr_dlq, dtype: float64"
      ]
     },
     "execution_count": 82,
     "metadata": {},
     "output_type": "execute_result"
    }
   ],
   "source": [
    "df['pct_tl_nvr_dlq'].describe()"
   ]
  },
  {
   "cell_type": "code",
   "execution_count": 83,
   "metadata": {
    "collapsed": true
   },
   "outputs": [],
   "source": [
    "df['pct_tl_nvr_dlq'].fillna(df['pct_tl_nvr_dlq'].median(), inplace=True)"
   ]
  },
  {
   "cell_type": "code",
   "execution_count": 84,
   "metadata": {
    "collapsed": false
   },
   "outputs": [
    {
     "data": {
      "text/plain": [
       "count    732760.000000\n",
       "mean         47.331868\n",
       "std          35.624645\n",
       "min           0.000000\n",
       "25%          16.700000\n",
       "50%          50.000000\n",
       "75%          75.000000\n",
       "max         100.000000\n",
       "Name: percent_bc_gt_75, dtype: float64"
      ]
     },
     "execution_count": 84,
     "metadata": {},
     "output_type": "execute_result"
    }
   ],
   "source": [
    "df['percent_bc_gt_75'].describe()"
   ]
  },
  {
   "cell_type": "code",
   "execution_count": 85,
   "metadata": {
    "collapsed": true
   },
   "outputs": [],
   "source": [
    "df['percent_bc_gt_75'].fillna(df['percent_bc_gt_75'].median(), inplace=True)"
   ]
  },
  {
   "cell_type": "code",
   "execution_count": 86,
   "metadata": {
    "collapsed": false
   },
   "outputs": [],
   "source": [
    "# fill with median because of outliers\n",
    "df['tot_cur_bal'].fillna(df['tot_cur_bal'].median(), inplace=True)"
   ]
  },
  {
   "cell_type": "code",
   "execution_count": 87,
   "metadata": {
    "collapsed": false
   },
   "outputs": [],
   "source": [
    "# fill with median because of outliers\n",
    "df['tot_hi_cred_lim'].fillna(df['tot_hi_cred_lim'].median(), inplace=True)"
   ]
  },
  {
   "cell_type": "code",
   "execution_count": 88,
   "metadata": {
    "collapsed": false
   },
   "outputs": [],
   "source": [
    "# fill with median because of outliers\n",
    "df['total_bal_ex_mort'].fillna(df['total_bal_ex_mort'].median(), inplace=True)"
   ]
  },
  {
   "cell_type": "code",
   "execution_count": 89,
   "metadata": {
    "collapsed": false
   },
   "outputs": [],
   "source": [
    "# fill with median because of outliers\n",
    "df['total_bc_limit'].fillna(df['total_bc_limit'].median(), inplace=True)"
   ]
  },
  {
   "cell_type": "code",
   "execution_count": 90,
   "metadata": {
    "collapsed": false
   },
   "outputs": [],
   "source": [
    "# fill with median because of outliers\n",
    "df['total_il_high_credit_limit'].fillna(df['total_il_high_credit_limit'].median(), inplace=True)"
   ]
  },
  {
   "cell_type": "code",
   "execution_count": 91,
   "metadata": {
    "collapsed": false
   },
   "outputs": [],
   "source": [
    "# fill with median because of outliers\n",
    "df['total_rev_hi_lim'].fillna(df['total_rev_hi_lim'].median(), inplace=True)"
   ]
  },
  {
   "cell_type": "code",
   "execution_count": 39,
   "metadata": {
    "collapsed": false
   },
   "outputs": [
    {
     "data": {
      "text/plain": [
       "mo_sin_old_il_acct       0.112674\n",
       "mo_sin_old_rev_tl_op     0.085705\n",
       "mo_sin_rcnt_rev_tl_op    0.085705\n",
       "mo_sin_rcnt_tl           0.085704\n",
       "mths_since_recent_bc     0.068910\n",
       "mths_since_recent_inq    0.146151\n",
       "dtype: float64"
      ]
     },
     "execution_count": 39,
     "metadata": {},
     "output_type": "execute_result"
    }
   ],
   "source": [
    "months_cols = ['mo_sin_old_il_acct', 'mo_sin_old_rev_tl_op',\n",
    "               'mo_sin_rcnt_rev_tl_op', 'mo_sin_rcnt_tl',\n",
    "               'mths_since_recent_bc', 'mths_since_recent_inq',]\n",
    "df[months_cols].isnull().sum()/df.shape[0]"
   ]
  },
  {
   "cell_type": "code",
   "execution_count": 92,
   "metadata": {
    "collapsed": false,
    "scrolled": true
   },
   "outputs": [
    {
     "data": {
      "text/plain": [
       "acc_open_past_24mths                   0\n",
       "addr_state                             0\n",
       "annual_inc                             0\n",
       "avg_cur_bal                            0\n",
       "bc_util                                0\n",
       "collection_recovery_fee                0\n",
       "delinq_2yrs                            0\n",
       "dti                                    0\n",
       "emp_length                             0\n",
       "funded_amnt                            0\n",
       "funded_amnt_inv                        0\n",
       "grade                                  0\n",
       "home_ownership                         0\n",
       "initial_list_status                    0\n",
       "inq_last_6mths                         0\n",
       "installment                            0\n",
       "int_rate                               0\n",
       "last_pymnt_amnt                        0\n",
       "loan_amnt                              0\n",
       "loan_status                            0\n",
       "mo_sin_old_il_acct                 88777\n",
       "mo_sin_old_rev_tl_op               67528\n",
       "mo_sin_rcnt_rev_tl_op              67528\n",
       "mo_sin_rcnt_tl                     67527\n",
       "mort_acc                               0\n",
       "mths_since_last_delinq                 0\n",
       "mths_since_recent_bc               54295\n",
       "mths_since_recent_inq             115154\n",
       "mths_since_recent_revol_delinq         0\n",
       "num_actv_bc_tl                         0\n",
       "num_actv_rev_tl                        0\n",
       "num_bc_tl                              0\n",
       "num_il_tl                              0\n",
       "num_op_rev_tl                          0\n",
       "num_rev_accts                          0\n",
       "num_rev_tl_bal_gt_0                    0\n",
       "num_sats                               0\n",
       "num_tl_op_past_12m                     0\n",
       "open_acc                               0\n",
       "pct_tl_nvr_dlq                         0\n",
       "percent_bc_gt_75                       0\n",
       "pub_rec                                0\n",
       "purpose                                0\n",
       "recoveries                             0\n",
       "revol_bal                              0\n",
       "revol_util                             0\n",
       "term                                   0\n",
       "tot_coll_amt                       67527\n",
       "tot_cur_bal                            0\n",
       "tot_hi_cred_lim                        0\n",
       "total_acc                              0\n",
       "total_bal_ex_mort                      0\n",
       "total_bc_limit                         0\n",
       "total_il_high_credit_limit             0\n",
       "total_pymnt                            0\n",
       "total_rec_int                          0\n",
       "total_rec_prncp                        0\n",
       "total_rev_hi_lim                       0\n",
       "verification_status                    0\n",
       "credit_pull_time_diff                 38\n",
       "dtype: int64"
      ]
     },
     "execution_count": 92,
     "metadata": {},
     "output_type": "execute_result"
    }
   ],
   "source": [
    "df.isnull().sum()"
   ]
  },
  {
   "cell_type": "code",
   "execution_count": null,
   "metadata": {
    "collapsed": false,
    "scrolled": true
   },
   "outputs": [],
   "source": [
    "len(df.columns)"
   ]
  },
  {
   "cell_type": "code",
   "execution_count": null,
   "metadata": {
    "collapsed": true
   },
   "outputs": [],
   "source": [
    "df.to_csv(\"cleaned_data.csv\", index=False)"
   ]
  },
  {
   "cell_type": "code",
   "execution_count": null,
   "metadata": {
    "collapsed": true
   },
   "outputs": [],
   "source": []
  },
  {
   "cell_type": "markdown",
   "metadata": {},
   "source": [
    "## SCRATCH"
   ]
  },
  {
   "cell_type": "code",
   "execution_count": null,
   "metadata": {
    "collapsed": true
   },
   "outputs": [],
   "source": [
    "# MAYBE only keep the first 6 categories of this feature? due to dist.\n",
    "df.mort_acc.value_counts(normalize=True)"
   ]
  }
 ],
 "metadata": {
  "kernelspec": {
   "display_name": "Python 3",
   "language": "python",
   "name": "python3"
  },
  "language_info": {
   "codemirror_mode": {
    "name": "ipython",
    "version": 3
   },
   "file_extension": ".py",
   "mimetype": "text/x-python",
   "name": "python",
   "nbconvert_exporter": "python",
   "pygments_lexer": "ipython3",
   "version": "3.6.0"
  }
 },
 "nbformat": 4,
 "nbformat_minor": 2
}
